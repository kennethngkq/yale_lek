{
 "cells": [
  {
   "cell_type": "markdown",
   "id": "british-letters",
   "metadata": {},
   "source": [
    "v0 was retired on nov16. lifted over matrix table, then annotated, and then called de novos. used default dnv paramaters. \n",
    "\n",
    "v1 annotated before liftover, then called de novos, and then created lifted over coordinates. retired nov30 \n",
    "\n",
    "v2 changed code for annotation and annotation resources. All annotations besides vep now come from either /gpfs/gibbs/pi/brueckner/hail_resources/combined_reference_data_grch37.ht or /gpfs/gibbs/pi/brueckner/hail_resources/combined_reference_data_grch38.ht\n",
    "\n",
    "v3 uses the jointcalled vcf phil created "
   ]
  },
  {
   "cell_type": "markdown",
   "id": "responsible-twist",
   "metadata": {},
   "source": [
    "# Import stuff"
   ]
  },
  {
   "cell_type": "code",
   "execution_count": 1,
   "id": "cubic-iraqi",
   "metadata": {},
   "outputs": [
    {
     "name": "stdout",
     "output_type": "stream",
     "text": [
      "2022-01-26 09:20:48 WARN  NativeCodeLoader:60 - Unable to load native-hadoop library for your platform... using builtin-java classes where applicable\n"
     ]
    },
    {
     "name": "stderr",
     "output_type": "stream",
     "text": [
      "Setting default log level to \"WARN\".\n",
      "To adjust logging level use sc.setLogLevel(newLevel). For SparkR, use setLogLevel(newLevel).\n",
      "Running on Apache Spark version 3.1.2\n",
      "SparkUI available at http://c17n03.ruddle.hpc.yale.internal:4040\n",
      "Welcome to\n",
      "     __  __     <>__\n",
      "    / /_/ /__  __/ /\n",
      "   / __  / _ `/ / /\n",
      "  /_/ /_/\\_,_/_/_/   version 0.2.81-edeb70bc789c\n",
      "LOGGING: writing to ./log.log\n"
     ]
    }
   ],
   "source": [
    "from hl_functions import *\n",
    "hl.init(log='./log.log')\n",
    "#hl.init(master='spark://c22n03.ruddle.hpc.yale.internal:7077')"
   ]
  },
  {
   "cell_type": "code",
   "execution_count": 52,
   "id": "vanilla-split",
   "metadata": {},
   "outputs": [
    {
     "data": {
      "text/html": [
       "\n",
       "    <div class=\"bk-root\">\n",
       "        <a href=\"https://bokeh.org\" target=\"_blank\" class=\"bk-logo bk-logo-small bk-logo-notebook\"></a>\n",
       "        <span id=\"14860\">Loading BokehJS ...</span>\n",
       "    </div>"
      ]
     },
     "metadata": {},
     "output_type": "display_data"
    },
    {
     "data": {
      "application/javascript": [
       "\n",
       "(function(root) {\n",
       "  function now() {\n",
       "    return new Date();\n",
       "  }\n",
       "\n",
       "  const force = true;\n",
       "\n",
       "  if (typeof root._bokeh_onload_callbacks === \"undefined\" || force === true) {\n",
       "    root._bokeh_onload_callbacks = [];\n",
       "    root._bokeh_is_loading = undefined;\n",
       "  }\n",
       "\n",
       "  const JS_MIME_TYPE = 'application/javascript';\n",
       "  const HTML_MIME_TYPE = 'text/html';\n",
       "  const EXEC_MIME_TYPE = 'application/vnd.bokehjs_exec.v0+json';\n",
       "  const CLASS_NAME = 'output_bokeh rendered_html';\n",
       "\n",
       "  /**\n",
       "   * Render data to the DOM node\n",
       "   */\n",
       "  function render(props, node) {\n",
       "    const script = document.createElement(\"script\");\n",
       "    node.appendChild(script);\n",
       "  }\n",
       "\n",
       "  /**\n",
       "   * Handle when an output is cleared or removed\n",
       "   */\n",
       "  function handleClearOutput(event, handle) {\n",
       "    const cell = handle.cell;\n",
       "\n",
       "    const id = cell.output_area._bokeh_element_id;\n",
       "    const server_id = cell.output_area._bokeh_server_id;\n",
       "    // Clean up Bokeh references\n",
       "    if (id != null && id in Bokeh.index) {\n",
       "      Bokeh.index[id].model.document.clear();\n",
       "      delete Bokeh.index[id];\n",
       "    }\n",
       "\n",
       "    if (server_id !== undefined) {\n",
       "      // Clean up Bokeh references\n",
       "      const cmd_clean = \"from bokeh.io.state import curstate; print(curstate().uuid_to_server['\" + server_id + \"'].get_sessions()[0].document.roots[0]._id)\";\n",
       "      cell.notebook.kernel.execute(cmd_clean, {\n",
       "        iopub: {\n",
       "          output: function(msg) {\n",
       "            const id = msg.content.text.trim();\n",
       "            if (id in Bokeh.index) {\n",
       "              Bokeh.index[id].model.document.clear();\n",
       "              delete Bokeh.index[id];\n",
       "            }\n",
       "          }\n",
       "        }\n",
       "      });\n",
       "      // Destroy server and session\n",
       "      const cmd_destroy = \"import bokeh.io.notebook as ion; ion.destroy_server('\" + server_id + \"')\";\n",
       "      cell.notebook.kernel.execute(cmd_destroy);\n",
       "    }\n",
       "  }\n",
       "\n",
       "  /**\n",
       "   * Handle when a new output is added\n",
       "   */\n",
       "  function handleAddOutput(event, handle) {\n",
       "    const output_area = handle.output_area;\n",
       "    const output = handle.output;\n",
       "\n",
       "    // limit handleAddOutput to display_data with EXEC_MIME_TYPE content only\n",
       "    if ((output.output_type != \"display_data\") || (!Object.prototype.hasOwnProperty.call(output.data, EXEC_MIME_TYPE))) {\n",
       "      return\n",
       "    }\n",
       "\n",
       "    const toinsert = output_area.element.find(\".\" + CLASS_NAME.split(' ')[0]);\n",
       "\n",
       "    if (output.metadata[EXEC_MIME_TYPE][\"id\"] !== undefined) {\n",
       "      toinsert[toinsert.length - 1].firstChild.textContent = output.data[JS_MIME_TYPE];\n",
       "      // store reference to embed id on output_area\n",
       "      output_area._bokeh_element_id = output.metadata[EXEC_MIME_TYPE][\"id\"];\n",
       "    }\n",
       "    if (output.metadata[EXEC_MIME_TYPE][\"server_id\"] !== undefined) {\n",
       "      const bk_div = document.createElement(\"div\");\n",
       "      bk_div.innerHTML = output.data[HTML_MIME_TYPE];\n",
       "      const script_attrs = bk_div.children[0].attributes;\n",
       "      for (let i = 0; i < script_attrs.length; i++) {\n",
       "        toinsert[toinsert.length - 1].firstChild.setAttribute(script_attrs[i].name, script_attrs[i].value);\n",
       "        toinsert[toinsert.length - 1].firstChild.textContent = bk_div.children[0].textContent\n",
       "      }\n",
       "      // store reference to server id on output_area\n",
       "      output_area._bokeh_server_id = output.metadata[EXEC_MIME_TYPE][\"server_id\"];\n",
       "    }\n",
       "  }\n",
       "\n",
       "  function register_renderer(events, OutputArea) {\n",
       "\n",
       "    function append_mime(data, metadata, element) {\n",
       "      // create a DOM node to render to\n",
       "      const toinsert = this.create_output_subarea(\n",
       "        metadata,\n",
       "        CLASS_NAME,\n",
       "        EXEC_MIME_TYPE\n",
       "      );\n",
       "      this.keyboard_manager.register_events(toinsert);\n",
       "      // Render to node\n",
       "      const props = {data: data, metadata: metadata[EXEC_MIME_TYPE]};\n",
       "      render(props, toinsert[toinsert.length - 1]);\n",
       "      element.append(toinsert);\n",
       "      return toinsert\n",
       "    }\n",
       "\n",
       "    /* Handle when an output is cleared or removed */\n",
       "    events.on('clear_output.CodeCell', handleClearOutput);\n",
       "    events.on('delete.Cell', handleClearOutput);\n",
       "\n",
       "    /* Handle when a new output is added */\n",
       "    events.on('output_added.OutputArea', handleAddOutput);\n",
       "\n",
       "    /**\n",
       "     * Register the mime type and append_mime function with output_area\n",
       "     */\n",
       "    OutputArea.prototype.register_mime_type(EXEC_MIME_TYPE, append_mime, {\n",
       "      /* Is output safe? */\n",
       "      safe: true,\n",
       "      /* Index of renderer in `output_area.display_order` */\n",
       "      index: 0\n",
       "    });\n",
       "  }\n",
       "\n",
       "  // register the mime type if in Jupyter Notebook environment and previously unregistered\n",
       "  if (root.Jupyter !== undefined) {\n",
       "    const events = require('base/js/events');\n",
       "    const OutputArea = require('notebook/js/outputarea').OutputArea;\n",
       "\n",
       "    if (OutputArea.prototype.mime_types().indexOf(EXEC_MIME_TYPE) == -1) {\n",
       "      register_renderer(events, OutputArea);\n",
       "    }\n",
       "  }\n",
       "\n",
       "  \n",
       "  if (typeof (root._bokeh_timeout) === \"undefined\" || force === true) {\n",
       "    root._bokeh_timeout = Date.now() + 5000;\n",
       "    root._bokeh_failed_load = false;\n",
       "  }\n",
       "\n",
       "  const NB_LOAD_WARNING = {'data': {'text/html':\n",
       "     \"<div style='background-color: #fdd'>\\n\"+\n",
       "     \"<p>\\n\"+\n",
       "     \"BokehJS does not appear to have successfully loaded. If loading BokehJS from CDN, this \\n\"+\n",
       "     \"may be due to a slow or bad network connection. Possible fixes:\\n\"+\n",
       "     \"</p>\\n\"+\n",
       "     \"<ul>\\n\"+\n",
       "     \"<li>re-rerun `output_notebook()` to attempt to load from CDN again, or</li>\\n\"+\n",
       "     \"<li>use INLINE resources instead, as so:</li>\\n\"+\n",
       "     \"</ul>\\n\"+\n",
       "     \"<code>\\n\"+\n",
       "     \"from bokeh.resources import INLINE\\n\"+\n",
       "     \"output_notebook(resources=INLINE)\\n\"+\n",
       "     \"</code>\\n\"+\n",
       "     \"</div>\"}};\n",
       "\n",
       "  function display_loaded() {\n",
       "    const el = document.getElementById(\"14860\");\n",
       "    if (el != null) {\n",
       "      el.textContent = \"BokehJS is loading...\";\n",
       "    }\n",
       "    if (root.Bokeh !== undefined) {\n",
       "      if (el != null) {\n",
       "        el.textContent = \"BokehJS \" + root.Bokeh.version + \" successfully loaded.\";\n",
       "      }\n",
       "    } else if (Date.now() < root._bokeh_timeout) {\n",
       "      setTimeout(display_loaded, 100)\n",
       "    }\n",
       "  }\n",
       "\n",
       "\n",
       "  function run_callbacks() {\n",
       "    try {\n",
       "      root._bokeh_onload_callbacks.forEach(function(callback) {\n",
       "        if (callback != null)\n",
       "          callback();\n",
       "      });\n",
       "    } finally {\n",
       "      delete root._bokeh_onload_callbacks\n",
       "    }\n",
       "    console.debug(\"Bokeh: all callbacks have finished\");\n",
       "  }\n",
       "\n",
       "  function load_libs(css_urls, js_urls, callback) {\n",
       "    if (css_urls == null) css_urls = [];\n",
       "    if (js_urls == null) js_urls = [];\n",
       "\n",
       "    root._bokeh_onload_callbacks.push(callback);\n",
       "    if (root._bokeh_is_loading > 0) {\n",
       "      console.debug(\"Bokeh: BokehJS is being loaded, scheduling callback at\", now());\n",
       "      return null;\n",
       "    }\n",
       "    if (js_urls == null || js_urls.length === 0) {\n",
       "      run_callbacks();\n",
       "      return null;\n",
       "    }\n",
       "    console.debug(\"Bokeh: BokehJS not loaded, scheduling load and callback at\", now());\n",
       "    root._bokeh_is_loading = css_urls.length + js_urls.length;\n",
       "\n",
       "    function on_load() {\n",
       "      root._bokeh_is_loading--;\n",
       "      if (root._bokeh_is_loading === 0) {\n",
       "        console.debug(\"Bokeh: all BokehJS libraries/stylesheets loaded\");\n",
       "        run_callbacks()\n",
       "      }\n",
       "    }\n",
       "\n",
       "    function on_error(url) {\n",
       "      console.error(\"failed to load \" + url);\n",
       "    }\n",
       "\n",
       "    for (let i = 0; i < css_urls.length; i++) {\n",
       "      const url = css_urls[i];\n",
       "      const element = document.createElement(\"link\");\n",
       "      element.onload = on_load;\n",
       "      element.onerror = on_error.bind(null, url);\n",
       "      element.rel = \"stylesheet\";\n",
       "      element.type = \"text/css\";\n",
       "      element.href = url;\n",
       "      console.debug(\"Bokeh: injecting link tag for BokehJS stylesheet: \", url);\n",
       "      document.body.appendChild(element);\n",
       "    }\n",
       "\n",
       "    for (let i = 0; i < js_urls.length; i++) {\n",
       "      const url = js_urls[i];\n",
       "      const element = document.createElement('script');\n",
       "      element.onload = on_load;\n",
       "      element.onerror = on_error.bind(null, url);\n",
       "      element.async = false;\n",
       "      element.src = url;\n",
       "      console.debug(\"Bokeh: injecting script tag for BokehJS library: \", url);\n",
       "      document.head.appendChild(element);\n",
       "    }\n",
       "  };\n",
       "\n",
       "  function inject_raw_css(css) {\n",
       "    const element = document.createElement(\"style\");\n",
       "    element.appendChild(document.createTextNode(css));\n",
       "    document.body.appendChild(element);\n",
       "  }\n",
       "\n",
       "  \n",
       "  const js_urls = [\"https://cdn.bokeh.org/bokeh/release/bokeh-2.4.2.min.js\", \"https://cdn.bokeh.org/bokeh/release/bokeh-gl-2.4.2.min.js\", \"https://cdn.bokeh.org/bokeh/release/bokeh-widgets-2.4.2.min.js\", \"https://cdn.bokeh.org/bokeh/release/bokeh-tables-2.4.2.min.js\", \"https://cdn.bokeh.org/bokeh/release/bokeh-mathjax-2.4.2.min.js\"];\n",
       "  const css_urls = [];\n",
       "  \n",
       "\n",
       "  const inline_js = [\n",
       "    function(Bokeh) {\n",
       "      Bokeh.set_log_level(\"info\");\n",
       "    },\n",
       "    function(Bokeh) {\n",
       "    \n",
       "    \n",
       "    }\n",
       "  ];\n",
       "\n",
       "  function run_inline_js() {\n",
       "    \n",
       "    if (root.Bokeh !== undefined || force === true) {\n",
       "      \n",
       "    for (let i = 0; i < inline_js.length; i++) {\n",
       "      inline_js[i].call(root, root.Bokeh);\n",
       "    }\n",
       "    if (force === true) {\n",
       "        display_loaded();\n",
       "      }} else if (Date.now() < root._bokeh_timeout) {\n",
       "      setTimeout(run_inline_js, 100);\n",
       "    } else if (!root._bokeh_failed_load) {\n",
       "      console.log(\"Bokeh: BokehJS failed to load within specified timeout.\");\n",
       "      root._bokeh_failed_load = true;\n",
       "    } else if (force !== true) {\n",
       "      const cell = $(document.getElementById(\"14860\")).parents('.cell').data().cell;\n",
       "      cell.output_area.append_execute_result(NB_LOAD_WARNING)\n",
       "    }\n",
       "\n",
       "  }\n",
       "\n",
       "  if (root._bokeh_is_loading === 0) {\n",
       "    console.debug(\"Bokeh: BokehJS loaded, going straight to plotting\");\n",
       "    run_inline_js();\n",
       "  } else {\n",
       "    load_libs(css_urls, js_urls, function() {\n",
       "      console.debug(\"Bokeh: BokehJS plotting callback run at\", now());\n",
       "      run_inline_js();\n",
       "    });\n",
       "  }\n",
       "}(window));"
      ],
      "application/vnd.bokehjs_load.v0+json": "\n(function(root) {\n  function now() {\n    return new Date();\n  }\n\n  const force = true;\n\n  if (typeof root._bokeh_onload_callbacks === \"undefined\" || force === true) {\n    root._bokeh_onload_callbacks = [];\n    root._bokeh_is_loading = undefined;\n  }\n\n  \n\n  \n  if (typeof (root._bokeh_timeout) === \"undefined\" || force === true) {\n    root._bokeh_timeout = Date.now() + 5000;\n    root._bokeh_failed_load = false;\n  }\n\n  const NB_LOAD_WARNING = {'data': {'text/html':\n     \"<div style='background-color: #fdd'>\\n\"+\n     \"<p>\\n\"+\n     \"BokehJS does not appear to have successfully loaded. If loading BokehJS from CDN, this \\n\"+\n     \"may be due to a slow or bad network connection. Possible fixes:\\n\"+\n     \"</p>\\n\"+\n     \"<ul>\\n\"+\n     \"<li>re-rerun `output_notebook()` to attempt to load from CDN again, or</li>\\n\"+\n     \"<li>use INLINE resources instead, as so:</li>\\n\"+\n     \"</ul>\\n\"+\n     \"<code>\\n\"+\n     \"from bokeh.resources import INLINE\\n\"+\n     \"output_notebook(resources=INLINE)\\n\"+\n     \"</code>\\n\"+\n     \"</div>\"}};\n\n  function display_loaded() {\n    const el = document.getElementById(\"14860\");\n    if (el != null) {\n      el.textContent = \"BokehJS is loading...\";\n    }\n    if (root.Bokeh !== undefined) {\n      if (el != null) {\n        el.textContent = \"BokehJS \" + root.Bokeh.version + \" successfully loaded.\";\n      }\n    } else if (Date.now() < root._bokeh_timeout) {\n      setTimeout(display_loaded, 100)\n    }\n  }\n\n\n  function run_callbacks() {\n    try {\n      root._bokeh_onload_callbacks.forEach(function(callback) {\n        if (callback != null)\n          callback();\n      });\n    } finally {\n      delete root._bokeh_onload_callbacks\n    }\n    console.debug(\"Bokeh: all callbacks have finished\");\n  }\n\n  function load_libs(css_urls, js_urls, callback) {\n    if (css_urls == null) css_urls = [];\n    if (js_urls == null) js_urls = [];\n\n    root._bokeh_onload_callbacks.push(callback);\n    if (root._bokeh_is_loading > 0) {\n      console.debug(\"Bokeh: BokehJS is being loaded, scheduling callback at\", now());\n      return null;\n    }\n    if (js_urls == null || js_urls.length === 0) {\n      run_callbacks();\n      return null;\n    }\n    console.debug(\"Bokeh: BokehJS not loaded, scheduling load and callback at\", now());\n    root._bokeh_is_loading = css_urls.length + js_urls.length;\n\n    function on_load() {\n      root._bokeh_is_loading--;\n      if (root._bokeh_is_loading === 0) {\n        console.debug(\"Bokeh: all BokehJS libraries/stylesheets loaded\");\n        run_callbacks()\n      }\n    }\n\n    function on_error(url) {\n      console.error(\"failed to load \" + url);\n    }\n\n    for (let i = 0; i < css_urls.length; i++) {\n      const url = css_urls[i];\n      const element = document.createElement(\"link\");\n      element.onload = on_load;\n      element.onerror = on_error.bind(null, url);\n      element.rel = \"stylesheet\";\n      element.type = \"text/css\";\n      element.href = url;\n      console.debug(\"Bokeh: injecting link tag for BokehJS stylesheet: \", url);\n      document.body.appendChild(element);\n    }\n\n    for (let i = 0; i < js_urls.length; i++) {\n      const url = js_urls[i];\n      const element = document.createElement('script');\n      element.onload = on_load;\n      element.onerror = on_error.bind(null, url);\n      element.async = false;\n      element.src = url;\n      console.debug(\"Bokeh: injecting script tag for BokehJS library: \", url);\n      document.head.appendChild(element);\n    }\n  };\n\n  function inject_raw_css(css) {\n    const element = document.createElement(\"style\");\n    element.appendChild(document.createTextNode(css));\n    document.body.appendChild(element);\n  }\n\n  \n  const js_urls = [\"https://cdn.bokeh.org/bokeh/release/bokeh-2.4.2.min.js\", \"https://cdn.bokeh.org/bokeh/release/bokeh-gl-2.4.2.min.js\", \"https://cdn.bokeh.org/bokeh/release/bokeh-widgets-2.4.2.min.js\", \"https://cdn.bokeh.org/bokeh/release/bokeh-tables-2.4.2.min.js\", \"https://cdn.bokeh.org/bokeh/release/bokeh-mathjax-2.4.2.min.js\"];\n  const css_urls = [];\n  \n\n  const inline_js = [\n    function(Bokeh) {\n      Bokeh.set_log_level(\"info\");\n    },\n    function(Bokeh) {\n    \n    \n    }\n  ];\n\n  function run_inline_js() {\n    \n    if (root.Bokeh !== undefined || force === true) {\n      \n    for (let i = 0; i < inline_js.length; i++) {\n      inline_js[i].call(root, root.Bokeh);\n    }\n    if (force === true) {\n        display_loaded();\n      }} else if (Date.now() < root._bokeh_timeout) {\n      setTimeout(run_inline_js, 100);\n    } else if (!root._bokeh_failed_load) {\n      console.log(\"Bokeh: BokehJS failed to load within specified timeout.\");\n      root._bokeh_failed_load = true;\n    } else if (force !== true) {\n      const cell = $(document.getElementById(\"14860\")).parents('.cell').data().cell;\n      cell.output_area.append_execute_result(NB_LOAD_WARNING)\n    }\n\n  }\n\n  if (root._bokeh_is_loading === 0) {\n    console.debug(\"Bokeh: BokehJS loaded, going straight to plotting\");\n    run_inline_js();\n  } else {\n    load_libs(css_urls, js_urls, function() {\n      console.debug(\"Bokeh: BokehJS plotting callback run at\", now());\n      run_inline_js();\n    });\n  }\n}(window));"
     },
     "metadata": {},
     "output_type": "display_data"
    }
   ],
   "source": [
    "import csv\n",
    "import pandas as pd\n",
    "pd.set_option(\"display.max_columns\", None)\n",
    "pd.set_option(\"display.max_colwidth\", None)\n",
    "from pcgc_hail.hail_scripts.utils import *\n",
    "#from new_names import *\n",
    "import gnomad\n",
    "from gnomad_methods import *\n",
    "from gnomad_methods.gnomad.sample_qc import *\n",
    "\n",
    "def hl_to_txt(hl_df, name, delim='\\t'):\n",
    "    \"\"\"Convert matrix table to pandas dataframe and output to file\"\"\"\n",
    "    df = hl_df.to_pandas()\n",
    "    df.to_csv(name, sep=delim)\n",
    "\n",
    "import bokeh.io\n",
    "from bokeh.io import * \n",
    "from bokeh.layouts import *\n",
    "from bokeh.models import *\n",
    "hl.plot.output_notebook()"
   ]
  },
  {
   "cell_type": "code",
   "execution_count": 57,
   "id": "562f4fce",
   "metadata": {},
   "outputs": [],
   "source": [
    "from matplotlib import pyplot as plt"
   ]
  },
  {
   "cell_type": "code",
   "execution_count": 13,
   "id": "industrial-fluid",
   "metadata": {},
   "outputs": [],
   "source": [
    "#rebrand names\n",
    "datahub_col_names = {\n",
    "    'Blinded ID': 'sample_id', \n",
    "    'Gender' : 'reported_gender_str', \n",
    "    'In Trio' : 'in_trio', \n",
    "    'Is Proband' : 'is_proband', \n",
    "    'Relationship' : 'reported_relationship' \n",
    "}"
   ]
  },
  {
   "cell_type": "markdown",
   "id": "straight-county",
   "metadata": {},
   "source": [
    "# User Updates "
   ]
  },
  {
   "cell_type": "code",
   "execution_count": 29,
   "id": "verbal-anatomy",
   "metadata": {},
   "outputs": [
    {
     "name": "stdout",
     "output_type": "stream",
     "text": [
      "done\n"
     ]
    }
   ],
   "source": [
    "# Update with desired paths \n",
    "\n",
    "#####################################\n",
    "# directories to read and write from \n",
    "#####################################\n",
    "\n",
    "# Make sure these directories have a slash at the end\n",
    "hl_outdir = \"/gpfs/gibbs/pi/brueckner/ken_rotation/output/wes14/\"\n",
    "#sample_info_dir = '/gpfs/gibbs/pi/brueckner/yale_phil/'\n",
    "\n",
    "\n",
    "######################################################################################################\n",
    "\n",
    "# path to vcf \n",
    "#vcf = '/gpfs/gibbs/pi/brueckner/Phil_Pipeline/yale_callset/yale_pipeline.vcf.gz'\n",
    "#vcf = '/gpfs/gibbs/pi/brueckner/Phil_Pipeline/callset/phil_pipeline.vcf.gz'\n",
    "#vcf = '/gpfs/gibbs/pi/brueckner/Phil_Joint_Calling_Pipeline/pilotcalls.vqsr.vcf.gz'\n",
    "vcf = \"/gpfs/gibbs/pi/brueckner/Phil_Joint_Calling_Pipeline/wes14.draft.calls.vcf.gz\"\n",
    "\n",
    "#########################\n",
    "# paths to sample info\n",
    "#########################\n",
    "\n",
    "# path to fam file\n",
    "#ped = sample_info_dir + 'yale-phil_1-00844.fam' # yale-phil.fam and impute female in for sample 1-00844 \n",
    "\n",
    "#proband_tsv = sample_info_dir + 'proband_table.txt'\n",
    "#proband_ht = sample_info_dir + 'proband_table.ht'\n",
    "\n",
    "##################################\n",
    "# main paths\n",
    "##################################\n",
    "# Paths for vcf, matrix tables after splitting multi-allelic sites and left normalizing, and after annotating \n",
    "# naming matrix tables after row and/or column annotations: r#c# indicates number of rounds of annotations\n",
    "\n",
    "#Phil (new jointcalling by Phil)\n",
    "hl_outdir = \"/gpfs/gibbs/pi/brueckner/ken_rotation/output/wes14/\"\n",
    "#dnv_outdir = '/gpfs/gibbs/pi/brueckner/yale_phil/phil_jc/dnv_output/'\n",
    "vcf = \"/gpfs/gibbs/pi/brueckner/Phil_Joint_Calling_Pipeline/wes14.draft.calls.vcf.gz\"\n",
    "unsplit_mt = hl_outdir + 'unsplit_phil.mt' \n",
    "split_mt = hl_outdir + 'split.mt' \n",
    "vep_mt = hl_outdir + 'vep.mt' \n",
    "vep_r1_mt = hl_outdir + 'vep_r1.mt' \n",
    "vep_r1c1_mt = hl_outdir + 'vep_r1c1.mt'\n",
    "vep_r1c1_intervals_mt = hl_outdir + 'vep_r1c1_intervals.mt' # filtered to exome evaluations intervals \n",
    "\n",
    "######################################################################################################\n",
    "\n",
    "#dnv_ht = hl_outdir + 'dnv.ht'\n",
    "#dnv_default_ht = dnv_outdir + 'dnv_default.ht' \n",
    "\n",
    "#dnv_count_per_sample_tsv = dnv_outdir + 'dnv_count_per_sample.tsv' \n",
    "#dnv_count_per_sample_ht = dnv_outdir + 'dnv_count_per_sample.ht' \n",
    "#final_dnv_count_per_sample_ht = dnv_outdir + 'final_dnv_count_per_sample.ht'\n",
    "#final_dnv_count_per_proband_ht = dnv_outdir + 'final_dnv_count_per_proband.ht'\n",
    "\n",
    "# path to gold standard dnv tsvs\n",
    "#dnv_gold_37_tsv = sample_info_dir + 'dnv_gold_37.txt'\n",
    "\n",
    "# annotate gold standard with whether the variant is called in the dnv set \n",
    "## generated from the yale dataframe and from phil's dataframe\n",
    "#gold_dnvs_ht = sample_info_dir + 'gold_standard_dnvs.ht'\n",
    "#gold_dnvs_comparison_ht = sample_info_dir + 'gold_dnvs_comparison.ht'\n",
    "\n",
    "# intervals \n",
    "# /gpfs/ycga/project/lek/shared/resources/hg38/exome_evaluation_regions.v1.interval_list\n",
    "\n",
    "################################################################################\n",
    "# paths to annotation resources for hg37\n",
    "'''\n",
    "vep_json = '/gpfs/gibbs/pi/brueckner/14_v0/vep85-loftee-ruddle-b37.json'\n",
    "ref_data = '/gpfs/gibbs/pi/brueckner/hail_resources/combined_reference_data_grch37.ht'\n",
    "\n",
    "cadd_ht = '/gpfs/gibbs/pi/brueckner/datasets/CADD/CADD.v1.4.GRCh37.ht'\n",
    "dbnsfp_ht = '/gpfs/gibbs/pi/brueckner/datasets/dbNSFP/dbnsfp4.0a.GRCh37.ht' # 4.0 \n",
    "kg_genomes = '/gpfs/gibbs/pi/brueckner/datasets/thousand_genomes/1000_Genomes_autosomes.phase_3.GRCh37.mt'\n",
    "gnomad_exomes = '/gpfs/ycga/project/lek/shared/data/gnomad/gnomad.exomes.r2.1.1.sites.ht' \n",
    "gnomad_pca_ht = '/gpfs/ycga/project/lek/shared/resources/hail/gnomad.r2.1.pca_loadings.ht'\n",
    "\n",
    "'''\n",
    "################################################################################\n",
    "# paths to annotation resources for hg38\n",
    "\n",
    "vep_json = '/gpfs/gibbs/pi/brueckner/14_v0/vep85-loftee-ruddle-b38.json'\n",
    "ref_data = '/gpfs/gibbs/pi/brueckner/hail_resources/combined_reference_data_grch38.ht'\n",
    "\n",
    "cadd_ht = '/gpfs/gibbs/pi/brueckner/datasets/CADD/CADD.v1.4.GRCh38.ht'\n",
    "dbnsfp_ht = '/gpfs/gibbs/pi/brueckner/datasets/dbNSFP/dbnsfp4.0a.GRCh38.ht' # 4.0 \n",
    "kg_genomes = '/gpfs/gibbs/pi/brueckner/datasets/thousand_genomes/1000_Genomes_autosomes.phase_3.GRCh38.mt'\n",
    "\n",
    "\n",
    "################################################################################\n",
    "print('done')\n"
   ]
  },
  {
   "cell_type": "code",
   "execution_count": 27,
   "id": "934ec93f",
   "metadata": {
    "scrolled": true
   },
   "outputs": [
    {
     "name": "stdout",
     "output_type": "stream",
     "text": [
      "Reads in the hail table: \n",
      "/gpfs/gibbs/pi/brueckner/hail_resources/combined_reference_data_grch38.ht\n",
      "\n",
      "----------------------------------------\n",
      "Global fields:\n",
      "    'date': str \n",
      "    'datasets': set<str> \n",
      "----------------------------------------\n",
      "Row fields:\n",
      "    'locus': locus<GRCh38> \n",
      "    'alleles': array<str> \n",
      "    'g1k': struct {\n",
      "        AC: int32, \n",
      "        AF: float64, \n",
      "        AN: int32, \n",
      "        POPMAX_AF: float64\n",
      "    } \n",
      "    'mpc': struct {\n",
      "        MPC: str\n",
      "    } \n",
      "    'cadd': struct {\n",
      "        PHRED: float32\n",
      "    } \n",
      "    'eigen': struct {\n",
      "        Eigen_phred: float64\n",
      "    } \n",
      "    'dbnsfp': struct {\n",
      "        SIFT_pred: str, \n",
      "        Polyphen2_HVAR_pred: str, \n",
      "        MutationTaster_pred: str, \n",
      "        FATHMM_pred: str, \n",
      "        MetaSVM_pred: str, \n",
      "        REVEL_score: str, \n",
      "        GERP_RS: str, \n",
      "        phastCons100way_vertebrate: str\n",
      "    } \n",
      "    'topmed': struct {\n",
      "        AC: int32, \n",
      "        AF: float64, \n",
      "        AN: int32, \n",
      "        Hom: int32, \n",
      "        Het: int32\n",
      "    } \n",
      "    'primate_ai': struct {\n",
      "        score: float64\n",
      "    } \n",
      "    'splice_ai': struct {\n",
      "        delta_score: float32, \n",
      "        splice_consequence: str\n",
      "    } \n",
      "    'exac': struct {\n",
      "        AF_POPMAX: float64, \n",
      "        AF: float64, \n",
      "        AC_Adj: int32, \n",
      "        AC_Het: int32, \n",
      "        AC_Hom: int32, \n",
      "        AC_Hemi: int32, \n",
      "        AN_Adj: int32\n",
      "    } \n",
      "    'gnomad_genomes': struct {\n",
      "        AF: float64, \n",
      "        AN: int32, \n",
      "        AC: int32, \n",
      "        FAF_AF: float64, \n",
      "        AF_POPMAX_OR_GLOBAL: float64, \n",
      "        Hom: int32, \n",
      "        Hemi: int32\n",
      "    } \n",
      "    'gnomad_exomes': struct {\n",
      "        AF: float64, \n",
      "        AN: int32, \n",
      "        AC: int32, \n",
      "        FAF_AF: float64, \n",
      "        AF_POPMAX_OR_GLOBAL: float64, \n",
      "        Hom: int32, \n",
      "        Hemi: int32\n",
      "    } \n",
      "    'geno2mp': struct {\n",
      "        HPO_Count: int32\n",
      "    } \n",
      "    'gnomad_genome_coverage': float64 \n",
      "    'gnomad_exome_coverage': float64 \n",
      "----------------------------------------\n",
      "Key: ['locus', 'alleles']\n",
      "----------------------------------------\n"
     ]
    }
   ],
   "source": [
    "ht_input= ref_data\n",
    "ht = hl.read_table(ht_input)\n",
    "print('Reads in the hail table: \\n' + ht_input + '\\n')\n",
    "\n",
    "ht.describe()"
   ]
  },
  {
   "cell_type": "code",
   "execution_count": 23,
   "id": "b1658b1a",
   "metadata": {},
   "outputs": [
    {
     "name": "stdout",
     "output_type": "stream",
     "text": [
      "Reads in the matrix table: \n",
      "/gpfs/gibbs/pi/brueckner/ken_rotation/output/wes14/split.mt\n",
      "\n",
      "count of the input dataframe: (2221704, 1119)\n",
      "\n",
      "(2221704, 1119)\n"
     ]
    },
    {
     "ename": "AttributeError",
     "evalue": "Table instance has no field, method, or property 'sample_qc'\n    Did you mean:\n        Table method: 'sample'",
     "output_type": "error",
     "traceback": [
      "\u001b[0;31m---------------------------------------------------------------------------\u001b[0m",
      "\u001b[0;31mAttributeError\u001b[0m                            Traceback (most recent call last)",
      "\u001b[0;32m/tmp/ipykernel_5872/3420008698.py\u001b[0m in \u001b[0;36m<module>\u001b[0;34m\u001b[0m\n\u001b[1;32m      9\u001b[0m \u001b[0mht\u001b[0m \u001b[0;34m=\u001b[0m \u001b[0mmt\u001b[0m\u001b[0;34m.\u001b[0m\u001b[0mcols\u001b[0m\u001b[0;34m(\u001b[0m\u001b[0;34m)\u001b[0m\u001b[0;34m\u001b[0m\u001b[0;34m\u001b[0m\u001b[0m\n\u001b[1;32m     10\u001b[0m \u001b[0mht\u001b[0m \u001b[0;34m=\u001b[0m \u001b[0mht\u001b[0m\u001b[0;34m.\u001b[0m\u001b[0mkey_by\u001b[0m\u001b[0;34m(\u001b[0m\u001b[0mht\u001b[0m\u001b[0;34m.\u001b[0m\u001b[0ms\u001b[0m\u001b[0;34m)\u001b[0m\u001b[0;34m\u001b[0m\u001b[0;34m\u001b[0m\u001b[0m\n\u001b[0;32m---> 11\u001b[0;31m \u001b[0mht\u001b[0m \u001b[0;34m=\u001b[0m \u001b[0mht\u001b[0m\u001b[0;34m.\u001b[0m\u001b[0mselect\u001b[0m\u001b[0;34m(\u001b[0m\u001b[0mht\u001b[0m\u001b[0;34m.\u001b[0m\u001b[0msample_qc\u001b[0m\u001b[0;34m.\u001b[0m\u001b[0mr_ti_tv\u001b[0m\u001b[0;34m)\u001b[0m\u001b[0;34m\u001b[0m\u001b[0;34m\u001b[0m\u001b[0m\n\u001b[0m\u001b[1;32m     12\u001b[0m \u001b[0;34m\u001b[0m\u001b[0m\n\u001b[1;32m     13\u001b[0m \u001b[0;31m#ht.describe()\u001b[0m\u001b[0;34m\u001b[0m\u001b[0;34m\u001b[0m\u001b[0;34m\u001b[0m\u001b[0m\n",
      "\u001b[0;32m/gpfs/ycga/project/lek/kn396/conda_envs/hail_test3/lib/python3.7/site-packages/hail/table.py\u001b[0m in \u001b[0;36m__getattr__\u001b[0;34m(self, item)\u001b[0m\n\u001b[1;32m    119\u001b[0m             \u001b[0;32mreturn\u001b[0m \u001b[0mself\u001b[0m\u001b[0;34m.\u001b[0m\u001b[0m__dict__\u001b[0m\u001b[0;34m[\u001b[0m\u001b[0mitem\u001b[0m\u001b[0;34m]\u001b[0m\u001b[0;34m\u001b[0m\u001b[0;34m\u001b[0m\u001b[0m\n\u001b[1;32m    120\u001b[0m \u001b[0;34m\u001b[0m\u001b[0m\n\u001b[0;32m--> 121\u001b[0;31m         \u001b[0;32mraise\u001b[0m \u001b[0mAttributeError\u001b[0m\u001b[0;34m(\u001b[0m\u001b[0mget_nice_attr_error\u001b[0m\u001b[0;34m(\u001b[0m\u001b[0mself\u001b[0m\u001b[0;34m,\u001b[0m \u001b[0mitem\u001b[0m\u001b[0;34m)\u001b[0m\u001b[0;34m)\u001b[0m\u001b[0;34m\u001b[0m\u001b[0;34m\u001b[0m\u001b[0m\n\u001b[0m\u001b[1;32m    122\u001b[0m \u001b[0;34m\u001b[0m\u001b[0m\n\u001b[1;32m    123\u001b[0m     \u001b[0;32mdef\u001b[0m \u001b[0m_copy_fields_from\u001b[0m\u001b[0;34m(\u001b[0m\u001b[0mself\u001b[0m\u001b[0;34m,\u001b[0m \u001b[0mother\u001b[0m\u001b[0;34m:\u001b[0m \u001b[0;34m'ExprContainer'\u001b[0m\u001b[0;34m)\u001b[0m\u001b[0;34m:\u001b[0m\u001b[0;34m\u001b[0m\u001b[0;34m\u001b[0m\u001b[0m\n",
      "\u001b[0;31mAttributeError\u001b[0m: Table instance has no field, method, or property 'sample_qc'\n    Did you mean:\n        Table method: 'sample'"
     ]
    }
   ],
   "source": [
    "mt_input = \"/gpfs/gibbs/pi/brueckner/ken_rotation/output/wes14/split.mt\"\n",
    "mt = hl.read_matrix_table(mt_input)\n",
    "print('Reads in the matrix table: \\n' + mt_input + '\\n')\n",
    "print('count of the input dataframe: ' + str(mt.count()) + '\\n')\n",
    "#mt = mt.filter_rows(mt.row.filters , keep=True)\n",
    "#mt = mt.filter_cols(mt.batch_number == \"NPCGC\", keep=True)\n",
    "print(mt.count())\n",
    "\n",
    "ht = mt.cols()\n",
    "ht = ht.key_by(ht.s)\n",
    "ht = ht.select(ht.sample_qc.r_ti_tv)\n",
    "\n",
    "#ht.describe()\n",
    "#ht.sample_qc.r_ti_tv.show()\n",
    "\n",
    "\n",
    "#ht.export('/gpfs/gibbs/pi/brueckner/yale_phil/scratch/titv.txt')\n",
    "#mt.filter.show()"
   ]
  },
  {
   "cell_type": "markdown",
   "id": "different-fraud",
   "metadata": {},
   "source": [
    "# VCF -> Matrix Table (unsplit) -> Matrix Table (split)"
   ]
  },
  {
   "cell_type": "code",
   "execution_count": 7,
   "id": "dee9f244",
   "metadata": {},
   "outputs": [
    {
     "name": "stdout",
     "output_type": "stream",
     "text": [
      "Reads in:/gpfs/gibbs/pi/brueckner/Phil_Joint_Calling_Pipeline/pilotcalls.vqsr.vcf.gz\n",
      "Writes out:/gpfs/gibbs/pi/brueckner/yale_phil/phil_jc/split_phil.mt\n"
     ]
    },
    {
     "name": "stderr",
     "output_type": "stream",
     "text": [
      "2022-01-09 16:57:03 Hail: INFO: Coerced sorted dataset==>         (44 + 9) / 53]\n",
      "[Stage 1:===================================================>     (48 + 5) / 53]\r"
     ]
    },
    {
     "name": "stdout",
     "output_type": "stream",
     "text": [
      "(2788202, 597)\n",
      "\n"
     ]
    },
    {
     "name": "stderr",
     "output_type": "stream",
     "text": [
      "2022-01-09 16:57:14 Hail: INFO: Coerced sorted dataset===>        (45 + 8) / 53]\n",
      "[Stage 3:=======================================================> (52 + 1) / 53]\r"
     ]
    },
    {
     "name": "stdout",
     "output_type": "stream",
     "text": [
      "(2913341, 597)\n",
      "\n"
     ]
    },
    {
     "name": "stderr",
     "output_type": "stream",
     "text": [
      "2022-01-09 16:57:26 Hail: INFO: Coerced sorted dataset==========> (52 + 1) / 53]\n",
      "2022-01-09 16:58:34 Hail: INFO: wrote matrix table with 2913341 rows and 597 columns in 53 partitions to /gpfs/gibbs/pi/brueckner/yale_phil/phil_jc/split_phil.mt\n"
     ]
    }
   ],
   "source": [
    "# VCF to hail matrix table \n",
    "\n",
    "# /gpfs/gibbs/pi/brueckner/Phil_Joint_Calling_Pipeline/pilotcalls.vqsr.vcf.gz\n",
    "\n",
    "#vcf = \n",
    "mt_output = split_mt \n",
    "\n",
    "################################################################################\n",
    "print('Reads in:' + vcf)\n",
    "print('Writes out:' + mt_output)\n",
    "\n",
    "# if using genome 37\n",
    "#mt = hl.import_vcf(vcf, force_bgz=True, reference_genome='GRCh37')\n",
    "\n",
    "# if using genome 38\n",
    "# for whether to use recode see https://hail.is/docs/0.2/methods/impex.html#hail.methods.import_vcf\n",
    "recode = {f\"{i}\":f\"chr{i}\" for i in (list(range(1, 23)) + ['X', 'Y'])}\n",
    "mt = hl.import_vcf(vcf, force_bgz=True, reference_genome='GRCh38', contig_recoding=recode)\n",
    "\n",
    "# count before splitting \n",
    "print(str(mt.count()) + '\\n')\n",
    "\n",
    "# split multi-allelic sites  \n",
    "mt = generate_split_alleles(mt)\n",
    "\n",
    "# count after splitting \n",
    "print(str(mt.count()) + '\\n')\n",
    "\n",
    "mt.write(mt_output, overwrite = True)\n"
   ]
  },
  {
   "cell_type": "markdown",
   "id": "daily-scholarship",
   "metadata": {},
   "source": [
    "# Annotate matrix table of split alleles with VEP"
   ]
  },
  {
   "cell_type": "code",
   "execution_count": 30,
   "id": "representative-musical",
   "metadata": {},
   "outputs": [
    {
     "name": "stdout",
     "output_type": "stream",
     "text": [
      "Reads in the following matrix table: \n",
      "/gpfs/gibbs/pi/brueckner/ken_rotation/output/wes14/split.mt\n",
      "\n",
      "Uses the following json file for vep: \n",
      "/gpfs/gibbs/pi/brueckner/14_v0/vep85-loftee-ruddle-b38.json\n",
      "\n",
      "Writes out to the following matrix table: \n",
      "/gpfs/gibbs/pi/brueckner/ken_rotation/output/wes14/vep.mt\n",
      "\n"
     ]
    }
   ],
   "source": [
    "# check inputs and outputs before running vep since %%capture prevents print() from displaying on screen\n",
    "mt_input = \"/gpfs/gibbs/pi/brueckner/ken_rotation/output/wes14/split.mt\"\n",
    "mt = hl.read_matrix_table(mt_input)\n",
    "mt_input = split_mt\n",
    "mt_output = vep_mt\n",
    "\n",
    "print('Reads in the following matrix table: \\n' + mt_input + '\\n')\n",
    "\n",
    "print('Uses the following json file for vep: \\n' + vep_json + '\\n')\n",
    "\n",
    "print('Writes out to the following matrix table: \\n' + mt_output + '\\n')\n"
   ]
  },
  {
   "cell_type": "code",
   "execution_count": 31,
   "id": "ranking-migration",
   "metadata": {},
   "outputs": [
    {
     "name": "stderr",
     "output_type": "stream",
     "text": [
      "[Stage 0:===========>                                             (12 + 4) / 59]\r"
     ]
    },
    {
     "ename": "KeyboardInterrupt",
     "evalue": "",
     "output_type": "error",
     "traceback": [
      "\u001b[0;31m---------------------------------------------------------------------------\u001b[0m",
      "\u001b[0;31mKeyboardInterrupt\u001b[0m                         Traceback (most recent call last)",
      "\u001b[0;32m/tmp/ipykernel_5872/1749222288.py\u001b[0m in \u001b[0;36m<module>\u001b[0;34m\u001b[0m\n\u001b[1;32m      8\u001b[0m \u001b[0;34m\u001b[0m\u001b[0m\n\u001b[1;32m      9\u001b[0m \u001b[0mmt_vep\u001b[0m \u001b[0;34m=\u001b[0m \u001b[0mhl\u001b[0m\u001b[0;34m.\u001b[0m\u001b[0mvep\u001b[0m\u001b[0;34m(\u001b[0m\u001b[0mmt\u001b[0m\u001b[0;34m,\u001b[0m \u001b[0mvep_json\u001b[0m\u001b[0;34m)\u001b[0m\u001b[0;34m\u001b[0m\u001b[0;34m\u001b[0m\u001b[0m\n\u001b[0;32m---> 10\u001b[0;31m \u001b[0mmt_vep\u001b[0m\u001b[0;34m.\u001b[0m\u001b[0mwrite\u001b[0m\u001b[0;34m(\u001b[0m\u001b[0mmt_output\u001b[0m\u001b[0;34m,\u001b[0m \u001b[0moverwrite\u001b[0m \u001b[0;34m=\u001b[0m \u001b[0;32mTrue\u001b[0m\u001b[0;34m)\u001b[0m\u001b[0;34m\u001b[0m\u001b[0;34m\u001b[0m\u001b[0m\n\u001b[0m",
      "\u001b[0;32m/gpfs/ycga/project/lek/kn396/conda_envs/hail_test3/lib/python3.7/site-packages/decorator.py\u001b[0m in \u001b[0;36mfun\u001b[0;34m(*args, **kw)\u001b[0m\n\u001b[1;32m    230\u001b[0m             \u001b[0;32mif\u001b[0m \u001b[0;32mnot\u001b[0m \u001b[0mkwsyntax\u001b[0m\u001b[0;34m:\u001b[0m\u001b[0;34m\u001b[0m\u001b[0;34m\u001b[0m\u001b[0m\n\u001b[1;32m    231\u001b[0m                 \u001b[0margs\u001b[0m\u001b[0;34m,\u001b[0m \u001b[0mkw\u001b[0m \u001b[0;34m=\u001b[0m \u001b[0mfix\u001b[0m\u001b[0;34m(\u001b[0m\u001b[0margs\u001b[0m\u001b[0;34m,\u001b[0m \u001b[0mkw\u001b[0m\u001b[0;34m,\u001b[0m \u001b[0msig\u001b[0m\u001b[0;34m)\u001b[0m\u001b[0;34m\u001b[0m\u001b[0;34m\u001b[0m\u001b[0m\n\u001b[0;32m--> 232\u001b[0;31m             \u001b[0;32mreturn\u001b[0m \u001b[0mcaller\u001b[0m\u001b[0;34m(\u001b[0m\u001b[0mfunc\u001b[0m\u001b[0;34m,\u001b[0m \u001b[0;34m*\u001b[0m\u001b[0;34m(\u001b[0m\u001b[0mextras\u001b[0m \u001b[0;34m+\u001b[0m \u001b[0margs\u001b[0m\u001b[0;34m)\u001b[0m\u001b[0;34m,\u001b[0m \u001b[0;34m**\u001b[0m\u001b[0mkw\u001b[0m\u001b[0;34m)\u001b[0m\u001b[0;34m\u001b[0m\u001b[0;34m\u001b[0m\u001b[0m\n\u001b[0m\u001b[1;32m    233\u001b[0m     \u001b[0mfun\u001b[0m\u001b[0;34m.\u001b[0m\u001b[0m__name__\u001b[0m \u001b[0;34m=\u001b[0m \u001b[0mfunc\u001b[0m\u001b[0;34m.\u001b[0m\u001b[0m__name__\u001b[0m\u001b[0;34m\u001b[0m\u001b[0;34m\u001b[0m\u001b[0m\n\u001b[1;32m    234\u001b[0m     \u001b[0mfun\u001b[0m\u001b[0;34m.\u001b[0m\u001b[0m__doc__\u001b[0m \u001b[0;34m=\u001b[0m \u001b[0mfunc\u001b[0m\u001b[0;34m.\u001b[0m\u001b[0m__doc__\u001b[0m\u001b[0;34m\u001b[0m\u001b[0;34m\u001b[0m\u001b[0m\n",
      "\u001b[0;32m/gpfs/ycga/project/lek/kn396/conda_envs/hail_test3/lib/python3.7/site-packages/hail/typecheck/check.py\u001b[0m in \u001b[0;36mwrapper\u001b[0;34m(__original_func, *args, **kwargs)\u001b[0m\n\u001b[1;32m    575\u001b[0m     \u001b[0;32mdef\u001b[0m \u001b[0mwrapper\u001b[0m\u001b[0;34m(\u001b[0m\u001b[0m__original_func\u001b[0m\u001b[0;34m,\u001b[0m \u001b[0;34m*\u001b[0m\u001b[0margs\u001b[0m\u001b[0;34m,\u001b[0m \u001b[0;34m**\u001b[0m\u001b[0mkwargs\u001b[0m\u001b[0;34m)\u001b[0m\u001b[0;34m:\u001b[0m\u001b[0;34m\u001b[0m\u001b[0;34m\u001b[0m\u001b[0m\n\u001b[1;32m    576\u001b[0m         \u001b[0margs_\u001b[0m\u001b[0;34m,\u001b[0m \u001b[0mkwargs_\u001b[0m \u001b[0;34m=\u001b[0m \u001b[0mcheck_all\u001b[0m\u001b[0;34m(\u001b[0m\u001b[0m__original_func\u001b[0m\u001b[0;34m,\u001b[0m \u001b[0margs\u001b[0m\u001b[0;34m,\u001b[0m \u001b[0mkwargs\u001b[0m\u001b[0;34m,\u001b[0m \u001b[0mcheckers\u001b[0m\u001b[0;34m,\u001b[0m \u001b[0mis_method\u001b[0m\u001b[0;34m=\u001b[0m\u001b[0mis_method\u001b[0m\u001b[0;34m)\u001b[0m\u001b[0;34m\u001b[0m\u001b[0;34m\u001b[0m\u001b[0m\n\u001b[0;32m--> 577\u001b[0;31m         \u001b[0;32mreturn\u001b[0m \u001b[0m__original_func\u001b[0m\u001b[0;34m(\u001b[0m\u001b[0;34m*\u001b[0m\u001b[0margs_\u001b[0m\u001b[0;34m,\u001b[0m \u001b[0;34m**\u001b[0m\u001b[0mkwargs_\u001b[0m\u001b[0;34m)\u001b[0m\u001b[0;34m\u001b[0m\u001b[0;34m\u001b[0m\u001b[0m\n\u001b[0m\u001b[1;32m    578\u001b[0m \u001b[0;34m\u001b[0m\u001b[0m\n\u001b[1;32m    579\u001b[0m     \u001b[0;32mreturn\u001b[0m \u001b[0mwrapper\u001b[0m\u001b[0;34m\u001b[0m\u001b[0;34m\u001b[0m\u001b[0m\n",
      "\u001b[0;32m/gpfs/ycga/project/lek/kn396/conda_envs/hail_test3/lib/python3.7/site-packages/hail/matrixtable.py\u001b[0m in \u001b[0;36mwrite\u001b[0;34m(self, output, overwrite, stage_locally, _codec_spec, _partitions, _checkpoint_file)\u001b[0m\n\u001b[1;32m   2542\u001b[0m \u001b[0;34m\u001b[0m\u001b[0m\n\u001b[1;32m   2543\u001b[0m         \u001b[0mwriter\u001b[0m \u001b[0;34m=\u001b[0m \u001b[0mir\u001b[0m\u001b[0;34m.\u001b[0m\u001b[0mMatrixNativeWriter\u001b[0m\u001b[0;34m(\u001b[0m\u001b[0moutput\u001b[0m\u001b[0;34m,\u001b[0m \u001b[0moverwrite\u001b[0m\u001b[0;34m,\u001b[0m \u001b[0mstage_locally\u001b[0m\u001b[0;34m,\u001b[0m \u001b[0m_codec_spec\u001b[0m\u001b[0;34m,\u001b[0m \u001b[0m_partitions\u001b[0m\u001b[0;34m,\u001b[0m \u001b[0m_partitions_type\u001b[0m\u001b[0;34m,\u001b[0m \u001b[0m_checkpoint_file\u001b[0m\u001b[0;34m)\u001b[0m\u001b[0;34m\u001b[0m\u001b[0;34m\u001b[0m\u001b[0m\n\u001b[0;32m-> 2544\u001b[0;31m         \u001b[0mEnv\u001b[0m\u001b[0;34m.\u001b[0m\u001b[0mbackend\u001b[0m\u001b[0;34m(\u001b[0m\u001b[0;34m)\u001b[0m\u001b[0;34m.\u001b[0m\u001b[0mexecute\u001b[0m\u001b[0;34m(\u001b[0m\u001b[0mir\u001b[0m\u001b[0;34m.\u001b[0m\u001b[0mMatrixWrite\u001b[0m\u001b[0;34m(\u001b[0m\u001b[0mself\u001b[0m\u001b[0;34m.\u001b[0m\u001b[0m_mir\u001b[0m\u001b[0;34m,\u001b[0m \u001b[0mwriter\u001b[0m\u001b[0;34m)\u001b[0m\u001b[0;34m)\u001b[0m\u001b[0;34m\u001b[0m\u001b[0;34m\u001b[0m\u001b[0m\n\u001b[0m\u001b[1;32m   2545\u001b[0m \u001b[0;34m\u001b[0m\u001b[0m\n\u001b[1;32m   2546\u001b[0m     \u001b[0;32mclass\u001b[0m \u001b[0m_Show\u001b[0m\u001b[0;34m:\u001b[0m\u001b[0;34m\u001b[0m\u001b[0;34m\u001b[0m\u001b[0m\n",
      "\u001b[0;32m/gpfs/ycga/project/lek/kn396/conda_envs/hail_test3/lib/python3.7/site-packages/hail/backend/py4j_backend.py\u001b[0m in \u001b[0;36mexecute\u001b[0;34m(self, ir, timed)\u001b[0m\n\u001b[1;32m     84\u001b[0m         \u001b[0;31m# print(self._hail_package.expr.ir.Pretty.apply(jir, True, -1))\u001b[0m\u001b[0;34m\u001b[0m\u001b[0;34m\u001b[0m\u001b[0;34m\u001b[0m\u001b[0m\n\u001b[1;32m     85\u001b[0m         \u001b[0;32mtry\u001b[0m\u001b[0;34m:\u001b[0m\u001b[0;34m\u001b[0m\u001b[0;34m\u001b[0m\u001b[0m\n\u001b[0;32m---> 86\u001b[0;31m             \u001b[0mresult_tuple\u001b[0m \u001b[0;34m=\u001b[0m \u001b[0mself\u001b[0m\u001b[0;34m.\u001b[0m\u001b[0m_jhc\u001b[0m\u001b[0;34m.\u001b[0m\u001b[0mbackend\u001b[0m\u001b[0;34m(\u001b[0m\u001b[0;34m)\u001b[0m\u001b[0;34m.\u001b[0m\u001b[0mexecuteEncode\u001b[0m\u001b[0;34m(\u001b[0m\u001b[0mjir\u001b[0m\u001b[0;34m,\u001b[0m \u001b[0mstream_codec\u001b[0m\u001b[0;34m)\u001b[0m\u001b[0;34m\u001b[0m\u001b[0;34m\u001b[0m\u001b[0m\n\u001b[0m\u001b[1;32m     87\u001b[0m             \u001b[0;34m(\u001b[0m\u001b[0mresult\u001b[0m\u001b[0;34m,\u001b[0m \u001b[0mtimings\u001b[0m\u001b[0;34m)\u001b[0m \u001b[0;34m=\u001b[0m \u001b[0;34m(\u001b[0m\u001b[0mresult_tuple\u001b[0m\u001b[0;34m.\u001b[0m\u001b[0m_1\u001b[0m\u001b[0;34m(\u001b[0m\u001b[0;34m)\u001b[0m\u001b[0;34m,\u001b[0m \u001b[0mresult_tuple\u001b[0m\u001b[0;34m.\u001b[0m\u001b[0m_2\u001b[0m\u001b[0;34m(\u001b[0m\u001b[0;34m)\u001b[0m\u001b[0;34m)\u001b[0m\u001b[0;34m\u001b[0m\u001b[0;34m\u001b[0m\u001b[0m\n\u001b[1;32m     88\u001b[0m             \u001b[0mvalue\u001b[0m \u001b[0;34m=\u001b[0m \u001b[0mir\u001b[0m\u001b[0;34m.\u001b[0m\u001b[0mtyp\u001b[0m\u001b[0;34m.\u001b[0m\u001b[0m_from_encoding\u001b[0m\u001b[0;34m(\u001b[0m\u001b[0mresult\u001b[0m\u001b[0;34m)\u001b[0m\u001b[0;34m\u001b[0m\u001b[0;34m\u001b[0m\u001b[0m\n",
      "\u001b[0;32m/gpfs/ycga/project/lek/kn396/conda_envs/hail_test3/lib/python3.7/site-packages/py4j/java_gateway.py\u001b[0m in \u001b[0;36m__call__\u001b[0;34m(self, *args)\u001b[0m\n\u001b[1;32m   1301\u001b[0m             \u001b[0mproto\u001b[0m\u001b[0;34m.\u001b[0m\u001b[0mEND_COMMAND_PART\u001b[0m\u001b[0;34m\u001b[0m\u001b[0;34m\u001b[0m\u001b[0m\n\u001b[1;32m   1302\u001b[0m \u001b[0;34m\u001b[0m\u001b[0m\n\u001b[0;32m-> 1303\u001b[0;31m         \u001b[0manswer\u001b[0m \u001b[0;34m=\u001b[0m \u001b[0mself\u001b[0m\u001b[0;34m.\u001b[0m\u001b[0mgateway_client\u001b[0m\u001b[0;34m.\u001b[0m\u001b[0msend_command\u001b[0m\u001b[0;34m(\u001b[0m\u001b[0mcommand\u001b[0m\u001b[0;34m)\u001b[0m\u001b[0;34m\u001b[0m\u001b[0;34m\u001b[0m\u001b[0m\n\u001b[0m\u001b[1;32m   1304\u001b[0m         return_value = get_return_value(\n\u001b[1;32m   1305\u001b[0m             answer, self.gateway_client, self.target_id, self.name)\n",
      "\u001b[0;32m/gpfs/ycga/project/lek/kn396/conda_envs/hail_test3/lib/python3.7/site-packages/py4j/java_gateway.py\u001b[0m in \u001b[0;36msend_command\u001b[0;34m(self, command, retry, binary)\u001b[0m\n\u001b[1;32m   1031\u001b[0m         \u001b[0mconnection\u001b[0m \u001b[0;34m=\u001b[0m \u001b[0mself\u001b[0m\u001b[0;34m.\u001b[0m\u001b[0m_get_connection\u001b[0m\u001b[0;34m(\u001b[0m\u001b[0;34m)\u001b[0m\u001b[0;34m\u001b[0m\u001b[0;34m\u001b[0m\u001b[0m\n\u001b[1;32m   1032\u001b[0m         \u001b[0;32mtry\u001b[0m\u001b[0;34m:\u001b[0m\u001b[0;34m\u001b[0m\u001b[0;34m\u001b[0m\u001b[0m\n\u001b[0;32m-> 1033\u001b[0;31m             \u001b[0mresponse\u001b[0m \u001b[0;34m=\u001b[0m \u001b[0mconnection\u001b[0m\u001b[0;34m.\u001b[0m\u001b[0msend_command\u001b[0m\u001b[0;34m(\u001b[0m\u001b[0mcommand\u001b[0m\u001b[0;34m)\u001b[0m\u001b[0;34m\u001b[0m\u001b[0;34m\u001b[0m\u001b[0m\n\u001b[0m\u001b[1;32m   1034\u001b[0m             \u001b[0;32mif\u001b[0m \u001b[0mbinary\u001b[0m\u001b[0;34m:\u001b[0m\u001b[0;34m\u001b[0m\u001b[0;34m\u001b[0m\u001b[0m\n\u001b[1;32m   1035\u001b[0m                 \u001b[0;32mreturn\u001b[0m \u001b[0mresponse\u001b[0m\u001b[0;34m,\u001b[0m \u001b[0mself\u001b[0m\u001b[0;34m.\u001b[0m\u001b[0m_create_connection_guard\u001b[0m\u001b[0;34m(\u001b[0m\u001b[0mconnection\u001b[0m\u001b[0;34m)\u001b[0m\u001b[0;34m\u001b[0m\u001b[0;34m\u001b[0m\u001b[0m\n",
      "\u001b[0;32m/gpfs/ycga/project/lek/kn396/conda_envs/hail_test3/lib/python3.7/site-packages/py4j/java_gateway.py\u001b[0m in \u001b[0;36msend_command\u001b[0;34m(self, command)\u001b[0m\n\u001b[1;32m   1198\u001b[0m \u001b[0;34m\u001b[0m\u001b[0m\n\u001b[1;32m   1199\u001b[0m         \u001b[0;32mtry\u001b[0m\u001b[0;34m:\u001b[0m\u001b[0;34m\u001b[0m\u001b[0;34m\u001b[0m\u001b[0m\n\u001b[0;32m-> 1200\u001b[0;31m             \u001b[0manswer\u001b[0m \u001b[0;34m=\u001b[0m \u001b[0msmart_decode\u001b[0m\u001b[0;34m(\u001b[0m\u001b[0mself\u001b[0m\u001b[0;34m.\u001b[0m\u001b[0mstream\u001b[0m\u001b[0;34m.\u001b[0m\u001b[0mreadline\u001b[0m\u001b[0;34m(\u001b[0m\u001b[0;34m)\u001b[0m\u001b[0;34m[\u001b[0m\u001b[0;34m:\u001b[0m\u001b[0;34m-\u001b[0m\u001b[0;36m1\u001b[0m\u001b[0;34m]\u001b[0m\u001b[0;34m)\u001b[0m\u001b[0;34m\u001b[0m\u001b[0;34m\u001b[0m\u001b[0m\n\u001b[0m\u001b[1;32m   1201\u001b[0m             \u001b[0mlogger\u001b[0m\u001b[0;34m.\u001b[0m\u001b[0mdebug\u001b[0m\u001b[0;34m(\u001b[0m\u001b[0;34m\"Answer received: {0}\"\u001b[0m\u001b[0;34m.\u001b[0m\u001b[0mformat\u001b[0m\u001b[0;34m(\u001b[0m\u001b[0manswer\u001b[0m\u001b[0;34m)\u001b[0m\u001b[0;34m)\u001b[0m\u001b[0;34m\u001b[0m\u001b[0;34m\u001b[0m\u001b[0m\n\u001b[1;32m   1202\u001b[0m             \u001b[0;32mif\u001b[0m \u001b[0manswer\u001b[0m\u001b[0;34m.\u001b[0m\u001b[0mstartswith\u001b[0m\u001b[0;34m(\u001b[0m\u001b[0mproto\u001b[0m\u001b[0;34m.\u001b[0m\u001b[0mRETURN_MESSAGE\u001b[0m\u001b[0;34m)\u001b[0m\u001b[0;34m:\u001b[0m\u001b[0;34m\u001b[0m\u001b[0;34m\u001b[0m\u001b[0m\n",
      "\u001b[0;32m/gpfs/ycga/project/lek/kn396/conda_envs/hail_test3/lib/python3.7/socket.py\u001b[0m in \u001b[0;36mreadinto\u001b[0;34m(self, b)\u001b[0m\n\u001b[1;32m    587\u001b[0m         \u001b[0;32mwhile\u001b[0m \u001b[0;32mTrue\u001b[0m\u001b[0;34m:\u001b[0m\u001b[0;34m\u001b[0m\u001b[0;34m\u001b[0m\u001b[0m\n\u001b[1;32m    588\u001b[0m             \u001b[0;32mtry\u001b[0m\u001b[0;34m:\u001b[0m\u001b[0;34m\u001b[0m\u001b[0;34m\u001b[0m\u001b[0m\n\u001b[0;32m--> 589\u001b[0;31m                 \u001b[0;32mreturn\u001b[0m \u001b[0mself\u001b[0m\u001b[0;34m.\u001b[0m\u001b[0m_sock\u001b[0m\u001b[0;34m.\u001b[0m\u001b[0mrecv_into\u001b[0m\u001b[0;34m(\u001b[0m\u001b[0mb\u001b[0m\u001b[0;34m)\u001b[0m\u001b[0;34m\u001b[0m\u001b[0;34m\u001b[0m\u001b[0m\n\u001b[0m\u001b[1;32m    590\u001b[0m             \u001b[0;32mexcept\u001b[0m \u001b[0mtimeout\u001b[0m\u001b[0;34m:\u001b[0m\u001b[0;34m\u001b[0m\u001b[0;34m\u001b[0m\u001b[0m\n\u001b[1;32m    591\u001b[0m                 \u001b[0mself\u001b[0m\u001b[0;34m.\u001b[0m\u001b[0m_timeout_occurred\u001b[0m \u001b[0;34m=\u001b[0m \u001b[0;32mTrue\u001b[0m\u001b[0;34m\u001b[0m\u001b[0;34m\u001b[0m\u001b[0m\n",
      "\u001b[0;31mKeyboardInterrupt\u001b[0m: "
     ]
    }
   ],
   "source": [
    "%%capture\n",
    "\n",
    "mt_input = split_mt\n",
    "mt_output = vep_mt\n",
    "\n",
    "print('Reads in the following matrix table: \\n' + mt_input + '\\n')\n",
    "mt = hl.read_matrix_table(mt_input)\n",
    "\n",
    "print('Writes out to the following matrix table: \\n' + mt_output + '\\n')\n",
    "\n",
    "mt_vep = hl.vep(mt, vep_json)\n",
    "mt_vep.write(mt_output, overwrite = True)"
   ]
  },
  {
   "cell_type": "markdown",
   "id": "hawaiian-uruguay",
   "metadata": {},
   "source": [
    "### Finish vep annotations and add gnomad_AF annotation"
   ]
  },
  {
   "cell_type": "code",
   "execution_count": null,
   "id": "e95b0919",
   "metadata": {},
   "outputs": [],
   "source": [
    "# r1\n",
    "##############################################################################\n",
    "# Sort VEP transcript consequences array \n",
    "# annotate with desired VEP annotations as new row fields\n",
    "# add gnomad \n",
    "# drop parent VEP struct (optional)\n",
    "# write new matrix table \n",
    "##############################################################################\n",
    "\n",
    "################################\n",
    "# specify inputs and outputs \n",
    "################################\n",
    "mt_input = vep_mt # specify the matrix table you wish to annotate. At minimum should already be annotated with VEP. \n",
    "mt_output = vep_r1_mt\n",
    "\n",
    "################################\n",
    "mt = hl.read_matrix_table(mt_input)\n",
    "print('Reads in the following matrix table: \\n' + mt_input + '\\n')\n",
    "#print('count of the input dataframe:' + str(mt.count()) + '\\n')\n",
    "\n",
    "ref_data_ht = hl.read_table(ref_data)\n",
    "print('Reads in the following hail table for annotation: \\n' + ref_data + '\\n')\n",
    "\n",
    "################################\n",
    "# add annotations (from vep)\n",
    "################################\n",
    "\n",
    "# Sort VEP array annotations \n",
    "##  sort transcript consequences \n",
    "mt = mt.annotate_rows(\n",
    "    sortedTranscriptConsequences=get_expr_for_vep_sorted_transcript_consequences_array(vep_root=mt.vep)\n",
    ")\n",
    "\n",
    "# Annotate rows with index zero element of array sorted transcript annotations \n",
    "# Annotate rows with additional fields from VEP parent structure before dropping\n",
    "# Annotate rows with gnomad AF (Assign 0.0 to variants without a gnomAD frequency)\n",
    "mt = mt.annotate_rows(\n",
    "    gene_symbol=hl.if_else(mt.sortedTranscriptConsequences.size() > 0, mt.sortedTranscriptConsequences[0].gene_symbol, hl.missing(hl.tstr)), \n",
    "    major_consequence=hl.if_else(mt.sortedTranscriptConsequences.size() > 0, mt.sortedTranscriptConsequences[0].major_consequence, hl.missing(hl.tstr)), \n",
    "    hgvs=hl.if_else(mt.sortedTranscriptConsequences.size() > 0, mt.sortedTranscriptConsequences[0].hgvs, hl.missing(hl.tstr)), \n",
    "    category=hl.if_else(mt.sortedTranscriptConsequences.size() > 0, mt.sortedTranscriptConsequences[0].category, hl.missing(hl.tstr)), \n",
    "    canonical=hl.if_else(mt.sortedTranscriptConsequences.size() > 0, mt.sortedTranscriptConsequences[0].canonical, -1),\n",
    "    polyphen_pred=hl.if_else(mt.sortedTranscriptConsequences.size() > 0, mt.sortedTranscriptConsequences[0].polyphen_prediction, hl.missing(hl.tstr)),\n",
    "    sift_pred=hl.if_else(mt.sortedTranscriptConsequences.size() > 0, mt.sortedTranscriptConsequences[0].sift_prediction, hl.missing(hl.tstr)),\n",
    "    most_severe_consequence = mt.vep.most_severe_consequence,\n",
    "    variant_class = mt.vep.variant_class,\n",
    "    gene_id_array = mt.vep.transcript_consequences.gene_id,\n",
    "    gene_symbol_array = mt.vep.transcript_consequences.gene_symbol,\n",
    "    #gnomad_af = hl.if_else(hl.is_defined(ref_data_ht[mt.row_key]), ref_data_ht[mt.row_key].gnomad_exomes.AF, 0.0)\n",
    "    gnomad_af =  hl.if_else(hl.is_defined(ref_data_ht[mt.row_key]),(hl.if_else(hl.is_defined(ref_data_ht[mt.row_key].gnomad_exomes.AF),ref_data_ht[mt.row_key].gnomad_exomes.AF, 0.0)), 0.0),\n",
    "    meta_svm =  hl.if_else(hl.is_defined(ref_data_ht[mt.row_key]),(hl.if_else(hl.is_defined(ref_data_ht[mt.row_key].dbnsfp.MetaSVM_pred),ref_data_ht[mt.row_key].dbnsfp.MetaSVM_pred, 'na')), 'na'),\n",
    "    cadd =  hl.if_else(hl.is_defined(ref_data_ht[mt.row_key]),(hl.if_else(hl.is_defined(ref_data_ht[mt.row_key].cadd.PHRED),ref_data_ht[mt.row_key].cadd.PHRED, 0.0)), 0.0)\n",
    ")\n",
    "\n",
    "\n",
    "# drop parent vep structure \n",
    "mt = mt.drop(mt.vep)\n",
    "\n",
    "################################\n",
    "# write new matrix table\n",
    "################################\n",
    "\n",
    "print('Writes out to the following matrix table: \\n' + mt_output + '\\n')\n",
    "mt.write(mt_output, overwrite = True)\n"
   ]
  },
  {
   "cell_type": "markdown",
   "id": "731dd0ce",
   "metadata": {},
   "source": [
    "### Add additional annotations"
   ]
  },
  {
   "cell_type": "code",
   "execution_count": 6,
   "id": "daf0b78f",
   "metadata": {},
   "outputs": [
    {
     "name": "stdout",
     "output_type": "stream",
     "text": [
      "Reads in the following matrix table: \n",
      "/gpfs/gibbs/pi/brueckner/yale_phil/phil_jc/vep_r1.mt\n",
      "\n",
      "Writes out to the following matrix table: \n",
      "/gpfs/gibbs/pi/brueckner/yale_phil/phil_jc/vep_r1c1.mt\n",
      "\n"
     ]
    },
    {
     "name": "stderr",
     "output_type": "stream",
     "text": [
      "2022-01-09 18:43:05 Hail: INFO: wrote matrix table with 2913341 rows and 597 columns in 53 partitions to /gpfs/gibbs/pi/brueckner/yale_phil/phil_jc/vep_r1c1.mt\n"
     ]
    }
   ],
   "source": [
    "# Annotate with TiTv, n_snps, etc \n",
    "\n",
    "mt_input = vep_r1_mt\n",
    "mt_output = vep_r1c1_mt\n",
    "\n",
    "print('Reads in the following matrix table: \\n' + mt_input + '\\n')\n",
    "mt = hl.read_matrix_table(mt_input)\n",
    "\n",
    "mt = hl.sample_qc(mt, name='sample_qc')\n",
    "\n",
    "print('Writes out to the following matrix table: \\n' + mt_output + '\\n')\n",
    "mt.write(mt_output, overwrite = True)\n"
   ]
  },
  {
   "cell_type": "code",
   "execution_count": 10,
   "id": "a6261375",
   "metadata": {},
   "outputs": [
    {
     "name": "stdout",
     "output_type": "stream",
     "text": [
      "Reads in the matrix table: \n",
      "/gpfs/gibbs/pi/brueckner/yale_phil/phil_jc/vep_r1c1.mt\n",
      "\n"
     ]
    },
    {
     "name": "stderr",
     "output_type": "stream",
     "text": [
      "2022-01-09 18:54:22 Hail: INFO: Reading table without type imputation\n",
      "  Loading field 'f0' as type str (user-supplied)\n",
      "  Loading field 'f1' as type int32 (user-supplied)\n",
      "  Loading field 'f2' as type int32 (user-supplied)\n",
      "  Loading field 'f3' as type str (user-supplied)\n",
      "  Loading field 'f4' as type str (user-supplied)\n"
     ]
    },
    {
     "name": "stdout",
     "output_type": "stream",
     "text": [
      "Writes the matrix table: \n",
      "/gpfs/gibbs/pi/brueckner/yale_phil/phil_jc/vep_r1c1_intervals.mt\n",
      "\n"
     ]
    },
    {
     "name": "stderr",
     "output_type": "stream",
     "text": [
      "2022-01-09 18:54:24 Hail: INFO: Coerced sorted dataset              (0 + 1) / 1]\n",
      "2022-01-09 18:55:27 Hail: INFO: Coerced sorted dataset              (0 + 1) / 1]\n",
      "2022-01-09 18:57:11 Hail: INFO: wrote matrix table with 409586 rows and 597 columns in 53 partitions to /gpfs/gibbs/pi/brueckner/yale_phil/phil_jc/vep_r1c1_intervals.mt\n",
      "    Total size: 1001.61 MiB\n",
      "    * Rows/entries: 1001.55 MiB\n",
      "    * Columns: 62.49 KiB\n",
      "    * Globals: 11.00 B\n",
      "    * Smallest partition: 4991 rows (12.19 MiB)\n",
      "    * Largest partition:  10500 rows (25.46 MiB)\n"
     ]
    }
   ],
   "source": [
    "# Filter matrix table rows to specific intervals\n",
    "\n",
    "mt_input = vep_r1c1_mt # (2913341, 597)\n",
    "mt_output = vep_r1c1_intervals_mt # (409586, 597)\n",
    "\n",
    "mt = hl.read_matrix_table(mt_input)\n",
    "print('Reads in the matrix table: \\n' + mt_input + '\\n')\n",
    "#print('count of the input dataframe: ' + str(mt.count()) + '\\n')\n",
    "\n",
    "intervals = '/gpfs/ycga/project/lek/shared/resources/hg38/exome_evaluation_regions.v1.interval_list'\n",
    "exome_intervals = hl.import_locus_intervals(intervals, reference_genome='GRCh38')\n",
    "\n",
    "mt = mt.filter_rows(hl.is_defined(exome_intervals[mt.locus]), keep=True)\n",
    "mt = hl.sample_qc(mt, name='sample_qc')\n",
    "\n",
    "print('Writes the matrix table: \\n' + mt_output + '\\n')\n",
    "mt.write(mt_output, overwrite = True)\n"
   ]
  },
  {
   "cell_type": "code",
   "execution_count": 49,
   "id": "cfb9b824",
   "metadata": {},
   "outputs": [
    {
     "name": "stdout",
     "output_type": "stream",
     "text": [
      "----------------------------------------\n",
      "Global fields:\n",
      "    None\n",
      "----------------------------------------\n",
      "Column fields:\n",
      "    's': str\n",
      "    'sample_qc': struct {\n",
      "        dp_stats: struct {\n",
      "            mean: float64, \n",
      "            stdev: float64, \n",
      "            min: float64, \n",
      "            max: float64\n",
      "        }, \n",
      "        gq_stats: struct {\n",
      "            mean: float64, \n",
      "            stdev: float64, \n",
      "            min: float64, \n",
      "            max: float64\n",
      "        }, \n",
      "        call_rate: float64, \n",
      "        n_called: int64, \n",
      "        n_not_called: int64, \n",
      "        n_filtered: int64, \n",
      "        n_hom_ref: int64, \n",
      "        n_het: int64, \n",
      "        n_hom_var: int64, \n",
      "        n_non_ref: int64, \n",
      "        n_singleton: int64, \n",
      "        n_snp: int64, \n",
      "        n_insertion: int64, \n",
      "        n_deletion: int64, \n",
      "        n_transition: int64, \n",
      "        n_transversion: int64, \n",
      "        n_star: int64, \n",
      "        r_ti_tv: float64, \n",
      "        r_het_hom_var: float64, \n",
      "        r_insertion_deletion: float64\n",
      "    }\n",
      "----------------------------------------\n",
      "Row fields:\n",
      "    'locus': locus<GRCh38>\n",
      "    'alleles': array<str>\n",
      "    'rsid': str\n",
      "    'qual': float64\n",
      "    'filters': set<str>\n",
      "    'info': struct {\n",
      "        AC: array<int32>, \n",
      "        AF: array<float64>, \n",
      "        AN: int32, \n",
      "        AS_BaseQRankSum: array<float64>, \n",
      "        AS_FS: array<float64>, \n",
      "        AS_InbreedingCoeff: array<float64>, \n",
      "        AS_MQ: array<float64>, \n",
      "        AS_MQRankSum: array<float64>, \n",
      "        AS_QD: array<float64>, \n",
      "        AS_RAW_BaseQRankSum: str, \n",
      "        AS_RAW_MQ: str, \n",
      "        AS_RAW_MQRankSum: str, \n",
      "        AS_RAW_ReadPosRankSum: str, \n",
      "        AS_ReadPosRankSum: array<float64>, \n",
      "        AS_SB_TABLE: str, \n",
      "        AS_SOR: array<float64>, \n",
      "        BaseQRankSum: float64, \n",
      "        DP: int32, \n",
      "        END: int32, \n",
      "        ExcessHet: float64, \n",
      "        FS: float64, \n",
      "        InbreedingCoeff: float64, \n",
      "        MLEAC: array<int32>, \n",
      "        MLEAF: array<float64>, \n",
      "        MQ: float64, \n",
      "        MQRankSum: float64, \n",
      "        NEGATIVE_TRAIN_SITE: bool, \n",
      "        POSITIVE_TRAIN_SITE: bool, \n",
      "        QD: float64, \n",
      "        RAW_MQandDP: array<int32>, \n",
      "        ReadPosRankSum: float64, \n",
      "        SOR: float64, \n",
      "        VQSLOD: float64, \n",
      "        culprit: str\n",
      "    }\n",
      "    'allele_data': struct {\n",
      "        nonsplit_alleles: array<str>, \n",
      "        has_star: bool, \n",
      "        variant_type: str, \n",
      "        n_alt_alleles: int32, \n",
      "        allele_type: str, \n",
      "        was_mixed: bool\n",
      "    }\n",
      "    'a_index': int32\n",
      "    'was_split': bool\n",
      "----------------------------------------\n",
      "Entry fields:\n",
      "    'AD': array<int32>\n",
      "    'DP': int32\n",
      "    'GQ': int32\n",
      "    'GT': call\n",
      "    'MIN_DP': int32\n",
      "    'PGT': call\n",
      "    'PID': str\n",
      "    'PL': array<int32>\n",
      "    'PS': int32\n",
      "    'RGQ': int32\n",
      "    'SB': array<int32>\n",
      "----------------------------------------\n",
      "Column key: ['s']\n",
      "Row key: ['locus', 'alleles']\n",
      "----------------------------------------\n"
     ]
    },
    {
     "name": "stderr",
     "output_type": "stream",
     "text": [
      "2022-01-25 22:15:27 Hail: INFO: Reading table without type imputation\n",
      "  Loading field 'f0' as type str (user-supplied)\n",
      "  Loading field 'f1' as type int32 (user-supplied)\n",
      "  Loading field 'f2' as type int32 (user-supplied)\n",
      "  Loading field 'f3' as type str (user-supplied)\n",
      "  Loading field 'f4' as type str (user-supplied)\n"
     ]
    }
   ],
   "source": [
    "intervals = '/gpfs/ycga/project/lek/shared/resources/hg38/exome_evaluation_regions.v1.interval_list'\n",
    "exome_intervals = hl.import_locus_intervals(intervals, reference_genome='GRCh38')\n",
    "mt.describe()"
   ]
  },
  {
   "cell_type": "code",
   "execution_count": 11,
   "id": "775708b4",
   "metadata": {},
   "outputs": [
    {
     "name": "stdout",
     "output_type": "stream",
     "text": [
      "count of the input dataframe:(2913341, 597)\n",
      "\n",
      "count of the output dataframe:(409586, 597)\n",
      "\n"
     ]
    }
   ],
   "source": [
    "# get counts\n",
    "mt_input = vep_r1c1_mt\n",
    "mt_output = vep_r1c1_intervals_mt\n",
    "\n",
    "################################################################################\n",
    "input_mt = hl.read_matrix_table(mt_input)\n",
    "output_mt = hl.read_matrix_table(mt_output)\n",
    "\n",
    "print('count of the input dataframe:' + str(input_mt.count()) + '\\n')\n",
    "print('count of the output dataframe:' + str(output_mt.count()) + '\\n')"
   ]
  },
  {
   "cell_type": "markdown",
   "id": "adjacent-monaco",
   "metadata": {},
   "source": [
    "### Count variant classes and consequence types"
   ]
  },
  {
   "cell_type": "code",
   "execution_count": 7,
   "id": "biblical-geneva",
   "metadata": {},
   "outputs": [
    {
     "name": "stdout",
     "output_type": "stream",
     "text": [
      "Reads in the following matrix table: \n",
      "/gpfs/gibbs/pi/brueckner/yale_phil/phil_jc/vep_r1c1.mt\n",
      "count of the input dataframe:(2913341, 597)\n",
      "\n"
     ]
    },
    {
     "name": "stderr",
     "output_type": "stream",
     "text": [
      "[Stage 3:==================================================>      (47 + 4) / 53]\r"
     ]
    },
    {
     "name": "stdout",
     "output_type": "stream",
     "text": [
      "Number of each variant class:\n",
      "frozendict({'SNV': 2598862, 'deletion': 180993, 'insertion': 131850, None: 1636})\n",
      "\n",
      "\n"
     ]
    },
    {
     "name": "stderr",
     "output_type": "stream",
     "text": [
      "[Stage 4:===================================================>     (48 + 4) / 53]\r"
     ]
    },
    {
     "name": "stdout",
     "output_type": "stream",
     "text": [
      "Number of each consequence type:\n",
      "frozendict({'3_prime_UTR_variant': 416536, '5_prime_UTR_variant': 156117, 'TFBS_ablation': 2, 'TF_binding_site_variant': 132, 'coding_sequence_variant': 122, 'downstream_gene_variant': 64238, 'frameshift_variant': 10507, 'incomplete_terminal_codon_variant': 25, 'inframe_deletion': 5892, 'inframe_insertion': 2607, 'intergenic_variant': 45283, 'intron_variant': 911266, 'mature_miRNA_variant': 456, 'missense_variant': 236130, 'non_coding_transcript_exon_variant': 732046, 'non_coding_transcript_variant': 2, 'protein_altering_variant': 135, 'regulatory_region_variant': 7904, 'splice_acceptor_variant': 5802, 'splice_donor_variant': 5743, 'splice_region_variant': 59070, 'start_lost': 788, 'stop_gained': 6679, 'stop_lost': 697, 'stop_retained_variant': 170, 'synonymous_variant': 144444, 'transcript_ablation': 5, 'upstream_gene_variant': 98907, None: 1636})\n",
      "\n",
      "\n"
     ]
    }
   ],
   "source": [
    "mt_input = vep_r1c1_mt\n",
    "mt = hl.read_matrix_table(mt_input)\n",
    "\n",
    "print('Reads in the following matrix table: \\n' + mt_input)\n",
    "print('count of the input dataframe:' + str(mt.count()) + '\\n')\n",
    "\n",
    "# mt.describe()\n",
    "\n",
    "# How many of each variant class? \n",
    "vep_variant_class = mt.variant_class\n",
    "variant_class_dict = mt.aggregate_rows(hl.agg.counter(vep_variant_class))\n",
    "print('Number of each variant class:')\n",
    "pprint.pprint(variant_class_dict) \n",
    "print('\\n')\n",
    "\n",
    "# How many of each consequence type?\n",
    "vep_most_severe_consequence = mt.most_severe_consequence\n",
    "most_severe_term_dict = mt.aggregate_rows(hl.agg.counter(vep_most_severe_consequence))\n",
    "print('Number of each consequence type:')\n",
    "pprint.pprint(most_severe_term_dict)\n",
    "print('\\n')\n"
   ]
  },
  {
   "cell_type": "markdown",
   "id": "148dd5ec",
   "metadata": {},
   "source": [
    "# Filter samples on which to call de novos "
   ]
  },
  {
   "cell_type": "code",
   "execution_count": 100,
   "id": "9876912e",
   "metadata": {},
   "outputs": [
    {
     "name": "stdout",
     "output_type": "stream",
     "text": [
      "Reads in the matrix table: \n",
      "/gpfs/gibbs/pi/brueckner/yale_phil/yale/v2/b38/yale_b38_intervals_DP.mt\n",
      "\n",
      "Writes the matrix table: \n",
      "/gpfs/gibbs/pi/brueckner/yale_phil/yale/v2/b38/yale_b38_filtered.mt\n",
      "\n"
     ]
    },
    {
     "name": "stderr",
     "output_type": "stream",
     "text": [
      "2021-12-05 19:19:26 Hail: INFO: wrote matrix table with 330110 rows and 597 columns in 31 partitions to /gpfs/gibbs/pi/brueckner/yale_phil/yale/v2/b38/yale_b38_filtered.mt\n"
     ]
    }
   ],
   "source": [
    "#mt_input = yale_b38_intervals_DP_mt\n",
    "print('Reads in the matrix table: \\n' + mt_input + '\\n')\n",
    "\n",
    "#mt_output = yale_b38_filtered_mt\n",
    "print('Writes the matrix table: \\n' + mt_output + '\\n')\n",
    "#############################################################################\n",
    "#mt = hl.read_matrix_table(mt_input)\n",
    "#print('count of the input dataframe: ' + str(mt.count()) + '\\n')\n",
    "\n",
    "#mt = mt.filter_cols(mt.sample_qc.n_snp == 0, keep=False)\n",
    "#mt = mt.filter_cols(mt.sample_qc.r_ti_tv < 2.7, keep=False)\n",
    "\n",
    "#############################################################################\n",
    "#mt.write(mt_output, overwrite = True)"
   ]
  },
  {
   "cell_type": "code",
   "execution_count": 103,
   "id": "2fb07fac",
   "metadata": {},
   "outputs": [
    {
     "name": "stdout",
     "output_type": "stream",
     "text": [
      "count of the input dataframe:(409574, 592)\n",
      "\n",
      "count of the output dataframe:(409574, 556)\n",
      "\n"
     ]
    }
   ],
   "source": [
    "# get counts\n",
    "mt_input = phil_b38_intervals_DP_mt\n",
    "mt_output = phil_b38_filtered_mt \n",
    "\n",
    "################################################################################\n",
    "input_mt = hl.read_matrix_table(mt_input)\n",
    "output_mt = hl.read_matrix_table(mt_output)\n",
    "\n",
    "print('count of the input dataframe:' + str(input_mt.count()) + '\\n')\n",
    "print('count of the output dataframe:' + str(output_mt.count()) + '\\n')"
   ]
  },
  {
   "cell_type": "markdown",
   "id": "8a112d03",
   "metadata": {},
   "source": [
    "# De Novo\n",
    "### Call DNVs"
   ]
  },
  {
   "cell_type": "code",
   "execution_count": null,
   "id": "dd49feb8",
   "metadata": {},
   "outputs": [],
   "source": [
    "# Parameters\n",
    "'''\n",
    "# default paramaters \n",
    "min_gq=20, \n",
    "min_p=0.05, \n",
    "max_parent_ab=0.05, \n",
    "min_child_ab=0.2, \n",
    "min_dp_ratio=0.1, \n",
    "ignore_in_sample_allele_frequency=False\n",
    "\n",
    "# most lenient parameters \n",
    "min_gq=0, \n",
    "min_p=0.00, \n",
    "max_parent_ab=1.00, \n",
    "min_child_ab=0.0, \n",
    "min_dp_ratio=0.0, \n",
    "ignore_in_sample_allele_frequency=True\n",
    "'''"
   ]
  },
  {
   "cell_type": "code",
   "execution_count": 20,
   "id": "00e313d0",
   "metadata": {},
   "outputs": [
    {
     "name": "stdout",
     "output_type": "stream",
     "text": [
      "Reads in the following matrix table: \n",
      "/gpfs/gibbs/pi/brueckner/yale_phil/phil_jc/vep_r1c1.mt\n",
      "\n",
      "Writes out to the following hail table: \n",
      "/gpfs/gibbs/pi/brueckner/yale_phil/phil_jc/dnv_output/_unfiltered_lenient.ht\n",
      "\n",
      "Reads in the following pedigree: \n",
      "/gpfs/gibbs/pi/brueckner/yale_phil/yale-phil_1-00844.fam\n",
      "\n"
     ]
    },
    {
     "name": "stderr",
     "output_type": "stream",
     "text": [
      "2022-01-10 03:25:14 Hail: WARN: Found 5 samples with missing sex information (not 1 or 2).\n",
      " Missing samples: [{'1-07081', '1-07149', '1-05787', '1-06965', '1-06757'}]\n",
      "2022-01-10 03:26:27 Hail: INFO: Coerced sorted dataset==========> (52 + 1) / 53]\n",
      "2022-01-10 03:29:03 Hail: INFO: wrote table with 723344 rows in 53 partitions to /gpfs/gibbs/pi/brueckner/yale_phil/phil_jc/dnv_output/_unfiltered_lenient.ht\n"
     ]
    }
   ],
   "source": [
    "# Call DNVs and annotate resulting hail table with row fields from matrix table \n",
    "\n",
    "#if adjusting parameters from defaults rename file accordingly\n",
    "\n",
    "#parameters = '_default-parameters'\n",
    "parameters = '_lenient'\n",
    "#parameters = '_min_child_ab=0.3_max_parent_ab=0.035'\n",
    "#parameters = '_min_child_ab=0.35_max_parent_ab=0.035'\n",
    "#parameters = '_min_child_ab=0.4_max_parent_ab=0.035'\n",
    "#parameters = '_min_child_ab=0.45_max_parent_ab=0.035'\n",
    "\n",
    "# dnv_ht = dnv_outdir + parameters + '_unfiltered' + '.ht'\n",
    "\n",
    "dnv_ht = dnv_outdir + '_unfiltered' + parameters + '.ht'\n",
    "\n",
    "mt_input = vep_r1c1_mt\n",
    "mt = hl.read_matrix_table(mt_input)\n",
    "print('Reads in the following matrix table: \\n' + mt_input + '\\n')\n",
    "#print('count of the input dataframe:' + str(mt.count()) + '\\n')\n",
    "\n",
    "ht_output = dnv_ht\n",
    "print('Writes out to the following hail table: \\n' + ht_output + '\\n')\n",
    "\n",
    "ped_input = ped \n",
    "pedigree = hl.Pedigree.read(ped_input) \n",
    "print('Reads in the following pedigree: \\n' + ped_input + '\\n')\n",
    "\n",
    "#dnv_results = (hl.de_novo(mt, pedigree, pop_frequency_prior=mt.gnomad_af)).key_by('locus','alleles')\n",
    "\n",
    "# make sure the parameters you use below match the adjusted_parameters the output is named with\n",
    "dnv_results = (hl.de_novo(mt, pedigree, pop_frequency_prior=mt.gnomad_af, \n",
    "                          min_gq=0, \n",
    "                          min_p=0.0, \n",
    "                          max_parent_ab=1.0, \n",
    "                          min_child_ab=0.0, \n",
    "                          min_dp_ratio=0.0, \n",
    "                          ignore_in_sample_allele_frequency=True\n",
    "                         )).key_by('locus','alleles')\n",
    "\n",
    "#print('count of the dnv_ht dataframe:' + str(dnv_results.count()) + '\\n')\n",
    "\n",
    "ht = mt.rows()\n",
    "\n",
    "# Annotate De Novo results table with all annotations of interest\n",
    "dnv_results = dnv_results.annotate(\n",
    "    gene=ht[dnv_results.key].gene_symbol, \n",
    "    major_consequence=ht[dnv_results.key].major_consequence, \n",
    "    hgvs=ht[dnv_results.key].hgvs, \n",
    "    #category=ht[dnv_results.key].category, \n",
    "    canonical=ht[dnv_results.key].canonical, \n",
    "    gnomad_AF=ht[dnv_results.key].gnomad_af,\n",
    "    #cadd_score = ht[dnv_results.key].scaled_cadd_score,\n",
    "    #meta_svm_pred = ht[dnv_results.key].meta_svm,\n",
    "    variant_class=ht[dnv_results.key].variant_class,\n",
    "    filters=ht[dnv_results.key].filters\n",
    ")\n",
    "\n",
    "# annotate dnv_results with vqsr as a string for downstream filtering \n",
    "ht1 = dnv_results.select(dnv_results.filters)\n",
    "ht1 = ht1.expand_types()\n",
    "#ht1 = ht1.annotate(locus_37 = hl.locus(ht1.locus.contig, ht1.locus.position, reference_genome='GRCh37'))\n",
    "#ht1 = ht1.key_by(locus_37=ht1.locus_37, alleles=ht1.alleles)\n",
    "ht1 = ht1.annotate(locus_38 = hl.locus(ht1.locus.contig, ht1.locus.position, reference_genome='GRCh38'))\n",
    "ht1 = ht1.key_by(locus_38=ht1.locus_38, alleles=ht1.alleles)\n",
    "\n",
    "#ht1 = ht1.annotate(vqsr = hl.if_else(ht1.filters.size() > 0, ht1.filters[0], hl.missing(hl.tstr))) \n",
    "ht1 = ht1.annotate(vqsr = hl.if_else(ht1.filters.size() > 0, ht1.filters[0], 'empty_pass')) \n",
    "dnv_results = dnv_results.annotate(vqsr = ht1[dnv_results.key].vqsr)\n",
    "\n",
    "'''\n",
    "# annotate dnv_results with whether the site appears in frequent flier list from Lifton lab\n",
    "# the blackslist is a list of frequent fliers from the Lifton Lab \n",
    "blacklist_sites = '/gpfs/ycga/project/brueckner/nsd35/hail_misc/frequent_fliers.ht'\n",
    "blacklist_ht = hl.read_table(blacklist_sites)\n",
    "print('Reads in: \\n' + blacklist_sites + '\\n')\n",
    "dnv_results = dnv_results.key_by(locus=dnv_results.locus)\n",
    "dnv_results = dnv_results.annotate(in_blacklist = hl.if_else(hl.is_defined(blacklist_ht[dnv_results.locus]), True, False),)\n",
    "dnv_results = dnv_results.key_by(locus=dnv_results.locus, alleles=dnv_results.alleles)\n",
    "'''\n",
    "\n",
    "#dnv_results.describe()\n",
    "\n",
    "dnv_results.write(ht_output, overwrite=True)\n"
   ]
  },
  {
   "cell_type": "code",
   "execution_count": 47,
   "id": "c1839f2b",
   "metadata": {},
   "outputs": [
    {
     "name": "stdout",
     "output_type": "stream",
     "text": [
      "parameters applied in DNV calling: \n",
      "_lenient\n",
      "\n",
      "Reads in the hail table: \n",
      "/gpfs/gibbs/pi/brueckner/yale_phil/phil_jc/dnv_output/_unfiltered_lenient.ht\n",
      "\n",
      "Before filtering:\n",
      "\tCount of the dataframe:723344\n"
     ]
    },
    {
     "name": "stderr",
     "output_type": "stream",
     "text": [
      "\r",
      "[Stage 184:========================>                              (24 + 4) / 53]\r"
     ]
    },
    {
     "name": "stdout",
     "output_type": "stream",
     "text": [
      "\tNumber of each variant class:\n",
      "\t\tfrozendict({'SNV': 457843, 'deletion': 143496, 'insertion': 120406, None: 1599})\n",
      "\n",
      "After filtering on VEP consequence:\n"
     ]
    },
    {
     "name": "stderr",
     "output_type": "stream",
     "text": [
      "\r",
      "[Stage 185:============================================>          (43 + 4) / 53]\r"
     ]
    },
    {
     "name": "stdout",
     "output_type": "stream",
     "text": [
      "\tCount of the dataframe:106830\n"
     ]
    },
    {
     "name": "stderr",
     "output_type": "stream",
     "text": [
      "\r",
      "[Stage 186:===================================>                   (34 + 4) / 53]\r"
     ]
    },
    {
     "name": "stdout",
     "output_type": "stream",
     "text": [
      "\tNumber of each variant class:\n",
      "\t\tfrozendict({'SNV': 84014, 'deletion': 12562, 'insertion': 10254})\n",
      "\n",
      "After filtering to PASS variants:\n",
      "\tCount of the dataframe:106830\n"
     ]
    },
    {
     "name": "stderr",
     "output_type": "stream",
     "text": [
      "\r",
      "[Stage 188:=======================>                               (23 + 4) / 53]\r",
      "\r",
      "[Stage 188:====================================================>  (51 + 2) / 53]\r"
     ]
    },
    {
     "name": "stdout",
     "output_type": "stream",
     "text": [
      "\tNumber of each variant class:\n",
      "\t\tfrozendict({'SNV': 84014, 'deletion': 12562, 'insertion': 10254})\n",
      "\n",
      "After filtering LOW/MEDIUM confidence calls:\n"
     ]
    },
    {
     "name": "stderr",
     "output_type": "stream",
     "text": [
      "\r",
      "[Stage 189:============================>                          (27 + 4) / 53]\r"
     ]
    },
    {
     "name": "stdout",
     "output_type": "stream",
     "text": [
      "\tCount of the dataframe:3548\n"
     ]
    },
    {
     "name": "stderr",
     "output_type": "stream",
     "text": [
      "\r",
      "[Stage 190:====================================>                  (35 + 4) / 53]\r"
     ]
    },
    {
     "name": "stdout",
     "output_type": "stream",
     "text": [
      "\tNumber of each variant class:\n",
      "\t\tfrozendict({'SNV': 2131, 'deletion': 657, 'insertion': 760})\n",
      "\n",
      "After filtering on DP:\n"
     ]
    },
    {
     "name": "stderr",
     "output_type": "stream",
     "text": [
      "\r",
      "[Stage 191:==================================>                    (33 + 4) / 53]\r"
     ]
    },
    {
     "name": "stdout",
     "output_type": "stream",
     "text": [
      "\tCount of the dataframe:2784\n"
     ]
    },
    {
     "name": "stderr",
     "output_type": "stream",
     "text": [
      "\r",
      "[Stage 192:==========================================>            (41 + 4) / 53]\r"
     ]
    },
    {
     "name": "stdout",
     "output_type": "stream",
     "text": [
      "\tNumber of each variant class:\n",
      "\t\tfrozendict({'SNV': 1668, 'deletion': 522, 'insertion': 594})\n",
      "\n",
      "After filtering on gnomad_AF:\n"
     ]
    },
    {
     "name": "stderr",
     "output_type": "stream",
     "text": [
      "\r",
      "[Stage 193:================================>                      (31 + 4) / 53]\r"
     ]
    },
    {
     "name": "stdout",
     "output_type": "stream",
     "text": [
      "\tCount of the dataframe:1588\n"
     ]
    },
    {
     "name": "stderr",
     "output_type": "stream",
     "text": [
      "\r",
      "[Stage 194:========================================>              (39 + 4) / 53]\r"
     ]
    },
    {
     "name": "stdout",
     "output_type": "stream",
     "text": [
      "\tNumber of each variant class:\n",
      "\t\tfrozendict({'SNV': 1071, 'deletion': 193, 'insertion': 324})\n",
      "\n",
      "After using .distinct():\n"
     ]
    },
    {
     "name": "stderr",
     "output_type": "stream",
     "text": [
      "\r",
      "[Stage 195:============================>                          (27 + 4) / 53]\r",
      "\r",
      "[Stage 195:===================================================>   (50 + 3) / 53]\r"
     ]
    },
    {
     "name": "stdout",
     "output_type": "stream",
     "text": [
      "\tCount of the dataframe:1393\n"
     ]
    },
    {
     "name": "stderr",
     "output_type": "stream",
     "text": [
      "\r",
      "[Stage 196:======================>                                (22 + 4) / 53]\r",
      "\r",
      "[Stage 196:==========================================>            (41 + 4) / 53]\r"
     ]
    },
    {
     "name": "stdout",
     "output_type": "stream",
     "text": [
      "\tNumber of each variant class:\n",
      "\t\tfrozendict({'SNV': 1021, 'deletion': 144, 'insertion': 228})\n",
      "\n"
     ]
    },
    {
     "name": "stderr",
     "output_type": "stream",
     "text": [
      "2022-01-10 09:46:17 Hail: INFO: wrote table with 1393 rows in 53 partitions to /gpfs/gibbs/pi/brueckner/yale_phil/phil_jc/dnv_output/_filtered_lenient.ht\n"
     ]
    }
   ],
   "source": [
    "##############################################################################\n",
    "# Filter DNV calls and write to TSV  \n",
    "# generates counts of total variants (rows) and counts per variant class \n",
    "# filters major_consequence (_consequence)\n",
    "# filter non-PASS vqsr (empty_pass)\n",
    "# remove low/medium confidence, filter DP and AF, apply hl.distinct()\n",
    "# filter frequent fliers \n",
    "# write \n",
    "##############################################################################\n",
    "\n",
    "#parameters = '_min_child_ab=0.3_max_parent_ab=0.035'\n",
    "#ht_input ='/gpfs/gibbs/pi/brueckner/_pcgc13/output/dnv_v3/_unfiltered_min_child_ab=0.3_max_parent_ab=0.035.ht'\n",
    "\n",
    "#parameters = '_min_child_ab=0.35_max_parent_ab=0.035'\n",
    "#ht_input = '/gpfs/gibbs/pi/brueckner/_pcgc13/output/dnv_v3/_unfiltered_min_child_ab=0.35_max_parent_ab=0.035.ht'\n",
    "\n",
    "#parameters = '_min_child_ab=0.4_max_parent_ab=0.035'\n",
    "#ht_input = '/gpfs/gibbs/pi/brueckner/_pcgc13/output/dnv_v3/_unfiltered_min_child_ab=0.4_max_parent_ab=0.035.ht'\n",
    "\n",
    "#parameters = '_min_child_ab=0.45_max_parent_ab=0.035'\n",
    "#ht_input = '/gpfs/gibbs/pi/brueckner/_pcgc13/output/dnv_v3/_unfiltered_min_child_ab=0.45_max_parent_ab=0.035.ht'\n",
    "\n",
    "ht_input = dnv_ht #dnv_ht is the unfiltered dnv hail table \n",
    "\n",
    "############################################################################################################\n",
    "print('parameters applied in DNV calling: \\n' + parameters + '\\n')\n",
    "############################################################################################################\n",
    "# before any filtering \n",
    "ht = hl.read_table(ht_input)\n",
    "print('Reads in the hail table: \\n' + ht_input + '\\n')\n",
    "print('Before filtering:')\n",
    "print('\\t' + 'Count of the dataframe:' + str(ht.count()))\n",
    "\n",
    "# How many of each variant class? \n",
    "vep_variant_class = ht.variant_class\n",
    "variant_class_dict = ht.aggregate(hl.agg.counter(vep_variant_class))\n",
    "print('\\t' + 'Number of each variant class:' + '\\n' + '\\t' + '\\t' + str(variant_class_dict) + '\\n')\n",
    "\n",
    "# write unfiltered hail table as tsv \n",
    "# hl_to_txt(ht, dnv_outdir + '_unfiltered' + parameters + '.tsv')\n",
    "\n",
    "############################################################################################################\n",
    "\n",
    "# Variant consequence filtering\n",
    "consequences = hl.set(['splice_acceptor_variant', \n",
    "                       'splice_donor_variant', \n",
    "                       'stop_gained', \n",
    "                       'stop_lost', \n",
    "                       'missense_variant', \n",
    "                       'frameshift_variant', \n",
    "                       'start_lost',\n",
    "                      'inframe_insertion',\n",
    "                      'inframe_deletion',\n",
    "                      'splice_region_variant',\n",
    "                      'synonymous_variant'])\n",
    "\n",
    "#print('Count of the input dataframe before filtering:' + str(mt.count()) + '\\n')\n",
    "# major VEP consequence filtering \n",
    "ht = ht.filter(consequences.contains(ht.major_consequence), keep = True)\n",
    "print('After filtering on VEP consequence:')\n",
    "print('\\t' + 'Count of the dataframe:' + str(ht.count()))\n",
    "vep_variant_class = ht.variant_class\n",
    "variant_class_dict = ht.aggregate(hl.agg.counter(vep_variant_class))\n",
    "print('\\t' + 'Number of each variant class:' + '\\n' + '\\t' + '\\t' + str(variant_class_dict) + '\\n')\n",
    "\n",
    "#ht.write(dnv_outdir + '_consequence' + parameters + '.ht', overwrite = True)\n",
    "# hl_to_txt(ht, dnv_outdir + '_consequence' +  parameters + '.tsv')\n",
    "\n",
    "####################################################################################\n",
    "\n",
    "# filter non-PASS variants\n",
    "#ht = ht.filter(ht.vqsr == \"empty_pass\", keep=True)\n",
    "print('After filtering to PASS variants:')\n",
    "print('\\t' + 'Count of the dataframe:' + str(ht.count()))\n",
    "vep_variant_class = ht.variant_class\n",
    "variant_class_dict = ht.aggregate(hl.agg.counter(vep_variant_class))\n",
    "print('\\t' + 'Number of each variant class:' + '\\n' + '\\t' + '\\t' + str(variant_class_dict) + '\\n')\n",
    "\n",
    "# Remove low/medium confidence DNV calls  \n",
    "ht = ht.filter(ht.confidence == \"LOW\", keep=False)\n",
    "ht = ht.filter(ht.confidence == \"MEDIUM\", keep=False)\n",
    "print('After filtering LOW/MEDIUM confidence calls:')\n",
    "print('\\t' + 'Count of the dataframe:' + str(ht.count()))\n",
    "vep_variant_class = ht.variant_class\n",
    "variant_class_dict = ht.aggregate(hl.agg.counter(vep_variant_class))\n",
    "print('\\t' + 'Number of each variant class:' + '\\n' + '\\t' + '\\t' + str(variant_class_dict) + '\\n')\n",
    "\n",
    "# DP Filtering \n",
    "ht = ht.filter(ht.proband_entry.DP >= 10, keep=True)\n",
    "ht = ht.filter(ht.father_entry.DP >= 10, keep=True)       \n",
    "ht = ht.filter(ht.mother_entry.DP >= 10, keep=True)\n",
    "print('After filtering on DP:')\n",
    "print('\\t' + 'Count of the dataframe:' + str(ht.count()))\n",
    "vep_variant_class = ht.variant_class\n",
    "variant_class_dict = ht.aggregate(hl.agg.counter(vep_variant_class))\n",
    "print('\\t' + 'Number of each variant class:' + '\\n' + '\\t' + '\\t' + str(variant_class_dict) + '\\n')\n",
    "\n",
    "# AF filtering\n",
    "ht = ht.filter(ht.gnomad_AF > 0.0004, keep=False)\n",
    "print('After filtering on gnomad_AF:')\n",
    "print('\\t' + 'Count of the dataframe:' + str(ht.count()))\n",
    "vep_variant_class = ht.variant_class\n",
    "variant_class_dict = ht.aggregate(hl.agg.counter(vep_variant_class))\n",
    "print('\\t' + 'Number of each variant class:' + '\\n' + '\\t' + '\\t' + str(variant_class_dict) + '\\n')\n",
    "\n",
    "# For rows with duplicate keys (i.e. locus and allele are dnv in more than one family) keep only one row\n",
    "# would be better not to keep one of the recurrent rows but that is not supported by .distinct()\n",
    "ht = ht.distinct()\n",
    "print('After using .distinct():')\n",
    "print('\\t' + 'Count of the dataframe:' + str(ht.count()))\n",
    "vep_variant_class = ht.variant_class\n",
    "variant_class_dict = ht.aggregate(hl.agg.counter(vep_variant_class))\n",
    "print('\\t' + 'Number of each variant class:' + '\\n' + '\\t' + '\\t' + str(variant_class_dict) + '\\n')\n",
    "\n",
    "'''\n",
    "# filter variants in frequent flier blacklist \n",
    "ht = ht.filter((ht.in_blacklist == True), keep=False)\n",
    "print('After filtering frequent fliers:')\n",
    "print('\\t' + 'Count of the dataframe:' + str(ht.count()))\n",
    "vep_variant_class = ht.variant_class\n",
    "variant_class_dict = ht.aggregate(hl.agg.counter(vep_variant_class))\n",
    "print('\\t' + 'Number of each variant class:' + '\\n' + '\\t' + '\\t' + str(variant_class_dict) + '\\n')\n",
    "'''\n",
    "\n",
    "####################################################################################\n",
    "\n",
    "# after all filtering \n",
    "ht.write(dnv_outdir + '_filtered' +  parameters + '.ht', overwrite = True)\n",
    "# hl_to_txt(ht, dnv_outdir + '_filtered' + parameters + '.tsv')"
   ]
  },
  {
   "cell_type": "markdown",
   "id": "5e56d784",
   "metadata": {},
   "source": [
    "# compare to external set "
   ]
  },
  {
   "cell_type": "code",
   "execution_count": 34,
   "id": "febd0bce",
   "metadata": {},
   "outputs": [
    {
     "name": "stdout",
     "output_type": "stream",
     "text": [
      "Writes the hail table: \n",
      "/gpfs/gibbs/pi/brueckner/yale_phil/gold_dnvs_comparison.ht\n",
      "\n",
      "Reads in the following hail table: \n",
      "/gpfs/gibbs/pi/brueckner/yale_phil/phil_jc/dnv_output/_filtered_lenient.ht\n",
      "\n",
      "Reads in the following hail table: \n",
      "/gpfs/gibbs/pi/brueckner/yale_phil/gold_standard_dnvs.ht\n",
      "\n",
      "----------------------------------------\n",
      "Global fields:\n",
      "    None\n",
      "----------------------------------------\n",
      "Row fields:\n",
      "    'sample_id': str \n",
      "    'identifier': str \n",
      "    'variant': str \n",
      "    'CHROM': str \n",
      "    'POS': int32 \n",
      "    'position': str \n",
      "    'REF': str \n",
      "    'ALT': str \n",
      "    'locus_37': locus<GRCh37> \n",
      "    'locus_liftover_38': locus<GRCh38> \n",
      "    'locus_38': locus<GRCh38> \n",
      "    'variant_in_my_calls_from_phil_dataset_38': str \n",
      "----------------------------------------\n",
      "Key: ['locus_38', 'locus_37']\n",
      "----------------------------------------\n"
     ]
    },
    {
     "name": "stderr",
     "output_type": "stream",
     "text": [
      "2022-01-10 04:17:06 Hail: INFO: Coerced sorted dataset\n",
      "2022-01-10 04:17:06 Hail: INFO: wrote table with 231 rows in 1 partition to /gpfs/gibbs/pi/brueckner/yale_phil/gold_dnvs_comparison.ht\n"
     ]
    }
   ],
   "source": [
    "# Annotate hail table keyed by locus field with whether that locus is present or absent in your DNV calls\n",
    "#my_yale_input = my_yale_dnv_ht\n",
    "#my_yale_input = yale_dnv_default_ht\n",
    "##############################################\n",
    "#my_ht_yale = hl.read_table(my_yale_input)\n",
    "#print('Reads in the following hail table: \\n' + my_yale_input + '\\n')\n",
    "#print('count of this dataframe:' + str(my_ht_yale.count()) + '\\n')\n",
    "#my_ht_yale = my_ht_yale.key_by(locus=my_ht_yale.locus) \n",
    "\n",
    "#my_phil_input = '/gpfs/gibbs/pi/brueckner/yale_phil/phil_jc/dnv_output/_filtered_min_child_ab=0.35_max_parent_ab=0.035.ht'\n",
    "my_phil_input = '/gpfs/gibbs/pi/brueckner/yale_phil/phil_jc/dnv_output/_filtered_lenient.ht'\n",
    "#my_phil_input = phil_dnv_default_ht\n",
    "\n",
    "ht_output = gold_dnvs_comparison_ht\n",
    "print('Writes the hail table: \\n' + ht_output + '\\n') \n",
    "##############################################\n",
    "my_ht_phil = hl.read_table(my_phil_input)\n",
    "print('Reads in the following hail table: \\n' + my_phil_input + '\\n')\n",
    "#print('count of this dataframe:' + str(my_ht_phil.count()) + '\\n')\n",
    "my_ht_phil = my_ht_phil.key_by(locus=my_ht_phil.locus)\n",
    "\n",
    "gold_ht_input = gold_dnvs_ht\n",
    "gold_ht = hl.read_table(gold_ht_input)\n",
    "print('Reads in the following hail table: \\n' + gold_ht_input + '\\n')\n",
    "#print('count of this dataframe:' + str(gold_ht.count()) + '\\n')\n",
    "\n",
    "ht = gold_ht.annotate(\n",
    "    #variant_in_my_calls_from_yale_dataset_37 = hl.if_else(hl.is_defined(my_ht_yale[gold_ht.locus_37]), 'yes', 'no'),\n",
    "    variant_in_my_calls_from_phil_dataset_38 = hl.if_else(hl.is_defined(my_ht_phil[gold_ht.locus_38]), 'yes', 'no')\n",
    ")\n",
    "\n",
    "ht.describe()\n",
    "ht.write(ht_output, overwrite = True)\n"
   ]
  },
  {
   "cell_type": "code",
   "execution_count": 35,
   "id": "2d04926e",
   "metadata": {},
   "outputs": [
    {
     "name": "stdout",
     "output_type": "stream",
     "text": [
      "Reads in the following hail table: \n",
      "/gpfs/gibbs/pi/brueckner/yale_phil/gold_dnvs_comparison.ht\n",
      "count of this dataframe:231\n",
      "\n",
      "count of variants not in the gold standard dataframe:10\n",
      "\n"
     ]
    },
    {
     "data": {
      "text/html": [
       "<table><thead><tr><td style=\"white-space: nowrap; max-width: 500px; overflow: hidden; text-overflow: ellipsis; \" colspan=\"1\"><div style=\"text-align: left;\"></div></td><td style=\"white-space: nowrap; max-width: 500px; overflow: hidden; text-overflow: ellipsis; \" colspan=\"1\"><div style=\"text-align: left;\"></div></td><td style=\"white-space: nowrap; max-width: 500px; overflow: hidden; text-overflow: ellipsis; \" colspan=\"1\"><div style=\"text-align: left;\"></div></td><td style=\"white-space: nowrap; max-width: 500px; overflow: hidden; text-overflow: ellipsis; \" colspan=\"1\"><div style=\"text-align: left;\"></div></td><td style=\"white-space: nowrap; max-width: 500px; overflow: hidden; text-overflow: ellipsis; \" colspan=\"1\"><div style=\"text-align: left;\"></div></td><td style=\"white-space: nowrap; max-width: 500px; overflow: hidden; text-overflow: ellipsis; \" colspan=\"1\"><div style=\"text-align: left;\"></div></td><td style=\"white-space: nowrap; max-width: 500px; overflow: hidden; text-overflow: ellipsis; \" colspan=\"1\"><div style=\"text-align: left;\"></div></td><td style=\"white-space: nowrap; max-width: 500px; overflow: hidden; text-overflow: ellipsis; \" colspan=\"1\"><div style=\"text-align: left;\"></div></td><td style=\"white-space: nowrap; max-width: 500px; overflow: hidden; text-overflow: ellipsis; \" colspan=\"1\"><div style=\"text-align: left;\"></div></td><td style=\"white-space: nowrap; max-width: 500px; overflow: hidden; text-overflow: ellipsis; \" colspan=\"1\"><div style=\"text-align: left;\"></div></td><td style=\"white-space: nowrap; max-width: 500px; overflow: hidden; text-overflow: ellipsis; \" colspan=\"1\"><div style=\"text-align: left;\"></div></td><td style=\"white-space: nowrap; max-width: 500px; overflow: hidden; text-overflow: ellipsis; \" colspan=\"1\"><div style=\"text-align: left;\"></div></td></tr><tr><td style=\"white-space: nowrap; max-width: 500px; overflow: hidden; text-overflow: ellipsis; \" colspan=\"1\"><div style=\"text-align: left;border-bottom: solid 2px #000; padding-bottom: 5px\">sample_id</div></td><td style=\"white-space: nowrap; max-width: 500px; overflow: hidden; text-overflow: ellipsis; \" colspan=\"1\"><div style=\"text-align: left;border-bottom: solid 2px #000; padding-bottom: 5px\">identifier</div></td><td style=\"white-space: nowrap; max-width: 500px; overflow: hidden; text-overflow: ellipsis; \" colspan=\"1\"><div style=\"text-align: left;border-bottom: solid 2px #000; padding-bottom: 5px\">variant</div></td><td style=\"white-space: nowrap; max-width: 500px; overflow: hidden; text-overflow: ellipsis; \" colspan=\"1\"><div style=\"text-align: left;border-bottom: solid 2px #000; padding-bottom: 5px\">CHROM</div></td><td style=\"white-space: nowrap; max-width: 500px; overflow: hidden; text-overflow: ellipsis; \" colspan=\"1\"><div style=\"text-align: left;border-bottom: solid 2px #000; padding-bottom: 5px\">POS</div></td><td style=\"white-space: nowrap; max-width: 500px; overflow: hidden; text-overflow: ellipsis; \" colspan=\"1\"><div style=\"text-align: left;border-bottom: solid 2px #000; padding-bottom: 5px\">position</div></td><td style=\"white-space: nowrap; max-width: 500px; overflow: hidden; text-overflow: ellipsis; \" colspan=\"1\"><div style=\"text-align: left;border-bottom: solid 2px #000; padding-bottom: 5px\">REF</div></td><td style=\"white-space: nowrap; max-width: 500px; overflow: hidden; text-overflow: ellipsis; \" colspan=\"1\"><div style=\"text-align: left;border-bottom: solid 2px #000; padding-bottom: 5px\">ALT</div></td><td style=\"white-space: nowrap; max-width: 500px; overflow: hidden; text-overflow: ellipsis; \" colspan=\"1\"><div style=\"text-align: left;border-bottom: solid 2px #000; padding-bottom: 5px\">locus_37</div></td><td style=\"white-space: nowrap; max-width: 500px; overflow: hidden; text-overflow: ellipsis; \" colspan=\"1\"><div style=\"text-align: left;border-bottom: solid 2px #000; padding-bottom: 5px\">locus_liftover_38</div></td><td style=\"white-space: nowrap; max-width: 500px; overflow: hidden; text-overflow: ellipsis; \" colspan=\"1\"><div style=\"text-align: left;border-bottom: solid 2px #000; padding-bottom: 5px\">locus_38</div></td><td style=\"white-space: nowrap; max-width: 500px; overflow: hidden; text-overflow: ellipsis; \" colspan=\"1\"><div style=\"text-align: left;border-bottom: solid 2px #000; padding-bottom: 5px\">variant_in_my_calls_from_phil_dataset_38</div></td></tr><tr><td style=\"white-space: nowrap; max-width: 500px; overflow: hidden; text-overflow: ellipsis; text-align: left;\">str</td><td style=\"white-space: nowrap; max-width: 500px; overflow: hidden; text-overflow: ellipsis; text-align: left;\">str</td><td style=\"white-space: nowrap; max-width: 500px; overflow: hidden; text-overflow: ellipsis; text-align: left;\">str</td><td style=\"white-space: nowrap; max-width: 500px; overflow: hidden; text-overflow: ellipsis; text-align: left;\">str</td><td style=\"white-space: nowrap; max-width: 500px; overflow: hidden; text-overflow: ellipsis; text-align: left;\">int32</td><td style=\"white-space: nowrap; max-width: 500px; overflow: hidden; text-overflow: ellipsis; text-align: left;\">str</td><td style=\"white-space: nowrap; max-width: 500px; overflow: hidden; text-overflow: ellipsis; text-align: left;\">str</td><td style=\"white-space: nowrap; max-width: 500px; overflow: hidden; text-overflow: ellipsis; text-align: left;\">str</td><td style=\"white-space: nowrap; max-width: 500px; overflow: hidden; text-overflow: ellipsis; text-align: left;\">locus&lt;GRCh37&gt;</td><td style=\"white-space: nowrap; max-width: 500px; overflow: hidden; text-overflow: ellipsis; text-align: left;\">locus&lt;GRCh38&gt;</td><td style=\"white-space: nowrap; max-width: 500px; overflow: hidden; text-overflow: ellipsis; text-align: left;\">locus&lt;GRCh38&gt;</td><td style=\"white-space: nowrap; max-width: 500px; overflow: hidden; text-overflow: ellipsis; text-align: left;\">str</td></tr>\n",
       "</thead><tbody><tr><td style=\"white-space: nowrap; max-width: 500px; overflow: hidden; text-overflow: ellipsis; \">&quot;1-04134&quot;</td><td style=\"white-space: nowrap; max-width: 500px; overflow: hidden; text-overflow: ellipsis; \">&quot;1-04134:1:206141465:AG:A&quot;</td><td style=\"white-space: nowrap; max-width: 500px; overflow: hidden; text-overflow: ellipsis; \">&quot;1:206141465:AG:A&quot;</td><td style=\"white-space: nowrap; max-width: 500px; overflow: hidden; text-overflow: ellipsis; \">&quot;1&quot;</td><td style=\"white-space: nowrap; max-width: 500px; overflow: hidden; text-overflow: ellipsis; \">206141465</td><td style=\"white-space: nowrap; max-width: 500px; overflow: hidden; text-overflow: ellipsis; \">&quot;1:206141465&quot;</td><td style=\"white-space: nowrap; max-width: 500px; overflow: hidden; text-overflow: ellipsis; \">&quot;AG&quot;</td><td style=\"white-space: nowrap; max-width: 500px; overflow: hidden; text-overflow: ellipsis; \">&quot;A&quot;</td><td style=\"white-space: nowrap; max-width: 500px; overflow: hidden; text-overflow: ellipsis; \">1:206141465</td><td style=\"white-space: nowrap; max-width: 500px; overflow: hidden; text-overflow: ellipsis; \">chr1:206199865</td><td style=\"white-space: nowrap; max-width: 500px; overflow: hidden; text-overflow: ellipsis; \">chr1:206199865</td><td style=\"white-space: nowrap; max-width: 500px; overflow: hidden; text-overflow: ellipsis; \">&quot;no&quot;</td></tr>\n",
       "<tr><td style=\"white-space: nowrap; max-width: 500px; overflow: hidden; text-overflow: ellipsis; \">&quot;1-04934&quot;</td><td style=\"white-space: nowrap; max-width: 500px; overflow: hidden; text-overflow: ellipsis; \">&quot;1-04934:7:7274103:A:C&quot;</td><td style=\"white-space: nowrap; max-width: 500px; overflow: hidden; text-overflow: ellipsis; \">&quot;7:7274103:A:C&quot;</td><td style=\"white-space: nowrap; max-width: 500px; overflow: hidden; text-overflow: ellipsis; \">&quot;7&quot;</td><td style=\"white-space: nowrap; max-width: 500px; overflow: hidden; text-overflow: ellipsis; \">7274103</td><td style=\"white-space: nowrap; max-width: 500px; overflow: hidden; text-overflow: ellipsis; \">&quot;7:7274103&quot;</td><td style=\"white-space: nowrap; max-width: 500px; overflow: hidden; text-overflow: ellipsis; \">&quot;A&quot;</td><td style=\"white-space: nowrap; max-width: 500px; overflow: hidden; text-overflow: ellipsis; \">&quot;C&quot;</td><td style=\"white-space: nowrap; max-width: 500px; overflow: hidden; text-overflow: ellipsis; \">7:7274103</td><td style=\"white-space: nowrap; max-width: 500px; overflow: hidden; text-overflow: ellipsis; \">chr7:7234472</td><td style=\"white-space: nowrap; max-width: 500px; overflow: hidden; text-overflow: ellipsis; \">chr7:7234472</td><td style=\"white-space: nowrap; max-width: 500px; overflow: hidden; text-overflow: ellipsis; \">&quot;no&quot;</td></tr>\n",
       "<tr><td style=\"white-space: nowrap; max-width: 500px; overflow: hidden; text-overflow: ellipsis; \">&quot;1-04863&quot;</td><td style=\"white-space: nowrap; max-width: 500px; overflow: hidden; text-overflow: ellipsis; \">&quot;1-04863:7:83590862:T:C&quot;</td><td style=\"white-space: nowrap; max-width: 500px; overflow: hidden; text-overflow: ellipsis; \">&quot;7:83590862:T:C&quot;</td><td style=\"white-space: nowrap; max-width: 500px; overflow: hidden; text-overflow: ellipsis; \">&quot;7&quot;</td><td style=\"white-space: nowrap; max-width: 500px; overflow: hidden; text-overflow: ellipsis; \">83590862</td><td style=\"white-space: nowrap; max-width: 500px; overflow: hidden; text-overflow: ellipsis; \">&quot;7:83590862&quot;</td><td style=\"white-space: nowrap; max-width: 500px; overflow: hidden; text-overflow: ellipsis; \">&quot;T&quot;</td><td style=\"white-space: nowrap; max-width: 500px; overflow: hidden; text-overflow: ellipsis; \">&quot;C&quot;</td><td style=\"white-space: nowrap; max-width: 500px; overflow: hidden; text-overflow: ellipsis; \">7:83590862</td><td style=\"white-space: nowrap; max-width: 500px; overflow: hidden; text-overflow: ellipsis; \">chr7:83961546</td><td style=\"white-space: nowrap; max-width: 500px; overflow: hidden; text-overflow: ellipsis; \">chr7:83961546</td><td style=\"white-space: nowrap; max-width: 500px; overflow: hidden; text-overflow: ellipsis; \">&quot;no&quot;</td></tr>\n",
       "<tr><td style=\"white-space: nowrap; max-width: 500px; overflow: hidden; text-overflow: ellipsis; \">&quot;1-02790&quot;</td><td style=\"white-space: nowrap; max-width: 500px; overflow: hidden; text-overflow: ellipsis; \">&quot;1-02790:11:5688930:G:A&quot;</td><td style=\"white-space: nowrap; max-width: 500px; overflow: hidden; text-overflow: ellipsis; \">&quot;11:5688930:G:A&quot;</td><td style=\"white-space: nowrap; max-width: 500px; overflow: hidden; text-overflow: ellipsis; \">&quot;11&quot;</td><td style=\"white-space: nowrap; max-width: 500px; overflow: hidden; text-overflow: ellipsis; \">5688930</td><td style=\"white-space: nowrap; max-width: 500px; overflow: hidden; text-overflow: ellipsis; \">&quot;11:5688930&quot;</td><td style=\"white-space: nowrap; max-width: 500px; overflow: hidden; text-overflow: ellipsis; \">&quot;G&quot;</td><td style=\"white-space: nowrap; max-width: 500px; overflow: hidden; text-overflow: ellipsis; \">&quot;A&quot;</td><td style=\"white-space: nowrap; max-width: 500px; overflow: hidden; text-overflow: ellipsis; \">11:5688930</td><td style=\"white-space: nowrap; max-width: 500px; overflow: hidden; text-overflow: ellipsis; \">chr11:5667700</td><td style=\"white-space: nowrap; max-width: 500px; overflow: hidden; text-overflow: ellipsis; \">chr11:5667700</td><td style=\"white-space: nowrap; max-width: 500px; overflow: hidden; text-overflow: ellipsis; \">&quot;no&quot;</td></tr>\n",
       "<tr><td style=\"white-space: nowrap; max-width: 500px; overflow: hidden; text-overflow: ellipsis; \">&quot;1-04863&quot;</td><td style=\"white-space: nowrap; max-width: 500px; overflow: hidden; text-overflow: ellipsis; \">&quot;1-04863:13:28844905:T:C&quot;</td><td style=\"white-space: nowrap; max-width: 500px; overflow: hidden; text-overflow: ellipsis; \">&quot;13:28844905:T:C&quot;</td><td style=\"white-space: nowrap; max-width: 500px; overflow: hidden; text-overflow: ellipsis; \">&quot;13&quot;</td><td style=\"white-space: nowrap; max-width: 500px; overflow: hidden; text-overflow: ellipsis; \">28844905</td><td style=\"white-space: nowrap; max-width: 500px; overflow: hidden; text-overflow: ellipsis; \">&quot;13:28844905&quot;</td><td style=\"white-space: nowrap; max-width: 500px; overflow: hidden; text-overflow: ellipsis; \">&quot;T&quot;</td><td style=\"white-space: nowrap; max-width: 500px; overflow: hidden; text-overflow: ellipsis; \">&quot;C&quot;</td><td style=\"white-space: nowrap; max-width: 500px; overflow: hidden; text-overflow: ellipsis; \">13:28844905</td><td style=\"white-space: nowrap; max-width: 500px; overflow: hidden; text-overflow: ellipsis; \">chr13:28270768</td><td style=\"white-space: nowrap; max-width: 500px; overflow: hidden; text-overflow: ellipsis; \">chr13:28270768</td><td style=\"white-space: nowrap; max-width: 500px; overflow: hidden; text-overflow: ellipsis; \">&quot;no&quot;</td></tr>\n",
       "<tr><td style=\"white-space: nowrap; max-width: 500px; overflow: hidden; text-overflow: ellipsis; \">&quot;1-05698&quot;</td><td style=\"white-space: nowrap; max-width: 500px; overflow: hidden; text-overflow: ellipsis; \">&quot;1-05698:15:34064173:T:C&quot;</td><td style=\"white-space: nowrap; max-width: 500px; overflow: hidden; text-overflow: ellipsis; \">&quot;15:34064173:T:C&quot;</td><td style=\"white-space: nowrap; max-width: 500px; overflow: hidden; text-overflow: ellipsis; \">&quot;15&quot;</td><td style=\"white-space: nowrap; max-width: 500px; overflow: hidden; text-overflow: ellipsis; \">34064173</td><td style=\"white-space: nowrap; max-width: 500px; overflow: hidden; text-overflow: ellipsis; \">&quot;15:34064173&quot;</td><td style=\"white-space: nowrap; max-width: 500px; overflow: hidden; text-overflow: ellipsis; \">&quot;T&quot;</td><td style=\"white-space: nowrap; max-width: 500px; overflow: hidden; text-overflow: ellipsis; \">&quot;C&quot;</td><td style=\"white-space: nowrap; max-width: 500px; overflow: hidden; text-overflow: ellipsis; \">15:34064173</td><td style=\"white-space: nowrap; max-width: 500px; overflow: hidden; text-overflow: ellipsis; \">chr15:33771972</td><td style=\"white-space: nowrap; max-width: 500px; overflow: hidden; text-overflow: ellipsis; \">chr15:33771972</td><td style=\"white-space: nowrap; max-width: 500px; overflow: hidden; text-overflow: ellipsis; \">&quot;no&quot;</td></tr>\n",
       "<tr><td style=\"white-space: nowrap; max-width: 500px; overflow: hidden; text-overflow: ellipsis; \">&quot;1-04863&quot;</td><td style=\"white-space: nowrap; max-width: 500px; overflow: hidden; text-overflow: ellipsis; \">&quot;1-04863:15:64449007:C:T&quot;</td><td style=\"white-space: nowrap; max-width: 500px; overflow: hidden; text-overflow: ellipsis; \">&quot;15:64449007:C:T&quot;</td><td style=\"white-space: nowrap; max-width: 500px; overflow: hidden; text-overflow: ellipsis; \">&quot;15&quot;</td><td style=\"white-space: nowrap; max-width: 500px; overflow: hidden; text-overflow: ellipsis; \">64449007</td><td style=\"white-space: nowrap; max-width: 500px; overflow: hidden; text-overflow: ellipsis; \">&quot;15:64449007&quot;</td><td style=\"white-space: nowrap; max-width: 500px; overflow: hidden; text-overflow: ellipsis; \">&quot;C&quot;</td><td style=\"white-space: nowrap; max-width: 500px; overflow: hidden; text-overflow: ellipsis; \">&quot;T&quot;</td><td style=\"white-space: nowrap; max-width: 500px; overflow: hidden; text-overflow: ellipsis; \">15:64449007</td><td style=\"white-space: nowrap; max-width: 500px; overflow: hidden; text-overflow: ellipsis; \">chr15:64156808</td><td style=\"white-space: nowrap; max-width: 500px; overflow: hidden; text-overflow: ellipsis; \">chr15:64156808</td><td style=\"white-space: nowrap; max-width: 500px; overflow: hidden; text-overflow: ellipsis; \">&quot;no&quot;</td></tr>\n",
       "<tr><td style=\"white-space: nowrap; max-width: 500px; overflow: hidden; text-overflow: ellipsis; \">&quot;1-05787&quot;</td><td style=\"white-space: nowrap; max-width: 500px; overflow: hidden; text-overflow: ellipsis; \">&quot;1-05787:16:30080933:TGAG:T&quot;</td><td style=\"white-space: nowrap; max-width: 500px; overflow: hidden; text-overflow: ellipsis; \">&quot;16:30080933:TGAG:T&quot;</td><td style=\"white-space: nowrap; max-width: 500px; overflow: hidden; text-overflow: ellipsis; \">&quot;16&quot;</td><td style=\"white-space: nowrap; max-width: 500px; overflow: hidden; text-overflow: ellipsis; \">30080933</td><td style=\"white-space: nowrap; max-width: 500px; overflow: hidden; text-overflow: ellipsis; \">&quot;16:30080933&quot;</td><td style=\"white-space: nowrap; max-width: 500px; overflow: hidden; text-overflow: ellipsis; \">&quot;TGAG&quot;</td><td style=\"white-space: nowrap; max-width: 500px; overflow: hidden; text-overflow: ellipsis; \">&quot;T&quot;</td><td style=\"white-space: nowrap; max-width: 500px; overflow: hidden; text-overflow: ellipsis; \">16:30080933</td><td style=\"white-space: nowrap; max-width: 500px; overflow: hidden; text-overflow: ellipsis; \">chr16:30069612</td><td style=\"white-space: nowrap; max-width: 500px; overflow: hidden; text-overflow: ellipsis; \">chr16:30069612</td><td style=\"white-space: nowrap; max-width: 500px; overflow: hidden; text-overflow: ellipsis; \">&quot;no&quot;</td></tr>\n",
       "<tr><td style=\"white-space: nowrap; max-width: 500px; overflow: hidden; text-overflow: ellipsis; \">&quot;1-04863&quot;</td><td style=\"white-space: nowrap; max-width: 500px; overflow: hidden; text-overflow: ellipsis; \">&quot;1-04863:20:58520019:G:T&quot;</td><td style=\"white-space: nowrap; max-width: 500px; overflow: hidden; text-overflow: ellipsis; \">&quot;20:58520019:G:T&quot;</td><td style=\"white-space: nowrap; max-width: 500px; overflow: hidden; text-overflow: ellipsis; \">&quot;20&quot;</td><td style=\"white-space: nowrap; max-width: 500px; overflow: hidden; text-overflow: ellipsis; \">58520019</td><td style=\"white-space: nowrap; max-width: 500px; overflow: hidden; text-overflow: ellipsis; \">&quot;20:58520019&quot;</td><td style=\"white-space: nowrap; max-width: 500px; overflow: hidden; text-overflow: ellipsis; \">&quot;G&quot;</td><td style=\"white-space: nowrap; max-width: 500px; overflow: hidden; text-overflow: ellipsis; \">&quot;T&quot;</td><td style=\"white-space: nowrap; max-width: 500px; overflow: hidden; text-overflow: ellipsis; \">20:58520019</td><td style=\"white-space: nowrap; max-width: 500px; overflow: hidden; text-overflow: ellipsis; \">chr20:59944964</td><td style=\"white-space: nowrap; max-width: 500px; overflow: hidden; text-overflow: ellipsis; \">chr20:59944964</td><td style=\"white-space: nowrap; max-width: 500px; overflow: hidden; text-overflow: ellipsis; \">&quot;no&quot;</td></tr>\n",
       "<tr><td style=\"white-space: nowrap; max-width: 500px; overflow: hidden; text-overflow: ellipsis; \">&quot;1-05348&quot;</td><td style=\"white-space: nowrap; max-width: 500px; overflow: hidden; text-overflow: ellipsis; \">&quot;1-05348:X:153941554:T:A&quot;</td><td style=\"white-space: nowrap; max-width: 500px; overflow: hidden; text-overflow: ellipsis; \">&quot;X:153941554:T:A&quot;</td><td style=\"white-space: nowrap; max-width: 500px; overflow: hidden; text-overflow: ellipsis; \">&quot;X&quot;</td><td style=\"white-space: nowrap; max-width: 500px; overflow: hidden; text-overflow: ellipsis; \">153941554</td><td style=\"white-space: nowrap; max-width: 500px; overflow: hidden; text-overflow: ellipsis; \">&quot;X:153941554&quot;</td><td style=\"white-space: nowrap; max-width: 500px; overflow: hidden; text-overflow: ellipsis; \">&quot;T&quot;</td><td style=\"white-space: nowrap; max-width: 500px; overflow: hidden; text-overflow: ellipsis; \">&quot;A&quot;</td><td style=\"white-space: nowrap; max-width: 500px; overflow: hidden; text-overflow: ellipsis; \">X:153941554</td><td style=\"white-space: nowrap; max-width: 500px; overflow: hidden; text-overflow: ellipsis; \">chrX:154713279</td><td style=\"white-space: nowrap; max-width: 500px; overflow: hidden; text-overflow: ellipsis; \">chrX:154713279</td><td style=\"white-space: nowrap; max-width: 500px; overflow: hidden; text-overflow: ellipsis; \">&quot;no&quot;</td></tr>\n",
       "</tbody></table>"
      ],
      "text/plain": [
       "+-----------+------------------------------+----------------------+-------+\n",
       "| sample_id | identifier                   | variant              | CHROM |\n",
       "+-----------+------------------------------+----------------------+-------+\n",
       "| str       | str                          | str                  | str   |\n",
       "+-----------+------------------------------+----------------------+-------+\n",
       "| \"1-04134\" | \"1-04134:1:206141465:AG:A\"   | \"1:206141465:AG:A\"   | \"1\"   |\n",
       "| \"1-04934\" | \"1-04934:7:7274103:A:C\"      | \"7:7274103:A:C\"      | \"7\"   |\n",
       "| \"1-04863\" | \"1-04863:7:83590862:T:C\"     | \"7:83590862:T:C\"     | \"7\"   |\n",
       "| \"1-02790\" | \"1-02790:11:5688930:G:A\"     | \"11:5688930:G:A\"     | \"11\"  |\n",
       "| \"1-04863\" | \"1-04863:13:28844905:T:C\"    | \"13:28844905:T:C\"    | \"13\"  |\n",
       "| \"1-05698\" | \"1-05698:15:34064173:T:C\"    | \"15:34064173:T:C\"    | \"15\"  |\n",
       "| \"1-04863\" | \"1-04863:15:64449007:C:T\"    | \"15:64449007:C:T\"    | \"15\"  |\n",
       "| \"1-05787\" | \"1-05787:16:30080933:TGAG:T\" | \"16:30080933:TGAG:T\" | \"16\"  |\n",
       "| \"1-04863\" | \"1-04863:20:58520019:G:T\"    | \"20:58520019:G:T\"    | \"20\"  |\n",
       "| \"1-05348\" | \"1-05348:X:153941554:T:A\"    | \"X:153941554:T:A\"    | \"X\"   |\n",
       "+-----------+------------------------------+----------------------+-------+\n",
       "\n",
       "+-----------+---------------+--------+-----+---------------+-------------------+\n",
       "|       POS | position      | REF    | ALT | locus_37      | locus_liftover_38 |\n",
       "+-----------+---------------+--------+-----+---------------+-------------------+\n",
       "|     int32 | str           | str    | str | locus<GRCh37> | locus<GRCh38>     |\n",
       "+-----------+---------------+--------+-----+---------------+-------------------+\n",
       "| 206141465 | \"1:206141465\" | \"AG\"   | \"A\" | 1:206141465   | chr1:206199865    |\n",
       "|   7274103 | \"7:7274103\"   | \"A\"    | \"C\" | 7:7274103     | chr7:7234472      |\n",
       "|  83590862 | \"7:83590862\"  | \"T\"    | \"C\" | 7:83590862    | chr7:83961546     |\n",
       "|   5688930 | \"11:5688930\"  | \"G\"    | \"A\" | 11:5688930    | chr11:5667700     |\n",
       "|  28844905 | \"13:28844905\" | \"T\"    | \"C\" | 13:28844905   | chr13:28270768    |\n",
       "|  34064173 | \"15:34064173\" | \"T\"    | \"C\" | 15:34064173   | chr15:33771972    |\n",
       "|  64449007 | \"15:64449007\" | \"C\"    | \"T\" | 15:64449007   | chr15:64156808    |\n",
       "|  30080933 | \"16:30080933\" | \"TGAG\" | \"T\" | 16:30080933   | chr16:30069612    |\n",
       "|  58520019 | \"20:58520019\" | \"G\"    | \"T\" | 20:58520019   | chr20:59944964    |\n",
       "| 153941554 | \"X:153941554\" | \"T\"    | \"A\" | X:153941554   | chrX:154713279    |\n",
       "+-----------+---------------+--------+-----+---------------+-------------------+\n",
       "\n",
       "+----------------+------------------------------------------+\n",
       "| locus_38       | variant_in_my_calls_from_phil_dataset_38 |\n",
       "+----------------+------------------------------------------+\n",
       "| locus<GRCh38>  | str                                      |\n",
       "+----------------+------------------------------------------+\n",
       "| chr1:206199865 | \"no\"                                     |\n",
       "| chr7:7234472   | \"no\"                                     |\n",
       "| chr7:83961546  | \"no\"                                     |\n",
       "| chr11:5667700  | \"no\"                                     |\n",
       "| chr13:28270768 | \"no\"                                     |\n",
       "| chr15:33771972 | \"no\"                                     |\n",
       "| chr15:64156808 | \"no\"                                     |\n",
       "| chr16:30069612 | \"no\"                                     |\n",
       "| chr20:59944964 | \"no\"                                     |\n",
       "| chrX:154713279 | \"no\"                                     |\n",
       "+----------------+------------------------------------------+"
      ]
     },
     "metadata": {},
     "output_type": "display_data"
    }
   ],
   "source": [
    "ht_input = gold_dnvs_comparison_ht\n",
    "ht = hl.read_table(ht_input)\n",
    "print('Reads in the following hail table: \\n' + ht_input)\n",
    "print('count of this dataframe:' + str(ht.count()) + '\\n')\n",
    "\n",
    "#ht = ht.filter((ht.variant_in_my_calls_from_yale_dataset_37 == 'no') |(ht.variant_in_my_calls_from_phil_dataset_38 == 'no') ,\n",
    "#               keep=True)\n",
    "\n",
    "ht = ht.filter((ht.variant_in_my_calls_from_phil_dataset_38 == 'no') ,\n",
    "               keep=True)\n",
    "\n",
    "\n",
    "#ht = ht.filter(ht.variant_in_my_calls == 'yes', keep=False)\n",
    "print('count of variants not in the gold standard dataframe:' + str(ht.count()) + '\\n')\n",
    "\n",
    "#ht.describe()\n",
    "ht.show(28)\n",
    "\n",
    "#hl_to_txt(ht, \"/gpfs/gibbs/pi/brueckner/yale_phil/scratch/dnv_comparison.txt\")"
   ]
  },
  {
   "cell_type": "markdown",
   "id": "2d140ba4",
   "metadata": {},
   "source": [
    "# DNV per family "
   ]
  },
  {
   "cell_type": "code",
   "execution_count": 48,
   "id": "89af155a",
   "metadata": {},
   "outputs": [
    {
     "name": "stdout",
     "output_type": "stream",
     "text": [
      "Reads in the following hail table: \n",
      "/gpfs/gibbs/pi/brueckner/yale_phil/phil_jc/dnv_output/_filtered_lenient.ht\n",
      "\n",
      "count of this dataframe:1393\n",
      "\n",
      "Writes out the following tsv: \n",
      "/gpfs/gibbs/pi/brueckner/yale_phil/phil_jc/dnv_output/dnv_count_per_sample.tsv\n",
      "\n"
     ]
    },
    {
     "data": {
      "text/html": [
       "<div>\n",
       "<style scoped>\n",
       "    .dataframe tbody tr th:only-of-type {\n",
       "        vertical-align: middle;\n",
       "    }\n",
       "\n",
       "    .dataframe tbody tr th {\n",
       "        vertical-align: top;\n",
       "    }\n",
       "\n",
       "    .dataframe thead th {\n",
       "        text-align: right;\n",
       "    }\n",
       "</style>\n",
       "<table border=\"1\" class=\"dataframe\">\n",
       "  <thead>\n",
       "    <tr style=\"text-align: right;\">\n",
       "      <th></th>\n",
       "      <th>sample_id</th>\n",
       "      <th>dnv_count</th>\n",
       "    </tr>\n",
       "  </thead>\n",
       "  <tbody>\n",
       "    <tr>\n",
       "      <th>0</th>\n",
       "      <td>1-00008</td>\n",
       "      <td>1</td>\n",
       "    </tr>\n",
       "    <tr>\n",
       "      <th>1</th>\n",
       "      <td>1-00042</td>\n",
       "      <td>1</td>\n",
       "    </tr>\n",
       "    <tr>\n",
       "      <th>2</th>\n",
       "      <td>1-00082</td>\n",
       "      <td>2</td>\n",
       "    </tr>\n",
       "    <tr>\n",
       "      <th>3</th>\n",
       "      <td>1-00226</td>\n",
       "      <td>10</td>\n",
       "    </tr>\n",
       "    <tr>\n",
       "      <th>4</th>\n",
       "      <td>1-00249</td>\n",
       "      <td>6</td>\n",
       "    </tr>\n",
       "    <tr>\n",
       "      <th>...</th>\n",
       "      <td>...</td>\n",
       "      <td>...</td>\n",
       "    </tr>\n",
       "    <tr>\n",
       "      <th>185</th>\n",
       "      <td>1-11800</td>\n",
       "      <td>7</td>\n",
       "    </tr>\n",
       "    <tr>\n",
       "      <th>186</th>\n",
       "      <td>1-12248</td>\n",
       "      <td>2</td>\n",
       "    </tr>\n",
       "    <tr>\n",
       "      <th>187</th>\n",
       "      <td>1-12717</td>\n",
       "      <td>4</td>\n",
       "    </tr>\n",
       "    <tr>\n",
       "      <th>188</th>\n",
       "      <td>1-13653</td>\n",
       "      <td>6</td>\n",
       "    </tr>\n",
       "    <tr>\n",
       "      <th>189</th>\n",
       "      <td>1-14121</td>\n",
       "      <td>5</td>\n",
       "    </tr>\n",
       "  </tbody>\n",
       "</table>\n",
       "<p>190 rows × 2 columns</p>\n",
       "</div>"
      ],
      "text/plain": [
       "    sample_id  dnv_count\n",
       "0     1-00008          1\n",
       "1     1-00042          1\n",
       "2     1-00082          2\n",
       "3     1-00226         10\n",
       "4     1-00249          6\n",
       "..        ...        ...\n",
       "185   1-11800          7\n",
       "186   1-12248          2\n",
       "187   1-12717          4\n",
       "188   1-13653          6\n",
       "189   1-14121          5\n",
       "\n",
       "[190 rows x 2 columns]"
      ]
     },
     "execution_count": 48,
     "metadata": {},
     "output_type": "execute_result"
    }
   ],
   "source": [
    "#dnv_outdir = '/gpfs/gibbs/pi/brueckner/yale_phil/yale/v2/b38/dnv_output/'\n",
    "#dnv_outdir = '/gpfs/gibbs/pi/brueckner/yale_phil/phil/v2/dnv_output/'\n",
    "\n",
    "#ht_input = dnv_ht\n",
    "\n",
    "ht_input = '/gpfs/gibbs/pi/brueckner/yale_phil/phil_jc/dnv_output/_filtered_lenient.ht'\n",
    "#ht_input = dnv_yale\n",
    "#ht_input = dnv_phil\n",
    "\n",
    "ht = hl.read_table(ht_input)\n",
    "print('Reads in the following hail table: \\n' + ht_input + '\\n')\n",
    "print('count of this dataframe:' + str(ht.count()) + '\\n')\n",
    "\n",
    "##########################################################################################################\n",
    "# filter to dnvs of interest\n",
    "'''\n",
    "# Remove low confidence DNV calls  \n",
    "ht = ht.filter(ht.confidence == \"LOW\", keep=False)\n",
    "print('count of the dataframe after filtering LOW confidence calls:' + str(ht.count()) + '\\n')\n",
    "\n",
    "# DP Filtering \n",
    "ht = ht.filter(ht.proband_entry.DP >= 10, keep=True)\n",
    "ht = ht.filter(ht.father_entry.DP >= 10, keep=True)       \n",
    "ht = ht.filter(ht.mother_entry.DP >= 10, keep=True)   \n",
    "print('count of the dataframe after also filtering on DP:' + str(ht.count()) + '\\n')\n",
    "\n",
    "# AF filtering\n",
    "ht = ht.filter(ht.gnomad_AF > 0.0004, keep=False)\n",
    "print('count of the dataframe after also filtering on gnomad_AF:' + str(ht.count()) + '\\n')\n",
    "\n",
    "# Retain only SNV calls \n",
    "#ht = ht.filter(ht.variant_class == \"SNV\", keep=True)\n",
    "#print('count of the dataframe after keeping only SNVs:' + str(ht.count()) + '\\n')\n",
    "\n",
    "# Retain only calls in coding regions \n",
    "\n",
    "consequences = hl.set(['splice_acceptor_variant', \n",
    "                       'splice_donor_variant', \n",
    "                       'stop_gained', \n",
    "                       'stop_lost', \n",
    "                       'missense_variant', \n",
    "                       'frameshift_variant', \n",
    "                       'start_lost'])\n",
    "\n",
    "#print('Count of the input dataframe before filtering:' + str(mt.count()) + '\\n')\n",
    "# major VEP consequence filtering \n",
    "ht = ht.filter(consequences.contains(ht.major_consequence), keep = True)\n",
    "print('Count of the dataframe after also filtering by VEP consequence' + str(ht.count()) + '\\n')\n",
    "'''\n",
    "##########################################################################################################\n",
    "#user changes these \n",
    "tsv_output = dnv_count_per_sample_tsv\n",
    "print('Writes out the following tsv: \\n' + tsv_output + '\\n')\n",
    "\n",
    "# get dnv count per sample\n",
    "agg_id = ht.aggregate(hl.agg.counter(ht.id))\n",
    "my_dict = agg_id\n",
    "\n",
    "# convert dictionary to pandas dataframe \n",
    "df = pd.DataFrame(list(my_dict.items()),columns = ['sample_id','dnv_count']) \n",
    "\n",
    "# pandas dataframe to tsv\n",
    "df.to_csv(tsv_output, sep='\\t', header=True, index=False)\n",
    "\n",
    "df"
   ]
  },
  {
   "cell_type": "code",
   "execution_count": 49,
   "id": "d16ccfa8",
   "metadata": {},
   "outputs": [
    {
     "name": "stdout",
     "output_type": "stream",
     "text": [
      "Reads in the following tsv as a hail table: \n",
      "/gpfs/gibbs/pi/brueckner/yale_phil/phil_jc/dnv_output/dnv_count_per_sample.tsv\n",
      "\n",
      "Writes the hail table: \n",
      "/gpfs/gibbs/pi/brueckner/yale_phil/phil_jc/dnv_output/dnv_count_per_sample.ht\n",
      "\n"
     ]
    },
    {
     "name": "stderr",
     "output_type": "stream",
     "text": [
      "2022-01-10 09:47:00 Hail: INFO: Reading table to impute column types\n",
      "2022-01-10 09:47:00 Hail: INFO: Finished type imputation\n",
      "  Loading field 'sample_id' as type str (imputed)\n",
      "  Loading field 'dnv_count' as type int32 (imputed)\n",
      "2022-01-10 09:47:00 Hail: INFO: Coerced sorted dataset\n",
      "2022-01-10 09:47:00 Hail: INFO: wrote table with 190 rows in 1 partition to /gpfs/gibbs/pi/brueckner/yale_phil/phil_jc/dnv_output/dnv_count_per_sample.ht\n"
     ]
    }
   ],
   "source": [
    "# formatted tsv to hail table \n",
    "\n",
    "tsv_input = dnv_count_per_sample_tsv\n",
    "print('Reads in the following tsv as a hail table: \\n' + tsv_input + '\\n')\n",
    "\n",
    "ht_output = dnv_count_per_sample_ht\n",
    "print('Writes the hail table: \\n' + ht_output + '\\n')\n",
    "\n",
    "#ht = hl.import_table(tsv_input, impute=True).key_by('sample_id')\n",
    "ht = hl.import_table(tsv_input, impute=True).key_by('sample_id')\n",
    "\n",
    "#ht.describe()\n",
    "ht.write(ht_output, overwrite = True)"
   ]
  },
  {
   "cell_type": "code",
   "execution_count": 50,
   "id": "469f5a45",
   "metadata": {},
   "outputs": [
    {
     "name": "stdout",
     "output_type": "stream",
     "text": [
      "Reads in the following matrix table: \n",
      "/gpfs/gibbs/pi/brueckner/yale_phil/phil_jc/vep_r1.mt\n",
      "\n",
      "count of the input dataframe: (2913341, 597)\n",
      "\n",
      "Reads in the following hail table: \n",
      "/gpfs/gibbs/pi/brueckner/yale_phil/phil_jc/dnv_output/dnv_count_per_sample.ht\n",
      "\n",
      "Writes the hail table: \n",
      "/gpfs/gibbs/pi/brueckner/yale_phil/phil_jc/dnv_output/final_dnv_count_per_sample.ht\n",
      "\n"
     ]
    },
    {
     "name": "stderr",
     "output_type": "stream",
     "text": [
      "2022-01-10 09:47:01 Hail: INFO: Coerced sorted dataset\n",
      "2022-01-10 09:47:01 Hail: INFO: wrote table with 597 rows in 16 partitions to /gpfs/gibbs/pi/brueckner/yale_phil/phil_jc/dnv_output/final_dnv_count_per_sample.ht\n",
      "2022-01-10 09:47:01 Hail: INFO: Coerced sorted dataset\n"
     ]
    },
    {
     "data": {
      "text/html": [
       "<table><thead><tr><td style=\"white-space: nowrap; max-width: 500px; overflow: hidden; text-overflow: ellipsis; \" colspan=\"1\"><div style=\"text-align: left;\"></div></td><td style=\"white-space: nowrap; max-width: 500px; overflow: hidden; text-overflow: ellipsis; \" colspan=\"1\"><div style=\"text-align: left;\"></div></td></tr><tr><td style=\"white-space: nowrap; max-width: 500px; overflow: hidden; text-overflow: ellipsis; \" colspan=\"1\"><div style=\"text-align: left;border-bottom: solid 2px #000; padding-bottom: 5px\">s</div></td><td style=\"white-space: nowrap; max-width: 500px; overflow: hidden; text-overflow: ellipsis; \" colspan=\"1\"><div style=\"text-align: left;border-bottom: solid 2px #000; padding-bottom: 5px\">dnv_count</div></td></tr><tr><td style=\"white-space: nowrap; max-width: 500px; overflow: hidden; text-overflow: ellipsis; text-align: left;\">str</td><td style=\"white-space: nowrap; max-width: 500px; overflow: hidden; text-overflow: ellipsis; text-align: left;\">int32</td></tr>\n",
       "</thead><tbody><tr><td style=\"white-space: nowrap; max-width: 500px; overflow: hidden; text-overflow: ellipsis; \">&quot;1-00008&quot;</td><td style=\"white-space: nowrap; max-width: 500px; overflow: hidden; text-overflow: ellipsis; \">1</td></tr>\n",
       "<tr><td style=\"white-space: nowrap; max-width: 500px; overflow: hidden; text-overflow: ellipsis; \">&quot;1-00008-01&quot;</td><td style=\"white-space: nowrap; max-width: 500px; overflow: hidden; text-overflow: ellipsis; \">0</td></tr>\n",
       "<tr><td style=\"white-space: nowrap; max-width: 500px; overflow: hidden; text-overflow: ellipsis; \">&quot;1-00008-02&quot;</td><td style=\"white-space: nowrap; max-width: 500px; overflow: hidden; text-overflow: ellipsis; \">0</td></tr>\n",
       "<tr><td style=\"white-space: nowrap; max-width: 500px; overflow: hidden; text-overflow: ellipsis; \">&quot;1-00042&quot;</td><td style=\"white-space: nowrap; max-width: 500px; overflow: hidden; text-overflow: ellipsis; \">1</td></tr>\n",
       "<tr><td style=\"white-space: nowrap; max-width: 500px; overflow: hidden; text-overflow: ellipsis; \">&quot;1-00042-01&quot;</td><td style=\"white-space: nowrap; max-width: 500px; overflow: hidden; text-overflow: ellipsis; \">0</td></tr>\n",
       "<tr><td style=\"white-space: nowrap; max-width: 500px; overflow: hidden; text-overflow: ellipsis; \">&quot;1-00042-02&quot;</td><td style=\"white-space: nowrap; max-width: 500px; overflow: hidden; text-overflow: ellipsis; \">0</td></tr>\n",
       "<tr><td style=\"white-space: nowrap; max-width: 500px; overflow: hidden; text-overflow: ellipsis; \">&quot;1-00082&quot;</td><td style=\"white-space: nowrap; max-width: 500px; overflow: hidden; text-overflow: ellipsis; \">2</td></tr>\n",
       "<tr><td style=\"white-space: nowrap; max-width: 500px; overflow: hidden; text-overflow: ellipsis; \">&quot;1-00082-01&quot;</td><td style=\"white-space: nowrap; max-width: 500px; overflow: hidden; text-overflow: ellipsis; \">0</td></tr>\n",
       "<tr><td style=\"white-space: nowrap; max-width: 500px; overflow: hidden; text-overflow: ellipsis; \">&quot;1-00082-02&quot;</td><td style=\"white-space: nowrap; max-width: 500px; overflow: hidden; text-overflow: ellipsis; \">0</td></tr>\n",
       "<tr><td style=\"white-space: nowrap; max-width: 500px; overflow: hidden; text-overflow: ellipsis; \">&quot;1-00226&quot;</td><td style=\"white-space: nowrap; max-width: 500px; overflow: hidden; text-overflow: ellipsis; \">10</td></tr>\n",
       "</tbody></table><p style=\"background: #fdd; padding: 0.4em;\">showing top 10 rows</p>\n"
      ],
      "text/plain": [
       "+--------------+-----------+\n",
       "| s            | dnv_count |\n",
       "+--------------+-----------+\n",
       "| str          |     int32 |\n",
       "+--------------+-----------+\n",
       "| \"1-00008\"    |         1 |\n",
       "| \"1-00008-01\" |         0 |\n",
       "| \"1-00008-02\" |         0 |\n",
       "| \"1-00042\"    |         1 |\n",
       "| \"1-00042-01\" |         0 |\n",
       "| \"1-00042-02\" |         0 |\n",
       "| \"1-00082\"    |         2 |\n",
       "| \"1-00082-01\" |         0 |\n",
       "| \"1-00082-02\" |         0 |\n",
       "| \"1-00226\"    |        10 |\n",
       "+--------------+-----------+\n",
       "showing top 10 rows"
      ]
     },
     "metadata": {},
     "output_type": "display_data"
    }
   ],
   "source": [
    "# get final count of dnv per sample \n",
    "\n",
    "mt_input = vep_r1_mt\n",
    "mt = hl.read_matrix_table(mt_input)\n",
    "print('Reads in the following matrix table: \\n' + mt_input + '\\n')\n",
    "print('count of the input dataframe: ' + str(mt.count()) + '\\n')\n",
    "\n",
    "ht_input = dnv_count_per_sample_ht\n",
    "ht_1 = hl.read_table(ht_input)\n",
    "print('Reads in the following hail table: \\n' + ht_input + '\\n')\n",
    "#print('count of this dataframe:' + str(ht_1.count()) + '\\n')\n",
    "\n",
    "ht_output = final_dnv_count_per_sample_ht\n",
    "print('Writes the hail table: \\n' + ht_output + '\\n')\n",
    "\n",
    "ht = mt.cols()\n",
    "ht = ht.key_by(ht.s)\n",
    "ht = ht.distinct()\n",
    "ht = ht.annotate(dnv_count = ht_1[ht.s].dnv_count)\n",
    "ht = ht.annotate(dnv_count = hl.coalesce(ht.dnv_count, 0))\n",
    "\n",
    "#ht.describe()\n",
    "#print(ht.count())\n",
    "\n",
    "ht.write(ht_output, overwrite = True)\n",
    "\n",
    "ht.show()"
   ]
  },
  {
   "cell_type": "code",
   "execution_count": 51,
   "id": "registered-civilization",
   "metadata": {},
   "outputs": [
    {
     "data": {
      "text/plain": [
       "\"\\ntsv_input = proband_tsv\\nprint('Reads in the following tsv as a hail table: \\n' + tsv_input + '\\n')\\n\\nht_output = proband_ht\\nprint('Writes the hail table: \\n' + ht_output + '\\n')\\n\\n#ht = hl.import_table(tsv_input, impute=True).key_by('sample_id')\\nht = hl.import_table(tsv_input, impute=True).key_by('sample_id')\\nht.describe()\\n\\nht.write(ht_output, overwrite = True)\\n\""
      ]
     },
     "execution_count": 51,
     "metadata": {},
     "output_type": "execute_result"
    }
   ],
   "source": [
    "# get dnv count per proband by removing non-probands (part 1)\n",
    "#input list of probands as tsv and convert to ht \n",
    "# (only need to do once since you'll have the hail table forever after writing)\n",
    "'''\n",
    "tsv_input = proband_tsv\n",
    "print('Reads in the following tsv as a hail table: \\n' + tsv_input + '\\n')\n",
    "\n",
    "ht_output = proband_ht\n",
    "print('Writes the hail table: \\n' + ht_output + '\\n')\n",
    "\n",
    "#ht = hl.import_table(tsv_input, impute=True).key_by('sample_id')\n",
    "ht = hl.import_table(tsv_input, impute=True).key_by('sample_id')\n",
    "ht.describe()\n",
    "\n",
    "ht.write(ht_output, overwrite = True)\n",
    "'''"
   ]
  },
  {
   "cell_type": "code",
   "execution_count": 52,
   "id": "c0bd125a",
   "metadata": {},
   "outputs": [
    {
     "name": "stdout",
     "output_type": "stream",
     "text": [
      "Reads in the following hail table: \n",
      "/gpfs/gibbs/pi/brueckner/yale_phil/phil_jc/dnv_output/final_dnv_count_per_sample.ht\n",
      "\n",
      "Writes the hail table: \n",
      "/gpfs/gibbs/pi/brueckner/yale_phil/phil_jc/dnv_output/final_dnv_count_per_proband.ht\n",
      "\n",
      "199\n"
     ]
    },
    {
     "name": "stderr",
     "output_type": "stream",
     "text": [
      "2022-01-10 09:47:05 Hail: INFO: wrote table with 199 rows in 16 partitions to /gpfs/gibbs/pi/brueckner/yale_phil/phil_jc/dnv_output/final_dnv_count_per_proband.ht\n"
     ]
    }
   ],
   "source": [
    "# get dnv count per proband by removing non-probands (part 2)\n",
    "# annotate with probands and filter \n",
    "ht_input = final_dnv_count_per_sample_ht\n",
    "ht = hl.read_table(ht_input)\n",
    "print('Reads in the following hail table: \\n' + ht_input + '\\n')\n",
    "#print('count of this dataframe:' + str(ht.count()) + '\\n')\n",
    "\n",
    "ht_output = final_dnv_count_per_proband_ht\n",
    "print('Writes the hail table: \\n' + ht_output + '\\n')\n",
    "\n",
    "ht_1 = hl.read_table(proband_ht)\n",
    "#print('count of this dataframe:' + str(ht_1.count()) + '\\n')\n",
    "\n",
    "ht = ht.annotate(is_proband = ht_1[ht.s].is_proband)\n",
    "ht = ht.filter(ht.is_proband == 'yes', keep=True)\n",
    "print(ht.count())\n",
    "\n",
    "ht.write(ht_output, overwrite = True)"
   ]
  },
  {
   "cell_type": "markdown",
   "id": "297b4adb",
   "metadata": {},
   "source": [
    "### Plotting DNV per family"
   ]
  },
  {
   "cell_type": "code",
   "execution_count": 54,
   "id": "361881a0",
   "metadata": {},
   "outputs": [
    {
     "name": "stdout",
     "output_type": "stream",
     "text": [
      "Reads in the following hail table: \n",
      "/gpfs/gibbs/pi/brueckner/yale_phil/phil_jc/dnv_output/final_dnv_count_per_proband.ht\n",
      "\n"
     ]
    },
    {
     "data": {
      "text/html": [
       "<table><thead><tr><td style=\"white-space: nowrap; max-width: 500px; overflow: hidden; text-overflow: ellipsis; \" colspan=\"1\"><div style=\"text-align: left;\"></div></td><td style=\"white-space: nowrap; max-width: 500px; overflow: hidden; text-overflow: ellipsis; \" colspan=\"1\"><div style=\"text-align: left;\"></div></td><td style=\"white-space: nowrap; max-width: 500px; overflow: hidden; text-overflow: ellipsis; \" colspan=\"1\"><div style=\"text-align: left;\"></div></td></tr><tr><td style=\"white-space: nowrap; max-width: 500px; overflow: hidden; text-overflow: ellipsis; \" colspan=\"1\"><div style=\"text-align: left;border-bottom: solid 2px #000; padding-bottom: 5px\">s</div></td><td style=\"white-space: nowrap; max-width: 500px; overflow: hidden; text-overflow: ellipsis; \" colspan=\"1\"><div style=\"text-align: left;border-bottom: solid 2px #000; padding-bottom: 5px\">dnv_count</div></td><td style=\"white-space: nowrap; max-width: 500px; overflow: hidden; text-overflow: ellipsis; \" colspan=\"1\"><div style=\"text-align: left;border-bottom: solid 2px #000; padding-bottom: 5px\">is_proband</div></td></tr><tr><td style=\"white-space: nowrap; max-width: 500px; overflow: hidden; text-overflow: ellipsis; text-align: left;\">str</td><td style=\"white-space: nowrap; max-width: 500px; overflow: hidden; text-overflow: ellipsis; text-align: left;\">int32</td><td style=\"white-space: nowrap; max-width: 500px; overflow: hidden; text-overflow: ellipsis; text-align: left;\">str</td></tr>\n",
       "</thead><tbody><tr><td style=\"white-space: nowrap; max-width: 500px; overflow: hidden; text-overflow: ellipsis; \">&quot;1-00008&quot;</td><td style=\"white-space: nowrap; max-width: 500px; overflow: hidden; text-overflow: ellipsis; \">1</td><td style=\"white-space: nowrap; max-width: 500px; overflow: hidden; text-overflow: ellipsis; \">&quot;yes&quot;</td></tr>\n",
       "<tr><td style=\"white-space: nowrap; max-width: 500px; overflow: hidden; text-overflow: ellipsis; \">&quot;1-00042&quot;</td><td style=\"white-space: nowrap; max-width: 500px; overflow: hidden; text-overflow: ellipsis; \">1</td><td style=\"white-space: nowrap; max-width: 500px; overflow: hidden; text-overflow: ellipsis; \">&quot;yes&quot;</td></tr>\n",
       "<tr><td style=\"white-space: nowrap; max-width: 500px; overflow: hidden; text-overflow: ellipsis; \">&quot;1-00082&quot;</td><td style=\"white-space: nowrap; max-width: 500px; overflow: hidden; text-overflow: ellipsis; \">2</td><td style=\"white-space: nowrap; max-width: 500px; overflow: hidden; text-overflow: ellipsis; \">&quot;yes&quot;</td></tr>\n",
       "<tr><td style=\"white-space: nowrap; max-width: 500px; overflow: hidden; text-overflow: ellipsis; \">&quot;1-00226&quot;</td><td style=\"white-space: nowrap; max-width: 500px; overflow: hidden; text-overflow: ellipsis; \">10</td><td style=\"white-space: nowrap; max-width: 500px; overflow: hidden; text-overflow: ellipsis; \">&quot;yes&quot;</td></tr>\n",
       "<tr><td style=\"white-space: nowrap; max-width: 500px; overflow: hidden; text-overflow: ellipsis; \">&quot;1-00249&quot;</td><td style=\"white-space: nowrap; max-width: 500px; overflow: hidden; text-overflow: ellipsis; \">6</td><td style=\"white-space: nowrap; max-width: 500px; overflow: hidden; text-overflow: ellipsis; \">&quot;yes&quot;</td></tr>\n",
       "<tr><td style=\"white-space: nowrap; max-width: 500px; overflow: hidden; text-overflow: ellipsis; \">&quot;1-00262&quot;</td><td style=\"white-space: nowrap; max-width: 500px; overflow: hidden; text-overflow: ellipsis; \">6</td><td style=\"white-space: nowrap; max-width: 500px; overflow: hidden; text-overflow: ellipsis; \">&quot;yes&quot;</td></tr>\n",
       "<tr><td style=\"white-space: nowrap; max-width: 500px; overflow: hidden; text-overflow: ellipsis; \">&quot;1-00390&quot;</td><td style=\"white-space: nowrap; max-width: 500px; overflow: hidden; text-overflow: ellipsis; \">11</td><td style=\"white-space: nowrap; max-width: 500px; overflow: hidden; text-overflow: ellipsis; \">&quot;yes&quot;</td></tr>\n",
       "<tr><td style=\"white-space: nowrap; max-width: 500px; overflow: hidden; text-overflow: ellipsis; \">&quot;1-00448&quot;</td><td style=\"white-space: nowrap; max-width: 500px; overflow: hidden; text-overflow: ellipsis; \">8</td><td style=\"white-space: nowrap; max-width: 500px; overflow: hidden; text-overflow: ellipsis; \">&quot;yes&quot;</td></tr>\n",
       "<tr><td style=\"white-space: nowrap; max-width: 500px; overflow: hidden; text-overflow: ellipsis; \">&quot;1-00453&quot;</td><td style=\"white-space: nowrap; max-width: 500px; overflow: hidden; text-overflow: ellipsis; \">7</td><td style=\"white-space: nowrap; max-width: 500px; overflow: hidden; text-overflow: ellipsis; \">&quot;yes&quot;</td></tr>\n",
       "<tr><td style=\"white-space: nowrap; max-width: 500px; overflow: hidden; text-overflow: ellipsis; \">&quot;1-00459&quot;</td><td style=\"white-space: nowrap; max-width: 500px; overflow: hidden; text-overflow: ellipsis; \">4</td><td style=\"white-space: nowrap; max-width: 500px; overflow: hidden; text-overflow: ellipsis; \">&quot;yes&quot;</td></tr>\n",
       "</tbody></table><p style=\"background: #fdd; padding: 0.4em;\">showing top 10 rows</p>\n"
      ],
      "text/plain": [
       "+-----------+-----------+------------+\n",
       "| s         | dnv_count | is_proband |\n",
       "+-----------+-----------+------------+\n",
       "| str       |     int32 | str        |\n",
       "+-----------+-----------+------------+\n",
       "| \"1-00008\" |         1 | \"yes\"      |\n",
       "| \"1-00042\" |         1 | \"yes\"      |\n",
       "| \"1-00082\" |         2 | \"yes\"      |\n",
       "| \"1-00226\" |        10 | \"yes\"      |\n",
       "| \"1-00249\" |         6 | \"yes\"      |\n",
       "| \"1-00262\" |         6 | \"yes\"      |\n",
       "| \"1-00390\" |        11 | \"yes\"      |\n",
       "| \"1-00448\" |         8 | \"yes\"      |\n",
       "| \"1-00453\" |         7 | \"yes\"      |\n",
       "| \"1-00459\" |         4 | \"yes\"      |\n",
       "+-----------+-----------+------------+\n",
       "showing top 10 rows"
      ]
     },
     "metadata": {},
     "output_type": "display_data"
    },
    {
     "data": {
      "text/html": [
       "\n",
       "\n",
       "\n",
       "\n",
       "\n",
       "\n",
       "  <div class=\"bk-root\" id=\"3ad15d72-e523-4a19-a9b1-334bc8c3d089\" data-root-id=\"1425\"></div>\n"
      ]
     },
     "metadata": {},
     "output_type": "display_data"
    },
    {
     "data": {
      "application/javascript": [
       "(function(root) {\n",
       "  function embed_document(root) {\n",
       "    \n",
       "  var docs_json = {\"f05e39b8-a437-46fd-884f-8ca1b91deffc\":{\"roots\":{\"references\":[{\"attributes\":{\"background_fill_color\":{\"value\":\"white\"},\"below\":[{\"id\":\"1436\",\"type\":\"LinearAxis\"}],\"center\":[{\"id\":\"1440\",\"type\":\"Grid\"},{\"id\":\"1445\",\"type\":\"Grid\"},{\"id\":\"1470\",\"type\":\"Legend\"}],\"left\":[{\"id\":\"1441\",\"type\":\"LinearAxis\"}],\"outline_line_width\":{\"value\":0},\"renderers\":[{\"id\":\"1462\",\"type\":\"GlyphRenderer\"},{\"id\":\"1475\",\"type\":\"GlyphRenderer\"}],\"title\":{\"id\":\"1426\",\"type\":\"Title\"},\"toolbar\":{\"id\":\"1452\",\"type\":\"Toolbar\"},\"x_range\":{\"id\":\"1428\",\"type\":\"Range1d\"},\"x_scale\":{\"id\":\"1432\",\"type\":\"LinearScale\"},\"y_range\":{\"id\":\"1430\",\"type\":\"DataRange1d\"},\"y_scale\":{\"id\":\"1434\",\"type\":\"LinearScale\"}},\"id\":\"1425\",\"subtype\":\"Figure\",\"type\":\"Plot\"},{\"attributes\":{},\"id\":\"1451\",\"type\":\"HelpTool\"},{\"attributes\":{\"data_source\":{\"id\":\"1459\",\"type\":\"ColumnDataSource\"},\"glyph\":{\"id\":\"1460\",\"type\":\"Quad\"},\"hover_glyph\":null,\"muted_glyph\":null,\"nonselection_glyph\":{\"id\":\"1461\",\"type\":\"Quad\"},\"selection_glyph\":null,\"view\":{\"id\":\"1463\",\"type\":\"CDSView\"}},\"id\":\"1462\",\"type\":\"GlyphRenderer\"},{\"attributes\":{\"axis_label\":\"Number of families\",\"axis_label_text_color\":{\"value\":\"black\"},\"axis_label_text_font_size\":{\"value\":\"19px\"},\"axis_label_text_font_style\":\"normal\",\"formatter\":{\"id\":\"1465\",\"type\":\"BasicTickFormatter\"},\"ticker\":{\"id\":\"1442\",\"type\":\"BasicTicker\"}},\"id\":\"1441\",\"type\":\"LinearAxis\"},{\"attributes\":{\"border_line_width\":{\"value\":0},\"items\":[{\"id\":\"1471\",\"type\":\"LegendItem\"},{\"id\":\"1485\",\"type\":\"LegendItem\"}],\"label_height\":0,\"label_width\":0},\"id\":\"1470\",\"type\":\"Legend\"},{\"attributes\":{},\"id\":\"1434\",\"type\":\"LinearScale\"},{\"attributes\":{\"active_drag\":\"auto\",\"active_inspect\":\"auto\",\"active_multi\":null,\"active_scroll\":\"auto\",\"active_tap\":\"auto\",\"tools\":[{\"id\":\"1446\",\"type\":\"PanTool\"},{\"id\":\"1447\",\"type\":\"WheelZoomTool\"},{\"id\":\"1448\",\"type\":\"BoxZoomTool\"},{\"id\":\"1449\",\"type\":\"SaveTool\"},{\"id\":\"1450\",\"type\":\"ResetTool\"},{\"id\":\"1451\",\"type\":\"HelpTool\"}]},\"id\":\"1452\",\"type\":\"Toolbar\"},{\"attributes\":{},\"id\":\"1432\",\"type\":\"LinearScale\"},{\"attributes\":{},\"id\":\"1450\",\"type\":\"ResetTool\"},{\"attributes\":{},\"id\":\"1446\",\"type\":\"PanTool\"},{\"attributes\":{\"bottom\":{\"value\":0},\"fill_color\":{\"value\":\"#1f77b4\"},\"left\":{\"field\":\"left\"},\"right\":{\"field\":\"right\"},\"top\":{\"field\":\"top\"}},\"id\":\"1460\",\"type\":\"Quad\"},{\"attributes\":{\"source\":{\"id\":\"1459\",\"type\":\"ColumnDataSource\"}},\"id\":\"1463\",\"type\":\"CDSView\"},{\"attributes\":{\"bottom\":{\"value\":0},\"fill_alpha\":{\"value\":0.1},\"fill_color\":{\"value\":\"#1f77b4\"},\"left\":{\"value\":7.0},\"line_alpha\":{\"value\":0.1},\"line_color\":{\"value\":\"#1f77b4\"},\"right\":{\"value\":7.466666666666667},\"top\":{\"value\":39}},\"id\":\"1474\",\"type\":\"Quad\"},{\"attributes\":{},\"id\":\"1484\",\"type\":\"UnionRenderers\"},{\"attributes\":{},\"id\":\"1467\",\"type\":\"BasicTickFormatter\"},{\"attributes\":{\"grid_line_color\":null,\"ticker\":{\"id\":\"1437\",\"type\":\"BasicTicker\"}},\"id\":\"1440\",\"type\":\"Grid\"},{\"attributes\":{},\"id\":\"1483\",\"type\":\"Selection\"},{\"attributes\":{\"callback\":null,\"end\":8,\"start\":0},\"id\":\"1428\",\"type\":\"Range1d\"},{\"attributes\":{\"bottom_units\":\"screen\",\"fill_alpha\":{\"value\":0.5},\"fill_color\":{\"value\":\"lightgrey\"},\"left_units\":\"screen\",\"level\":\"overlay\",\"line_alpha\":{\"value\":1.0},\"line_color\":{\"value\":\"black\"},\"line_dash\":[4,4],\"line_width\":{\"value\":2},\"render_mode\":\"css\",\"right_units\":\"screen\",\"top_units\":\"screen\"},\"id\":\"1469\",\"type\":\"BoxAnnotation\"},{\"attributes\":{},\"id\":\"1437\",\"type\":\"BasicTicker\"},{\"attributes\":{\"callback\":null,\"end\":75,\"start\":0},\"id\":\"1430\",\"type\":\"DataRange1d\"},{\"attributes\":{\"callback\":null,\"data\":{},\"selected\":{\"id\":\"1524\",\"type\":\"Selection\"},\"selection_policy\":{\"id\":\"1525\",\"type\":\"UnionRenderers\"}},\"id\":\"1472\",\"type\":\"ColumnDataSource\"},{\"attributes\":{},\"id\":\"1447\",\"type\":\"WheelZoomTool\"},{\"attributes\":{},\"id\":\"1449\",\"type\":\"SaveTool\"},{\"attributes\":{\"data_source\":{\"id\":\"1472\",\"type\":\"ColumnDataSource\"},\"glyph\":{\"id\":\"1473\",\"type\":\"Quad\"},\"hover_glyph\":null,\"muted_glyph\":null,\"nonselection_glyph\":{\"id\":\"1474\",\"type\":\"Quad\"},\"selection_glyph\":null,\"view\":{\"id\":\"1476\",\"type\":\"CDSView\"}},\"id\":\"1475\",\"type\":\"GlyphRenderer\"},{\"attributes\":{},\"id\":\"1525\",\"type\":\"UnionRenderers\"},{\"attributes\":{},\"id\":\"1524\",\"type\":\"Selection\"},{\"attributes\":{\"source\":{\"id\":\"1472\",\"type\":\"ColumnDataSource\"}},\"id\":\"1476\",\"type\":\"CDSView\"},{\"attributes\":{},\"id\":\"1442\",\"type\":\"BasicTicker\"},{\"attributes\":{\"label\":{\"value\":\"Outliers Above\"},\"renderers\":[{\"id\":\"1475\",\"type\":\"GlyphRenderer\"}]},\"id\":\"1485\",\"type\":\"LegendItem\"},{\"attributes\":{\"overlay\":{\"id\":\"1469\",\"type\":\"BoxAnnotation\"}},\"id\":\"1448\",\"type\":\"BoxZoomTool\"},{\"attributes\":{\"bottom\":{\"value\":0},\"fill_color\":{\"value\":\"green\"},\"left\":{\"value\":7.0},\"right\":{\"value\":7.466666666666667},\"top\":{\"value\":39}},\"id\":\"1473\",\"type\":\"Quad\"},{\"attributes\":{\"align\":\"center\",\"text\":\"Distribution of filtered DNVs per proband (ACC Jointcalling)\",\"text_color\":{\"value\":\"black\"},\"text_font_size\":{\"value\":\"20px\"}},\"id\":\"1426\",\"type\":\"Title\"},{\"attributes\":{\"dimension\":1,\"grid_line_color\":null,\"ticker\":{\"id\":\"1442\",\"type\":\"BasicTicker\"}},\"id\":\"1445\",\"type\":\"Grid\"},{\"attributes\":{\"bottom\":{\"value\":0},\"fill_alpha\":{\"value\":0.1},\"fill_color\":{\"value\":\"#1f77b4\"},\"left\":{\"field\":\"left\"},\"line_alpha\":{\"value\":0.1},\"line_color\":{\"value\":\"#1f77b4\"},\"right\":{\"field\":\"right\"},\"top\":{\"field\":\"top\"}},\"id\":\"1461\",\"type\":\"Quad\"},{\"attributes\":{},\"id\":\"1465\",\"type\":\"BasicTickFormatter\"},{\"attributes\":{\"callback\":null,\"data\":{\"left\":[0.0,0.4666666666666667,0.9333333333333333,1.4,1.8666666666666667,2.3333333333333335,2.8,3.2666666666666666,3.7333333333333334,4.2,4.666666666666667,5.133333333333334,5.6,6.066666666666666,6.533333333333333],\"right\":[0.4666666666666667,0.9333333333333333,1.4,1.8666666666666667,2.3333333333333335,2.8,3.2666666666666666,3.7333333333333334,4.2,4.666666666666667,5.133333333333334,5.6,6.066666666666666,6.533333333333333,7.0],\"top\":[9,0,19,0,20,0,22,0,33,0,20,0,23,0,14]},\"selected\":{\"id\":\"1483\",\"type\":\"Selection\"},\"selection_policy\":{\"id\":\"1484\",\"type\":\"UnionRenderers\"}},\"id\":\"1459\",\"type\":\"ColumnDataSource\"},{\"attributes\":{\"label\":{\"value\":\"\"},\"renderers\":[{\"id\":\"1462\",\"type\":\"GlyphRenderer\"}]},\"id\":\"1471\",\"type\":\"LegendItem\"},{\"attributes\":{\"axis_label\":\"DNV Count\",\"axis_label_text_color\":{\"value\":\"black\"},\"axis_label_text_font_size\":{\"value\":\"19px\"},\"axis_label_text_font_style\":\"normal\",\"formatter\":{\"id\":\"1467\",\"type\":\"BasicTickFormatter\"},\"ticker\":{\"id\":\"1437\",\"type\":\"BasicTicker\"}},\"id\":\"1436\",\"type\":\"LinearAxis\"}],\"root_ids\":[\"1425\"]},\"title\":\"Bokeh Application\",\"version\":\"1.4.0\"}};\n",
       "  var render_items = [{\"docid\":\"f05e39b8-a437-46fd-884f-8ca1b91deffc\",\"roots\":{\"1425\":\"3ad15d72-e523-4a19-a9b1-334bc8c3d089\"}}];\n",
       "  root.Bokeh.embed.embed_items_notebook(docs_json, render_items);\n",
       "\n",
       "  }\n",
       "  if (root.Bokeh !== undefined) {\n",
       "    embed_document(root);\n",
       "  } else {\n",
       "    var attempts = 0;\n",
       "    var timer = setInterval(function(root) {\n",
       "      if (root.Bokeh !== undefined) {\n",
       "        clearInterval(timer);\n",
       "        embed_document(root);\n",
       "      } else {\n",
       "        attempts++;\n",
       "        if (attempts > 100) {\n",
       "          clearInterval(timer);\n",
       "          console.log(\"Bokeh: ERROR: Unable to run BokehJS code because BokehJS library is missing\");\n",
       "        }\n",
       "      }\n",
       "    }, 10, root)\n",
       "  }\n",
       "})(window);"
      ],
      "application/vnd.bokehjs_exec.v0+json": ""
     },
     "metadata": {
      "application/vnd.bokehjs_exec.v0+json": {
       "id": "1425"
      }
     },
     "output_type": "display_data"
    }
   ],
   "source": [
    "# dnv per family \n",
    "\n",
    "ht_input = final_dnv_count_per_proband_ht\n",
    "print('Reads in the following hail table: \\n' + ht_input + '\\n')\n",
    "ht = hl.read_table(ht_input)\n",
    "\n",
    "ht.show()\n",
    "\n",
    "dnv_count_plot = hl.plot.histogram(ht.dnv_count, \n",
    "                                 range =(0,7), \n",
    "                                 bins = 15, \n",
    "                                 title ='Distribution of filtered DNVs per proband (ACC Jointcalling)', \n",
    "                                 legend='')\n",
    "\n",
    "\n",
    "fig = dnv_count_plot\n",
    "fig.xaxis.axis_label = 'DNV Count'\n",
    "fig.yaxis.axis_label = 'Number of families'\n",
    "\n",
    "fig.y_range.start = 0\n",
    "fig.y_range.end = 75\n",
    "fig.x_range.start = 0\n",
    "fig.x_range.end = 8\n",
    "\n",
    "fig.title.align = \"center\"\n",
    "fig.title.text_color = \"black\"\n",
    "fig.title.text_font_size = \"20px\"\n",
    "\n",
    "fig.background_fill_color = \"white\"\n",
    "\n",
    "fig.xgrid.grid_line_color = None\n",
    "fig.ygrid.grid_line_color = None\n",
    "\n",
    "fig.xaxis.axis_label_text_font_size = \"19px\"\n",
    "fig.xaxis.axis_label_text_color = \"black\"\n",
    "fig.xaxis.axis_label_text_font_style = \"normal\"\n",
    "\n",
    "fig.yaxis.axis_label_text_font_size = \"19px\"\n",
    "fig.yaxis.axis_label_text_color = \"black\"\n",
    "fig.yaxis.axis_label_text_font_style = \"normal\"\n",
    "\n",
    "fig.outline_line_width = 0\n",
    "fig.legend.border_line_width = 0\n",
    "fig.legend.label_width= 0\n",
    "fig.legend.label_height= 0\n",
    "# fig.legend.location = \"top_left\"\n",
    "fig.legend.visible = True\n",
    "\n",
    "# cutoff = Span(location=80,dimension='height', line_color='red',line_dash='dashed', line_width=3)\n",
    "# fig.add_layout(cutoff)\n",
    "\n",
    "\n",
    "#citation_1 = Label(x=78, y=100.05,\n",
    "#                 text=' Cutoff ', render_mode='css', text_color = 'red',\n",
    "#                 border_line_color='white', border_line_alpha=0,\n",
    "#                 background_fill_color='white', background_fill_alpha=1)\n",
    "\n",
    "#fig.add_layout(citation_1)\n",
    "\n",
    "\n",
    "\n",
    "hl.plot.show(fig)"
   ]
  },
  {
   "cell_type": "markdown",
   "id": "cf86a0bc",
   "metadata": {},
   "source": [
    "# Annotate with TiTv and Plot"
   ]
  },
  {
   "cell_type": "code",
   "execution_count": 20,
   "id": "078fa528",
   "metadata": {
    "collapsed": true
   },
   "outputs": [
    {
     "name": "stdout",
     "output_type": "stream",
     "text": [
      "Reads in the following matrix table: \n",
      "/gpfs/gibbs/pi/brueckner/yale_phil/phil/v2/vep_r1.mt\n",
      "\n",
      "Writes out to the following matrix table: \n",
      "/gpfs/gibbs/pi/brueckner/yale_phil/phil/v2/vep_r1c1.mt\n",
      "\n"
     ]
    },
    {
     "name": "stderr",
     "output_type": "stream",
     "text": [
      "2021-12-02 14:28:44 Hail: INFO: wrote matrix table with 2910132 rows and 597 columns in 53 partitions to /gpfs/gibbs/pi/brueckner/yale_phil/phil/v2/vep_r1c1.mt\n"
     ]
    }
   ],
   "source": [
    "# Annotate with TiTv, n_snps, etc \n",
    "\n",
    "mt_input = vep_r1_mt\n",
    "mt_output = vep_r1c1_mt\n",
    "\n",
    "print('Reads in the following matrix table: \\n' + mt_input + '\\n')\n",
    "mt = hl.read_matrix_table(mt_input)\n",
    "\n",
    "mt = hl.sample_qc(mt, name='sample_qc')\n",
    "\n",
    "print('Writes out to the following matrix table: \\n' + mt_output + '\\n')\n",
    "mt.write(mt_output, overwrite = True)"
   ]
  },
  {
   "cell_type": "code",
   "execution_count": 42,
   "id": "1f43a4e2",
   "metadata": {},
   "outputs": [
    {
     "name": "stdout",
     "output_type": "stream",
     "text": [
      "Reads in the following matrix table: \n",
      "/gpfs/gibbs/pi/brueckner/yale_phil/phil/v2/vep_r1c1.mt\n",
      "\n"
     ]
    },
    {
     "name": "stderr",
     "output_type": "stream",
     "text": [
      "2021-12-02 17:52:50 Hail: INFO: Coerced sorted dataset\n",
      "2021-12-02 17:52:53 Hail: INFO: merging 16 files totalling 12.2K...15 + 1) / 16]\n",
      "2021-12-02 17:52:53 Hail: INFO: while writing:\n",
      "    /gpfs/gibbs/pi/brueckner/yale_phil/scratch/titv.txt\n",
      "  merge time: 57.655ms\n"
     ]
    }
   ],
   "source": [
    "# export tsv of r_ti_tv \n",
    "mt_input = vep_r1c1_mt # input must have been hl.sample_qc() already \n",
    "\n",
    "print('Reads in the following matrix table: \\n' + mt_input + '\\n')\n",
    "mt = hl.read_matrix_table(mt_input)\n",
    "#mt.describe()\n",
    "\n",
    "ht = mt.cols()\n",
    "ht = ht.key_by(ht.s)\n",
    "ht = ht.select(ht.sample_qc.r_ti_tv)\n",
    "\n",
    "#ht.describe()\n",
    "#ht.sample_qc.r_ti_tv.show()\n",
    "\n",
    "\n",
    "ht.export('/gpfs/gibbs/pi/brueckner/yale_phil/scratch/titv.txt')"
   ]
  },
  {
   "cell_type": "code",
   "execution_count": 53,
   "id": "995026dd",
   "metadata": {},
   "outputs": [
    {
     "name": "stdout",
     "output_type": "stream",
     "text": [
      "Reads in the following matrix table: \n",
      "/gpfs/gibbs/pi/brueckner/ken_rotation/output/wes14/split_intervals.mt\n",
      "\n",
      "(641599, 1119)\n"
     ]
    },
    {
     "data": {
      "text/html": [
       "\n",
       "\n",
       "\n",
       "\n",
       "\n",
       "\n",
       "  <div class=\"bk-root\" id=\"4875745d-cb6c-408b-bb25-3a6819fc3034\" data-root-id=\"14861\"></div>\n"
      ]
     },
     "metadata": {},
     "output_type": "display_data"
    },
    {
     "data": {
      "application/javascript": [
       "(function(root) {\n",
       "  function embed_document(root) {\n",
       "    \n",
       "  const docs_json = {\"d6f74028-7eb4-4e0b-bccd-a7be40d1bc28\":{\"defs\":[],\"roots\":{\"references\":[{\"attributes\":{\"background_fill_color\":\"white\",\"below\":[{\"id\":\"14872\"}],\"center\":[{\"id\":\"14875\"},{\"id\":\"14879\"},{\"id\":\"14910\"}],\"left\":[{\"id\":\"14876\"}],\"outline_line_color\":\"white\",\"outline_line_width\":0,\"renderers\":[{\"id\":\"14898\"}],\"title\":{\"id\":\"14862\"},\"toolbar\":{\"id\":\"14887\"},\"x_range\":{\"id\":\"14864\"},\"x_scale\":{\"id\":\"14868\"},\"y_range\":{\"id\":\"14866\"},\"y_scale\":{\"id\":\"14870\"}},\"id\":\"14861\",\"subtype\":\"Figure\",\"type\":\"Plot\"},{\"attributes\":{},\"id\":\"14877\",\"type\":\"BasicTicker\"},{\"attributes\":{\"axis_label\":\"Number of samples\",\"axis_label_text_color\":\"black\",\"axis_label_text_font_size\":\"17px\",\"axis_label_text_font_style\":\"normal\",\"coordinates\":null,\"formatter\":{\"id\":\"14902\"},\"group\":null,\"major_label_policy\":{\"id\":\"14903\"},\"ticker\":{\"id\":\"14877\"}},\"id\":\"14876\",\"type\":\"LinearAxis\"},{\"attributes\":{\"bottom_units\":\"screen\",\"coordinates\":null,\"fill_alpha\":0.5,\"fill_color\":\"lightgrey\",\"group\":null,\"left_units\":\"screen\",\"level\":\"overlay\",\"line_alpha\":1.0,\"line_color\":\"black\",\"line_dash\":[4,4],\"line_width\":2,\"right_units\":\"screen\",\"syncable\":false,\"top_units\":\"screen\"},\"id\":\"14886\",\"type\":\"BoxAnnotation\"},{\"attributes\":{\"bottom\":{\"value\":0},\"fill_alpha\":{\"value\":0.2},\"fill_color\":{\"value\":\"#1f77b4\"},\"hatch_alpha\":{\"value\":0.2},\"left\":{\"field\":\"left\"},\"line_alpha\":{\"value\":0.2},\"right\":{\"field\":\"right\"},\"top\":{\"field\":\"top\"}},\"id\":\"14897\",\"type\":\"Quad\"},{\"attributes\":{\"coordinates\":null,\"data_source\":{\"id\":\"14894\"},\"glyph\":{\"id\":\"14895\"},\"group\":null,\"hover_glyph\":null,\"muted_glyph\":{\"id\":\"14897\"},\"nonselection_glyph\":{\"id\":\"14896\"},\"view\":{\"id\":\"14899\"}},\"id\":\"14898\",\"type\":\"GlyphRenderer\"},{\"attributes\":{\"bottom\":{\"value\":0},\"fill_color\":{\"value\":\"#1f77b4\"},\"left\":{\"field\":\"left\"},\"right\":{\"field\":\"right\"},\"top\":{\"field\":\"top\"}},\"id\":\"14895\",\"type\":\"Quad\"},{\"attributes\":{\"border_line_width\":0,\"coordinates\":null,\"group\":null,\"items\":[{\"id\":\"14911\"}],\"label_height\":0,\"label_width\":0,\"visible\":false},\"id\":\"14910\",\"type\":\"Legend\"},{\"attributes\":{\"align\":\"center\",\"coordinates\":null,\"group\":null,\"text\":\"Distribution of TiTv (WES14)\",\"text_color\":\"black\",\"text_font_size\":\"20px\"},\"id\":\"14862\",\"type\":\"Title\"},{\"attributes\":{},\"id\":\"14906\",\"type\":\"AllLabels\"},{\"attributes\":{},\"id\":\"14870\",\"type\":\"LinearScale\"},{\"attributes\":{},\"id\":\"14902\",\"type\":\"BasicTickFormatter\"},{\"attributes\":{},\"id\":\"14885\",\"type\":\"HelpTool\"},{\"attributes\":{},\"id\":\"14873\",\"type\":\"BasicTicker\"},{\"attributes\":{},\"id\":\"14907\",\"type\":\"UnionRenderers\"},{\"attributes\":{},\"id\":\"14908\",\"type\":\"Selection\"},{\"attributes\":{\"end\":3.15,\"start\":2.0500000000000003},\"id\":\"14864\",\"type\":\"Range1d\"},{\"attributes\":{},\"id\":\"14883\",\"type\":\"SaveTool\"},{\"attributes\":{\"end\":70,\"start\":0},\"id\":\"14866\",\"type\":\"DataRange1d\"},{\"attributes\":{},\"id\":\"14905\",\"type\":\"BasicTickFormatter\"},{\"attributes\":{},\"id\":\"14881\",\"type\":\"WheelZoomTool\"},{\"attributes\":{\"source\":{\"id\":\"14894\"}},\"id\":\"14899\",\"type\":\"CDSView\"},{\"attributes\":{},\"id\":\"14903\",\"type\":\"AllLabels\"},{\"attributes\":{},\"id\":\"14868\",\"type\":\"LinearScale\"},{\"attributes\":{\"data\":{\"left\":[2.1,2.11,2.12,2.13,2.14,2.15,2.16,2.17,2.18,2.19,2.2,2.21,2.22,2.23,2.24,2.25,2.2600000000000002,2.27,2.2800000000000002,2.29,2.3000000000000003,2.31,2.3200000000000003,2.33,2.34,2.35,2.3600000000000003,2.37,2.38,2.39,2.4,2.41,2.42,2.43,2.44,2.45,2.46,2.47,2.48,2.49,2.5,2.5100000000000002,2.52,2.5300000000000002,2.54,2.5500000000000003,2.56,2.5700000000000003,2.58,2.59,2.6,2.6100000000000003,2.62,2.63,2.64,2.6500000000000004,2.66,2.67,2.68,2.69,2.7,2.71,2.72,2.73,2.74,2.75,2.7600000000000002,2.77,2.7800000000000002,2.79,2.8000000000000003,2.81,2.8200000000000003,2.83,2.84,2.85,2.8600000000000003,2.87,2.88,2.89,2.9000000000000004,2.91,2.92,2.93,2.94,2.95,2.96,2.97,2.98,2.99,3.0,3.0100000000000002,3.02,3.0300000000000002,3.04,3.0500000000000003,3.06,3.0700000000000003,3.08,3.09],\"right\":[2.11,2.12,2.13,2.14,2.15,2.16,2.17,2.18,2.19,2.2,2.21,2.22,2.23,2.24,2.25,2.2600000000000002,2.27,2.2800000000000002,2.29,2.3000000000000003,2.31,2.3200000000000003,2.33,2.34,2.35,2.3600000000000003,2.37,2.38,2.39,2.4,2.41,2.42,2.43,2.44,2.45,2.46,2.47,2.48,2.49,2.5,2.5100000000000002,2.52,2.5300000000000002,2.54,2.5500000000000003,2.56,2.5700000000000003,2.58,2.59,2.6,2.6100000000000003,2.62,2.63,2.64,2.6500000000000004,2.66,2.67,2.68,2.69,2.7,2.71,2.72,2.73,2.74,2.75,2.7600000000000002,2.77,2.7800000000000002,2.79,2.8000000000000003,2.81,2.8200000000000003,2.83,2.84,2.85,2.8600000000000003,2.87,2.88,2.89,2.9000000000000004,2.91,2.92,2.93,2.94,2.95,2.96,2.97,2.98,2.99,3.0,3.0100000000000002,3.02,3.0300000000000002,3.04,3.0500000000000003,3.06,3.0700000000000003,3.08,3.09,3.1],\"top\":[0,0,0,0,0,0,0,0,0,0,0,0,0,0,0,0,0,0,0,0,0,0,0,0,0,0,0,0,0,0,0,0,0,0,0,0,0,0,0,0,0,0,0,0,0,0,0,0,0,0,0,0,0,0,0,0,0,0,0,1,1,0,1,4,3,8,11,19,22,44,63,80,100,99,128,128,106,87,80,58,31,20,14,2,7,1,0,1,0,0,0,0,0,0,0,0,0,0,0,0]},\"selected\":{\"id\":\"14908\"},\"selection_policy\":{\"id\":\"14907\"}},\"id\":\"14894\",\"type\":\"ColumnDataSource\"},{\"attributes\":{\"tools\":[{\"id\":\"14880\"},{\"id\":\"14881\"},{\"id\":\"14882\"},{\"id\":\"14883\"},{\"id\":\"14884\"},{\"id\":\"14885\"}]},\"id\":\"14887\",\"type\":\"Toolbar\"},{\"attributes\":{},\"id\":\"14884\",\"type\":\"ResetTool\"},{\"attributes\":{\"axis_label\":\"Transition/Transversion Ratio\",\"axis_label_text_color\":\"black\",\"axis_label_text_font_size\":\"17px\",\"axis_label_text_font_style\":\"normal\",\"coordinates\":null,\"formatter\":{\"id\":\"14905\"},\"group\":null,\"major_label_policy\":{\"id\":\"14906\"},\"ticker\":{\"id\":\"14873\"}},\"id\":\"14872\",\"type\":\"LinearAxis\"},{\"attributes\":{\"bottom\":{\"value\":0},\"fill_alpha\":{\"value\":0.1},\"fill_color\":{\"value\":\"#1f77b4\"},\"hatch_alpha\":{\"value\":0.1},\"left\":{\"field\":\"left\"},\"line_alpha\":{\"value\":0.1},\"right\":{\"field\":\"right\"},\"top\":{\"field\":\"top\"}},\"id\":\"14896\",\"type\":\"Quad\"},{\"attributes\":{\"label\":{\"value\":\"\"},\"renderers\":[{\"id\":\"14898\"}]},\"id\":\"14911\",\"type\":\"LegendItem\"},{\"attributes\":{\"axis\":{\"id\":\"14872\"},\"coordinates\":null,\"grid_line_color\":null,\"group\":null,\"ticker\":null},\"id\":\"14875\",\"type\":\"Grid\"},{\"attributes\":{\"overlay\":{\"id\":\"14886\"}},\"id\":\"14882\",\"type\":\"BoxZoomTool\"},{\"attributes\":{},\"id\":\"14880\",\"type\":\"PanTool\"},{\"attributes\":{\"axis\":{\"id\":\"14876\"},\"coordinates\":null,\"dimension\":1,\"grid_line_color\":null,\"group\":null,\"ticker\":null},\"id\":\"14879\",\"type\":\"Grid\"}],\"root_ids\":[\"14861\"]},\"title\":\"Bokeh Application\",\"version\":\"2.4.2\"}};\n",
       "  const render_items = [{\"docid\":\"d6f74028-7eb4-4e0b-bccd-a7be40d1bc28\",\"root_ids\":[\"14861\"],\"roots\":{\"14861\":\"4875745d-cb6c-408b-bb25-3a6819fc3034\"}}];\n",
       "  root.Bokeh.embed.embed_items_notebook(docs_json, render_items);\n",
       "\n",
       "  }\n",
       "  if (root.Bokeh !== undefined) {\n",
       "    embed_document(root);\n",
       "  } else {\n",
       "    let attempts = 0;\n",
       "    const timer = setInterval(function(root) {\n",
       "      if (root.Bokeh !== undefined) {\n",
       "        clearInterval(timer);\n",
       "        embed_document(root);\n",
       "      } else {\n",
       "        attempts++;\n",
       "        if (attempts > 100) {\n",
       "          clearInterval(timer);\n",
       "          console.log(\"Bokeh: ERROR: Unable to run BokehJS code because BokehJS library is missing\");\n",
       "        }\n",
       "      }\n",
       "    }, 10, root)\n",
       "  }\n",
       "})(window);"
      ],
      "application/vnd.bokehjs_exec.v0+json": ""
     },
     "metadata": {
      "application/vnd.bokehjs_exec.v0+json": {
       "id": "14861"
      }
     },
     "output_type": "display_data"
    }
   ],
   "source": [
    "#mt_input = phil_b38_intervals_samples_mt\n",
    "#mt_input = yale_b38_intervals_mt\n",
    "\n",
    "#mt = hl.read_matrix_table(mt_input)\n",
    "print('Reads in the following matrix table: \\n' + mt_input + '\\n')\n",
    "print(mt.count())\n",
    "\n",
    "var_plot = hl.plot.histogram(mt.sample_qc.r_ti_tv, \n",
    "                                 range =(2.1,3.1), \n",
    "                                 bins = 100, \n",
    "                                 title ='Distribution of TiTv (WES14)', \n",
    "                                 legend='')\n",
    "\n",
    "fig = var_plot\n",
    "fig.xaxis.axis_label = 'Transition/Transversion Ratio'\n",
    "fig.yaxis.axis_label = 'Number of samples'\n",
    "\n",
    "fig.y_range.start = 0\n",
    "fig.y_range.end = 70\n",
    "#fig.x_range.start = 2.1\n",
    "#fig.x_range.end = 2.5\n",
    "\n",
    "fig.title.align = \"center\"\n",
    "fig.title.text_color = \"black\"\n",
    "fig.title.text_font_size = \"20px\"\n",
    "\n",
    "fig.background_fill_color = \"white\"\n",
    "\n",
    "fig.xgrid.grid_line_color = None\n",
    "fig.ygrid.grid_line_color = None\n",
    "\n",
    "fig.xaxis.axis_label_text_font_size = \"17px\"\n",
    "fig.xaxis.axis_label_text_color = \"black\"\n",
    "fig.xaxis.axis_label_text_font_style = \"normal\"\n",
    "\n",
    "fig.yaxis.axis_label_text_font_size = \"17px\"\n",
    "fig.yaxis.axis_label_text_color = \"black\"\n",
    "fig.yaxis.axis_label_text_font_style = \"normal\"\n",
    "\n",
    "fig.outline_line_width = 0\n",
    "fig.outline_line_color = \"white\"\n",
    "\n",
    "fig.legend.border_line_width = 0\n",
    "fig.legend.label_width= 0\n",
    "fig.legend.label_height= 0\n",
    "#fig.legend.location = \"top_left\"\n",
    "fig.legend.visible = False\n",
    "\n",
    "# cutoff_mf = Span(location=0.5,dimension='height', line_color='black',line_dash='dashed', line_width=3)\n",
    "#fig.add_layout(cutoff_mf)\n",
    "\n",
    "'''\n",
    "citation_1 = Label(x=.65, y=120,\n",
    "                 text='Males', render_mode='css',\n",
    "                 border_line_color='white', border_line_alpha=0,\n",
    "                 background_fill_color='white', background_fill_alpha=0)\n",
    "\n",
    "fig.add_layout(citation_1)\n",
    "\n",
    "'''\n",
    "\n",
    "hl.plot.show(fig)"
   ]
  },
  {
   "cell_type": "markdown",
   "id": "48f73216",
   "metadata": {},
   "source": [
    "# n_snps"
   ]
  },
  {
   "cell_type": "code",
   "execution_count": 55,
   "id": "68eaaf60",
   "metadata": {},
   "outputs": [
    {
     "name": "stdout",
     "output_type": "stream",
     "text": [
      "Reads in the following matrix table: \n",
      "/gpfs/gibbs/pi/brueckner/ken_rotation/output/wes14/split_intervals.mt\n",
      "\n",
      "(641599, 1119)\n"
     ]
    },
    {
     "data": {
      "text/html": [
       "\n",
       "\n",
       "\n",
       "\n",
       "\n",
       "\n",
       "  <div class=\"bk-root\" id=\"a555a233-b41c-4449-b996-976154ff8234\" data-root-id=\"15988\"></div>\n"
      ]
     },
     "metadata": {},
     "output_type": "display_data"
    },
    {
     "data": {
      "application/javascript": [
       "(function(root) {\n",
       "  function embed_document(root) {\n",
       "    \n",
       "  const docs_json = {\"7187788b-d74e-4c23-9982-430b582f19c3\":{\"defs\":[],\"roots\":{\"references\":[{\"attributes\":{\"background_fill_color\":\"white\",\"below\":[{\"id\":\"15999\"}],\"center\":[{\"id\":\"16002\"},{\"id\":\"16006\"},{\"id\":\"16037\"}],\"left\":[{\"id\":\"16003\"}],\"outline_line_color\":\"white\",\"outline_line_width\":0,\"renderers\":[{\"id\":\"16025\"}],\"title\":{\"id\":\"15989\"},\"toolbar\":{\"id\":\"16014\"},\"x_range\":{\"id\":\"15991\"},\"x_scale\":{\"id\":\"15995\"},\"y_range\":{\"id\":\"15993\"},\"y_scale\":{\"id\":\"15997\"}},\"id\":\"15988\",\"subtype\":\"Figure\",\"type\":\"Plot\"},{\"attributes\":{},\"id\":\"16004\",\"type\":\"BasicTicker\"},{\"attributes\":{},\"id\":\"16008\",\"type\":\"WheelZoomTool\"},{\"attributes\":{\"border_line_width\":0,\"coordinates\":null,\"group\":null,\"items\":[{\"id\":\"16038\"}],\"label_height\":0,\"label_width\":0,\"visible\":false},\"id\":\"16037\",\"type\":\"Legend\"},{\"attributes\":{},\"id\":\"15995\",\"type\":\"LinearScale\"},{\"attributes\":{\"end\":150,\"start\":0},\"id\":\"15993\",\"type\":\"DataRange1d\"},{\"attributes\":{\"source\":{\"id\":\"16021\"}},\"id\":\"16026\",\"type\":\"CDSView\"},{\"attributes\":{\"bottom\":{\"value\":0},\"fill_alpha\":{\"value\":0.1},\"fill_color\":{\"value\":\"#1f77b4\"},\"hatch_alpha\":{\"value\":0.1},\"left\":{\"field\":\"left\"},\"line_alpha\":{\"value\":0.1},\"right\":{\"field\":\"right\"},\"top\":{\"field\":\"top\"}},\"id\":\"16023\",\"type\":\"Quad\"},{\"attributes\":{\"overlay\":{\"id\":\"16013\"}},\"id\":\"16009\",\"type\":\"BoxZoomTool\"},{\"attributes\":{},\"id\":\"16000\",\"type\":\"BasicTicker\"},{\"attributes\":{},\"id\":\"16034\",\"type\":\"UnionRenderers\"},{\"attributes\":{},\"id\":\"16011\",\"type\":\"ResetTool\"},{\"attributes\":{\"axis\":{\"id\":\"15999\"},\"coordinates\":null,\"grid_line_color\":null,\"group\":null,\"ticker\":null},\"id\":\"16002\",\"type\":\"Grid\"},{\"attributes\":{\"label\":{\"value\":\"\"},\"renderers\":[{\"id\":\"16025\"}]},\"id\":\"16038\",\"type\":\"LegendItem\"},{\"attributes\":{\"end\":40000,\"start\":25000},\"id\":\"15991\",\"type\":\"Range1d\"},{\"attributes\":{},\"id\":\"16032\",\"type\":\"BasicTickFormatter\"},{\"attributes\":{\"align\":\"center\",\"coordinates\":null,\"group\":null,\"text\":\"Distribution of n_snp (WES14)\",\"text_color\":\"black\",\"text_font_size\":\"20px\"},\"id\":\"15989\",\"type\":\"Title\"},{\"attributes\":{},\"id\":\"16029\",\"type\":\"BasicTickFormatter\"},{\"attributes\":{},\"id\":\"16010\",\"type\":\"SaveTool\"},{\"attributes\":{\"bottom\":{\"value\":0},\"fill_alpha\":{\"value\":0.2},\"fill_color\":{\"value\":\"#1f77b4\"},\"hatch_alpha\":{\"value\":0.2},\"left\":{\"field\":\"left\"},\"line_alpha\":{\"value\":0.2},\"right\":{\"field\":\"right\"},\"top\":{\"field\":\"top\"}},\"id\":\"16024\",\"type\":\"Quad\"},{\"attributes\":{\"coordinates\":null,\"data_source\":{\"id\":\"16021\"},\"glyph\":{\"id\":\"16022\"},\"group\":null,\"hover_glyph\":null,\"muted_glyph\":{\"id\":\"16024\"},\"nonselection_glyph\":{\"id\":\"16023\"},\"view\":{\"id\":\"16026\"}},\"id\":\"16025\",\"type\":\"GlyphRenderer\"},{\"attributes\":{},\"id\":\"16030\",\"type\":\"AllLabels\"},{\"attributes\":{\"axis\":{\"id\":\"16003\"},\"coordinates\":null,\"dimension\":1,\"grid_line_color\":null,\"group\":null,\"ticker\":null},\"id\":\"16006\",\"type\":\"Grid\"},{\"attributes\":{},\"id\":\"16012\",\"type\":\"HelpTool\"},{\"attributes\":{\"tools\":[{\"id\":\"16007\"},{\"id\":\"16008\"},{\"id\":\"16009\"},{\"id\":\"16010\"},{\"id\":\"16011\"},{\"id\":\"16012\"}]},\"id\":\"16014\",\"type\":\"Toolbar\"},{\"attributes\":{},\"id\":\"16033\",\"type\":\"AllLabels\"},{\"attributes\":{\"bottom\":{\"value\":0},\"fill_color\":{\"value\":\"#1f77b4\"},\"left\":{\"field\":\"left\"},\"right\":{\"field\":\"right\"},\"top\":{\"field\":\"top\"}},\"id\":\"16022\",\"type\":\"Quad\"},{\"attributes\":{},\"id\":\"16007\",\"type\":\"PanTool\"},{\"attributes\":{\"axis_label\":\"n_snp\",\"axis_label_text_color\":\"black\",\"axis_label_text_font_size\":\"17px\",\"axis_label_text_font_style\":\"normal\",\"coordinates\":null,\"formatter\":{\"id\":\"16032\"},\"group\":null,\"major_label_policy\":{\"id\":\"16033\"},\"ticker\":{\"id\":\"16000\"}},\"id\":\"15999\",\"type\":\"LinearAxis\"},{\"attributes\":{},\"id\":\"15997\",\"type\":\"LinearScale\"},{\"attributes\":{\"data\":{\"left\":[25000.0,25150.0,25300.0,25450.0,25600.0,25750.0,25900.0,26050.0,26200.0,26350.0,26500.0,26650.0,26800.0,26950.0,27100.0,27250.0,27400.0,27550.0,27700.0,27850.0,28000.0,28150.0,28300.0,28450.0,28600.0,28750.0,28900.0,29050.0,29200.0,29350.0,29500.0,29650.0,29800.0,29950.0,30100.0,30250.0,30400.0,30550.0,30700.0,30850.0,31000.0,31150.0,31300.0,31450.0,31600.0,31750.0,31900.0,32050.0,32200.0,32350.0,32500.0,32650.0,32800.0,32950.0,33100.0,33250.0,33400.0,33550.0,33700.0,33850.0,34000.0,34150.0,34300.0,34450.0,34600.0,34750.0,34900.0,35050.0,35200.0,35350.0,35500.0,35650.0,35800.0,35950.0,36100.0,36250.0,36400.0,36550.0,36700.0,36850.0,37000.0,37150.0,37300.0,37450.0,37600.0,37750.0,37900.0,38050.0,38200.0,38350.0,38500.0,38650.0,38800.0,38950.0,39100.0,39250.0,39400.0,39550.0,39700.0,39850.0],\"right\":[25150.0,25300.0,25450.0,25600.0,25750.0,25900.0,26050.0,26200.0,26350.0,26500.0,26650.0,26800.0,26950.0,27100.0,27250.0,27400.0,27550.0,27700.0,27850.0,28000.0,28150.0,28300.0,28450.0,28600.0,28750.0,28900.0,29050.0,29200.0,29350.0,29500.0,29650.0,29800.0,29950.0,30100.0,30250.0,30400.0,30550.0,30700.0,30850.0,31000.0,31150.0,31300.0,31450.0,31600.0,31750.0,31900.0,32050.0,32200.0,32350.0,32500.0,32650.0,32800.0,32950.0,33100.0,33250.0,33400.0,33550.0,33700.0,33850.0,34000.0,34150.0,34300.0,34450.0,34600.0,34750.0,34900.0,35050.0,35200.0,35350.0,35500.0,35650.0,35800.0,35950.0,36100.0,36250.0,36400.0,36550.0,36700.0,36850.0,37000.0,37150.0,37300.0,37450.0,37600.0,37750.0,37900.0,38050.0,38200.0,38350.0,38500.0,38650.0,38800.0,38950.0,39100.0,39250.0,39400.0,39550.0,39700.0,39850.0,40000.0],\"top\":[0,0,0,0,0,0,0,0,0,0,0,0,0,0,0,0,0,0,0,0,0,0,0,0,0,0,0,0,0,0,0,0,0,0,0,0,0,0,0,0,2,5,18,40,66,111,125,130,102,68,55,39,46,40,37,16,21,9,6,9,1,6,6,4,4,7,7,5,4,3,4,4,1,4,2,2,4,4,4,12,7,12,14,9,17,10,4,7,2,0,2,2,0,0,0,0,0,0,0,0]},\"selected\":{\"id\":\"16035\"},\"selection_policy\":{\"id\":\"16034\"}},\"id\":\"16021\",\"type\":\"ColumnDataSource\"},{\"attributes\":{},\"id\":\"16035\",\"type\":\"Selection\"},{\"attributes\":{\"bottom_units\":\"screen\",\"coordinates\":null,\"fill_alpha\":0.5,\"fill_color\":\"lightgrey\",\"group\":null,\"left_units\":\"screen\",\"level\":\"overlay\",\"line_alpha\":1.0,\"line_color\":\"black\",\"line_dash\":[4,4],\"line_width\":2,\"right_units\":\"screen\",\"syncable\":false,\"top_units\":\"screen\"},\"id\":\"16013\",\"type\":\"BoxAnnotation\"},{\"attributes\":{\"axis_label\":\"Number of samples\",\"axis_label_text_color\":\"black\",\"axis_label_text_font_size\":\"17px\",\"axis_label_text_font_style\":\"normal\",\"coordinates\":null,\"formatter\":{\"id\":\"16029\"},\"group\":null,\"major_label_policy\":{\"id\":\"16030\"},\"ticker\":{\"id\":\"16004\"}},\"id\":\"16003\",\"type\":\"LinearAxis\"}],\"root_ids\":[\"15988\"]},\"title\":\"Bokeh Application\",\"version\":\"2.4.2\"}};\n",
       "  const render_items = [{\"docid\":\"7187788b-d74e-4c23-9982-430b582f19c3\",\"root_ids\":[\"15988\"],\"roots\":{\"15988\":\"a555a233-b41c-4449-b996-976154ff8234\"}}];\n",
       "  root.Bokeh.embed.embed_items_notebook(docs_json, render_items);\n",
       "\n",
       "  }\n",
       "  if (root.Bokeh !== undefined) {\n",
       "    embed_document(root);\n",
       "  } else {\n",
       "    let attempts = 0;\n",
       "    const timer = setInterval(function(root) {\n",
       "      if (root.Bokeh !== undefined) {\n",
       "        clearInterval(timer);\n",
       "        embed_document(root);\n",
       "      } else {\n",
       "        attempts++;\n",
       "        if (attempts > 100) {\n",
       "          clearInterval(timer);\n",
       "          console.log(\"Bokeh: ERROR: Unable to run BokehJS code because BokehJS library is missing\");\n",
       "        }\n",
       "      }\n",
       "    }, 10, root)\n",
       "  }\n",
       "})(window);"
      ],
      "application/vnd.bokehjs_exec.v0+json": ""
     },
     "metadata": {
      "application/vnd.bokehjs_exec.v0+json": {
       "id": "15988"
      }
     },
     "output_type": "display_data"
    }
   ],
   "source": [
    "#mt_input = phil_b38_intervals_samples_mt\n",
    "#mt_input = \"/gpfs/gibbs/pi/brueckner/ken_rotation/output/wes14/split.mt\"\n",
    "#mt = hl.read_matrix_table(mt_input)\n",
    "#mt = hl.sample_qc(mt, name='sample_qc')\n",
    "\n",
    "print('Reads in the following matrix table: \\n' + mt_input + '\\n')\n",
    "print(mt.count())\n",
    "\n",
    "var_plot = hl.plot.histogram(mt.sample_qc.n_snp, \n",
    "                                 range =(25000,40000), \n",
    "                                 bins = 100, \n",
    "                                 title ='Distribution of n_snp (WES14)', \n",
    "                                 legend='')\n",
    "\n",
    "fig = var_plot\n",
    "fig.xaxis.axis_label = 'n_snp'\n",
    "fig.yaxis.axis_label = 'Number of samples'\n",
    "\n",
    "fig.y_range.start = 0\n",
    "fig.y_range.end = 150\n",
    "fig.x_range.start = 25000\n",
    "fig.x_range.end = 40000\n",
    "\n",
    "fig.title.align = \"center\"\n",
    "fig.title.text_color = \"black\"\n",
    "fig.title.text_font_size = \"20px\"\n",
    "\n",
    "fig.background_fill_color = \"white\"\n",
    "\n",
    "fig.xgrid.grid_line_color = None\n",
    "fig.ygrid.grid_line_color = None\n",
    "\n",
    "fig.xaxis.axis_label_text_font_size = \"17px\"\n",
    "fig.xaxis.axis_label_text_color = \"black\"\n",
    "fig.xaxis.axis_label_text_font_style = \"normal\"\n",
    "\n",
    "fig.yaxis.axis_label_text_font_size = \"17px\"\n",
    "fig.yaxis.axis_label_text_color = \"black\"\n",
    "fig.yaxis.axis_label_text_font_style = \"normal\"\n",
    "\n",
    "fig.outline_line_width = 0\n",
    "fig.outline_line_color = \"white\"\n",
    "\n",
    "fig.legend.border_line_width = 0\n",
    "fig.legend.label_width= 0\n",
    "fig.legend.label_height= 0\n",
    "#fig.legend.location = \"top_left\"\n",
    "fig.legend.visible = False\n",
    "\n",
    "# cutoff_mf = Span(location=0.5,dimension='height', line_color='black',line_dash='dashed', line_width=3)\n",
    "#fig.add_layout(cutoff_mf)\n",
    "\n",
    "'''\n",
    "citation_1 = Label(x=.65, y=120,\n",
    "                 text='Males', render_mode='css',\n",
    "                 border_line_color='white', border_line_alpha=0,\n",
    "                 background_fill_color='white', background_fill_alpha=0)\n",
    "\n",
    "fig.add_layout(citation_1)\n",
    "\n",
    "'''\n",
    "\n",
    "hl.plot.show(fig)"
   ]
  },
  {
   "cell_type": "markdown",
   "id": "b177ca1f",
   "metadata": {},
   "source": [
    "# n_snp_2"
   ]
  },
  {
   "cell_type": "code",
   "execution_count": 86,
   "id": "7438afca",
   "metadata": {},
   "outputs": [
    {
     "name": "stderr",
     "output_type": "stream",
     "text": [
      "/gpfs/ycga/project/lek/kn396/conda_envs/hail_test3/lib/python3.7/site-packages/ipykernel_launcher.py:43: MatplotlibDeprecationWarning: The 'b' parameter of grid() has been renamed 'visible' since Matplotlib 3.5; support for the old name will be dropped two minor releases later.\n"
     ]
    },
    {
     "data": {
      "text/plain": [
       "Text(0.5, 0, 'Number of SNPs')"
      ]
     },
     "execution_count": 86,
     "metadata": {},
     "output_type": "execute_result"
    },
    {
     "data": {
      "image/png": "[encoded data removed]",
      "text/plain": [
       "<Figure size 720x504 with 1 Axes>"
      ]
     },
     "metadata": {
      "needs_background": "light"
     },
     "output_type": "display_data"
    }
   ],
   "source": [
    "\n",
    "#mt_input = phil_b38_intervals_samples_mt\n",
    "#mt_input = \"/gpfs/gibbs/pi/brueckner/ken_rotation/output/wes14/split.mt\"\n",
    "#mt = hl.read_matrix_table(mt_input)\n",
    "#mt = hl.sample_qc(mt, name='sample_qc')\n",
    "\n",
    "import csv \n",
    "from matplotlib import colors\n",
    "from matplotlib.ticker import PercentFormatter\n",
    "\n",
    "#ht = mt.cols()\n",
    "#ht = ht.key_by(ht.s)\n",
    "#ht = ht.select(ht.sample_qc.n_snp)\n",
    "#hl_to_txt(ht, \"plot.tsv\")\n",
    "\n",
    "values = []\n",
    "with open(\"plot.tsv\") as file:\n",
    "    tsv_file = list(csv.reader(file, delimiter=\"\\t\"))\n",
    "    for line in tsv_file[1:]:\n",
    "        values.append(int(line[2]))\n",
    "        \n",
    "        \n",
    "# Creating histogram\n",
    "fig, axs = plt.subplots(1, 1,\n",
    "                        figsize =(10, 7),\n",
    "                        tight_layout = True)\n",
    " \n",
    " \n",
    "# Remove axes splines\n",
    "for s in ['top', 'bottom', 'left', 'right']:\n",
    "    axs.spines[s].set_visible(False)\n",
    " \n",
    "# Remove x, y ticks\n",
    "axs.xaxis.set_ticks_position('none')\n",
    "axs.yaxis.set_ticks_position('none')\n",
    "   \n",
    "# Add padding between axes and labels\n",
    "axs.xaxis.set_tick_params(pad = 5)\n",
    "axs.yaxis.set_tick_params(pad = 10)\n",
    " \n",
    "# Add x, y gridlines\n",
    "axs.grid(b = True, color ='grey',\n",
    "        linestyle ='-.', linewidth = 0.5,\n",
    "        alpha = 0.6)\n",
    "\n",
    "# Creating histogram\n",
    "N, bins, patches = axs.hist(values, bins =100)\n",
    " \n",
    "# Setting color\n",
    "fracs = ((N**(1 / 5)) / N.max())\n",
    "norm = colors.Normalize(fracs.min(), fracs.max())\n",
    " \n",
    "for thisfrac, thispatch in zip(fracs, patches):\n",
    "    color = plt.cm.viridis(norm(thisfrac))\n",
    "    thispatch.set_facecolor(color)\n",
    "plt.title(\"Distribution of n_snp\")\n",
    "plt.ylabel(\"Samples\")\n",
    "plt.xlabel(\"Number of SNPs\")\n"
   ]
  },
  {
   "cell_type": "markdown",
   "id": "dd5b7c23",
   "metadata": {},
   "source": [
    "# n_snp_3"
   ]
  },
  {
   "cell_type": "code",
   "execution_count": 98,
   "id": "41559f1f",
   "metadata": {},
   "outputs": [
    {
     "data": {
      "image/png": "[encoded data removed]",
      "text/plain": [
       "<Figure size 1008x504 with 1 Axes>"
      ]
     },
     "metadata": {},
     "output_type": "display_data"
    }
   ],
   "source": [
    "values = []\n",
    "with open(\"plot.tsv\") as file:\n",
    "    tsv_file = list(csv.reader(file, delimiter=\"\\t\"))\n",
    "    for line in tsv_file[1:]:\n",
    "        values.append(int(line[2]))\n",
    "    \n",
    "\n",
    "plt.figure(figsize=(14,7)) # Make it 14x7 inch\n",
    "plt.style.use('seaborn-whitegrid') # nice and clean grid\n",
    "\n",
    "n, bins, patches = plt.hist(values, bins=100, facecolor='#2ab0ff', edgecolor='#e0e0e0', linewidth=0.5, alpha=0.7)\n",
    "\n",
    "n = n.astype('int') # it MUST be integer\n",
    "# Good old loop. Choose colormap of your taste\n",
    "for i in range(len(patches)):\n",
    "    patches[i].set_facecolor(plt.cm.viridis(n[i]/max(n)))\n",
    "\n",
    "# Add annotation\n",
    "plt.title(\"Distribution of n_snp\")\n",
    "plt.ylabel(\"Samples\")\n",
    "plt.xlabel(\"Number of SNPs\")\n",
    "plt.show()"
   ]
  },
  {
   "cell_type": "markdown",
   "id": "149d2fe1",
   "metadata": {},
   "source": [
    "# n_snps_4"
   ]
  },
  {
   "cell_type": "code",
   "execution_count": 115,
   "id": "891158a5",
   "metadata": {},
   "outputs": [
    {
     "ename": "ModuleNotFoundError",
     "evalue": "No module named 'seaborn'",
     "output_type": "error",
     "traceback": [
      "\u001b[0;31m---------------------------------------------------------------------------\u001b[0m",
      "\u001b[0;31mModuleNotFoundError\u001b[0m                       Traceback (most recent call last)",
      "\u001b[0;32m/tmp/ipykernel_5386/2351219987.py\u001b[0m in \u001b[0;36m<module>\u001b[0;34m\u001b[0m\n\u001b[0;32m----> 1\u001b[0;31m \u001b[0;32mimport\u001b[0m \u001b[0mseaborn\u001b[0m \u001b[0;32mas\u001b[0m \u001b[0msns\u001b[0m\u001b[0;34m\u001b[0m\u001b[0;34m\u001b[0m\u001b[0m\n\u001b[0m",
      "\u001b[0;31mModuleNotFoundError\u001b[0m: No module named 'seaborn'"
     ]
    }
   ],
   "source": []
  },
  {
   "cell_type": "markdown",
   "id": "dfad5e93",
   "metadata": {},
   "source": [
    "# Remove samples with n_snps = 0 "
   ]
  },
  {
   "cell_type": "code",
   "execution_count": 48,
   "id": "f0f2eb9e",
   "metadata": {},
   "outputs": [
    {
     "name": "stdout",
     "output_type": "stream",
     "text": [
      "Reads in the following matrix table: \n",
      "/gpfs/gibbs/pi/brueckner/yale_phil/phil/v2/phil_filtered_intervals.mt\n",
      "\n"
     ]
    },
    {
     "data": {
      "text/html": [
       "<table><thead><tr><td style=\"white-space: nowrap; max-width: 500px; overflow: hidden; text-overflow: ellipsis; \" colspan=\"1\"><div style=\"text-align: left;\"></div></td></tr><tr><td style=\"white-space: nowrap; max-width: 500px; overflow: hidden; text-overflow: ellipsis; \" colspan=\"1\"><div style=\"text-align: left;border-bottom: solid 2px #000; padding-bottom: 5px\">s</div></td></tr><tr><td style=\"white-space: nowrap; max-width: 500px; overflow: hidden; text-overflow: ellipsis; text-align: left;\">str</td></tr>\n",
       "</thead><tbody><tr><td style=\"white-space: nowrap; max-width: 500px; overflow: hidden; text-overflow: ellipsis; \">&quot;1-02790-01&quot;</td></tr>\n",
       "<tr><td style=\"white-space: nowrap; max-width: 500px; overflow: hidden; text-overflow: ellipsis; \">&quot;1-04863-02&quot;</td></tr>\n",
       "<tr><td style=\"white-space: nowrap; max-width: 500px; overflow: hidden; text-overflow: ellipsis; \">&quot;1-04934&quot;</td></tr>\n",
       "<tr><td style=\"white-space: nowrap; max-width: 500px; overflow: hidden; text-overflow: ellipsis; \">&quot;1-04947-01&quot;</td></tr>\n",
       "<tr><td style=\"white-space: nowrap; max-width: 500px; overflow: hidden; text-overflow: ellipsis; \">&quot;1-05698-01&quot;</td></tr>\n",
       "</tbody></table>"
      ],
      "text/plain": [
       "+--------------+\n",
       "| s            |\n",
       "+--------------+\n",
       "| str          |\n",
       "+--------------+\n",
       "| \"1-02790-01\" |\n",
       "| \"1-04863-02\" |\n",
       "| \"1-04934\"    |\n",
       "| \"1-04947-01\" |\n",
       "| \"1-05698-01\" |\n",
       "+--------------+"
      ]
     },
     "metadata": {},
     "output_type": "display_data"
    }
   ],
   "source": [
    "#show samples that have n_snps = 0 \n",
    "\n",
    "mt_input = phil_b38_intervals_mt\n",
    "print('Reads in the following matrix table: \\n' + mt_input + '\\n')\n",
    "\n",
    "mt = hl.read_matrix_table(mt_input)\n",
    "mt = mt.filter_cols(mt.sample_qc.n_snp == 0, keep = True)\n",
    "mt.count()\n",
    "mt.s.show()\n",
    "#type(mt.sample_qc.n_snp)\n",
    "\n",
    "\n",
    "#mt.describe()"
   ]
  },
  {
   "cell_type": "code",
   "execution_count": 8,
   "id": "284b91dd",
   "metadata": {},
   "outputs": [
    {
     "name": "stdout",
     "output_type": "stream",
     "text": [
      "Reads in the matrix table: \n",
      "/gpfs/gibbs/pi/brueckner/yale_phil/yale/v2/b38/yale_b38_filtered_intervals.mt\n",
      "\n",
      "Writes the matrix table: \n",
      "/gpfs/gibbs/pi/brueckner/yale_phil/yale/v2/b38/yale_b38_filtered_intervals_samples.mt\n",
      "\n"
     ]
    },
    {
     "name": "stderr",
     "output_type": "stream",
     "text": [
      "2021-12-05 12:10:25 Hail: INFO: wrote matrix table with 330110 rows and 597 columns in 31 partitions to /gpfs/gibbs/pi/brueckner/yale_phil/yale/v2/b38/yale_b38_filtered_intervals_samples.mt\n"
     ]
    }
   ],
   "source": [
    "# remove samples with n_snps = 0\n",
    "# re-annotate with hl.sample_qc\n",
    "\n",
    "mt_input = yale_b38_intervals_mt\n",
    "print('Reads in the matrix table: \\n' + mt_input + '\\n')\n",
    "\n",
    "mt_output = yale_b38_intervals_samples_mt\n",
    "print('Writes the matrix table: \\n' + mt_output + '\\n')\n",
    "#############################################################################\n",
    "\n",
    "mt = hl.read_matrix_table(mt_input)\n",
    "#print('count of the input dataframe: ' + str(mt.count()) + '\\n')\n",
    "\n",
    "mt = mt.filter_cols(mt.sample_qc.n_snp == 0, keep = False)\n",
    "mt = hl.sample_qc(mt, name='sample_qc')\n",
    "\n",
    "mt.write(mt_output, overwrite = True)"
   ]
  },
  {
   "cell_type": "code",
   "execution_count": 18,
   "id": "b4c3a865",
   "metadata": {},
   "outputs": [
    {
     "name": "stdout",
     "output_type": "stream",
     "text": [
      "Reads in the following matrix table: \n",
      "/gpfs/gibbs/pi/brueckner/yale_phil/phil/v2/phil_filtered_intervals_samples.mt\n",
      "\n",
      "count of the input dataframe: (409574, 592)\n",
      "\n",
      "----------------------------------------\n",
      "Global fields:\n",
      "    None\n",
      "----------------------------------------\n",
      "Column fields:\n",
      "    's': str\n",
      "    'sample_qc': struct {\n",
      "        dp_stats: struct {\n",
      "            mean: float64, \n",
      "            stdev: float64, \n",
      "            min: float64, \n",
      "            max: float64\n",
      "        }, \n",
      "        gq_stats: struct {\n",
      "            mean: float64, \n",
      "            stdev: float64, \n",
      "            min: float64, \n",
      "            max: float64\n",
      "        }, \n",
      "        call_rate: float64, \n",
      "        n_called: int64, \n",
      "        n_not_called: int64, \n",
      "        n_filtered: int64, \n",
      "        n_hom_ref: int64, \n",
      "        n_het: int64, \n",
      "        n_hom_var: int64, \n",
      "        n_non_ref: int64, \n",
      "        n_singleton: int64, \n",
      "        n_snp: int64, \n",
      "        n_insertion: int64, \n",
      "        n_deletion: int64, \n",
      "        n_transition: int64, \n",
      "        n_transversion: int64, \n",
      "        n_star: int64, \n",
      "        r_ti_tv: float64, \n",
      "        r_het_hom_var: float64, \n",
      "        r_insertion_deletion: float64\n",
      "    }\n",
      "----------------------------------------\n",
      "Row fields:\n",
      "    'locus': locus<GRCh38>\n",
      "    'alleles': array<str>\n",
      "    'rsid': str\n",
      "    'qual': float64\n",
      "    'filters': set<str>\n",
      "    'info': struct {\n",
      "        AC: array<int32>, \n",
      "        AF: array<float64>, \n",
      "        AN: int32, \n",
      "        BaseQRankSum: float64, \n",
      "        DB: bool, \n",
      "        DP: int32, \n",
      "        END: int32, \n",
      "        ExcessHet: float64, \n",
      "        FS: float64, \n",
      "        InbreedingCoeff: float64, \n",
      "        MLEAC: array<int32>, \n",
      "        MLEAF: array<float64>, \n",
      "        MQ: float64, \n",
      "        MQRankSum: float64, \n",
      "        NEGATIVE_TRAIN_SITE: bool, \n",
      "        POSITIVE_TRAIN_SITE: bool, \n",
      "        QD: float64, \n",
      "        RAW_MQandDP: array<int32>, \n",
      "        ReadPosRankSum: float64, \n",
      "        SOR: float64, \n",
      "        VQSLOD: float64, \n",
      "        culprit: str\n",
      "    }\n",
      "    'allele_data': struct {\n",
      "        nonsplit_alleles: array<str>, \n",
      "        has_star: bool, \n",
      "        variant_type: str, \n",
      "        n_alt_alleles: int32, \n",
      "        allele_type: str, \n",
      "        was_mixed: bool\n",
      "    }\n",
      "    'a_index': int32\n",
      "    'was_split': bool\n",
      "    'vep': struct {\n",
      "        assembly_name: str, \n",
      "        allele_string: str, \n",
      "        ancestral: str, \n",
      "        colocated_variants: array<struct {\n",
      "            aa_allele: str, \n",
      "            aa_maf: float64, \n",
      "            afr_allele: str, \n",
      "            afr_maf: float64, \n",
      "            allele_string: str, \n",
      "            amr_allele: str, \n",
      "            amr_maf: float64, \n",
      "            clin_sig: array<str>, \n",
      "            end: int32, \n",
      "            eas_allele: str, \n",
      "            eas_maf: float64, \n",
      "            ea_allele: str, \n",
      "            ea_maf: float64, \n",
      "            eur_allele: str, \n",
      "            eur_maf: float64, \n",
      "            exac_adj_allele: str, \n",
      "            exac_adj_maf: float64, \n",
      "            exac_allele: str, \n",
      "            exac_afr_allele: str, \n",
      "            exac_afr_maf: float64, \n",
      "            exac_amr_allele: str, \n",
      "            exac_amr_maf: float64, \n",
      "            exac_eas_allele: str, \n",
      "            exac_eas_maf: float64, \n",
      "            exac_fin_allele: str, \n",
      "            exac_fin_maf: float64, \n",
      "            exac_maf: float64, \n",
      "            exac_nfe_allele: str, \n",
      "            exac_nfe_maf: float64, \n",
      "            exac_oth_allele: str, \n",
      "            exac_oth_maf: float64, \n",
      "            exac_sas_allele: str, \n",
      "            exac_sas_maf: float64, \n",
      "            id: str, \n",
      "            minor_allele: str, \n",
      "            minor_allele_freq: float64, \n",
      "            phenotype_or_disease: int32, \n",
      "            pubmed: array<int32>, \n",
      "            sas_allele: str, \n",
      "            sas_maf: float64, \n",
      "            somatic: int32, \n",
      "            start: int32, \n",
      "            strand: int32\n",
      "        }>, \n",
      "        context: str, \n",
      "        end: int32, \n",
      "        id: str, \n",
      "        input: str, \n",
      "        intergenic_consequences: array<struct {\n",
      "            allele_num: int32, \n",
      "            consequence_terms: array<str>, \n",
      "            impact: str, \n",
      "            minimised: int32, \n",
      "            variant_allele: str\n",
      "        }>, \n",
      "        most_severe_consequence: str, \n",
      "        motif_feature_consequences: array<struct {\n",
      "            allele_num: int32, \n",
      "            consequence_terms: array<str>, \n",
      "            high_inf_pos: str, \n",
      "            impact: str, \n",
      "            minimised: int32, \n",
      "            motif_feature_id: str, \n",
      "            motif_name: str, \n",
      "            motif_pos: int32, \n",
      "            motif_score_change: float64, \n",
      "            strand: int32, \n",
      "            variant_allele: str\n",
      "        }>, \n",
      "        regulatory_feature_consequences: array<struct {\n",
      "            allele_num: int32, \n",
      "            biotype: str, \n",
      "            consequence_terms: array<str>, \n",
      "            impact: str, \n",
      "            minimised: int32, \n",
      "            regulatory_feature_id: str, \n",
      "            variant_allele: str\n",
      "        }>, \n",
      "        seq_region_name: str, \n",
      "        start: int32, \n",
      "        strand: int32, \n",
      "        transcript_consequences: array<struct {\n",
      "            allele_num: int32, \n",
      "            amino_acids: str, \n",
      "            biotype: str, \n",
      "            canonical: int32, \n",
      "            ccds: str, \n",
      "            cdna_start: int32, \n",
      "            cdna_end: int32, \n",
      "            cds_end: int32, \n",
      "            cds_start: int32, \n",
      "            codons: str, \n",
      "            consequence_terms: array<str>, \n",
      "            distance: int32, \n",
      "            domains: array<struct {\n",
      "                db: str, \n",
      "                name: str\n",
      "            }>, \n",
      "            exon: str, \n",
      "            gene_id: str, \n",
      "            gene_pheno: int32, \n",
      "            gene_symbol: str, \n",
      "            gene_symbol_source: str, \n",
      "            hgnc_id: str, \n",
      "            hgvsc: str, \n",
      "            hgvsp: str, \n",
      "            hgvs_offset: int32, \n",
      "            impact: str, \n",
      "            intron: str, \n",
      "            lof: str, \n",
      "            lof_flags: str, \n",
      "            lof_filter: str, \n",
      "            lof_info: str, \n",
      "            minimised: int32, \n",
      "            polyphen_prediction: str, \n",
      "            polyphen_score: float64, \n",
      "            protein_end: int32, \n",
      "            protein_start: int32, \n",
      "            protein_id: str, \n",
      "            sift_prediction: str, \n",
      "            sift_score: float64, \n",
      "            strand: int32, \n",
      "            swissprot: str, \n",
      "            transcript_id: str, \n",
      "            trembl: str, \n",
      "            uniparc: str, \n",
      "            variant_allele: str\n",
      "        }>, \n",
      "        variant_class: str\n",
      "    }\n",
      "    'vep_proc_id': struct {\n",
      "        part_idx: int32, \n",
      "        block_idx: int32\n",
      "    }\n",
      "    'sortedTranscriptConsequences': array<struct {\n",
      "        biotype: str, \n",
      "        canonical: int32, \n",
      "        cdna_start: int32, \n",
      "        cdna_end: int32, \n",
      "        codons: str, \n",
      "        gene_id: str, \n",
      "        gene_symbol: str, \n",
      "        hgvsc: str, \n",
      "        hgvsp: str, \n",
      "        transcript_id: str, \n",
      "        amino_acids: str, \n",
      "        lof: str, \n",
      "        lof_filter: str, \n",
      "        lof_flags: str, \n",
      "        lof_info: str, \n",
      "        polyphen_prediction: str, \n",
      "        protein_id: str, \n",
      "        protein_start: int32, \n",
      "        sift_prediction: str, \n",
      "        consequence_terms: array<str>, \n",
      "        domains: array<str>, \n",
      "        major_consequence: str, \n",
      "        category: str, \n",
      "        hgvs: str, \n",
      "        major_consequence_rank: int32, \n",
      "        transcript_rank: int32\n",
      "    }>\n",
      "    'gene_symbol': str\n",
      "    'major_consequence': str\n",
      "    'hgvs': str\n",
      "    'category': str\n",
      "    'canonical': int32\n",
      "    'polyphen_pred': str\n",
      "    'sift_pred': str\n",
      "    'most_severe_consequence': str\n",
      "    'variant_class': str\n",
      "    'gene_id_array': array<str>\n",
      "    'gene_symbol_array': array<str>\n",
      "    'gnomad_af': float64\n",
      "----------------------------------------\n",
      "Entry fields:\n",
      "    'AD': array<int32>\n",
      "    'DP': int32\n",
      "    'GQ': int32\n",
      "    'GT': call\n",
      "    'MIN_DP': int32\n",
      "    'PGT': call\n",
      "    'PID': str\n",
      "    'PL': array<int32>\n",
      "    'PS': int32\n",
      "    'RGQ': int32\n",
      "    'SB': array<int32>\n",
      "----------------------------------------\n",
      "Column key: ['s']\n",
      "Row key: ['locus', 'alleles']\n",
      "----------------------------------------\n"
     ]
    }
   ],
   "source": [
    "mt_input = phil_b38_intervals_samples_mt\n",
    "#mt_input = '/gpfs/gibbs/pi/brueckner/yale_phil/yale/vep_.mt'\n",
    "print('Reads in the following matrix table: \\n' + mt_input + '\\n')\n",
    "mt = hl.read_matrix_table(mt_input)\n",
    "print('count of the input dataframe: ' + str(mt.count()) + '\\n')\n",
    "mt.describe()"
   ]
  },
  {
   "cell_type": "markdown",
   "id": "15186f68",
   "metadata": {},
   "source": [
    "# Plot insertions/deletions"
   ]
  },
  {
   "cell_type": "code",
   "execution_count": 57,
   "id": "10618770",
   "metadata": {},
   "outputs": [
    {
     "name": "stdout",
     "output_type": "stream",
     "text": [
      "Reads in the following matrix table: \n",
      "/gpfs/gibbs/pi/brueckner/yale_phil/yale/v2/b38/yale_b38_filtered_intervals.mt\n",
      "\n",
      "(330110, 597)\n"
     ]
    },
    {
     "data": {
      "text/html": [
       "\n",
       "\n",
       "\n",
       "\n",
       "\n",
       "\n",
       "  <div class=\"bk-root\" id=\"ffc27285-25b8-453f-b977-ced8196e29e4\" data-root-id=\"12332\"></div>\n"
      ]
     },
     "metadata": {},
     "output_type": "display_data"
    },
    {
     "data": {
      "application/javascript": [
       "(function(root) {\n",
       "  function embed_document(root) {\n",
       "    \n",
       "  const docs_json = {\"ecf7ef6d-fc15-44d0-bc86-25e2d2fd84d8\":{\"defs\":[],\"roots\":{\"references\":[{\"attributes\":{\"background_fill_color\":\"white\",\"below\":[{\"id\":\"12343\"}],\"center\":[{\"id\":\"12346\"},{\"id\":\"12350\"},{\"id\":\"12381\"}],\"left\":[{\"id\":\"12347\"}],\"outline_line_color\":\"white\",\"outline_line_width\":0,\"renderers\":[{\"id\":\"12369\"}],\"title\":{\"id\":\"12333\"},\"toolbar\":{\"id\":\"12358\"},\"x_range\":{\"id\":\"12335\"},\"x_scale\":{\"id\":\"12339\"},\"y_range\":{\"id\":\"12337\"},\"y_scale\":{\"id\":\"12341\"}},\"id\":\"12332\",\"subtype\":\"Figure\",\"type\":\"Plot\"},{\"attributes\":{\"bottom\":{\"value\":0},\"fill_alpha\":{\"value\":0.1},\"fill_color\":{\"value\":\"#1f77b4\"},\"hatch_alpha\":{\"value\":0.1},\"left\":{\"field\":\"left\"},\"line_alpha\":{\"value\":0.1},\"right\":{\"field\":\"right\"},\"top\":{\"field\":\"top\"}},\"id\":\"12367\",\"type\":\"Quad\"},{\"attributes\":{},\"id\":\"12355\",\"type\":\"ResetTool\"},{\"attributes\":{},\"id\":\"12344\",\"type\":\"BasicTicker\"},{\"attributes\":{},\"id\":\"12354\",\"type\":\"SaveTool\"},{\"attributes\":{\"axis\":{\"id\":\"12343\"},\"coordinates\":null,\"grid_line_color\":null,\"group\":null,\"ticker\":null},\"id\":\"12346\",\"type\":\"Grid\"},{\"attributes\":{},\"id\":\"12376\",\"type\":\"BasicTickFormatter\"},{\"attributes\":{},\"id\":\"12352\",\"type\":\"WheelZoomTool\"},{\"attributes\":{\"bottom\":{\"value\":0},\"fill_alpha\":{\"value\":0.2},\"fill_color\":{\"value\":\"#1f77b4\"},\"hatch_alpha\":{\"value\":0.2},\"left\":{\"field\":\"left\"},\"line_alpha\":{\"value\":0.2},\"right\":{\"field\":\"right\"},\"top\":{\"field\":\"top\"}},\"id\":\"12368\",\"type\":\"Quad\"},{\"attributes\":{},\"id\":\"12377\",\"type\":\"AllLabels\"},{\"attributes\":{\"data\":{\"left\":[0.84,0.8430681440443213,0.8461362880886426,0.8492044321329639,0.8522725761772852,0.8553407202216066,0.858408864265928,0.8614770083102493,0.8645451523545706,0.867613296398892,0.8706814404432133,0.8737495844875346,0.8768177285318559,0.8798858725761772,0.8829540166204985,0.8860221606648199,0.8890903047091412,0.8921584487534626,0.8952265927977839,0.8982947368421053,0.9013628808864266,0.9044310249307479,0.9074991689750692,0.9105673130193905,0.9136354570637119,0.9167036011080332,0.9197717451523545,0.9228398891966758,0.9259080332409972,0.9289761772853186,0.9320443213296399,0.9351124653739612,0.9381806094182825,0.9412487534626038,0.9443168975069252,0.9473850415512465,0.9504531855955678,0.9535213296398891,0.9565894736842104,0.9596576177285319,0.9627257617728532,0.9657939058171745,0.9688620498614958,0.9719301939058171,0.9749983379501385,0.9780664819944598,0.9811346260387811,0.9842027700831024,0.9872709141274237,0.9903390581717451,0.9934072022160665,0.9964753462603877,0.9995434903047091,1.0026116343490303,1.0056797783933518,1.008747922437673,1.0118160664819944,1.0148842105263158,1.017952354570637,1.0210204986149585,1.0240886426592797,1.027156786703601,1.0302249307479223,1.0332930747922437,1.036361218836565,1.0394293628808864,1.0424975069252076,1.045565650969529,1.0486337950138505,1.0517019390581717,1.054770083102493,1.0578382271468143,1.0609063711911357,1.063974515235457,1.0670426592797784,1.0701108033240996,1.073178947368421,1.0762470914127422,1.0793152354570636,1.082383379501385,1.0854515235457063,1.0885196675900277,1.091587811634349,1.0946559556786704,1.0977240997229916,1.100792243767313,1.1038603878116342,1.1069285318559556,1.1099966759002768,1.1130648199445983,1.1161329639889197,1.119201108033241,1.1222692520775623,1.1253373961218835,1.128405540166205,1.1314736842105262,1.1345418282548476,1.1376099722991688,1.1406781163434903,1.1437462603878115],\"right\":[0.8430681440443213,0.8461362880886426,0.8492044321329639,0.8522725761772852,0.8553407202216066,0.858408864265928,0.8614770083102493,0.8645451523545706,0.867613296398892,0.8706814404432133,0.8737495844875346,0.8768177285318559,0.8798858725761772,0.8829540166204985,0.8860221606648199,0.8890903047091412,0.8921584487534626,0.8952265927977839,0.8982947368421053,0.9013628808864266,0.9044310249307479,0.9074991689750692,0.9105673130193905,0.9136354570637119,0.9167036011080332,0.9197717451523545,0.9228398891966758,0.9259080332409972,0.9289761772853186,0.9320443213296399,0.9351124653739612,0.9381806094182825,0.9412487534626038,0.9443168975069252,0.9473850415512465,0.9504531855955678,0.9535213296398891,0.9565894736842104,0.9596576177285319,0.9627257617728532,0.9657939058171745,0.9688620498614958,0.9719301939058171,0.9749983379501385,0.9780664819944598,0.9811346260387811,0.9842027700831024,0.9872709141274237,0.9903390581717451,0.9934072022160665,0.9964753462603877,0.9995434903047091,1.0026116343490303,1.0056797783933518,1.008747922437673,1.0118160664819944,1.0148842105263158,1.017952354570637,1.0210204986149585,1.0240886426592797,1.027156786703601,1.0302249307479223,1.0332930747922437,1.036361218836565,1.0394293628808864,1.0424975069252076,1.045565650969529,1.0486337950138505,1.0517019390581717,1.054770083102493,1.0578382271468143,1.0609063711911357,1.063974515235457,1.0670426592797784,1.0701108033240996,1.073178947368421,1.0762470914127422,1.0793152354570636,1.082383379501385,1.0854515235457063,1.0885196675900277,1.091587811634349,1.0946559556786704,1.0977240997229916,1.100792243767313,1.1038603878116342,1.1069285318559556,1.1099966759002768,1.1130648199445983,1.1161329639889197,1.119201108033241,1.1222692520775623,1.1253373961218835,1.128405540166205,1.1314736842105262,1.1345418282548476,1.1376099722991688,1.1406781163434903,1.1437462603878115,1.146814404432133],\"top\":[2,2,0,1,1,0,0,0,0,1,0,1,3,0,3,3,6,5,5,3,6,7,8,13,8,6,7,11,9,9,12,7,12,17,21,10,18,15,16,10,17,14,12,20,13,9,18,13,10,20,6,11,15,6,14,12,10,14,10,6,11,6,8,4,4,7,2,2,5,1,2,6,0,1,4,3,2,3,0,2,1,2,1,1,2,3,1,1,0,0,1,0,0,0,0,1,0,1,0,1]},\"selected\":{\"id\":\"12379\"},\"selection_policy\":{\"id\":\"12378\"}},\"id\":\"12365\",\"type\":\"ColumnDataSource\"},{\"attributes\":{\"axis\":{\"id\":\"12347\"},\"coordinates\":null,\"dimension\":1,\"grid_line_color\":null,\"group\":null,\"ticker\":null},\"id\":\"12350\",\"type\":\"Grid\"},{\"attributes\":{\"label\":{\"value\":\"\"},\"renderers\":[{\"id\":\"12369\"}]},\"id\":\"12382\",\"type\":\"LegendItem\"},{\"attributes\":{},\"id\":\"12348\",\"type\":\"BasicTicker\"},{\"attributes\":{},\"id\":\"12351\",\"type\":\"PanTool\"},{\"attributes\":{\"align\":\"center\",\"coordinates\":null,\"group\":null,\"text\":\"Distribution of insertions/deletions ratio (Yale)\",\"text_color\":\"black\",\"text_font_size\":\"20px\"},\"id\":\"12333\",\"type\":\"Title\"},{\"attributes\":{},\"id\":\"12373\",\"type\":\"BasicTickFormatter\"},{\"attributes\":{\"border_line_width\":0,\"coordinates\":null,\"group\":null,\"items\":[{\"id\":\"12382\"}],\"label_height\":0,\"label_width\":0,\"visible\":false},\"id\":\"12381\",\"type\":\"Legend\"},{\"attributes\":{\"tools\":[{\"id\":\"12351\"},{\"id\":\"12352\"},{\"id\":\"12353\"},{\"id\":\"12354\"},{\"id\":\"12355\"},{\"id\":\"12356\"}]},\"id\":\"12358\",\"type\":\"Toolbar\"},{\"attributes\":{\"end\":1.2,\"start\":0.6},\"id\":\"12335\",\"type\":\"Range1d\"},{\"attributes\":{\"axis_label\":\"r_insertions/deletions\",\"axis_label_text_color\":\"black\",\"axis_label_text_font_size\":\"17px\",\"axis_label_text_font_style\":\"normal\",\"coordinates\":null,\"formatter\":{\"id\":\"12376\"},\"group\":null,\"major_label_policy\":{\"id\":\"12377\"},\"ticker\":{\"id\":\"12344\"}},\"id\":\"12343\",\"type\":\"LinearAxis\"},{\"attributes\":{\"bottom_units\":\"screen\",\"coordinates\":null,\"fill_alpha\":0.5,\"fill_color\":\"lightgrey\",\"group\":null,\"left_units\":\"screen\",\"level\":\"overlay\",\"line_alpha\":1.0,\"line_color\":\"black\",\"line_dash\":[4,4],\"line_width\":2,\"right_units\":\"screen\",\"syncable\":false,\"top_units\":\"screen\"},\"id\":\"12357\",\"type\":\"BoxAnnotation\"},{\"attributes\":{},\"id\":\"12356\",\"type\":\"HelpTool\"},{\"attributes\":{},\"id\":\"12339\",\"type\":\"LinearScale\"},{\"attributes\":{},\"id\":\"12378\",\"type\":\"UnionRenderers\"},{\"attributes\":{},\"id\":\"12379\",\"type\":\"Selection\"},{\"attributes\":{\"source\":{\"id\":\"12365\"}},\"id\":\"12370\",\"type\":\"CDSView\"},{\"attributes\":{},\"id\":\"12341\",\"type\":\"LinearScale\"},{\"attributes\":{},\"id\":\"12374\",\"type\":\"AllLabels\"},{\"attributes\":{\"overlay\":{\"id\":\"12357\"}},\"id\":\"12353\",\"type\":\"BoxZoomTool\"},{\"attributes\":{\"bottom\":{\"value\":0},\"fill_color\":{\"value\":\"#1f77b4\"},\"left\":{\"field\":\"left\"},\"right\":{\"field\":\"right\"},\"top\":{\"field\":\"top\"}},\"id\":\"12366\",\"type\":\"Quad\"},{\"attributes\":{\"coordinates\":null,\"data_source\":{\"id\":\"12365\"},\"glyph\":{\"id\":\"12366\"},\"group\":null,\"hover_glyph\":null,\"muted_glyph\":{\"id\":\"12368\"},\"nonselection_glyph\":{\"id\":\"12367\"},\"view\":{\"id\":\"12370\"}},\"id\":\"12369\",\"type\":\"GlyphRenderer\"},{\"attributes\":{\"end\":25,\"start\":0},\"id\":\"12337\",\"type\":\"DataRange1d\"},{\"attributes\":{\"axis_label\":\"Number of samples\",\"axis_label_text_color\":\"black\",\"axis_label_text_font_size\":\"17px\",\"axis_label_text_font_style\":\"normal\",\"coordinates\":null,\"formatter\":{\"id\":\"12373\"},\"group\":null,\"major_label_policy\":{\"id\":\"12374\"},\"ticker\":{\"id\":\"12348\"}},\"id\":\"12347\",\"type\":\"LinearAxis\"}],\"root_ids\":[\"12332\"]},\"title\":\"Bokeh Application\",\"version\":\"2.4.2\"}};\n",
       "  const render_items = [{\"docid\":\"ecf7ef6d-fc15-44d0-bc86-25e2d2fd84d8\",\"root_ids\":[\"12332\"],\"roots\":{\"12332\":\"ffc27285-25b8-453f-b977-ced8196e29e4\"}}];\n",
       "  root.Bokeh.embed.embed_items_notebook(docs_json, render_items);\n",
       "\n",
       "  }\n",
       "  if (root.Bokeh !== undefined) {\n",
       "    embed_document(root);\n",
       "  } else {\n",
       "    let attempts = 0;\n",
       "    const timer = setInterval(function(root) {\n",
       "      if (root.Bokeh !== undefined) {\n",
       "        clearInterval(timer);\n",
       "        embed_document(root);\n",
       "      } else {\n",
       "        attempts++;\n",
       "        if (attempts > 100) {\n",
       "          clearInterval(timer);\n",
       "          console.log(\"Bokeh: ERROR: Unable to run BokehJS code because BokehJS library is missing\");\n",
       "        }\n",
       "      }\n",
       "    }, 10, root)\n",
       "  }\n",
       "})(window);"
      ],
      "application/vnd.bokehjs_exec.v0+json": ""
     },
     "metadata": {
      "application/vnd.bokehjs_exec.v0+json": {
       "id": "12332"
      }
     },
     "output_type": "display_data"
    }
   ],
   "source": [
    "#mt_input = phil_b38_intervals_samples_mt\n",
    "mt_input = yale_b38_intervals_mt\n",
    "\n",
    "mt = hl.read_matrix_table(mt_input)\n",
    "print('Reads in the following matrix table: \\n' + mt_input + '\\n')\n",
    "print(mt.count())\n",
    "\n",
    "var_plot = hl.plot.histogram(mt.sample_qc.r_insertion_deletion, \n",
    "                                 #range =(28000,42000), \n",
    "                                 bins = 100, \n",
    "                                 title ='Distribution of insertions/deletions ratio (Yale)', \n",
    "                                 legend='')\n",
    "\n",
    "fig = var_plot\n",
    "fig.xaxis.axis_label = 'r_insertions/deletions'\n",
    "fig.yaxis.axis_label = 'Number of samples'\n",
    "\n",
    "fig.y_range.start = 0\n",
    "fig.y_range.end = 25\n",
    "fig.x_range.start = .6\n",
    "fig.x_range.end = 1.2\n",
    "\n",
    "fig.title.align = \"center\"\n",
    "fig.title.text_color = \"black\"\n",
    "fig.title.text_font_size = \"20px\"\n",
    "\n",
    "fig.background_fill_color = \"white\"\n",
    "\n",
    "fig.xgrid.grid_line_color = None\n",
    "fig.ygrid.grid_line_color = None\n",
    "\n",
    "fig.xaxis.axis_label_text_font_size = \"17px\"\n",
    "fig.xaxis.axis_label_text_color = \"black\"\n",
    "fig.xaxis.axis_label_text_font_style = \"normal\"\n",
    "\n",
    "fig.yaxis.axis_label_text_font_size = \"17px\"\n",
    "fig.yaxis.axis_label_text_color = \"black\"\n",
    "fig.yaxis.axis_label_text_font_style = \"normal\"\n",
    "\n",
    "fig.outline_line_width = 0\n",
    "fig.outline_line_color = \"white\"\n",
    "\n",
    "fig.legend.border_line_width = 0\n",
    "fig.legend.label_width= 0\n",
    "fig.legend.label_height= 0\n",
    "#fig.legend.location = \"top_left\"\n",
    "fig.legend.visible = False\n",
    "\n",
    "# cutoff_mf = Span(location=0.5,dimension='height', line_color='black',line_dash='dashed', line_width=3)\n",
    "#fig.add_layout(cutoff_mf)\n",
    "\n",
    "'''\n",
    "citation_1 = Label(x=.65, y=120,\n",
    "                 text='Males', render_mode='css',\n",
    "                 border_line_color='white', border_line_alpha=0,\n",
    "                 background_fill_color='white', background_fill_alpha=0)\n",
    "\n",
    "fig.add_layout(citation_1)\n",
    "\n",
    "'''\n",
    "\n",
    "hl.plot.show(fig)"
   ]
  },
  {
   "cell_type": "markdown",
   "id": "b5313a49",
   "metadata": {},
   "source": [
    "# Filter matrix table rows to specific intervals "
   ]
  },
  {
   "cell_type": "code",
   "execution_count": 25,
   "id": "e13b1b70",
   "metadata": {},
   "outputs": [
    {
     "name": "stdout",
     "output_type": "stream",
     "text": [
      "Reads in the matrix table: \n",
      "/gpfs/gibbs/pi/brueckner/yale_phil/yale/v2/b38/vep_r1c1.mt\n",
      "\n",
      "Writes the matrix table: \n",
      "/gpfs/gibbs/pi/brueckner/yale_phil/yale/v2/b38/yale_b38_filtered_intervals.mt\n",
      "\n"
     ]
    },
    {
     "name": "stderr",
     "output_type": "stream",
     "text": [
      "2021-12-03 19:54:30 Hail: INFO: Reading table without type imputation\n",
      "  Loading field 'f0' as type str (user-supplied)\n",
      "  Loading field 'f1' as type int32 (user-supplied)\n",
      "  Loading field 'f2' as type int32 (user-supplied)\n",
      "  Loading field 'f3' as type str (user-supplied)\n",
      "  Loading field 'f4' as type str (user-supplied)\n",
      "2021-12-03 19:54:32 Hail: INFO: Coerced sorted dataset\n",
      "2021-12-03 19:54:43 Hail: INFO: Coerced sorted dataset\n",
      "2021-12-03 19:54:58 Hail: INFO: wrote matrix table with 330110 rows and 597 columns in 31 partitions to /gpfs/gibbs/pi/brueckner/yale_phil/yale/v2/b38/yale_b38_filtered_intervals.mt\n",
      "    Total size: 1.03 GiB\n",
      "    * Rows/entries: 1.03 GiB\n",
      "    * Columns: 62.24 KiB\n",
      "    * Globals: 11.00 B\n",
      "    * Smallest partition: 7638 rows (24.30 MiB)\n",
      "    * Largest partition:  13465 rows (42.89 MiB)\n"
     ]
    }
   ],
   "source": [
    "# Filter matrix table rows to specific intervals\n",
    "\n",
    "mt_input = yale_pre_intervals_mt # (1097716, 597)\n",
    "#mt_input = phil_pre_intervals_mt # (2910132, 597)\n",
    "\n",
    "mt_output = yale_b38_intervals_mt # (330110, 597)\n",
    "#mt_output = phil_b38_intervals_mt # (409574, 597)\n",
    "print('Writes the matrix table: \\n' + mt_output + '\\n')\n",
    "\n",
    "mt = hl.read_matrix_table(mt_input)\n",
    "print('Reads in the matrix table: \\n' + mt_input + '\\n')\n",
    "#print('count of the input dataframe: ' + str(mt.count()) + '\\n')\n",
    "\n",
    "intervals = '/gpfs/ycga/project/lek/shared/resources/hg38/exome_evaluation_regions.v1.interval_list'\n",
    "exome_intervals = hl.import_locus_intervals(intervals, reference_genome='GRCh38')\n",
    "\n",
    "mt = mt.filter_rows(hl.is_defined(exome_intervals[mt.locus]), keep=True)\n",
    "mt = hl.sample_qc(mt, name='sample_qc')\n",
    "\n",
    "mt.write(mt_output, overwrite = True)"
   ]
  },
  {
   "cell_type": "code",
   "execution_count": 27,
   "id": "8529b93a",
   "metadata": {},
   "outputs": [
    {
     "name": "stdout",
     "output_type": "stream",
     "text": [
      "count of the input dataframe:(1097716, 597)\n",
      "\n",
      "count of the output dataframe:(330110, 597)\n",
      "\n"
     ]
    }
   ],
   "source": [
    "# get counts\n",
    "#mt_input = phil_pre_intervals_mt\n",
    "#mt_output = phil_b38_intervals_mt\n",
    "\n",
    "mt_input = yale_pre_intervals_mt\n",
    "mt_output = yale_b38_intervals_mt\n",
    "\n",
    "################################################################################\n",
    "input_mt = hl.read_matrix_table(mt_input)\n",
    "output_mt = hl.read_matrix_table(mt_output)\n",
    "\n",
    "print('count of the input dataframe:' + str(input_mt.count()) + '\\n')\n",
    "print('count of the output dataframe:' + str(output_mt.count()) + '\\n')"
   ]
  },
  {
   "cell_type": "markdown",
   "id": "238e825e",
   "metadata": {},
   "source": [
    "# Annotate with batch number"
   ]
  },
  {
   "cell_type": "code",
   "execution_count": 36,
   "id": "a3b1d5b9",
   "metadata": {},
   "outputs": [
    {
     "name": "stdout",
     "output_type": "stream",
     "text": [
      "Reads in the matrix table: \n",
      "/gpfs/gibbs/pi/brueckner/yale_phil/phil/v2/phil_filtered_intervals_samples.mt\n",
      "\n",
      "Writes the matrix table: \n",
      "/gpfs/gibbs/pi/brueckner/yale_phil/phil/v2/phil_filtered_intervals_samples_annotated.mt\n",
      "\n",
      "Reads in the following tsv as a hail table: \n",
      "/gpfs/gibbs/pi/brueckner/yale_phil/sample_batches.txt\n",
      "\n"
     ]
    },
    {
     "name": "stderr",
     "output_type": "stream",
     "text": [
      "2021-12-05 13:29:26 Hail: INFO: Reading table to impute column types\n",
      "2021-12-05 13:29:26 Hail: INFO: Finished type imputation\n",
      "  Loading field 'sample_id' as type str (imputed)\n",
      "  Loading field 'capture_method' as type str (imputed)\n",
      "  Loading field 'sequencer' as type str (imputed)\n",
      "  Loading field 'batch_number' as type str (imputed)\n",
      "2021-12-05 13:30:19 Hail: INFO: wrote matrix table with 409574 rows and 592 columns in 53 partitions to /gpfs/gibbs/pi/brueckner/yale_phil/phil/v2/phil_filtered_intervals_samples_annotated.mt\n"
     ]
    }
   ],
   "source": [
    "# annotate with batch and capture info and sequencer info\n",
    "\n",
    "mt_input = phil_b38_intervals_samples_mt\n",
    "print('Reads in the matrix table: \\n' + mt_input + '\\n')\n",
    "\n",
    "mt_output = phil_b38_intervals_samples_annotated_mt\n",
    "print('Writes the matrix table: \\n' + mt_output + '\\n')\n",
    "\n",
    "tsv_input = '/gpfs/gibbs/pi/brueckner/yale_phil/sample_batches.txt'\n",
    "print('Reads in the following tsv as a hail table: \\n' + tsv_input + '\\n')\n",
    "\n",
    "#############################################################################\n",
    "\n",
    "mt = hl.read_matrix_table(mt_input)\n",
    "#print('count of the input dataframe: ' + str(mt.count()) + '\\n')\n",
    "\n",
    "ht = hl.import_table(tsv_input, impute=True).key_by('sample_id')\n",
    "#ht.describe()\n",
    "\n",
    "mt = mt.annotate_cols(\n",
    "    capture_method = ht[mt.s].capture_method,\n",
    "    sequencer = ht[mt.s].sequencer,\n",
    "    batch_number = ht[mt.s].batch_number\n",
    ")\n",
    "\n",
    "mt.write(mt_output, overwrite = True)"
   ]
  },
  {
   "cell_type": "code",
   "execution_count": 122,
   "id": "fc2cbb66",
   "metadata": {},
   "outputs": [
    {
     "name": "stdout",
     "output_type": "stream",
     "text": [
      "Reads in the following matrix table: \n",
      "/gpfs/gibbs/pi/brueckner/yale_phil/yale/v2/b38/yale_b38_filtered_intervals_samples_annotated.mt\n",
      "\n",
      "(330110, 597)\n",
      "(330110, 119)\n"
     ]
    },
    {
     "data": {
      "text/html": [
       "\n",
       "\n",
       "\n",
       "\n",
       "\n",
       "\n",
       "  <div class=\"bk-root\" id=\"a8493679-6c85-43e2-ba67-c8082f6db77f\" data-root-id=\"21317\"></div>\n"
      ]
     },
     "metadata": {},
     "output_type": "display_data"
    },
    {
     "data": {
      "application/javascript": [
       "(function(root) {\n",
       "  function embed_document(root) {\n",
       "    \n",
       "  const docs_json = {\"282339bf-e23e-4aa9-bab6-2bea8d626db8\":{\"defs\":[],\"roots\":{\"references\":[{\"attributes\":{\"background_fill_color\":\"white\",\"below\":[{\"id\":\"21328\"}],\"center\":[{\"id\":\"21331\"},{\"id\":\"21335\"},{\"id\":\"21366\"}],\"left\":[{\"id\":\"21332\"}],\"outline_line_color\":\"white\",\"outline_line_width\":0,\"renderers\":[{\"id\":\"21354\"}],\"title\":{\"id\":\"21318\"},\"toolbar\":{\"id\":\"21343\"},\"x_range\":{\"id\":\"21320\"},\"x_scale\":{\"id\":\"21324\"},\"y_range\":{\"id\":\"21322\"},\"y_scale\":{\"id\":\"21326\"}},\"id\":\"21317\",\"subtype\":\"Figure\",\"type\":\"Plot\"},{\"attributes\":{\"bottom\":{\"value\":0},\"fill_color\":{\"value\":\"#1f77b4\"},\"left\":{\"field\":\"left\"},\"right\":{\"field\":\"right\"},\"top\":{\"field\":\"top\"}},\"id\":\"21351\",\"type\":\"Quad\"},{\"attributes\":{},\"id\":\"21339\",\"type\":\"SaveTool\"},{\"attributes\":{\"axis\":{\"id\":\"21328\"},\"coordinates\":null,\"grid_line_color\":null,\"group\":null,\"ticker\":null},\"id\":\"21331\",\"type\":\"Grid\"},{\"attributes\":{\"axis\":{\"id\":\"21332\"},\"coordinates\":null,\"dimension\":1,\"grid_line_color\":null,\"group\":null,\"ticker\":null},\"id\":\"21335\",\"type\":\"Grid\"},{\"attributes\":{},\"id\":\"21324\",\"type\":\"LinearScale\"},{\"attributes\":{\"border_line_width\":0,\"coordinates\":null,\"group\":null,\"items\":[{\"id\":\"21367\"}],\"label_height\":0,\"label_width\":0,\"visible\":false},\"id\":\"21366\",\"type\":\"Legend\"},{\"attributes\":{},\"id\":\"21329\",\"type\":\"BasicTicker\"},{\"attributes\":{\"bottom\":{\"value\":0},\"fill_alpha\":{\"value\":0.1},\"fill_color\":{\"value\":\"#1f77b4\"},\"hatch_alpha\":{\"value\":0.1},\"left\":{\"field\":\"left\"},\"line_alpha\":{\"value\":0.1},\"right\":{\"field\":\"right\"},\"top\":{\"field\":\"top\"}},\"id\":\"21352\",\"type\":\"Quad\"},{\"attributes\":{\"label\":{\"value\":\"\"},\"renderers\":[{\"id\":\"21354\"}]},\"id\":\"21367\",\"type\":\"LegendItem\"},{\"attributes\":{\"axis_label\":\"Number of samples\",\"axis_label_text_color\":\"black\",\"axis_label_text_font_size\":\"17px\",\"axis_label_text_font_style\":\"normal\",\"coordinates\":null,\"formatter\":{\"id\":\"21358\"},\"group\":null,\"major_label_policy\":{\"id\":\"21359\"},\"ticker\":{\"id\":\"21333\"}},\"id\":\"21332\",\"type\":\"LinearAxis\"},{\"attributes\":{},\"id\":\"21363\",\"type\":\"UnionRenderers\"},{\"attributes\":{},\"id\":\"21359\",\"type\":\"AllLabels\"},{\"attributes\":{\"end\":20,\"start\":0},\"id\":\"21322\",\"type\":\"DataRange1d\"},{\"attributes\":{\"data\":{\"left\":[28000.0,28140.0,28280.0,28420.0,28560.0,28700.0,28840.0,28980.0,29120.0,29260.0,29400.0,29540.0,29680.0,29820.0,29960.0,30100.0,30240.0,30380.0,30520.0,30660.0,30800.0,30940.0,31080.0,31220.0,31360.0,31500.0,31640.0,31780.0,31920.0,32060.0,32200.0,32340.0,32480.0,32620.0,32760.0,32900.0,33040.0,33180.0,33320.0,33460.0,33600.0,33740.0,33880.0,34020.0,34160.0,34300.0,34440.0,34580.0,34720.0,34860.0,35000.0,35140.0,35280.0,35420.0,35560.0,35700.0,35840.0,35980.0,36120.0,36260.0,36400.0,36540.0,36680.0,36820.0,36960.0,37100.0,37240.0,37380.0,37520.0,37660.0,37800.0,37940.0,38080.0,38220.0,38360.0,38500.0,38640.0,38780.0,38920.0,39060.0,39200.0,39340.0,39480.0,39620.0,39760.0,39900.0,40040.0,40180.0,40320.0,40460.0,40600.0,40740.0,40880.0,41020.0,41160.0,41300.0,41440.0,41580.0,41720.0,41860.0],\"right\":[28140.0,28280.0,28420.0,28560.0,28700.0,28840.0,28980.0,29120.0,29260.0,29400.0,29540.0,29680.0,29820.0,29960.0,30100.0,30240.0,30380.0,30520.0,30660.0,30800.0,30940.0,31080.0,31220.0,31360.0,31500.0,31640.0,31780.0,31920.0,32060.0,32200.0,32340.0,32480.0,32620.0,32760.0,32900.0,33040.0,33180.0,33320.0,33460.0,33600.0,33740.0,33880.0,34020.0,34160.0,34300.0,34440.0,34580.0,34720.0,34860.0,35000.0,35140.0,35280.0,35420.0,35560.0,35700.0,35840.0,35980.0,36120.0,36260.0,36400.0,36540.0,36680.0,36820.0,36960.0,37100.0,37240.0,37380.0,37520.0,37660.0,37800.0,37940.0,38080.0,38220.0,38360.0,38500.0,38640.0,38780.0,38920.0,39060.0,39200.0,39340.0,39480.0,39620.0,39760.0,39900.0,40040.0,40180.0,40320.0,40460.0,40600.0,40740.0,40880.0,41020.0,41160.0,41300.0,41440.0,41580.0,41720.0,41860.0,42000.0],\"top\":[0,0,0,0,0,1,0,0,0,1,1,4,8,6,9,3,5,11,15,9,10,3,5,1,7,4,2,0,2,0,1,0,0,0,0,0,0,0,1,0,0,0,1,0,1,0,0,1,0,1,1,1,0,0,2,0,0,0,1,1,0,0,0,0,0,0,0,0,0,0,0,0,0,0,0,0,0,0,0,0,0,0,0,0,0,0,0,0,0,0,0,0,0,0,0,0,0,0,0,0]},\"selected\":{\"id\":\"21364\"},\"selection_policy\":{\"id\":\"21363\"}},\"id\":\"21350\",\"type\":\"ColumnDataSource\"},{\"attributes\":{\"coordinates\":null,\"data_source\":{\"id\":\"21350\"},\"glyph\":{\"id\":\"21351\"},\"group\":null,\"hover_glyph\":null,\"muted_glyph\":{\"id\":\"21353\"},\"nonselection_glyph\":{\"id\":\"21352\"},\"view\":{\"id\":\"21355\"}},\"id\":\"21354\",\"type\":\"GlyphRenderer\"},{\"attributes\":{},\"id\":\"21336\",\"type\":\"PanTool\"},{\"attributes\":{},\"id\":\"21361\",\"type\":\"BasicTickFormatter\"},{\"attributes\":{\"source\":{\"id\":\"21350\"}},\"id\":\"21355\",\"type\":\"CDSView\"},{\"attributes\":{\"align\":\"center\",\"coordinates\":null,\"group\":null,\"text\":\"Distribution of n_snp with V2 capture (Yale)\",\"text_color\":\"black\",\"text_font_size\":\"20px\"},\"id\":\"21318\",\"type\":\"Title\"},{\"attributes\":{},\"id\":\"21333\",\"type\":\"BasicTicker\"},{\"attributes\":{\"end\":42700.0,\"start\":27300.0},\"id\":\"21320\",\"type\":\"Range1d\"},{\"attributes\":{},\"id\":\"21337\",\"type\":\"WheelZoomTool\"},{\"attributes\":{\"bottom\":{\"value\":0},\"fill_alpha\":{\"value\":0.2},\"fill_color\":{\"value\":\"#1f77b4\"},\"hatch_alpha\":{\"value\":0.2},\"left\":{\"field\":\"left\"},\"line_alpha\":{\"value\":0.2},\"right\":{\"field\":\"right\"},\"top\":{\"field\":\"top\"}},\"id\":\"21353\",\"type\":\"Quad\"},{\"attributes\":{},\"id\":\"21362\",\"type\":\"AllLabels\"},{\"attributes\":{},\"id\":\"21364\",\"type\":\"Selection\"},{\"attributes\":{},\"id\":\"21358\",\"type\":\"BasicTickFormatter\"},{\"attributes\":{\"axis_label\":\"n_snp\",\"axis_label_text_color\":\"black\",\"axis_label_text_font_size\":\"17px\",\"axis_label_text_font_style\":\"normal\",\"coordinates\":null,\"formatter\":{\"id\":\"21361\"},\"group\":null,\"major_label_policy\":{\"id\":\"21362\"},\"ticker\":{\"id\":\"21329\"}},\"id\":\"21328\",\"type\":\"LinearAxis\"},{\"attributes\":{\"overlay\":{\"id\":\"21342\"}},\"id\":\"21338\",\"type\":\"BoxZoomTool\"},{\"attributes\":{\"tools\":[{\"id\":\"21336\"},{\"id\":\"21337\"},{\"id\":\"21338\"},{\"id\":\"21339\"},{\"id\":\"21340\"},{\"id\":\"21341\"}]},\"id\":\"21343\",\"type\":\"Toolbar\"},{\"attributes\":{},\"id\":\"21326\",\"type\":\"LinearScale\"},{\"attributes\":{},\"id\":\"21341\",\"type\":\"HelpTool\"},{\"attributes\":{\"bottom_units\":\"screen\",\"coordinates\":null,\"fill_alpha\":0.5,\"fill_color\":\"lightgrey\",\"group\":null,\"left_units\":\"screen\",\"level\":\"overlay\",\"line_alpha\":1.0,\"line_color\":\"black\",\"line_dash\":[4,4],\"line_width\":2,\"right_units\":\"screen\",\"syncable\":false,\"top_units\":\"screen\"},\"id\":\"21342\",\"type\":\"BoxAnnotation\"},{\"attributes\":{},\"id\":\"21340\",\"type\":\"ResetTool\"}],\"root_ids\":[\"21317\"]},\"title\":\"Bokeh Application\",\"version\":\"2.4.2\"}};\n",
       "  const render_items = [{\"docid\":\"282339bf-e23e-4aa9-bab6-2bea8d626db8\",\"root_ids\":[\"21317\"],\"roots\":{\"21317\":\"a8493679-6c85-43e2-ba67-c8082f6db77f\"}}];\n",
       "  root.Bokeh.embed.embed_items_notebook(docs_json, render_items);\n",
       "\n",
       "  }\n",
       "  if (root.Bokeh !== undefined) {\n",
       "    embed_document(root);\n",
       "  } else {\n",
       "    let attempts = 0;\n",
       "    const timer = setInterval(function(root) {\n",
       "      if (root.Bokeh !== undefined) {\n",
       "        clearInterval(timer);\n",
       "        embed_document(root);\n",
       "      } else {\n",
       "        attempts++;\n",
       "        if (attempts > 100) {\n",
       "          clearInterval(timer);\n",
       "          console.log(\"Bokeh: ERROR: Unable to run BokehJS code because BokehJS library is missing\");\n",
       "        }\n",
       "      }\n",
       "    }, 10, root)\n",
       "  }\n",
       "})(window);"
      ],
      "application/vnd.bokehjs_exec.v0+json": ""
     },
     "metadata": {
      "application/vnd.bokehjs_exec.v0+json": {
       "id": "21317"
      }
     },
     "output_type": "display_data"
    }
   ],
   "source": [
    "# Filter to batch number and plot n_snps \n",
    "\n",
    "#mt_input = phil_b38_intervals_samples_annotated_mt\n",
    "mt_input = yale_b38_intervals_samples_annotated_mt\n",
    "\n",
    "mt = hl.read_matrix_table(mt_input)\n",
    "print('Reads in the following matrix table: \\n' + mt_input + '\\n')\n",
    "print(mt.count())\n",
    "\n",
    "#mt = mt.filter_cols(mt.capture_method == \"V2\", keep=True)\n",
    "#mt = mt.filter_cols(mt.capture_method == \"MedExome\", keep=True)\n",
    "print(mt.count())\n",
    "\n",
    "var_plot = hl.plot.histogram(mt.sample_qc.n_snp, \n",
    "                                 range =(28000,42000), \n",
    "                                 bins = 100, \n",
    "                                 title ='Distribution of n_snp with V2 capture (Yale)', \n",
    "                                 legend='')\n",
    "\n",
    "fig = var_plot\n",
    "fig.xaxis.axis_label = 'n_snp'\n",
    "fig.yaxis.axis_label = 'Number of samples'\n",
    "\n",
    "fig.y_range.start = 0\n",
    "fig.y_range.end = 20\n",
    "#fig.x_range.start = 2.1\n",
    "#fig.x_range.end = 2.5\n",
    "\n",
    "fig.title.align = \"center\"\n",
    "fig.title.text_color = \"black\"\n",
    "fig.title.text_font_size = \"20px\"\n",
    "\n",
    "fig.background_fill_color = \"white\"\n",
    "\n",
    "fig.xgrid.grid_line_color = None\n",
    "fig.ygrid.grid_line_color = None\n",
    "\n",
    "fig.xaxis.axis_label_text_font_size = \"17px\"\n",
    "fig.xaxis.axis_label_text_color = \"black\"\n",
    "fig.xaxis.axis_label_text_font_style = \"normal\"\n",
    "\n",
    "fig.yaxis.axis_label_text_font_size = \"17px\"\n",
    "fig.yaxis.axis_label_text_color = \"black\"\n",
    "fig.yaxis.axis_label_text_font_style = \"normal\"\n",
    "\n",
    "fig.outline_line_width = 0\n",
    "fig.outline_line_color = \"white\"\n",
    "\n",
    "fig.legend.border_line_width = 0\n",
    "fig.legend.label_width= 0\n",
    "fig.legend.label_height= 0\n",
    "#fig.legend.location = \"top_left\"\n",
    "fig.legend.visible = False\n",
    "\n",
    "# cutoff_mf = Span(location=0.5,dimension='height', line_color='black',line_dash='dashed', line_width=3)\n",
    "#fig.add_layout(cutoff_mf)\n",
    "\n",
    "'''\n",
    "citation_1 = Label(x=.65, y=120,\n",
    "                 text='Males', render_mode='css',\n",
    "                 border_line_color='white', border_line_alpha=0,\n",
    "                 background_fill_color='white', background_fill_alpha=0)\n",
    "\n",
    "fig.add_layout(citation_1)\n",
    "\n",
    "'''\n",
    "\n",
    "hl.plot.show(fig)"
   ]
  },
  {
   "cell_type": "code",
   "execution_count": null,
   "id": "90c9b1a3",
   "metadata": {},
   "outputs": [],
   "source": [
    "mt_input = vep_r1_mt\n",
    "#mt_input = '/gpfs/gibbs/pi/brueckner/yale_phil/yale/vep_.mt'\n",
    "print('Reads in the following matrix table: \\n' + mt_input + '\\n')\n",
    "mt = hl.read_matrix_table(mt_input)\n",
    "#mt.describe()"
   ]
  },
  {
   "cell_type": "markdown",
   "id": "1abf3156",
   "metadata": {},
   "source": [
    "# TiTv vs n_snps "
   ]
  },
  {
   "cell_type": "code",
   "execution_count": 14,
   "id": "4cc26631",
   "metadata": {},
   "outputs": [
    {
     "name": "stdout",
     "output_type": "stream",
     "text": [
      "Reads in the following matrix table: \n",
      "/gpfs/gibbs/pi/brueckner/yale_phil/phil/v2/phil_intervals_DP.mt\n",
      "\n"
     ]
    },
    {
     "data": {
      "text/html": [
       "<table><thead><tr><td style=\"white-space: nowrap; max-width: 500px; overflow: hidden; text-overflow: ellipsis; \" colspan=\"1\"><div style=\"text-align: left;\"></div></td><td style=\"white-space: nowrap; max-width: 500px; overflow: hidden; text-overflow: ellipsis; \" colspan=\"1\"><div style=\"text-align: left;\"></div></td></tr><tr><td style=\"white-space: nowrap; max-width: 500px; overflow: hidden; text-overflow: ellipsis; \" colspan=\"1\"><div style=\"text-align: left;border-bottom: solid 2px #000; padding-bottom: 5px\">s</div></td><td style=\"white-space: nowrap; max-width: 500px; overflow: hidden; text-overflow: ellipsis; \" colspan=\"1\"><div style=\"text-align: left;border-bottom: solid 2px #000; padding-bottom: 5px\">capture_method</div></td></tr><tr><td style=\"white-space: nowrap; max-width: 500px; overflow: hidden; text-overflow: ellipsis; text-align: left;\">str</td><td style=\"white-space: nowrap; max-width: 500px; overflow: hidden; text-overflow: ellipsis; text-align: left;\">str</td></tr>\n",
       "</thead><tbody><tr><td style=\"white-space: nowrap; max-width: 500px; overflow: hidden; text-overflow: ellipsis; \">&quot;1-00008&quot;</td><td style=\"white-space: nowrap; max-width: 500px; overflow: hidden; text-overflow: ellipsis; \">&quot;MedExome&quot;</td></tr>\n",
       "<tr><td style=\"white-space: nowrap; max-width: 500px; overflow: hidden; text-overflow: ellipsis; \">&quot;1-00008-01&quot;</td><td style=\"white-space: nowrap; max-width: 500px; overflow: hidden; text-overflow: ellipsis; \">&quot;#N/A&quot;</td></tr>\n",
       "<tr><td style=\"white-space: nowrap; max-width: 500px; overflow: hidden; text-overflow: ellipsis; \">&quot;1-00008-02&quot;</td><td style=\"white-space: nowrap; max-width: 500px; overflow: hidden; text-overflow: ellipsis; \">&quot;#N/A&quot;</td></tr>\n",
       "<tr><td style=\"white-space: nowrap; max-width: 500px; overflow: hidden; text-overflow: ellipsis; \">&quot;1-00042&quot;</td><td style=\"white-space: nowrap; max-width: 500px; overflow: hidden; text-overflow: ellipsis; \">&quot;V2&quot;</td></tr>\n",
       "<tr><td style=\"white-space: nowrap; max-width: 500px; overflow: hidden; text-overflow: ellipsis; \">&quot;1-00042-01&quot;</td><td style=\"white-space: nowrap; max-width: 500px; overflow: hidden; text-overflow: ellipsis; \">&quot;#N/A&quot;</td></tr>\n",
       "<tr><td style=\"white-space: nowrap; max-width: 500px; overflow: hidden; text-overflow: ellipsis; \">&quot;1-00042-02&quot;</td><td style=\"white-space: nowrap; max-width: 500px; overflow: hidden; text-overflow: ellipsis; \">&quot;#N/A&quot;</td></tr>\n",
       "<tr><td style=\"white-space: nowrap; max-width: 500px; overflow: hidden; text-overflow: ellipsis; \">&quot;1-00082&quot;</td><td style=\"white-space: nowrap; max-width: 500px; overflow: hidden; text-overflow: ellipsis; \">&quot;V2&quot;</td></tr>\n",
       "<tr><td style=\"white-space: nowrap; max-width: 500px; overflow: hidden; text-overflow: ellipsis; \">&quot;1-00082-01&quot;</td><td style=\"white-space: nowrap; max-width: 500px; overflow: hidden; text-overflow: ellipsis; \">&quot;#N/A&quot;</td></tr>\n",
       "<tr><td style=\"white-space: nowrap; max-width: 500px; overflow: hidden; text-overflow: ellipsis; \">&quot;1-00082-02&quot;</td><td style=\"white-space: nowrap; max-width: 500px; overflow: hidden; text-overflow: ellipsis; \">&quot;#N/A&quot;</td></tr>\n",
       "<tr><td style=\"white-space: nowrap; max-width: 500px; overflow: hidden; text-overflow: ellipsis; \">&quot;1-00226&quot;</td><td style=\"white-space: nowrap; max-width: 500px; overflow: hidden; text-overflow: ellipsis; \">&quot;MedExome&quot;</td></tr>\n",
       "</tbody></table><p style=\"background: #fdd; padding: 0.4em;\">showing top 10 rows</p>\n"
      ],
      "text/plain": [
       "+--------------+----------------+\n",
       "| s            | capture_method |\n",
       "+--------------+----------------+\n",
       "| str          | str            |\n",
       "+--------------+----------------+\n",
       "| \"1-00008\"    | \"MedExome\"     |\n",
       "| \"1-00008-01\" | \"#N/A\"         |\n",
       "| \"1-00008-02\" | \"#N/A\"         |\n",
       "| \"1-00042\"    | \"V2\"           |\n",
       "| \"1-00042-01\" | \"#N/A\"         |\n",
       "| \"1-00042-02\" | \"#N/A\"         |\n",
       "| \"1-00082\"    | \"V2\"           |\n",
       "| \"1-00082-01\" | \"#N/A\"         |\n",
       "| \"1-00082-02\" | \"#N/A\"         |\n",
       "| \"1-00226\"    | \"MedExome\"     |\n",
       "+--------------+----------------+\n",
       "showing top 10 rows"
      ]
     },
     "metadata": {},
     "output_type": "display_data"
    }
   ],
   "source": [
    "mt_input = phil_b38_intervals_DP_mt\n",
    "\n",
    "mt = hl.read_matrix_table(mt_input)\n",
    "print('Reads in the following matrix table: \\n' + mt_input + '\\n')\n",
    "\n",
    "mt.capture_method.show()"
   ]
  },
  {
   "cell_type": "code",
   "execution_count": 50,
   "id": "dd11c25f",
   "metadata": {},
   "outputs": [
    {
     "name": "stdout",
     "output_type": "stream",
     "text": [
      "Reads in the following matrix table: \n",
      "/gpfs/gibbs/pi/brueckner/ken_rotation/output/wes14/split_intervals.mt\n",
      "\n",
      "(641599, 1119)\n"
     ]
    },
    {
     "data": {
      "text/html": [
       "\n",
       "\n",
       "\n",
       "\n",
       "\n",
       "\n",
       "  <div class=\"bk-root\" id=\"4fe66175-108b-4def-a051-69db0f7f03f7\" data-root-id=\"13822\"></div>\n"
      ]
     },
     "metadata": {},
     "output_type": "display_data"
    },
    {
     "data": {
      "application/javascript": [
       "(function(root) {\n",
       "  function embed_document(root) {\n",
       "    \n",
       "  const docs_json = {\"c69f827c-1800-4325-9e9a-8026271670d5\":{\"defs\":[],\"roots\":{\"references\":[{\"attributes\":{\"background_fill_color\":\"white\",\"below\":[{\"id\":\"13833\"}],\"center\":[{\"id\":\"13836\"},{\"id\":\"13840\"}],\"height\":800,\"left\":[{\"id\":\"13837\"}],\"outline_line_color\":\"white\",\"outline_line_width\":0,\"renderers\":[{\"id\":\"13862\"}],\"title\":{\"id\":\"13823\"},\"toolbar\":{\"id\":\"13848\"},\"width\":800,\"x_range\":{\"id\":\"13825\"},\"x_scale\":{\"id\":\"13829\"},\"y_range\":{\"id\":\"13827\"},\"y_scale\":{\"id\":\"13831\"}},\"id\":\"13822\",\"subtype\":\"Figure\",\"type\":\"Plot\"},{\"attributes\":{\"align\":\"center\",\"coordinates\":null,\"group\":null,\"text\":\"TiTv versus n_snps (Phil)\",\"text_color\":\"black\",\"text_font_size\":\"20px\"},\"id\":\"13823\",\"type\":\"Title\"},{\"attributes\":{\"fill_color\":{\"value\":\"#1f77b4\"},\"line_color\":{\"value\":\"#1f77b4\"},\"x\":{\"field\":\"x\"},\"y\":{\"field\":\"y\"}},\"id\":\"13859\",\"type\":\"Circle\"},{\"attributes\":{\"axis\":{\"id\":\"13837\"},\"coordinates\":null,\"dimension\":1,\"grid_line_color\":null,\"group\":null,\"ticker\":null},\"id\":\"13840\",\"type\":\"Grid\"},{\"attributes\":{\"data\":{\"index\":[0,1,2,3,4,5,6,7,8,9,10,11,12,13,14,15,16,17,18,19,20,21,22,23,24,25,26,27,28,29,30,31,32,33,34,35,36,37,38,39,40,41,42,43,44,45,46,47,48,49,50,51,52,53,54,55,56,57,58,59,60,61,62,63,64,65,66,67,68,69,70,71,72,73,74,75,76,77,78,79,80,81,82,83,84,85,86,87,88,89,90,91,92,93,94,95,96,97,98,99,100,101,102,103,104,105,106,107,108,109,110,111,112,113,114,115,116,117,118,119,120,121,122,123,124,125,126,127,128,129,130,131,132,133,134,135,136,137,138,139,140,141,142,143,144,145,146,147,148,149,150,151,152,153,154,155,156,157,158,159,160,161,162,163,164,165,166,167,168,169,170,171,172,173,174,175,176,177,178,179,180,181,182,183,184,185,186,187,188,189,190,191,192,193,194,195,196,197,198,199,200,201,202,203,204,205,206,207,208,209,210,211,212,213,214,215,216,217,218,219,220,221,222,223,224,225,226,227,228,229,230,231,232,233,234,235,236,237,238,239,240,241,242,243,244,245,246,247,248,249,250,251,252,253,254,255,256,257,258,259,260,261,262,263,264,265,266,267,268,269,270,271,272,273,274,275,276,277,278,279,280,281,282,283,284,285,286,287,288,289,290,291,292,293,294,295,296,297,298,299,300,301,302,303,304,305,306,307,308,309,310,311,312,313,314,315,316,317,318,319,320,321,322,323,324,325,326,327,328,329,330,331,332,333,334,335,336,337,338,339,340,341,342,343,344,345,346,347,348,349,350,351,352,353,354,355,356,357,358,359,360,361,362,363,364,365,366,367,368,369,370,371,372,373,374,375,376,377,378,379,380,381,382,383,384,385,386,387,388,389,390,391,392,393,394,395,396,397,398,399,400,401,402,403,404,405,406,407,408,409,410,411,412,413,414,415,416,417,418,419,420,421,422,423,424,425,426,427,428,429,430,431,432,433,434,435,436,437,438,439,440,441,442,443,444,445,446,447,448,449,450,451,452,453,454,455,456,457,458,459,460,461,462,463,464,465,466,467,468,469,470,471,472,473,474,475,476,477,478,479,480,481,482,483,484,485,486,487,488,489,490,491,492,493,494,495,496,497,498,499,500,501,502,503,504,505,506,507,508,509,510,511,512,513,514,515,516,517,518,519,520,521,522,523,524,525,526,527,528,529,530,531,532,533,534,535,536,537,538,539,540,541,542,543,544,545,546,547,548,549,550,551,552,553,554,555,556,557,558,559,560,561,562,563,564,565,566,567,568,569,570,571,572,573,574,575,576,577,578,579,580,581,582,583,584,585,586,587,588,589,590,591,592,593,594,595,596,597,598,599,600,601,602,603,604,605,606,607,608,609,610,611,612,613,614,615,616,617,618,619,620,621,622,623,624,625,626,627,628],\"x\":{\"__ndarray__\":\"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\",\"dtype\":\"float64\",\"order\":\"little\",\"shape\":[629]},\"y\":{\"__ndarray__\":\"k6yEHgolB0AINpXxqfgGQBxj4Y8oDgdAd5QtCiraBkAsh7ea3e4GQAAUlLrbFAdA8pQWMQh7BkBFSXAii7YGQLHzwmjtvQZAUtlse7zdBkDr0G+2Dv0GQHf3E+tGKwdA4k+AVMmRBkALqqAKqqAGQJ779Z9tsQZAB7kUIXTfBkBg+HgQAIYHQPnq+8X9awZAwXaNtJ93BkAM2HNkA94GQBu641XI9wZAkOtnPfEDB0DIpLVRJiMHQICT4o/HMQdAjTvarkYzB0BhMy8ofFEHQDpepsUkYAdAvF2ydQxiB0DNkQMdbwoGQLusz2oJigZA0YPtlZGLBkAGfUFf0JcGQKeAMtvAqQZApY/NnhPFBkDmWJ/I0NEGQDXdw3Ki1AZAQJ9OBz3iBkAZO2mTU+0GQPgFOiVj/AZAxR4qL6MPB0C+GD3ljh8HQO+iuHX/WAdAybMR1/sGBkDLOlT+VZUGQDxs8PY5ogZACfoDqDquBkAIjYRl/LMGQO1K09I5wAZAwQglwcXJBkDfhehdiN4GQFxBOQd2/gZAgc1ku0QNB0BkQizI2hEHQIikJtcnKAdA7hqVsr9pB0At+j+VeA8GQADJLmsUXQZAZ19jYoJyBkAumaOyHn4GQEXMcmpdiAZAJR9QazuhBkC+9laj9KoGQEvqQw7MtAZAb8gb8oa8BkConWtPxM4GQKs9SewH3gZAtpPkD07hBkD0L0D/AvQGQJ27RU32+QZAWFunxroYB0B1kGp3DysHQAoEaPbINgdAwAsuC5NIB0BaPo8fvmEGQHflBVTtdQZAULveHi6GBkBLmCOWAo4GQB+PLdr6lgZAijE8Q9+jBkCQDC3omLEGQHcWCpouvgZAz4xFQILJBkDCskhwtN0GQA/OdvIw6QZABPcR3EfwBkDXpoIecf0GQEIj6+vmBgdA46JvmLQOB0A/czlHHiUHQAeiKI+6NwdAZsuwUdSoB0CtPltLkhoGQMI+ek9wIQZAqM7RBWAwBkCLirg3Xz0GQPNK9dy7SQZA+XukDmRWBkBSbPv4sGQGQOuw4JQuZwZAnud5nud5BkBB67XEkYsGQJCqWL5VnQZA3SMkXzCmBkCaljoGvbEGQHsnstlywAZArgCR/7rRBkDf2ajvbNQGQIk74o644wZA7r/4gqXzBkAvtN9mWwcHQO54bgVCFQdAWOvIF+oaB0A7TYkQyCoHQLBYfOGOPAdAaLtJ/DCYB0BVxFIRSwUGQIgxamcYGgZAl0Ecq2wkBkC/m1hnODYGQFGkKSSmUwZA1DDijV9vBkDcMPqFmnoGQHurkiDnggZAVKiPAWeRBkBpfT4SUZwGQD1EVgzvpgZAyJEzz0KyBkBX2BxItMIGQGgqDgNbzQZA/zMex6/aBkDHGLDB1eEGQIb8l/uy7AZA7bN3lq0BB0CQINaergkHQBsvS53hIAdA8EbgR24sB0DYyDhdZzUHQNorqEPQQwdAXKdCJEE2BkB541X85EsGQNLQ8pUoWAZAXwSZ6zVfBkA9IS8XfXIGQCrkmnNCdwZAgerYWxuGBkCRnY5VQosGQLBCUzpQoQZA7APMcOmqBkDydALjIrEGQLruQuaLwAZAzHXRitTIBkBvBRAFLNYGQKSYRGRv5wZAFtquX1/uBkD1kdJx+/YGQBwk/QEgCwdAQEnGOp4oB0AsKj6+EjgHQCwoV0wuQwdAOPf1zzZjB0D0kglOICkGQGKpKvhDMAZAXRi8TVs+BkBm4dCOhmUGQFt7kFRHcQZAvFjlTZp1BkAjN+FtJYwGQEvIb2ZtnwZA3rODKKajBkDxemWnyrkGQBBQ8GQ4wQZAwTXnpkjIBkBmGYSpUtsGQEdlPfwk6AZAUO8Qof/0BkD+SWdWPfkGQA0Ha+MKCAdAhNErMkkOB0CP4nvp1igHQJ83z9FaVAdA9dhtRKM0BkBm/3RDHzwGQBJQp78LRQZAv2czOXlQBkAleCXXwl4GQKo7fE7WaQZAmA7IK1iDBkCYfICkMYsGQH4G5XrAmwZAnrux1ZKiBkBDShLdsrQGQEnyX13fwAZAulqkgYDRBkCLX8KtiNsGQJHfqN364AZAeMvUg7zuBkAVx6h93vcGQOFFHPKaBgdAQgKNxpoXB0CZlUaPqCAHQLuirqgrKgdAo7rUx+rmBUDWtPlm1ikGQJpn+oIhTQZAL4RcS8xWBkCNftXLBWoGQBCmX1UhdwZAeSDwAyqHBkDwJtYZjo0GQAHG3UCXmAZAB6F3vzOmBkDtdh1qobQGQKca5cGxvwZABQVkNYHPBkAv2yI9PtgGQKnSDWke5wZA7+7u7u7uBkAEEq9jcwUHQOk7FhiaEQdAutnFAD8aB0AjVGeNzCgHQPg9xwyOMgdA1T4nXb1zB0Az7WrQxfQFQBsFubyQJQZAi/3tRt87BkD3LdbvSUsGQErOiDRyXAZAbZw4+bBuBkBYRv+gYngGQE627cM/igZASSbEbfaOBkD+KxEfAJoGQLnvd3+nqQZABYTGg9m5BkAfH4326bwGQNQcsMfL0QZA7YxRdiTYBkAsZKpxk+MGQC3OaPew9QZA8rizhN38BkCu8LjC4woHQOpzA/9tFwdAzXWm5eUdB0Dbtm3bti0HQLrFZig5UwdAzyEnG3bpBUDLkWDBmicGQJqRIFjQQgZADEdxohxmBkD2gNkDZm8GQLNnMmE2ewZAXmctiWKKBkB+ZIAuIpYGQKA7BDylnQZAklK8RYClBkCjoFYF1rIGQNMwlrEnxAZAqiCoUSTMBkBvgZ3ZRt0GQDUdl+xI9QZAcVBm5GABB0CHsdr62wMHQJhMJIuJHQdA06mYcRUoB0DlRpYnB/oFQHF4fStKCQZA9l3U7Y9IBkCr5yTXDFsGQO4I6kIZawZAywhrclx4BkAWL1F6TocGQMVUI7HpigZAaUz3H46gBkB8cwFkgaoGQDNsDUUZvgZA+NEY1rDMBkCiWpZLT9kGQAYExE+J6QZA2xpkjCL1BkDDwUewIvkGQDeitGwJHwdAFNN90gLoBUBnTOlgAxkGQMqwC/9DUwZAhuQl3rJoBkCDfjfod4MGQO5XlPvSmAZALJb9NyCuBkD1hTZwn7EGQG76Nn2bvgZArjBXmCvMBkCdbXrAk+IGQMjkqWDw/wZA8Vi8WXIDB0CT66J8ORIHQBBiwK3dLwdAPaAdhjJCB0AYtc2fCzgGQHgKiTDBSQZAwnHXiVJUBkAh2CVWe1sGQC7GqJBheQZAzfEZXpt+BkDtdMTf8JsGQJ5Wd1rdqQZAYGsr/fy1BkCzkPB/scAGQJN7kZ4nxwZA/jQHA5rbBkAXHvzvfecGQMwHoxcB7AZAOCyQqdX5BkAo5sj0shUHQCJqcJ3W+AVAqgk8bVIRBkDPILUpE0cGQG+1pvPtUQZAbQam6xxrBkAP4Lo48XYGQMfDr6ojhwZA5dNJ+XSSBkC6eoCuHqAGQP2qNhtZwgZAahfbDc3lBkB2cYaqmO8GQAN3RX9mAwdA7v4OLntDB0Csja4C3uAFQCZYdUGzAQZAi0RYhvsnBkDo3/qTxogGQAVMuV+DmAZAYqfvjc2iBkCiEpmV77EGQIZQpWMn0QZALO6Yfm3eBkBR2v3Wi/AGQPvgoi7RAAdA3h5X7IIKB0AqrcEtLBAHQFKbXokJHgdAMj7uqsQrB0Ap2j/UaV0GQJsygijBcgZADXKZG8eCBkBQGNVpcpAGQFtoIrN0nwZA/VGn/FGnBkDEHOYwh7kGQCUu36cSvQZAJ1H4f8zJBkBIOyNr9dcGQN4CzRFK9QZAtj9Sd8FVBkALomuOlZ0GQJ2Z0w3QpgZAWJNguQS5BkCXA0iK1MsGQE+lbSUs2AZA5K5A7grkBkAdfXP0zfEGQEERnCYADQdAb809JgoQB0DyhSiHzS8HQD6AnXGzUAdAVIeyTjwXBkB5gAiZwm4GQLaci9UGfQZAavjbFKOGBkApi0HCpZkGQGixTEM6pgZAHwlhPJ2+BkAZywE05NkGQDXoJVEU5gZA3SDZulLzBkAFXc4QW/kGQAq/X6hLPwdAkapD2MJiB0DBMOl8ukkGQF+78Zo6fQZAUpiilq9+BkCXlpaWlpYGQL5g5a8stAZAlFSym4HABkBYpr/qLNEGQBKaBEoF6QZAKe2tB4D+BkCdUBA09QYHQEX8MMenEgdAeccFQDkiB0C5QBUa/SoHQNDm2mg8RgdArZ9KTxxTB0BmwafciWAGQJf+ogV0aQZAkecUE312BkAQ9YVfe6EGQNHz21KuqQZAUk3DDPK1BkD8HVmPmL4GQCwkYFD3zQZAEgarpfDWBkDyZDo7j94GQEQNZIPi8gZA3TKEC3AHB0CpwniuiBkHQG1YNhCImQVAmpqw5W0wBkAEKTcVzZMGQL1IHQ8QoQZAhgehoifDBkABIyudTtgGQDP0s4dq5wZAiWj76JnvBkCATN9RkvYGQLDw37RqBwdARl7w4dksB0BRnawG/9EFQIky0a6fVAZAP8jSmgJ1BkBFrJhCU38GQINh81IEkwZAImwBMFTZBkCth8ufMAMHQEcprts/EgdA4onrtw1ZBkD1bl2VfnoGQCtAesMJtAZAH8Th1r3EBkDR2n24BRQHQInIyzf/ZQdACeXJkYxQBkAR4zWLO8sGQDbd04VG6AZAce4276wLB0ADZtlyhzkHQJv3O3g3TwdAzDK05wCgBUC3lruA1LkGQMXoYGGLugZAukcQV7veBkBIwtDWwfcGQG6KUcPfBgdAIRx/dWobB0DC53BUdywHQCrkUdBQVAdAD8y1A3NtBkDDqLyVvqoGQLI/wZ5xDAdAeGsfSA44B0D6zZ8fKYoHQFb9q0NggQZAliY/EY6TBkBamTwB0fkGQI15N3uRSAZASNqLNLuUBkCh7srfjKoGQIuuo9vnKAdAA8WX4lJVBkBl7G+WOtwGQB0iKQHtBAZAtoLLpyU0BkAE2BKTwHEGQGrzJMCAnQZAt7MYfgXLBkDHVCqDEOYGQAQp77zEFQdA8ab7EHL/BkBwPsBSFocGQE2Yphet1gZAhKA/T4U9B0Bjs6DaczIHQBRa5g33UwZACTLKltiYBkBaBwClessGQMobMfJg7gZA2V9ha8lqBkAqy3z3qZMGQNdXkuG14AZAEKb6fATyBkBaDvl25ywHQBsI4O8UWAZAZLguVYmOBkBhP2iVKPMGQETd/bHDcgZAkvNfcy0pBkDv/SowW7gGQP7K+qo74wZAgaalsobvBkBB5wTR6/wGQCyjPuYPxQZAypcNmnzZBkCIh3px1zMHQDJCyVmnAAdAFRqjwgsbBkAJMrur36gGQJYrHZ0tywZAvd9MA+IUB0BzF7ObsTEHQDj0e9kaPQdAuC0vRDfMBkCROyFLzjcHQGKoIIEmiwZATl7PzkioBkCtKSCIPBsHQBB/NNvOvAZA1zCNtJEUB0CfB90JHucGQBirB4q0sQZAZj4xgvIXB0BtGP8ScTkHQMPwX2UvDAdAtCtZcmKiBkAWokcWokcGQNGNVvwK3wZAeHutb+YKB0CvXkBKdB4HQInEFkDOjQZAdiTjZ/AEB0B28HZoHlYHQBpujh8N2wZAuUxAun+cBkAF5VQzitYGQI0Pyp4cwQZAoIDRvAY9B0B6IgVNg7EGQIUPXKqTkgdAdO5sUCNiB0A7rftoveYGQI/n7n48wAZAS/LTTcPzBkDY41lzFBkHQEnjQmAzWwdA35+HpQDMBkBev3gV1RYHQDHY9m/BJwdAW4rcqP0pB0DHE9j8EywGQN/4s3+n+gZATUd+WhIpB0A0qXZ0JtUGQPahsT40VgdADum29DOwBkAZha468dcGQJeaypcTAQdABDcGDY8pB0BiAW3MLUcHQHN0w924SwdA2zC1NcajBkAFZJ/gDcUGQDYtp1WpzAZARd6liHgCB0DxJSEtD9oGQIOvoor99AZA50xdezICB0BMDmlu+gcHQAidx1LuXAdAMbp/xxGXB0CR1ic8gdIGQAbnY3A+BgdAaNQJvycVB0Bt7RRX6x0HQLH0C+xWTAdAXt22GOrmBkDK4VUXs/IGQLOh2+t2PgdA30xoyVhKB0AEKzuXPVgHQKq2HtrQZAdAJkV1f0SUB0CVk+4QFtQHQLIqXdQebgZAo5D24lyKBkCcZQh+BdAGQLoGGhWH6gZAuPrCRq4CB0C1gU4b6CQHQHCS0koMNwdAU6rwOq9uB0BgEiWwlXoHQHDBhVHpqgZAmY/Vg4W1BkCqUm2fKtUGQJT/h/B06QZASz4J3WJSB0DpJHyzrqUGQAaT/xcXKgdA4QTDrZapBkAvANnuzdQGQDjtzNlY9wZA9CnoAVwXB0BfFEC0sSkHQKOlCJaxhwdAaL+dMIHEBkC2zT9yPc0GQCa9Rz1+8gZAj/nk/8gQB0D/tIe+UzMHQOLbQeLbQQdAmL/pJWlhB0BcJqs24IUGQODjib8vqwZAO3nROe7TBkCikzfzLQkHQK53OiPrJAdA+iFA7K1OB0Cwd0PQ508HQH9DdXb1YAdARJ+v4t/+BkCBSbY0lxAHQF5DeQ3lJQdAv3hzx281B0CDKMdTM2IHQKB3rY5TbQZACdLWnobZBkD2rXDaYd8GQPrmAi+GDAdA6UAf6RrBBkCEIEJWWyUHQAVGRAoonAZAmHqWHXYxB0BQfhuiXfUGQJs7iVyVCQdAR1eevpnrBkCsrdhfds8GQASsNAby3gZALblNppumBkCt4D71R7cGQA==\",\"dtype\":\"float64\",\"order\":\"little\",\"shape\":[629]}},\"selected\":{\"id\":\"14284\"},\"selection_policy\":{\"id\":\"14283\"}},\"id\":\"13857\",\"type\":\"ColumnDataSource\"},{\"attributes\":{\"callback\":null,\"tooltips\":[[\"x\",\"@x\"],[\"y\",\"@y\"]]},\"id\":\"13856\",\"type\":\"HoverTool\"},{\"attributes\":{},\"id\":\"13845\",\"type\":\"ResetTool\"},{\"attributes\":{},\"id\":\"13834\",\"type\":\"BasicTicker\"},{\"attributes\":{},\"id\":\"14284\",\"type\":\"Selection\"},{\"attributes\":{\"tools\":[{\"id\":\"13841\"},{\"id\":\"13842\"},{\"id\":\"13843\"},{\"id\":\"13844\"},{\"id\":\"13845\"},{\"id\":\"13846\"},{\"id\":\"13856\"}]},\"id\":\"13848\",\"type\":\"Toolbar\"},{\"attributes\":{},\"id\":\"14279\",\"type\":\"AllLabels\"},{\"attributes\":{\"end\":3.2,\"start\":2.5},\"id\":\"13827\",\"type\":\"DataRange1d\"},{\"attributes\":{},\"id\":\"13844\",\"type\":\"SaveTool\"},{\"attributes\":{},\"id\":\"14283\",\"type\":\"UnionRenderers\"},{\"attributes\":{\"fill_alpha\":{\"value\":0.2},\"fill_color\":{\"value\":\"#1f77b4\"},\"hatch_alpha\":{\"value\":0.2},\"line_alpha\":{\"value\":0.2},\"line_color\":{\"value\":\"#1f77b4\"},\"x\":{\"field\":\"x\"},\"y\":{\"field\":\"y\"}},\"id\":\"13861\",\"type\":\"Circle\"},{\"attributes\":{},\"id\":\"13841\",\"type\":\"PanTool\"},{\"attributes\":{\"axis_label\":\"TiTv ratio\",\"axis_label_text_color\":\"black\",\"axis_label_text_font_size\":\"17px\",\"axis_label_text_font_style\":\"normal\",\"coordinates\":null,\"formatter\":{\"id\":\"14278\"},\"group\":null,\"major_label_policy\":{\"id\":\"14279\"},\"ticker\":{\"id\":\"13838\"}},\"id\":\"13837\",\"type\":\"LinearAxis\"},{\"attributes\":{},\"id\":\"13831\",\"type\":\"LinearScale\"},{\"attributes\":{},\"id\":\"14281\",\"type\":\"BasicTickFormatter\"},{\"attributes\":{\"axis\":{\"id\":\"13833\"},\"coordinates\":null,\"grid_line_color\":null,\"group\":null,\"ticker\":null},\"id\":\"13836\",\"type\":\"Grid\"},{\"attributes\":{\"axis_label\":\"Number of SNPs\",\"axis_label_text_color\":\"black\",\"axis_label_text_font_size\":\"17px\",\"axis_label_text_font_style\":\"normal\",\"coordinates\":null,\"formatter\":{\"id\":\"14281\"},\"group\":null,\"major_label_policy\":{\"id\":\"14282\"},\"ticker\":{\"id\":\"13834\"}},\"id\":\"13833\",\"type\":\"LinearAxis\"},{\"attributes\":{},\"id\":\"14278\",\"type\":\"BasicTickFormatter\"},{\"attributes\":{},\"id\":\"14282\",\"type\":\"AllLabels\"},{\"attributes\":{},\"id\":\"13829\",\"type\":\"LinearScale\"},{\"attributes\":{},\"id\":\"13838\",\"type\":\"BasicTicker\"},{\"attributes\":{\"overlay\":{\"id\":\"13847\"}},\"id\":\"13843\",\"type\":\"BoxZoomTool\"},{\"attributes\":{},\"id\":\"13846\",\"type\":\"HelpTool\"},{\"attributes\":{\"coordinates\":null,\"data_source\":{\"id\":\"13857\"},\"glyph\":{\"id\":\"13859\"},\"group\":null,\"hover_glyph\":null,\"muted_glyph\":{\"id\":\"13861\"},\"nonselection_glyph\":{\"id\":\"13860\"},\"view\":{\"id\":\"13863\"}},\"id\":\"13862\",\"type\":\"GlyphRenderer\"},{\"attributes\":{\"source\":{\"id\":\"13857\"}},\"id\":\"13863\",\"type\":\"CDSView\"},{\"attributes\":{\"fill_alpha\":{\"value\":0.1},\"fill_color\":{\"value\":\"#1f77b4\"},\"hatch_alpha\":{\"value\":0.1},\"line_alpha\":{\"value\":0.1},\"line_color\":{\"value\":\"#1f77b4\"},\"x\":{\"field\":\"x\"},\"y\":{\"field\":\"y\"}},\"id\":\"13860\",\"type\":\"Circle\"},{\"attributes\":{\"bottom_units\":\"screen\",\"coordinates\":null,\"fill_alpha\":0.5,\"fill_color\":\"lightgrey\",\"group\":null,\"left_units\":\"screen\",\"level\":\"overlay\",\"line_alpha\":1.0,\"line_color\":\"black\",\"line_dash\":[4,4],\"line_width\":2,\"right_units\":\"screen\",\"syncable\":false,\"top_units\":\"screen\"},\"id\":\"13847\",\"type\":\"BoxAnnotation\"},{\"attributes\":{},\"id\":\"13842\",\"type\":\"WheelZoomTool\"},{\"attributes\":{\"end\":42000,\"start\":25000},\"id\":\"13825\",\"type\":\"DataRange1d\"}],\"root_ids\":[\"13822\"]},\"title\":\"Bokeh Application\",\"version\":\"2.4.2\"}};\n",
       "  const render_items = [{\"docid\":\"c69f827c-1800-4325-9e9a-8026271670d5\",\"root_ids\":[\"13822\"],\"roots\":{\"13822\":\"4fe66175-108b-4def-a051-69db0f7f03f7\"}}];\n",
       "  root.Bokeh.embed.embed_items_notebook(docs_json, render_items);\n",
       "\n",
       "  }\n",
       "  if (root.Bokeh !== undefined) {\n",
       "    embed_document(root);\n",
       "  } else {\n",
       "    let attempts = 0;\n",
       "    const timer = setInterval(function(root) {\n",
       "      if (root.Bokeh !== undefined) {\n",
       "        clearInterval(timer);\n",
       "        embed_document(root);\n",
       "      } else {\n",
       "        attempts++;\n",
       "        if (attempts > 100) {\n",
       "          clearInterval(timer);\n",
       "          console.log(\"Bokeh: ERROR: Unable to run BokehJS code because BokehJS library is missing\");\n",
       "        }\n",
       "      }\n",
       "    }, 10, root)\n",
       "  }\n",
       "})(window);"
      ],
      "application/vnd.bokehjs_exec.v0+json": ""
     },
     "metadata": {
      "application/vnd.bokehjs_exec.v0+json": {
       "id": "13822"
      }
     },
     "output_type": "display_data"
    }
   ],
   "source": [
    "#hail.plot.scatter(x, y, \n",
    "#label=None, title=None, xlabel=None, ylabel=None, size=4, legend=True, \n",
    "#hover_fields=None, colors=None, width=800, height=800, collect_all=False, n_divisions=500, missing_label='NA')\n",
    "###########\n",
    "###########################################################################################################\n",
    "\n",
    "###########################################################################################################\n",
    "###########################################################################################################\n",
    "\n",
    "#mt_input = phil_b38_intervals_samples_annotated_mt\n",
    "#mt_input = yale_b38_intervals_samples_annotated_mt\n",
    "\n",
    "#mt_input = yale_b38_intervals_DP_mt\n",
    "#mt_input = phil_b38_intervals_DP_mt\n",
    "\n",
    "#mt_input = '/gpfs/gibbs/pi/brueckner/yale_phil/phil/v2/phil_intervals_DP.mt'\n",
    "#mt_input = '/gpfs/gibbs/pi/brueckner/yale_phil/phil/v2/phil_intervals_DP.mt'\n",
    "\n",
    "\n",
    "\n",
    "#mt = hl.read_matrix_table(mt_input)\n",
    "print('Reads in the following matrix table: \\n' + mt_input + '\\n')\n",
    "print(mt.count())\n",
    "\n",
    "#mt = mt.filter_cols(mt.sample_qc.r_ti_tv < 2.7, keep=True)\n",
    "var_plot = hl.plot.scatter(mt.sample_qc.n_snp, mt.sample_qc.r_ti_tv,\n",
    "                           #colors=color_mapper,\n",
    "                           title ='TiTv versus n_snps (Phil)')\n",
    "\n",
    "#bokeh.models.mappers.ColorMapper or Mapping[str, bokeh.models.mappers.ColorMapper]\n",
    "\n",
    "fig = var_plot\n",
    "fig.xaxis.axis_label = 'Number of SNPs'\n",
    "fig.yaxis.axis_label = 'TiTv ratio'\n",
    "\n",
    "fig.y_range.start = 2.5\n",
    "fig.y_range.end = 3.2\n",
    "fig.x_range.start = 25000\n",
    "fig.x_range.end = 42000\n",
    "\n",
    "fig.title.align = \"center\"\n",
    "fig.title.text_color = \"black\"\n",
    "fig.title.text_font_size = \"20px\"\n",
    "\n",
    "fig.background_fill_color = \"white\"\n",
    "\n",
    "fig.xgrid.grid_line_color = None\n",
    "fig.ygrid.grid_line_color = None\n",
    "\n",
    "fig.xaxis.axis_label_text_font_size = \"17px\"\n",
    "fig.xaxis.axis_label_text_color = \"black\"\n",
    "fig.xaxis.axis_label_text_font_style = \"normal\"\n",
    "\n",
    "fig.yaxis.axis_label_text_font_size = \"17px\"\n",
    "fig.yaxis.axis_label_text_color = \"black\"\n",
    "fig.yaxis.axis_label_text_font_style = \"normal\"\n",
    "\n",
    "fig.outline_line_width = 0\n",
    "fig.outline_line_color = \"white\"\n",
    "\n",
    "'''fig.legend.border_line_width = 0\n",
    "fig.legend.label_width= 0\n",
    "fig.legend.label_height= 0\n",
    "#fig.legend.location = \"top_left\"\n",
    "#fig.legend.visible = False'''\n",
    "\n",
    "hl.plot.show(fig)"
   ]
  },
  {
   "cell_type": "code",
   "execution_count": 48,
   "id": "92d75ce1",
   "metadata": {},
   "outputs": [
    {
     "name": "stdout",
     "output_type": "stream",
     "text": [
      "Reads in the following matrix table: \n",
      "/gpfs/gibbs/pi/brueckner/ken_rotation/output/wes14/split_intervals.mt\n",
      "\n",
      "(641599, 1119)\n"
     ]
    },
    {
     "data": {
      "text/html": [
       "\n",
       "\n",
       "\n",
       "\n",
       "\n",
       "\n",
       "  <div class=\"bk-root\" id=\"9e76aa8d-8e3a-4ddc-a131-117adc243173\" data-root-id=\"12824\"></div>\n"
      ]
     },
     "metadata": {},
     "output_type": "display_data"
    },
    {
     "data": {
      "application/javascript": [
       "(function(root) {\n",
       "  function embed_document(root) {\n",
       "    \n",
       "  const docs_json = {\"38675210-f767-4ac3-8939-a84322fd6fe2\":{\"defs\":[],\"roots\":{\"references\":[{\"attributes\":{\"background_fill_color\":\"white\",\"below\":[{\"id\":\"12835\"}],\"center\":[{\"id\":\"12838\"},{\"id\":\"12842\"}],\"height\":800,\"left\":[{\"id\":\"12839\"}],\"outline_line_color\":\"white\",\"outline_line_width\":0,\"renderers\":[{\"id\":\"12864\"}],\"title\":{\"id\":\"12825\"},\"toolbar\":{\"id\":\"12850\"},\"width\":800,\"x_range\":{\"id\":\"12827\"},\"x_scale\":{\"id\":\"12831\"},\"y_range\":{\"id\":\"12829\"},\"y_scale\":{\"id\":\"12833\"}},\"id\":\"12824\",\"subtype\":\"Figure\",\"type\":\"Plot\"},{\"attributes\":{\"bottom_units\":\"screen\",\"coordinates\":null,\"fill_alpha\":0.5,\"fill_color\":\"lightgrey\",\"group\":null,\"left_units\":\"screen\",\"level\":\"overlay\",\"line_alpha\":1.0,\"line_color\":\"black\",\"line_dash\":[4,4],\"line_width\":2,\"right_units\":\"screen\",\"syncable\":false,\"top_units\":\"screen\"},\"id\":\"12849\",\"type\":\"BoxAnnotation\"},{\"attributes\":{},\"id\":\"13264\",\"type\":\"AllLabels\"},{\"attributes\":{},\"id\":\"12847\",\"type\":\"ResetTool\"},{\"attributes\":{},\"id\":\"13260\",\"type\":\"BasicTickFormatter\"},{\"attributes\":{\"fill_color\":{\"value\":\"#1f77b4\"},\"line_color\":{\"value\":\"#1f77b4\"},\"x\":{\"field\":\"x\"},\"y\":{\"field\":\"y\"}},\"id\":\"12861\",\"type\":\"Circle\"},{\"attributes\":{\"tools\":[{\"id\":\"12843\"},{\"id\":\"12844\"},{\"id\":\"12845\"},{\"id\":\"12846\"},{\"id\":\"12847\"},{\"id\":\"12848\"},{\"id\":\"12858\"}]},\"id\":\"12850\",\"type\":\"Toolbar\"},{\"attributes\":{\"end\":2.7,\"start\":1.0},\"id\":\"12829\",\"type\":\"DataRange1d\"},{\"attributes\":{\"axis\":{\"id\":\"12839\"},\"coordinates\":null,\"dimension\":1,\"grid_line_color\":null,\"group\":null,\"ticker\":null},\"id\":\"12842\",\"type\":\"Grid\"},{\"attributes\":{},\"id\":\"12844\",\"type\":\"WheelZoomTool\"},{\"attributes\":{\"axis_label\":\"Number of SNPs\",\"axis_label_text_color\":\"black\",\"axis_label_text_font_size\":\"17px\",\"axis_label_text_font_style\":\"normal\",\"coordinates\":null,\"formatter\":{\"id\":\"13263\"},\"group\":null,\"major_label_policy\":{\"id\":\"13264\"},\"ticker\":{\"id\":\"12836\"}},\"id\":\"12835\",\"type\":\"LinearAxis\"},{\"attributes\":{},\"id\":\"12846\",\"type\":\"SaveTool\"},{\"attributes\":{\"end\":42000,\"start\":25000},\"id\":\"12827\",\"type\":\"DataRange1d\"},{\"attributes\":{\"fill_alpha\":{\"value\":0.1},\"fill_color\":{\"value\":\"#1f77b4\"},\"hatch_alpha\":{\"value\":0.1},\"line_alpha\":{\"value\":0.1},\"line_color\":{\"value\":\"#1f77b4\"},\"x\":{\"field\":\"x\"},\"y\":{\"field\":\"y\"}},\"id\":\"12862\",\"type\":\"Circle\"},{\"attributes\":{},\"id\":\"13265\",\"type\":\"UnionRenderers\"},{\"attributes\":{\"align\":\"center\",\"coordinates\":null,\"group\":null,\"text\":\"Het/Hom versus n_snps (WES14)\",\"text_color\":\"black\",\"text_font_size\":\"20px\"},\"id\":\"12825\",\"type\":\"Title\"},{\"attributes\":{\"axis_label\":\"Het/Hom ratio\",\"axis_label_text_color\":\"black\",\"axis_label_text_font_size\":\"17px\",\"axis_label_text_font_style\":\"normal\",\"coordinates\":null,\"formatter\":{\"id\":\"13260\"},\"group\":null,\"major_label_policy\":{\"id\":\"13261\"},\"ticker\":{\"id\":\"12840\"}},\"id\":\"12839\",\"type\":\"LinearAxis\"},{\"attributes\":{\"overlay\":{\"id\":\"12849\"}},\"id\":\"12845\",\"type\":\"BoxZoomTool\"},{\"attributes\":{},\"id\":\"13261\",\"type\":\"AllLabels\"},{\"attributes\":{\"data\":{\"index\":[0,1,2,3,4,5,6,7,8,9,10,11,12,13,14,15,16,17,18,19,20,21,22,23,24,25,26,27,28,29,30,31,32,33,34,35,36,37,38,39,40,41,42,43,44,45,46,47,48,49,50,51,52,53,54,55,56,57,58,59,60,61,62,63,64,65,66,67,68,69,70,71,72,73,74,75,76,77,78,79,80,81,82,83,84,85,86,87,88,89,90,91,92,93,94,95,96,97,98,99,100,101,102,103,104,105,106,107,108,109,110,111,112,113,114,115,116,117,118,119,120,121,122,123,124,125,126,127,128,129,130,131,132,133,134,135,136,137,138,139,140,141,142,143,144,145,146,147,148,149,150,151,152,153,154,155,156,157,158,159,160,161,162,163,164,165,166,167,168,169,170,171,172,173,174,175,176,177,178,179,180,181,182,183,184,185,186,187,188,189,190,191,192,193,194,195,196,197,198,199,200,201,202,203,204,205,206,207,208,209,210,211,212,213,214,215,216,217,218,219,220,221,222,223,224,225,226,227,228,229,230,231,232,233,234,235,236,237,238,239,240,241,242,243,244,245,246,247,248,249,250,251,252,253,254,255,256,257,258,259,260,261,262,263,264,265,266,267,268,269,270,271,272,273,274,275,276,277,278,279,280,281,282,283,284,285,286,287,288,289,290,291,292,293,294,295,296,297,298,299,300,301,302,303,304,305,306,307,308,309,310,311,312,313,314,315,316,317,318,319,320,321,322,323,324,325,326,327,328,329,330,331,332,333,334,335,336,337,338,339,340,341,342,343,344,345,346,347,348,349,350,351,352,353,354,355,356,357,358,359,360,361,362,363,364,365,366,367,368,369,370,371,372,373,374,375,376,377,378,379,380,381,382,383,384,385,386,387,388,389,390,391,392,393,394,395,396,397,398,399,400,401,402,403,404,405,406,407,408,409,410,411,412,413,414,415,416,417,418,419,420,421,422,423,424,425,426,427,428,429,430,431,432,433,434,435,436,437,438,439,440,441,442,443,444,445,446,447,448,449,450,451,452,453,454,455,456,457,458,459,460,461,462,463,464,465,466,467,468,469,470,471,472,473,474,475,476,477,478,479,480,481,482,483,484,485,486,487,488,489,490,491,492,493,494,495,496,497,498,499,500,501,502,503,504,505,506,507,508,509,510,511,512,513,514,515,516,517,518,519,520,521,522,523,524,525,526,527,528,529,530,531,532,533,534,535,536,537,538,539,540,541,542,543,544,545,546,547,548,549,550,551,552,553,554,555,556,557,558,559,560,561,562,563,564,565,566,567,568,569,570,571,572,573,574,575,576,577,578,579,580,581,582,583,584,585,586,587,588,589,590,591,592,593,594,595,596,597,598,599,600,601,602,603,604,605,606,607,608,609,610,611,612,613,614,615,616,617,618,619,620,621,622,623,624,625,626,627,628,629,630,631,632,633,634,635,636,637,638,639,640,641,642,643,644,645,646,647,648,649,650,651,652,653,654,655,656,657,658,659,660,661,662,663,664,665,666,667,668,669,670,671,672,673,674,675,676,677,678,679,680,681,682,683,684,685,686,687,688,689,690,691,692,693,694,695,696,697,698,699,700,701,702,703,704,705,706,707,708,709,710,711,712,713,714,715,716,717,718,719,720,721,722,723,724,725,726,727,728,729,730,731,732,733,734,735,736,737,738,739,740,741,742,743,744,745,746,747,748,749,750,751,752,753,754,755,756,757,758,759,760,761,762,763,764,765,766,767,768,769,770,771,772,773,774,775,776,777,778,779,780,781,782,783,784,785,786,787,788,789,790,791,792,793,794,795,796,797,798,799,800,801,802,803,804,805,806,807,808,809,810,811,812,813,814,815,816,817,818,819,820,821,822,823,824,825,826,827,828,829,830,831,832,833,834,835,836,837,838,839,840,841,842,843],\"x\":{\"__ndarray__\":\"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\",\"dtype\":\"float64\",\"order\":\"little\",\"shape\":[844]},\"y\":{\"__ndarray__\":\"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\",\"dtype\":\"float64\",\"order\":\"little\",\"shape\":[844]}},\"selected\":{\"id\":\"13266\"},\"selection_policy\":{\"id\":\"13265\"}},\"id\":\"12859\",\"type\":\"ColumnDataSource\"},{\"attributes\":{},\"id\":\"13266\",\"type\":\"Selection\"},{\"attributes\":{},\"id\":\"12848\",\"type\":\"HelpTool\"},{\"attributes\":{},\"id\":\"13263\",\"type\":\"BasicTickFormatter\"},{\"attributes\":{},\"id\":\"12833\",\"type\":\"LinearScale\"},{\"attributes\":{\"callback\":null,\"tooltips\":[[\"x\",\"@x\"],[\"y\",\"@y\"]]},\"id\":\"12858\",\"type\":\"HoverTool\"},{\"attributes\":{\"axis\":{\"id\":\"12835\"},\"coordinates\":null,\"grid_line_color\":null,\"group\":null,\"ticker\":null},\"id\":\"12838\",\"type\":\"Grid\"},{\"attributes\":{},\"id\":\"12836\",\"type\":\"BasicTicker\"},{\"attributes\":{\"coordinates\":null,\"data_source\":{\"id\":\"12859\"},\"glyph\":{\"id\":\"12861\"},\"group\":null,\"hover_glyph\":null,\"muted_glyph\":{\"id\":\"12863\"},\"nonselection_glyph\":{\"id\":\"12862\"},\"view\":{\"id\":\"12865\"}},\"id\":\"12864\",\"type\":\"GlyphRenderer\"},{\"attributes\":{\"fill_alpha\":{\"value\":0.2},\"fill_color\":{\"value\":\"#1f77b4\"},\"hatch_alpha\":{\"value\":0.2},\"line_alpha\":{\"value\":0.2},\"line_color\":{\"value\":\"#1f77b4\"},\"x\":{\"field\":\"x\"},\"y\":{\"field\":\"y\"}},\"id\":\"12863\",\"type\":\"Circle\"},{\"attributes\":{\"source\":{\"id\":\"12859\"}},\"id\":\"12865\",\"type\":\"CDSView\"},{\"attributes\":{},\"id\":\"12831\",\"type\":\"LinearScale\"},{\"attributes\":{},\"id\":\"12843\",\"type\":\"PanTool\"},{\"attributes\":{},\"id\":\"12840\",\"type\":\"BasicTicker\"}],\"root_ids\":[\"12824\"]},\"title\":\"Bokeh Application\",\"version\":\"2.4.2\"}};\n",
       "  const render_items = [{\"docid\":\"38675210-f767-4ac3-8939-a84322fd6fe2\",\"root_ids\":[\"12824\"],\"roots\":{\"12824\":\"9e76aa8d-8e3a-4ddc-a131-117adc243173\"}}];\n",
       "  root.Bokeh.embed.embed_items_notebook(docs_json, render_items);\n",
       "\n",
       "  }\n",
       "  if (root.Bokeh !== undefined) {\n",
       "    embed_document(root);\n",
       "  } else {\n",
       "    let attempts = 0;\n",
       "    const timer = setInterval(function(root) {\n",
       "      if (root.Bokeh !== undefined) {\n",
       "        clearInterval(timer);\n",
       "        embed_document(root);\n",
       "      } else {\n",
       "        attempts++;\n",
       "        if (attempts > 100) {\n",
       "          clearInterval(timer);\n",
       "          console.log(\"Bokeh: ERROR: Unable to run BokehJS code because BokehJS library is missing\");\n",
       "        }\n",
       "      }\n",
       "    }, 10, root)\n",
       "  }\n",
       "})(window);"
      ],
      "application/vnd.bokehjs_exec.v0+json": ""
     },
     "metadata": {
      "application/vnd.bokehjs_exec.v0+json": {
       "id": "12824"
      }
     },
     "output_type": "display_data"
    }
   ],
   "source": [
    "#hail.plot.scatter(x, y, \n",
    "#label=None, title=None, xlabel=None, ylabel=None, size=4, legend=True, \n",
    "#hover_fields=None, colors=None, width=800, height=800, collect_all=False, n_divisions=500, missing_label='NA')\n",
    "###########\n",
    "###########################################################################################################\n",
    "\n",
    "###########################################################################################################\n",
    "###########################################################################################################\n",
    "\n",
    "#mt_input = phil_b38_intervals_samples_annotated_mt\n",
    "#mt_input = yale_b38_intervals_samples_annotated_mt\n",
    "\n",
    "#mt_input = yale_b38_intervals_DP_mt\n",
    "#mt_input = phil_b38_intervals_DP_mt\n",
    "\n",
    "#mt_input = '/gpfs/gibbs/pi/brueckner/yale_phil/phil/v2/phil_intervals_DP.mt'\n",
    "#mt_input = '/gpfs/gibbs/pi/brueckner/yale_phil/phil/v2/phil_intervals_DP.mt'\n",
    "\n",
    "\n",
    "\n",
    "#mt = hl.read_matrix_table(mt_input)\n",
    "print('Reads in the following matrix table: \\n' + mt_input + '\\n')\n",
    "print(mt.count())\n",
    "\n",
    "#mt = mt.filter_cols(mt.sample_qc.r_ti_tv < 2.7, keep=True)\n",
    "var_plot = hl.plot.scatter(mt.sample_qc.n_snp, mt.sample_qc.r_het_hom_var,\n",
    "                           #colors=color_mapper,\n",
    "                           title ='Het/Hom versus n_snps (WES14)')\n",
    "\n",
    "#bokeh.models.mappers.ColorMapper or Mapping[str, bokeh.models.mappers.ColorMapper]\n",
    "\n",
    "fig = var_plot\n",
    "fig.xaxis.axis_label = 'Number of SNPs'\n",
    "fig.yaxis.axis_label = 'Het/Hom ratio'\n",
    "\n",
    "fig.y_range.start = 1.0\n",
    "fig.y_range.end = 2.7\n",
    "fig.x_range.start = 25000\n",
    "fig.x_range.end = 42000\n",
    "\n",
    "fig.title.align = \"center\"\n",
    "fig.title.text_color = \"black\"\n",
    "fig.title.text_font_size = \"20px\"\n",
    "\n",
    "fig.background_fill_color = \"white\"\n",
    "\n",
    "fig.xgrid.grid_line_color = None\n",
    "fig.ygrid.grid_line_color = None\n",
    "\n",
    "fig.xaxis.axis_label_text_font_size = \"17px\"\n",
    "fig.xaxis.axis_label_text_color = \"black\"\n",
    "fig.xaxis.axis_label_text_font_style = \"normal\"\n",
    "\n",
    "fig.yaxis.axis_label_text_font_size = \"17px\"\n",
    "fig.yaxis.axis_label_text_color = \"black\"\n",
    "fig.yaxis.axis_label_text_font_style = \"normal\"\n",
    "\n",
    "fig.outline_line_width = 0\n",
    "fig.outline_line_color = \"white\"\n",
    "\n",
    "'''fig.legend.border_line_width = 0\n",
    "fig.legend.label_width= 0\n",
    "fig.legend.label_height= 0\n",
    "#fig.legend.location = \"top_left\"\n",
    "#fig.legend.visible = False'''\n",
    "\n",
    "hl.plot.show(fig)"
   ]
  },
  {
   "cell_type": "code",
   "execution_count": 90,
   "id": "d763c08a",
   "metadata": {},
   "outputs": [
    {
     "name": "stdout",
     "output_type": "stream",
     "text": [
      "Reads in the following matrix table: \n",
      "/gpfs/gibbs/pi/brueckner/yale_phil/phil/v2/phil_filtered_intervals_samples_annotated.mt\n",
      "\n"
     ]
    },
    {
     "name": "stderr",
     "output_type": "stream",
     "text": [
      "2021-12-05 18:23:05 Hail: INFO: Coerced sorted dataset\n",
      "2021-12-05 18:23:05 Hail: INFO: merging 16 files totalling 1.0K...\n",
      "2021-12-05 18:23:05 Hail: INFO: while writing:\n",
      "    /gpfs/gibbs/pi/brueckner/yale_phil/scratch/phil_titv_under2.7.txt\n",
      "  merge time: 10.416ms\n"
     ]
    }
   ],
   "source": [
    "# Filter to batch number and plot n_snps \n",
    "\n",
    "mt_input = phil_b38_intervals_samples_annotated_mt\n",
    "#mt_input = yale_b38_intervals_samples_annotated_mt\n",
    "\n",
    "mt = hl.read_matrix_table(mt_input)\n",
    "print('Reads in the following matrix table: \\n' + mt_input + '\\n')\n",
    "#print(mt.count())\n",
    "\n",
    "mt = mt.filter_cols(mt.sample_qc.r_ti_tv < 2.7, keep=True)\n",
    "#mt.describe()\n",
    "\n",
    "ht = mt.cols()\n",
    "ht = ht.key_by(ht.s)\n",
    "ht = ht.select(ht.sample_qc.r_ti_tv)\n",
    "\n",
    "ht.export('/gpfs/gibbs/pi/brueckner/yale_phil/scratch/phil_titv_under2.7.txt')"
   ]
  },
  {
   "cell_type": "code",
   "execution_count": 118,
   "id": "ada8190d",
   "metadata": {},
   "outputs": [
    {
     "name": "stdout",
     "output_type": "stream",
     "text": [
      "Reads in the following matrix table: \n",
      "/gpfs/gibbs/pi/brueckner/yale_phil/yale/v2/b38/yale_b38_filtered_intervals.mt\n",
      "\n",
      "Reads in the following tsv as a hail table: \n",
      "/gpfs/gibbs/pi/brueckner/yale_phil/sample_batches.txt\n",
      "\n",
      "count of the input dataframe: (330110, 597)\n",
      "\n"
     ]
    },
    {
     "name": "stderr",
     "output_type": "stream",
     "text": [
      "2021-12-05 21:21:11 Hail: INFO: Reading table to impute column types\n",
      "2021-12-05 21:21:12 Hail: INFO: Finished type imputation\n",
      "  Loading field 'sample_id' as type str (imputed)\n",
      "  Loading field 'capture_method' as type str (imputed)\n",
      "  Loading field 'sequencer' as type str (imputed)\n",
      "  Loading field 'batch_number' as type str (imputed)\n"
     ]
    },
    {
     "name": "stdout",
     "output_type": "stream",
     "text": [
      "(330110, 57)\n"
     ]
    },
    {
     "name": "stderr",
     "output_type": "stream",
     "text": [
      "2021-12-05 21:21:12 Hail: INFO: Coerced sorted dataset\n",
      "2021-12-05 21:21:12 Hail: INFO: merging 16 files totalling 927...\n",
      "2021-12-05 21:21:12 Hail: INFO: while writing:\n",
      "    /gpfs/gibbs/pi/brueckner/yale_phil/scratch/NPCGC_samples.txt\n",
      "  merge time: 7.943ms\n"
     ]
    }
   ],
   "source": [
    "# Filter to batch number and plot n_snps \n",
    "mt_input = yale_b38_intervals_mt\n",
    "#mt_input = phil_b38_intervals_samples_annotated_mt\n",
    "#mt_input = yale_b38_intervals_samples_annotated_mt\n",
    "\n",
    "mt = hl.read_matrix_table(mt_input)\n",
    "print('Reads in the following matrix table: \\n' + mt_input + '\\n')\n",
    "#print(mt.count())\n",
    "\n",
    "tsv_input = '/gpfs/gibbs/pi/brueckner/yale_phil/sample_batches.txt'\n",
    "print('Reads in the following tsv as a hail table: \\n' + tsv_input + '\\n')\n",
    "\n",
    "#############################################################################\n",
    "\n",
    "mt = hl.read_matrix_table(mt_input)\n",
    "print('count of the input dataframe: ' + str(mt.count()) + '\\n')\n",
    "\n",
    "ht = hl.import_table(tsv_input, impute=True).key_by('sample_id')\n",
    "#ht.describe()\n",
    "\n",
    "mt = mt.annotate_cols(\n",
    "    capture_method = ht[mt.s].capture_method,\n",
    "    sequencer = ht[mt.s].sequencer,\n",
    "    batch_number = ht[mt.s].batch_number\n",
    ")\n",
    "\n",
    "#mt = mt.filter_cols(mt.sample_qc.n_snp == 0, keep = True)\n",
    "#mt = mt.filter_cols(mt.sample_qc.r_ti_tv < 2.7, keep=True)\n",
    "mt = mt.filter_cols(mt.batch_number == \"NPCGC\", keep=True)\n",
    "print(mt.count())\n",
    "#mt.batch_number.show(50)\n",
    "#mt.describe()\n",
    "\n",
    "ht = mt.cols()\n",
    "ht = ht.key_by(ht.s)\n",
    "ht = ht.select(ht.batch_number)\n",
    "#ht = ht.select(ht.sample_qc.r_ti_tv)\n",
    "\n",
    "#ht.describe()\n",
    "#ht.sample_qc.r_ti_tv.show()\n",
    "\n",
    "\n",
    "#ht.export('/gpfs/gibbs/pi/brueckner/yale_phil/scratch/NPCGC_samples.txt')\n"
   ]
  },
  {
   "cell_type": "markdown",
   "id": "f16569ab",
   "metadata": {},
   "source": [
    "# Filter entires by DP"
   ]
  },
  {
   "cell_type": "code",
   "execution_count": 72,
   "id": "117c3e67",
   "metadata": {},
   "outputs": [
    {
     "name": "stdout",
     "output_type": "stream",
     "text": [
      "Reads in the matrix table: \n",
      "/gpfs/gibbs/pi/brueckner/yale_phil/yale/v2/b38/yale_b38_filtered_intervals_samples_annotated.mt\n",
      "\n",
      "Writes the matrix table: \n",
      "/gpfs/gibbs/pi/brueckner/yale_phil/yale/v2/b38/yale_b38_intervals_DP.mt\n",
      "\n"
     ]
    },
    {
     "name": "stderr",
     "output_type": "stream",
     "text": [
      "2021-12-05 14:37:38 Hail: INFO: wrote matrix table with 330110 rows and 597 columns in 31 partitions to /gpfs/gibbs/pi/brueckner/yale_phil/yale/v2/b38/yale_b38_intervals_DP.mt\n"
     ]
    }
   ],
   "source": [
    "#mt_input = phil_b38_intervals_samples_annotated_mt\n",
    "mt_input = yale_b38_intervals_samples_annotated_mt\n",
    "print('Reads in the matrix table: \\n' + mt_input + '\\n')\n",
    "\n",
    "#mt_output = phil_b38_intervals_DP_mt\n",
    "mt_output = yale_b38_intervals_DP_mt\n",
    "print('Writes the matrix table: \\n' + mt_output + '\\n')\n",
    "\n",
    "#############################################################################\n",
    "\n",
    "mt = hl.read_matrix_table(mt_input)\n",
    "#print('count of the input dataframe: ' + str(mt.count()) + '\\n')\n",
    "\n",
    "mt = mt.filter_entries(mt.DP > 20 , keep=True)\n",
    "mt = hl.sample_qc(mt, name='sample_qc')\n",
    "\n",
    "mt.write(mt_output, overwrite = True)"
   ]
  },
  {
   "cell_type": "code",
   "execution_count": 73,
   "id": "c924e3b8",
   "metadata": {},
   "outputs": [
    {
     "name": "stdout",
     "output_type": "stream",
     "text": [
      "Reads in the matrix table: \n",
      "/gpfs/gibbs/pi/brueckner/yale_phil/yale/v2/b38/yale_b38_filtered_intervals_samples_annotated.mt\n",
      "\n",
      "Writes the matrix table: \n",
      "/gpfs/gibbs/pi/brueckner/yale_phil/yale/v2/b38/yale_b38_intervals_DP.mt\n",
      "\n",
      "count of the input dataframe:(330110, 597)\n",
      "\n",
      "count of the output dataframe:(330110, 597)\n",
      "\n"
     ]
    }
   ],
   "source": [
    "# get counts\n",
    "#mt_input = phil_b38_intervals_samples_annotated_mt\n",
    "mt_input = yale_b38_intervals_samples_annotated_mt\n",
    "print('Reads in the matrix table: \\n' + mt_input + '\\n')\n",
    "\n",
    "#mt_output = phil_b38_intervals_DP_mt\n",
    "mt_output = yale_b38_intervals_DP_mt\n",
    "print('Writes the matrix table: \\n' + mt_output + '\\n')\n",
    "################################################################################\n",
    "input_mt = hl.read_matrix_table(mt_input)\n",
    "output_mt = hl.read_matrix_table(mt_output)\n",
    "\n",
    "print('count of the input dataframe:' + str(input_mt.count()) + '\\n')\n",
    "print('count of the output dataframe:' + str(output_mt.count()) + '\\n')"
   ]
  },
  {
   "cell_type": "code",
   "execution_count": null,
   "id": "e57aba1c",
   "metadata": {},
   "outputs": [],
   "source": []
  },
  {
   "cell_type": "markdown",
   "id": "a516b323",
   "metadata": {},
   "source": [
    "## Import gold standard set of variants in GRCh37 \n",
    "## Liftover to GRCh38 and add liftover coordinates as annotation\n",
    "## Key by GRCh37 locus and GRCh38 locus"
   ]
  },
  {
   "cell_type": "code",
   "execution_count": 7,
   "id": "69ba15c1",
   "metadata": {
    "collapsed": true
   },
   "outputs": [
    {
     "name": "stdout",
     "output_type": "stream",
     "text": [
      "Reads in the following tsv as a hail table: \n",
      "/gpfs/gibbs/pi/brueckner/yale_phil/dnv_gold_37.txt\n",
      "\n",
      "Writes the hail table: \n",
      "/gpfs/gibbs/pi/brueckner/yale_phil/gold_standard_dnvs.ht\n",
      "\n"
     ]
    },
    {
     "name": "stderr",
     "output_type": "stream",
     "text": [
      "2021-11-16 18:59:25 Hail: INFO: Reading table to impute column types\n",
      "2021-11-16 18:59:28 Hail: INFO: Finished type imputation\n",
      "  Loading field 'sample_id' as type str (imputed)\n",
      "  Loading field 'identifier' as type str (imputed)\n",
      "  Loading field 'variant' as type str (imputed)\n",
      "  Loading field 'CHROM' as type str (imputed)\n",
      "  Loading field 'POS' as type int32 (imputed)\n",
      "  Loading field 'position' as type str (imputed)\n",
      "  Loading field 'REF' as type str (imputed)\n",
      "  Loading field 'ALT' as type str (imputed)\n"
     ]
    },
    {
     "name": "stdout",
     "output_type": "stream",
     "text": [
      "----------------------------------------\n",
      "Global fields:\n",
      "    None\n",
      "----------------------------------------\n",
      "Row fields:\n",
      "    'sample_id': str \n",
      "    'identifier': str \n",
      "    'variant': str \n",
      "    'CHROM': str \n",
      "    'POS': int32 \n",
      "    'position': str \n",
      "    'REF': str \n",
      "    'ALT': str \n",
      "    'locus_37': locus<GRCh37> \n",
      "    'locus_liftover_38': locus<GRCh38> \n",
      "    'locus_38': locus<GRCh38> \n",
      "----------------------------------------\n",
      "Key: ['locus_38', 'locus_37']\n",
      "----------------------------------------\n"
     ]
    },
    {
     "name": "stderr",
     "output_type": "stream",
     "text": [
      "2021-11-16 18:59:29 Hail: INFO: Ordering unsorted dataset with network shuffle\n",
      "2021-11-16 18:59:30 Hail: INFO: wrote table with 231 rows in 1 partition to /gpfs/gibbs/pi/brueckner/yale_phil/gold_standard_dnvs.ht\n"
     ]
    }
   ],
   "source": [
    "# import gold-standard tsv as ht \n",
    "tsv_input = dnv_gold_37_tsv\n",
    "print('Reads in the following tsv as a hail table: \\n' + tsv_input + '\\n')\n",
    "\n",
    "ht_output = gold_dnvs_ht\n",
    "#ht_output = dnv_gold_37_ht\n",
    "print('Writes the hail table: \\n' + ht_output + '\\n')\n",
    "\n",
    "rg37 = hl.get_reference('GRCh37')  \n",
    "rg38 = hl.get_reference('GRCh38')  \n",
    "rg37.add_liftover('/gpfs/gibbs/pi/brueckner/hail_resources/grch37_to_grch38.over.chain.gz', rg38)  \n",
    "\n",
    "# import gold-standard tsv as ht \n",
    "ht = hl.import_table(tsv_input, impute=True).key_by('sample_id')\n",
    "\n",
    "# convert locus string to locus struct/type \n",
    "ht =  ht.annotate(locus_37 = hl.parse_locus(ht.position, reference_genome='GRCh37'))\n",
    "\n",
    "# liftover locus 37 to locus 38\n",
    "ht = ht.annotate(locus_liftover_38=hl.liftover(ht.locus_37, 'GRCh38'))  \n",
    "\n",
    "#key by locus 37 and 38 \n",
    "#ht = ht.filter(hl.is_defined(ht.locus_liftover_38))  # commented out \n",
    "ht = ht.key_by(locus_38=ht.locus_liftover_38, locus_37=ht.locus_37)  \n",
    "\n",
    "ht.describe()\n",
    "\n",
    "ht.write(ht_output, overwrite = True)"
   ]
  },
  {
   "cell_type": "markdown",
   "id": "3cbb83eb",
   "metadata": {},
   "source": [
    "# Liftover and rekey matrix table from GRCh37 to GRCh38"
   ]
  },
  {
   "cell_type": "code",
   "execution_count": 7,
   "id": "35ab0501",
   "metadata": {},
   "outputs": [
    {
     "ename": "FatalError",
     "evalue": "HailException: Chain file already exists for source reference 'GRCh37' and destination reference 'GRCh38'.\n\nJava stack trace:\nis.hail.utils.HailException: Chain file already exists for source reference 'GRCh37' and destination reference 'GRCh38'.\n\tat is.hail.utils.ErrorHandling.fatal(ErrorHandling.scala:11)\n\tat is.hail.utils.ErrorHandling.fatal$(ErrorHandling.scala:11)\n\tat is.hail.utils.package$.fatal(package.scala:78)\n\tat is.hail.variant.ReferenceGenome.addLiftover(ReferenceGenome.scala:392)\n\tat is.hail.variant.ReferenceGenome$.referenceAddLiftover(ReferenceGenome.scala:631)\n\tat is.hail.backend.spark.SparkBackend.$anonfun$pyReferenceAddLiftover$2(SparkBackend.scala:587)\n\tat is.hail.backend.spark.SparkBackend.$anonfun$pyReferenceAddLiftover$2$adapted(SparkBackend.scala:586)\n\tat is.hail.backend.ExecuteContext$.$anonfun$scoped$3(ExecuteContext.scala:47)\n\tat is.hail.utils.package$.using(package.scala:638)\n\tat is.hail.backend.ExecuteContext$.$anonfun$scoped$2(ExecuteContext.scala:47)\n\tat is.hail.utils.package$.using(package.scala:638)\n\tat is.hail.annotations.RegionPool$.scoped(RegionPool.scala:17)\n\tat is.hail.backend.ExecuteContext$.scoped(ExecuteContext.scala:46)\n\tat is.hail.backend.spark.SparkBackend.withExecuteContext(SparkBackend.scala:275)\n\tat is.hail.backend.spark.SparkBackend.$anonfun$pyReferenceAddLiftover$1(SparkBackend.scala:586)\n\tat is.hail.backend.spark.SparkBackend.$anonfun$pyReferenceAddLiftover$1$adapted(SparkBackend.scala:585)\n\tat is.hail.utils.ExecutionTimer$.time(ExecutionTimer.scala:52)\n\tat is.hail.utils.ExecutionTimer$.logTime(ExecutionTimer.scala:59)\n\tat is.hail.backend.spark.SparkBackend.pyReferenceAddLiftover(SparkBackend.scala:585)\n\tat sun.reflect.NativeMethodAccessorImpl.invoke0(Native Method)\n\tat sun.reflect.NativeMethodAccessorImpl.invoke(NativeMethodAccessorImpl.java:62)\n\tat sun.reflect.DelegatingMethodAccessorImpl.invoke(DelegatingMethodAccessorImpl.java:43)\n\tat java.lang.reflect.Method.invoke(Method.java:498)\n\tat py4j.reflection.MethodInvoker.invoke(MethodInvoker.java:244)\n\tat py4j.reflection.ReflectionEngine.invoke(ReflectionEngine.java:357)\n\tat py4j.Gateway.invoke(Gateway.java:282)\n\tat py4j.commands.AbstractCommand.invokeMethod(AbstractCommand.java:132)\n\tat py4j.commands.CallCommand.execute(CallCommand.java:79)\n\tat py4j.GatewayConnection.run(GatewayConnection.java:238)\n\tat java.lang.Thread.run(Thread.java:748)\n\n\n\nHail version: 0.2.78-b17627756568\nError summary: HailException: Chain file already exists for source reference 'GRCh37' and destination reference 'GRCh38'.",
     "output_type": "error",
     "traceback": [
      "\u001b[0;31m---------------------------------------------------------------------------\u001b[0m",
      "\u001b[0;31mFatalError\u001b[0m                                Traceback (most recent call last)",
      "\u001b[0;32m/tmp/ipykernel_14806/893178828.py\u001b[0m in \u001b[0;36m<module>\u001b[0;34m\u001b[0m\n\u001b[1;32m      5\u001b[0m \u001b[0mrg37\u001b[0m \u001b[0;34m=\u001b[0m \u001b[0mhl\u001b[0m\u001b[0;34m.\u001b[0m\u001b[0mget_reference\u001b[0m\u001b[0;34m(\u001b[0m\u001b[0;34m'GRCh37'\u001b[0m\u001b[0;34m)\u001b[0m\u001b[0;34m\u001b[0m\u001b[0;34m\u001b[0m\u001b[0m\n\u001b[1;32m      6\u001b[0m \u001b[0mrg38\u001b[0m \u001b[0;34m=\u001b[0m \u001b[0mhl\u001b[0m\u001b[0;34m.\u001b[0m\u001b[0mget_reference\u001b[0m\u001b[0;34m(\u001b[0m\u001b[0;34m'GRCh38'\u001b[0m\u001b[0;34m)\u001b[0m\u001b[0;34m\u001b[0m\u001b[0;34m\u001b[0m\u001b[0m\n\u001b[0;32m----> 7\u001b[0;31m \u001b[0mrg37\u001b[0m\u001b[0;34m.\u001b[0m\u001b[0madd_liftover\u001b[0m\u001b[0;34m(\u001b[0m\u001b[0;34m'/gpfs/gibbs/pi/brueckner/hail_resources/grch37_to_grch38.over.chain.gz'\u001b[0m\u001b[0;34m,\u001b[0m \u001b[0mrg38\u001b[0m\u001b[0;34m)\u001b[0m\u001b[0;34m\u001b[0m\u001b[0;34m\u001b[0m\u001b[0m\n\u001b[0m\u001b[1;32m      8\u001b[0m \u001b[0;34m\u001b[0m\u001b[0m\n\u001b[1;32m      9\u001b[0m \u001b[0mmt\u001b[0m \u001b[0;34m=\u001b[0m \u001b[0mhl\u001b[0m\u001b[0;34m.\u001b[0m\u001b[0mread_matrix_table\u001b[0m\u001b[0;34m(\u001b[0m\u001b[0mmt_input\u001b[0m\u001b[0;34m)\u001b[0m\u001b[0;34m\u001b[0m\u001b[0;34m\u001b[0m\u001b[0m\n",
      "\u001b[0;32m<decorator-gen-158>\u001b[0m in \u001b[0;36madd_liftover\u001b[0;34m(self, chain_file, dest_reference_genome)\u001b[0m\n",
      "\u001b[0;32m/gpfs/ycga/project/brueckner/nsd35/conda_envs/nov_2021/lib/python3.7/site-packages/hail/typecheck/check.py\u001b[0m in \u001b[0;36mwrapper\u001b[0;34m(__original_func, *args, **kwargs)\u001b[0m\n\u001b[1;32m    575\u001b[0m     \u001b[0;32mdef\u001b[0m \u001b[0mwrapper\u001b[0m\u001b[0;34m(\u001b[0m\u001b[0m__original_func\u001b[0m\u001b[0;34m,\u001b[0m \u001b[0;34m*\u001b[0m\u001b[0margs\u001b[0m\u001b[0;34m,\u001b[0m \u001b[0;34m**\u001b[0m\u001b[0mkwargs\u001b[0m\u001b[0;34m)\u001b[0m\u001b[0;34m:\u001b[0m\u001b[0;34m\u001b[0m\u001b[0;34m\u001b[0m\u001b[0m\n\u001b[1;32m    576\u001b[0m         \u001b[0margs_\u001b[0m\u001b[0;34m,\u001b[0m \u001b[0mkwargs_\u001b[0m \u001b[0;34m=\u001b[0m \u001b[0mcheck_all\u001b[0m\u001b[0;34m(\u001b[0m\u001b[0m__original_func\u001b[0m\u001b[0;34m,\u001b[0m \u001b[0margs\u001b[0m\u001b[0;34m,\u001b[0m \u001b[0mkwargs\u001b[0m\u001b[0;34m,\u001b[0m \u001b[0mcheckers\u001b[0m\u001b[0;34m,\u001b[0m \u001b[0mis_method\u001b[0m\u001b[0;34m=\u001b[0m\u001b[0mis_method\u001b[0m\u001b[0;34m)\u001b[0m\u001b[0;34m\u001b[0m\u001b[0;34m\u001b[0m\u001b[0m\n\u001b[0;32m--> 577\u001b[0;31m         \u001b[0;32mreturn\u001b[0m \u001b[0m__original_func\u001b[0m\u001b[0;34m(\u001b[0m\u001b[0;34m*\u001b[0m\u001b[0margs_\u001b[0m\u001b[0;34m,\u001b[0m \u001b[0;34m**\u001b[0m\u001b[0mkwargs_\u001b[0m\u001b[0;34m)\u001b[0m\u001b[0;34m\u001b[0m\u001b[0;34m\u001b[0m\u001b[0m\n\u001b[0m\u001b[1;32m    578\u001b[0m \u001b[0;34m\u001b[0m\u001b[0m\n\u001b[1;32m    579\u001b[0m     \u001b[0;32mreturn\u001b[0m \u001b[0mwrapper\u001b[0m\u001b[0;34m\u001b[0m\u001b[0;34m\u001b[0m\u001b[0m\n",
      "\u001b[0;32m/gpfs/ycga/project/brueckner/nsd35/conda_envs/nov_2021/lib/python3.7/site-packages/hail/genetics/reference_genome.py\u001b[0m in \u001b[0;36madd_liftover\u001b[0;34m(self, chain_file, dest_reference_genome)\u001b[0m\n\u001b[1;32m    489\u001b[0m         \"\"\"\n\u001b[1;32m    490\u001b[0m \u001b[0;34m\u001b[0m\u001b[0m\n\u001b[0;32m--> 491\u001b[0;31m         \u001b[0mEnv\u001b[0m\u001b[0;34m.\u001b[0m\u001b[0mbackend\u001b[0m\u001b[0;34m(\u001b[0m\u001b[0;34m)\u001b[0m\u001b[0;34m.\u001b[0m\u001b[0madd_liftover\u001b[0m\u001b[0;34m(\u001b[0m\u001b[0mself\u001b[0m\u001b[0;34m.\u001b[0m\u001b[0mname\u001b[0m\u001b[0;34m,\u001b[0m \u001b[0mchain_file\u001b[0m\u001b[0;34m,\u001b[0m \u001b[0mdest_reference_genome\u001b[0m\u001b[0;34m.\u001b[0m\u001b[0mname\u001b[0m\u001b[0;34m)\u001b[0m\u001b[0;34m\u001b[0m\u001b[0;34m\u001b[0m\u001b[0m\n\u001b[0m\u001b[1;32m    492\u001b[0m         \u001b[0;32mif\u001b[0m \u001b[0mdest_reference_genome\u001b[0m\u001b[0;34m.\u001b[0m\u001b[0mname\u001b[0m \u001b[0;32min\u001b[0m \u001b[0mself\u001b[0m\u001b[0;34m.\u001b[0m\u001b[0m_liftovers\u001b[0m\u001b[0;34m:\u001b[0m\u001b[0;34m\u001b[0m\u001b[0;34m\u001b[0m\u001b[0m\n\u001b[1;32m    493\u001b[0m             \u001b[0;32mraise\u001b[0m \u001b[0mKeyError\u001b[0m\u001b[0;34m(\u001b[0m\u001b[0;34mf\"Liftover already exists from {self.name} to {dest_reference_genome.name}.\"\u001b[0m\u001b[0;34m)\u001b[0m\u001b[0;34m\u001b[0m\u001b[0;34m\u001b[0m\u001b[0m\n",
      "\u001b[0;32m/gpfs/ycga/project/brueckner/nsd35/conda_envs/nov_2021/lib/python3.7/site-packages/hail/backend/spark_backend.py\u001b[0m in \u001b[0;36madd_liftover\u001b[0;34m(self, name, chain_file, dest_reference_genome)\u001b[0m\n\u001b[1;32m    345\u001b[0m \u001b[0;34m\u001b[0m\u001b[0m\n\u001b[1;32m    346\u001b[0m     \u001b[0;32mdef\u001b[0m \u001b[0madd_liftover\u001b[0m\u001b[0;34m(\u001b[0m\u001b[0mself\u001b[0m\u001b[0;34m,\u001b[0m \u001b[0mname\u001b[0m\u001b[0;34m,\u001b[0m \u001b[0mchain_file\u001b[0m\u001b[0;34m,\u001b[0m \u001b[0mdest_reference_genome\u001b[0m\u001b[0;34m)\u001b[0m\u001b[0;34m:\u001b[0m\u001b[0;34m\u001b[0m\u001b[0;34m\u001b[0m\u001b[0m\n\u001b[0;32m--> 347\u001b[0;31m         \u001b[0mself\u001b[0m\u001b[0;34m.\u001b[0m\u001b[0m_jbackend\u001b[0m\u001b[0;34m.\u001b[0m\u001b[0mpyReferenceAddLiftover\u001b[0m\u001b[0;34m(\u001b[0m\u001b[0mname\u001b[0m\u001b[0;34m,\u001b[0m \u001b[0mchain_file\u001b[0m\u001b[0;34m,\u001b[0m \u001b[0mdest_reference_genome\u001b[0m\u001b[0;34m)\u001b[0m\u001b[0;34m\u001b[0m\u001b[0;34m\u001b[0m\u001b[0m\n\u001b[0m\u001b[1;32m    348\u001b[0m \u001b[0;34m\u001b[0m\u001b[0m\n\u001b[1;32m    349\u001b[0m     \u001b[0;32mdef\u001b[0m \u001b[0mremove_liftover\u001b[0m\u001b[0;34m(\u001b[0m\u001b[0mself\u001b[0m\u001b[0;34m,\u001b[0m \u001b[0mname\u001b[0m\u001b[0;34m,\u001b[0m \u001b[0mdest_reference_genome\u001b[0m\u001b[0;34m)\u001b[0m\u001b[0;34m:\u001b[0m\u001b[0;34m\u001b[0m\u001b[0;34m\u001b[0m\u001b[0m\n",
      "\u001b[0;32m/gpfs/ycga/project/brueckner/nsd35/conda_envs/nov_2021/lib/python3.7/site-packages/py4j/java_gateway.py\u001b[0m in \u001b[0;36m__call__\u001b[0;34m(self, *args)\u001b[0m\n\u001b[1;32m   1303\u001b[0m         \u001b[0manswer\u001b[0m \u001b[0;34m=\u001b[0m \u001b[0mself\u001b[0m\u001b[0;34m.\u001b[0m\u001b[0mgateway_client\u001b[0m\u001b[0;34m.\u001b[0m\u001b[0msend_command\u001b[0m\u001b[0;34m(\u001b[0m\u001b[0mcommand\u001b[0m\u001b[0;34m)\u001b[0m\u001b[0;34m\u001b[0m\u001b[0;34m\u001b[0m\u001b[0m\n\u001b[1;32m   1304\u001b[0m         return_value = get_return_value(\n\u001b[0;32m-> 1305\u001b[0;31m             answer, self.gateway_client, self.target_id, self.name)\n\u001b[0m\u001b[1;32m   1306\u001b[0m \u001b[0;34m\u001b[0m\u001b[0m\n\u001b[1;32m   1307\u001b[0m         \u001b[0;32mfor\u001b[0m \u001b[0mtemp_arg\u001b[0m \u001b[0;32min\u001b[0m \u001b[0mtemp_args\u001b[0m\u001b[0;34m:\u001b[0m\u001b[0;34m\u001b[0m\u001b[0;34m\u001b[0m\u001b[0m\n",
      "\u001b[0;32m/gpfs/ycga/project/brueckner/nsd35/conda_envs/nov_2021/lib/python3.7/site-packages/hail/backend/py4j_backend.py\u001b[0m in \u001b[0;36mdeco\u001b[0;34m(*args, **kwargs)\u001b[0m\n\u001b[1;32m     29\u001b[0m                 raise FatalError('%s\\n\\nJava stack trace:\\n%s\\n'\n\u001b[1;32m     30\u001b[0m                                  \u001b[0;34m'Hail version: %s\\n'\u001b[0m\u001b[0;34m\u001b[0m\u001b[0;34m\u001b[0m\u001b[0m\n\u001b[0;32m---> 31\u001b[0;31m                                  'Error summary: %s' % (deepest, full, hail.__version__, deepest), error_id) from None\n\u001b[0m\u001b[1;32m     32\u001b[0m         \u001b[0;32mexcept\u001b[0m \u001b[0mpyspark\u001b[0m\u001b[0;34m.\u001b[0m\u001b[0msql\u001b[0m\u001b[0;34m.\u001b[0m\u001b[0mutils\u001b[0m\u001b[0;34m.\u001b[0m\u001b[0mCapturedException\u001b[0m \u001b[0;32mas\u001b[0m \u001b[0me\u001b[0m\u001b[0;34m:\u001b[0m\u001b[0;34m\u001b[0m\u001b[0;34m\u001b[0m\u001b[0m\n\u001b[1;32m     33\u001b[0m             raise FatalError('%s\\n\\nJava stack trace:\\n%s\\n'\n",
      "\u001b[0;31mFatalError\u001b[0m: HailException: Chain file already exists for source reference 'GRCh37' and destination reference 'GRCh38'.\n\nJava stack trace:\nis.hail.utils.HailException: Chain file already exists for source reference 'GRCh37' and destination reference 'GRCh38'.\n\tat is.hail.utils.ErrorHandling.fatal(ErrorHandling.scala:11)\n\tat is.hail.utils.ErrorHandling.fatal$(ErrorHandling.scala:11)\n\tat is.hail.utils.package$.fatal(package.scala:78)\n\tat is.hail.variant.ReferenceGenome.addLiftover(ReferenceGenome.scala:392)\n\tat is.hail.variant.ReferenceGenome$.referenceAddLiftover(ReferenceGenome.scala:631)\n\tat is.hail.backend.spark.SparkBackend.$anonfun$pyReferenceAddLiftover$2(SparkBackend.scala:587)\n\tat is.hail.backend.spark.SparkBackend.$anonfun$pyReferenceAddLiftover$2$adapted(SparkBackend.scala:586)\n\tat is.hail.backend.ExecuteContext$.$anonfun$scoped$3(ExecuteContext.scala:47)\n\tat is.hail.utils.package$.using(package.scala:638)\n\tat is.hail.backend.ExecuteContext$.$anonfun$scoped$2(ExecuteContext.scala:47)\n\tat is.hail.utils.package$.using(package.scala:638)\n\tat is.hail.annotations.RegionPool$.scoped(RegionPool.scala:17)\n\tat is.hail.backend.ExecuteContext$.scoped(ExecuteContext.scala:46)\n\tat is.hail.backend.spark.SparkBackend.withExecuteContext(SparkBackend.scala:275)\n\tat is.hail.backend.spark.SparkBackend.$anonfun$pyReferenceAddLiftover$1(SparkBackend.scala:586)\n\tat is.hail.backend.spark.SparkBackend.$anonfun$pyReferenceAddLiftover$1$adapted(SparkBackend.scala:585)\n\tat is.hail.utils.ExecutionTimer$.time(ExecutionTimer.scala:52)\n\tat is.hail.utils.ExecutionTimer$.logTime(ExecutionTimer.scala:59)\n\tat is.hail.backend.spark.SparkBackend.pyReferenceAddLiftover(SparkBackend.scala:585)\n\tat sun.reflect.NativeMethodAccessorImpl.invoke0(Native Method)\n\tat sun.reflect.NativeMethodAccessorImpl.invoke(NativeMethodAccessorImpl.java:62)\n\tat sun.reflect.DelegatingMethodAccessorImpl.invoke(DelegatingMethodAccessorImpl.java:43)\n\tat java.lang.reflect.Method.invoke(Method.java:498)\n\tat py4j.reflection.MethodInvoker.invoke(MethodInvoker.java:244)\n\tat py4j.reflection.ReflectionEngine.invoke(ReflectionEngine.java:357)\n\tat py4j.Gateway.invoke(Gateway.java:282)\n\tat py4j.commands.AbstractCommand.invokeMethod(AbstractCommand.java:132)\n\tat py4j.commands.CallCommand.execute(CallCommand.java:79)\n\tat py4j.GatewayConnection.run(GatewayConnection.java:238)\n\tat java.lang.Thread.run(Thread.java:748)\n\n\n\nHail version: 0.2.78-b17627756568\nError summary: HailException: Chain file already exists for source reference 'GRCh37' and destination reference 'GRCh38'."
     ]
    }
   ],
   "source": [
    "# Liftover of matrix table from GRCh37 to GRCh38 (condensed from v0, untested, v0 works if this doesn't)\n",
    "mt_input = '/gpfs/gibbs/pi/brueckner/yale_phil/yale/split_yale_37.mt'\n",
    "mt_output = '/gpfs/gibbs/pi/brueckner/yale_phil/scratch/split_yale_liftover.mt'\n",
    "\n",
    "rg37 = hl.get_reference('GRCh37')  \n",
    "rg38 = hl.get_reference('GRCh38')  \n",
    "rg37.add_liftover('/gpfs/gibbs/pi/brueckner/hail_resources/grch37_to_grch38.over.chain.gz', rg38)  \n",
    "\n",
    "mt = hl.read_matrix_table(mt_input)\n",
    "print('Reads in: \\n' + mt_input + '\\n')\n",
    "\n",
    "mt = mt.annotate_rows(new_locus=hl.liftover(mt.locus, 'GRCh38'))  \n",
    "mt = mt.filter_rows(hl.is_defined(mt.new_locus))  \n",
    "#mt = mt.key_rows_by(locus=mt.new_locus)\n",
    "mt = mt.key_rows_by(locus=mt.new_locus, alleles=mt.alleles)  \n",
    "\n",
    "print('Writes out: \\n' + mt_output + '\\n')\n",
    "mt.write(mt_output, overwrite = True)"
   ]
  },
  {
   "cell_type": "markdown",
   "id": "85a8539c",
   "metadata": {},
   "source": [
    "# Generic "
   ]
  },
  {
   "cell_type": "code",
   "execution_count": null,
   "id": "2d84938a",
   "metadata": {},
   "outputs": [],
   "source": [
    "\n",
    "mt_input = \n",
    "print('Reads in the matrix table: \\n' + mt_input + '\\n')\n",
    "\n",
    "mt_output = \n",
    "print('Writes the matrix table: \\n' + mt_output + '\\n')\n",
    "#############################################################################\n",
    "mt = hl.read_matrix_table(mt_input)\n",
    "#print('count of the input dataframe: ' + str(mt.count()) + '\\n')\n",
    "\n",
    "# do stuff to the matrix table \n",
    "\n",
    "#############################################################################\n",
    "#mt.write(mt_output, overwrite = True)"
   ]
  },
  {
   "cell_type": "code",
   "execution_count": null,
   "id": "42ddc09d",
   "metadata": {},
   "outputs": [],
   "source": [
    "\n",
    "\n",
    "ht_input = \n",
    "print('Reads in the hail table: \\n' + ht_input + '\\n')\n",
    "ht = hl.read_table(ht_input)\n",
    "#print('count of this dataframe:' + str(ht.count()) + '\\n')\n",
    "\n",
    "ht_output = \n",
    "print('Writes the hail table: \\n' + ht_output + '\\n')\n",
    "\n",
    "###################################################################################################\n",
    "\n",
    "mt_input = \n",
    "print('Reads in the matrix table: \\n' + mt_input + '\\n')\n",
    "mt = hl.read_matrix_table(mt_input)\n",
    "#print('count of the input dataframe: ' + str(mt.count()) + '\\n')\n",
    "\n",
    "mt_output = \n",
    "print('Writes the matrix table: \\n' + mt_output + '\\n')\n",
    "#mt.write(mt_output, overwrite = True)\n",
    "\n",
    "###################################################################################################\n",
    "###################################################################################################"
   ]
  },
  {
   "cell_type": "code",
   "execution_count": null,
   "id": "c77f0ae2",
   "metadata": {},
   "outputs": [],
   "source": [
    "mt_input_1 = \n",
    "mt_1 = hl.read_matrix_table(mt_input_1)\n",
    "print('Reads in the following matrix table: \\n' + mt_input_1)\n",
    "#print('count of the input dataframe: ' + str(mt_1.count()) + '\\n')\n",
    "\n",
    "#################################################################################################\n",
    "mt_input_2 = \n",
    "mt_2 = hl.read_matrix_table(mt_input_2)\n",
    "print('Reads in the following matrix table: \\n' + mt_input_2)\n",
    "#print('count of the input dataframe: ' + str(mt_2.count()) + '\\n')\n",
    "\n",
    "######################################################################################################\n",
    "mt_input_3 = \n",
    "mt_3 = hl.read_matrix_table(mt_input_3)\n",
    "print('Reads in the following matrix table: \\n' + mt_input_3)\n",
    "#print('count of the input dataframe: ' + str(mt_3.count()) + '\\n')\n"
   ]
  },
  {
   "cell_type": "code",
   "execution_count": null,
   "id": "9b148724",
   "metadata": {},
   "outputs": [],
   "source": [
    "ht_input_1 = \n",
    "ht_1 = hl.read_matrix_table(ht_input_1)\n",
    "print('Reads in the hail table: \\n' + ht_input_1)\n",
    "#print('count of this dataframe:' + str(ht_1.count()) + '\\n')\n",
    "\n",
    "#################################################################################################\n",
    "ht_input_2 = \n",
    "ht_2 = hl.read_matrix_table(ht_input_2)\n",
    "print('Reads in the hail table: \\n' + ht_input_2)\n",
    "#print('count of this dataframe:' + str(ht_2.count()) + '\\n')\n",
    "\n",
    "######################################################################################################\n",
    "ht_input_3 = \n",
    "ht_3 = hl.read_matrix_table(ht_input_3)\n",
    "print('Reads in the hail table: \\n' + ht_input_3)\n",
    "#print('count of this dataframe:' + str(ht_3.count()) + '\\n')"
   ]
  },
  {
   "cell_type": "markdown",
   "id": "edeae38d",
   "metadata": {},
   "source": [
    "# misc "
   ]
  },
  {
   "cell_type": "code",
   "execution_count": null,
   "id": "bb38ab3a",
   "metadata": {},
   "outputs": [],
   "source": [
    "'''\n",
    "1-04863\n",
    "7:83590862\n",
    "chr7:83961546\n",
    "\n",
    "1-02790\n",
    "11:5688930\n",
    "chr11:5667700\n",
    "\n",
    "1-04863\n",
    "13:28844905\n",
    "chr13:28270768\n",
    "\n",
    "1-05698\n",
    "15:34064173\n",
    "chr15:33771972\n",
    "\n",
    "1-04863\n",
    "15:64449007\n",
    "chr15:64156808\n",
    "\n",
    "1-04863\n",
    "20:58520019\n",
    "chr20:59944964\n",
    "'''\n",
    "\n",
    "#Yale\n",
    "hl_outdir = '/gpfs/gibbs/pi/brueckner/yale_phil/yale/'\n",
    "dnv_outdir = '/gpfs/gibbs/pi/brueckner/yale_phil/yale/dnv_output/'\n",
    "#vcf = '/gpfs/gibbs/pi/brueckner/Phil_Pipeline/yale_callset/yale_pipeline.vcf.gz'\n",
    "#unsplit_mt = hl_outdir + 'unsplit_yale.mt' #hg37\n",
    "split_mt = hl_outdir + 'split_yale_37.mt' #hg37\n",
    "###yale_mt_38 = hl_outdir + 'split_yale_38lift.mt' #split_mt gets lifted over to hg38 giving yale_mt_38\n",
    "###yale_mt_38_keyed = hl_outdir + 'split_yale_38lift_keyed.mt' # keyed by locus and allele \n",
    "vep_mt = '/gpfs/gibbs/pi/brueckner/yale_phil/yale/new_annotation_GRCh37/vep.mt' # new v1\n",
    "vep_r1_mt = '/gpfs/gibbs/pi/brueckner/yale_phil/yale/new_annotation_GRCh37/vep_r1.mt' # new v1\n",
    "######vep_mt = hl_outdir + 'vep_37.mt' # old v1\n",
    "######vep_r1_mt = hl_outdir + 'vep_r1_37.mt' # old v1\n",
    "\n",
    "#Phil\n",
    "#hl_outdir = '/gpfs/gibbs/pi/brueckner/yale_phil/phil/'\n",
    "#dnv_outdir = '/gpfs/gibbs/pi/brueckner/yale_phil/phil/dnv_output/'\n",
    "#vcf = '/gpfs/gibbs/pi/brueckner/Phil_Pipeline/callset/phil_pipeline.vcf.gz'\n",
    "#unsplit_mt = hl_outdir + 'unsplit_phil.mt' \n",
    "#split_mt = hl_outdir + 'split_phil.mt' \n",
    "#vep_mt = hl_outdir + 'vep_.mt' #from v0 and for phil\n",
    "#vep_r1_mt = hl_outdir + 'vep_r1.mt' #from v0 and for phil"
   ]
  },
  {
   "cell_type": "code",
   "execution_count": 14,
   "id": "bfb5bd9e",
   "metadata": {},
   "outputs": [
    {
     "name": "stdout",
     "output_type": "stream",
     "text": [
      "Reads in the following matrix table: \n",
      "/gpfs/gibbs/pi/brueckner/yale_phil/phil/vep_r1.mt\n"
     ]
    },
    {
     "data": {
      "text/html": [
       "<table><thead><tr><td style=\"white-space: nowrap; max-width: 500px; overflow: hidden; text-overflow: ellipsis; \" colspan=\"1\"><div style=\"text-align: left;\"></div></td><td style=\"white-space: nowrap; max-width: 500px; overflow: hidden; text-overflow: ellipsis; \" colspan=\"1\"><div style=\"text-align: left;\"></div></td><td style=\"white-space: nowrap; max-width: 500px; overflow: hidden; text-overflow: ellipsis; \" colspan=\"1\"><div style=\"text-align: left;\"></div></td></tr><tr><td style=\"white-space: nowrap; max-width: 500px; overflow: hidden; text-overflow: ellipsis; \" colspan=\"1\"><div style=\"text-align: left;border-bottom: solid 2px #000; padding-bottom: 5px\">locus</div></td><td style=\"white-space: nowrap; max-width: 500px; overflow: hidden; text-overflow: ellipsis; \" colspan=\"1\"><div style=\"text-align: left;border-bottom: solid 2px #000; padding-bottom: 5px\">alleles</div></td><td style=\"white-space: nowrap; max-width: 500px; overflow: hidden; text-overflow: ellipsis; \" colspan=\"1\"><div style=\"text-align: left;border-bottom: solid 2px #000; padding-bottom: 5px\">hgvs</div></td></tr><tr><td style=\"white-space: nowrap; max-width: 500px; overflow: hidden; text-overflow: ellipsis; text-align: left;\">locus&lt;GRCh38&gt;</td><td style=\"white-space: nowrap; max-width: 500px; overflow: hidden; text-overflow: ellipsis; text-align: left;\">array&lt;str&gt;</td><td style=\"white-space: nowrap; max-width: 500px; overflow: hidden; text-overflow: ellipsis; text-align: left;\">str</td></tr>\n",
       "</thead><tbody><tr><td style=\"white-space: nowrap; max-width: 500px; overflow: hidden; text-overflow: ellipsis; \">chr7:83961546</td><td style=\"white-space: nowrap; max-width: 500px; overflow: hidden; text-overflow: ellipsis; \">[&quot;T&quot;,&quot;C&quot;]</td><td style=\"white-space: nowrap; max-width: 500px; overflow: hidden; text-overflow: ellipsis; \">&quot;p.Asn714Ser&quot;</td></tr>\n",
       "<tr><td style=\"white-space: nowrap; max-width: 500px; overflow: hidden; text-overflow: ellipsis; \">chr11:5667700</td><td style=\"white-space: nowrap; max-width: 500px; overflow: hidden; text-overflow: ellipsis; \">[&quot;G&quot;,&quot;A&quot;]</td><td style=\"white-space: nowrap; max-width: 500px; overflow: hidden; text-overflow: ellipsis; \">&quot;p.Gly252Gly&quot;</td></tr>\n",
       "<tr><td style=\"white-space: nowrap; max-width: 500px; overflow: hidden; text-overflow: ellipsis; \">chr13:28270768</td><td style=\"white-space: nowrap; max-width: 500px; overflow: hidden; text-overflow: ellipsis; \">[&quot;T&quot;,&quot;C&quot;]</td><td style=\"white-space: nowrap; max-width: 500px; overflow: hidden; text-overflow: ellipsis; \">&quot;p.Tyr620Tyr&quot;</td></tr>\n",
       "<tr><td style=\"white-space: nowrap; max-width: 500px; overflow: hidden; text-overflow: ellipsis; \">chr15:33771972</td><td style=\"white-space: nowrap; max-width: 500px; overflow: hidden; text-overflow: ellipsis; \">[&quot;T&quot;,&quot;C&quot;]</td><td style=\"white-space: nowrap; max-width: 500px; overflow: hidden; text-overflow: ellipsis; \">&quot;p.Phe2957Leu&quot;</td></tr>\n",
       "<tr><td style=\"white-space: nowrap; max-width: 500px; overflow: hidden; text-overflow: ellipsis; \">chr15:64156808</td><td style=\"white-space: nowrap; max-width: 500px; overflow: hidden; text-overflow: ellipsis; \">[&quot;C&quot;,&quot;T&quot;]</td><td style=\"white-space: nowrap; max-width: 500px; overflow: hidden; text-overflow: ellipsis; \">&quot;p.Gly149Ser&quot;</td></tr>\n",
       "<tr><td style=\"white-space: nowrap; max-width: 500px; overflow: hidden; text-overflow: ellipsis; \">chr20:59944964</td><td style=\"white-space: nowrap; max-width: 500px; overflow: hidden; text-overflow: ellipsis; \">[&quot;G&quot;,&quot;T&quot;]</td><td style=\"white-space: nowrap; max-width: 500px; overflow: hidden; text-overflow: ellipsis; \">&quot;p.Ala341Ser&quot;</td></tr>\n",
       "</tbody></table>"
      ],
      "text/plain": [
       "+----------------+------------+----------------+\n",
       "| locus          | alleles    | hgvs           |\n",
       "+----------------+------------+----------------+\n",
       "| locus<GRCh38>  | array<str> | str            |\n",
       "+----------------+------------+----------------+\n",
       "| chr7:83961546  | [\"T\",\"C\"]  | \"p.Asn714Ser\"  |\n",
       "| chr11:5667700  | [\"G\",\"A\"]  | \"p.Gly252Gly\"  |\n",
       "| chr13:28270768 | [\"T\",\"C\"]  | \"p.Tyr620Tyr\"  |\n",
       "| chr15:33771972 | [\"T\",\"C\"]  | \"p.Phe2957Leu\" |\n",
       "| chr15:64156808 | [\"C\",\"T\"]  | \"p.Gly149Ser\"  |\n",
       "| chr20:59944964 | [\"G\",\"T\"]  | \"p.Ala341Ser\"  |\n",
       "+----------------+------------+----------------+"
      ]
     },
     "metadata": {},
     "output_type": "display_data"
    },
    {
     "name": "stdout",
     "output_type": "stream",
     "text": [
      "None\n"
     ]
    },
    {
     "data": {
      "text/html": [
       "<table><thead><tr><td style=\"white-space: nowrap; max-width: 500px; overflow: hidden; text-overflow: ellipsis; \" colspan=\"1\"><div style=\"text-align: left;\"></div></td><td style=\"white-space: nowrap; max-width: 500px; overflow: hidden; text-overflow: ellipsis; \" colspan=\"1\"><div style=\"text-align: left;\"></div></td><td style=\"white-space: nowrap; max-width: 500px; overflow: hidden; text-overflow: ellipsis; \" colspan=\"1\"><div style=\"text-align: left;\"></div></td></tr><tr><td style=\"white-space: nowrap; max-width: 500px; overflow: hidden; text-overflow: ellipsis; \" colspan=\"1\"><div style=\"text-align: left;border-bottom: solid 2px #000; padding-bottom: 5px\">locus</div></td><td style=\"white-space: nowrap; max-width: 500px; overflow: hidden; text-overflow: ellipsis; \" colspan=\"1\"><div style=\"text-align: left;border-bottom: solid 2px #000; padding-bottom: 5px\">alleles</div></td><td style=\"white-space: nowrap; max-width: 500px; overflow: hidden; text-overflow: ellipsis; \" colspan=\"1\"><div style=\"text-align: left;border-bottom: solid 2px #000; padding-bottom: 5px\">gene_symbol</div></td></tr><tr><td style=\"white-space: nowrap; max-width: 500px; overflow: hidden; text-overflow: ellipsis; text-align: left;\">locus&lt;GRCh38&gt;</td><td style=\"white-space: nowrap; max-width: 500px; overflow: hidden; text-overflow: ellipsis; text-align: left;\">array&lt;str&gt;</td><td style=\"white-space: nowrap; max-width: 500px; overflow: hidden; text-overflow: ellipsis; text-align: left;\">str</td></tr>\n",
       "</thead><tbody><tr><td style=\"white-space: nowrap; max-width: 500px; overflow: hidden; text-overflow: ellipsis; \">chr7:83961546</td><td style=\"white-space: nowrap; max-width: 500px; overflow: hidden; text-overflow: ellipsis; \">[&quot;T&quot;,&quot;C&quot;]</td><td style=\"white-space: nowrap; max-width: 500px; overflow: hidden; text-overflow: ellipsis; \">&quot;SEMA3A&quot;</td></tr>\n",
       "<tr><td style=\"white-space: nowrap; max-width: 500px; overflow: hidden; text-overflow: ellipsis; \">chr11:5667700</td><td style=\"white-space: nowrap; max-width: 500px; overflow: hidden; text-overflow: ellipsis; \">[&quot;G&quot;,&quot;A&quot;]</td><td style=\"white-space: nowrap; max-width: 500px; overflow: hidden; text-overflow: ellipsis; \">&quot;TRIM5&quot;</td></tr>\n",
       "<tr><td style=\"white-space: nowrap; max-width: 500px; overflow: hidden; text-overflow: ellipsis; \">chr13:28270768</td><td style=\"white-space: nowrap; max-width: 500px; overflow: hidden; text-overflow: ellipsis; \">[&quot;T&quot;,&quot;C&quot;]</td><td style=\"white-space: nowrap; max-width: 500px; overflow: hidden; text-overflow: ellipsis; \">&quot;PAN3&quot;</td></tr>\n",
       "<tr><td style=\"white-space: nowrap; max-width: 500px; overflow: hidden; text-overflow: ellipsis; \">chr15:33771972</td><td style=\"white-space: nowrap; max-width: 500px; overflow: hidden; text-overflow: ellipsis; \">[&quot;T&quot;,&quot;C&quot;]</td><td style=\"white-space: nowrap; max-width: 500px; overflow: hidden; text-overflow: ellipsis; \">&quot;RYR3&quot;</td></tr>\n",
       "<tr><td style=\"white-space: nowrap; max-width: 500px; overflow: hidden; text-overflow: ellipsis; \">chr15:64156808</td><td style=\"white-space: nowrap; max-width: 500px; overflow: hidden; text-overflow: ellipsis; \">[&quot;C&quot;,&quot;T&quot;]</td><td style=\"white-space: nowrap; max-width: 500px; overflow: hidden; text-overflow: ellipsis; \">&quot;PPIB&quot;</td></tr>\n",
       "<tr><td style=\"white-space: nowrap; max-width: 500px; overflow: hidden; text-overflow: ellipsis; \">chr20:59944964</td><td style=\"white-space: nowrap; max-width: 500px; overflow: hidden; text-overflow: ellipsis; \">[&quot;G&quot;,&quot;T&quot;]</td><td style=\"white-space: nowrap; max-width: 500px; overflow: hidden; text-overflow: ellipsis; \">&quot;FAM217B&quot;</td></tr>\n",
       "</tbody></table>"
      ],
      "text/plain": [
       "+----------------+------------+-------------+\n",
       "| locus          | alleles    | gene_symbol |\n",
       "+----------------+------------+-------------+\n",
       "| locus<GRCh38>  | array<str> | str         |\n",
       "+----------------+------------+-------------+\n",
       "| chr7:83961546  | [\"T\",\"C\"]  | \"SEMA3A\"    |\n",
       "| chr11:5667700  | [\"G\",\"A\"]  | \"TRIM5\"     |\n",
       "| chr13:28270768 | [\"T\",\"C\"]  | \"PAN3\"      |\n",
       "| chr15:33771972 | [\"T\",\"C\"]  | \"RYR3\"      |\n",
       "| chr15:64156808 | [\"C\",\"T\"]  | \"PPIB\"      |\n",
       "| chr20:59944964 | [\"G\",\"T\"]  | \"FAM217B\"   |\n",
       "+----------------+------------+-------------+"
      ]
     },
     "metadata": {},
     "output_type": "display_data"
    },
    {
     "name": "stdout",
     "output_type": "stream",
     "text": [
      "None\n",
      "Reads in the following matrix table: \n",
      "/gpfs/gibbs/pi/brueckner/yale_phil/yale/new_annotation_GRCh37/vep_r1.mt\n"
     ]
    },
    {
     "data": {
      "text/html": [
       "<table><thead><tr><td style=\"white-space: nowrap; max-width: 500px; overflow: hidden; text-overflow: ellipsis; \" colspan=\"1\"><div style=\"text-align: left;\"></div></td><td style=\"white-space: nowrap; max-width: 500px; overflow: hidden; text-overflow: ellipsis; \" colspan=\"1\"><div style=\"text-align: left;\"></div></td><td style=\"white-space: nowrap; max-width: 500px; overflow: hidden; text-overflow: ellipsis; \" colspan=\"1\"><div style=\"text-align: left;\"></div></td></tr><tr><td style=\"white-space: nowrap; max-width: 500px; overflow: hidden; text-overflow: ellipsis; \" colspan=\"1\"><div style=\"text-align: left;border-bottom: solid 2px #000; padding-bottom: 5px\">locus</div></td><td style=\"white-space: nowrap; max-width: 500px; overflow: hidden; text-overflow: ellipsis; \" colspan=\"1\"><div style=\"text-align: left;border-bottom: solid 2px #000; padding-bottom: 5px\">alleles</div></td><td style=\"white-space: nowrap; max-width: 500px; overflow: hidden; text-overflow: ellipsis; \" colspan=\"1\"><div style=\"text-align: left;border-bottom: solid 2px #000; padding-bottom: 5px\">hgvs</div></td></tr><tr><td style=\"white-space: nowrap; max-width: 500px; overflow: hidden; text-overflow: ellipsis; text-align: left;\">locus&lt;GRCh37&gt;</td><td style=\"white-space: nowrap; max-width: 500px; overflow: hidden; text-overflow: ellipsis; text-align: left;\">array&lt;str&gt;</td><td style=\"white-space: nowrap; max-width: 500px; overflow: hidden; text-overflow: ellipsis; text-align: left;\">str</td></tr>\n",
       "</thead><tbody><tr><td style=\"white-space: nowrap; max-width: 500px; overflow: hidden; text-overflow: ellipsis; \">7:83590862</td><td style=\"white-space: nowrap; max-width: 500px; overflow: hidden; text-overflow: ellipsis; \">[&quot;T&quot;,&quot;C&quot;]</td><td style=\"white-space: nowrap; max-width: 500px; overflow: hidden; text-overflow: ellipsis; \">&quot;p.Asn714Ser&quot;</td></tr>\n",
       "<tr><td style=\"white-space: nowrap; max-width: 500px; overflow: hidden; text-overflow: ellipsis; \">11:5688930</td><td style=\"white-space: nowrap; max-width: 500px; overflow: hidden; text-overflow: ellipsis; \">[&quot;G&quot;,&quot;A&quot;]</td><td style=\"white-space: nowrap; max-width: 500px; overflow: hidden; text-overflow: ellipsis; \">&quot;p.Gly252Gly&quot;</td></tr>\n",
       "<tr><td style=\"white-space: nowrap; max-width: 500px; overflow: hidden; text-overflow: ellipsis; \">13:28844905</td><td style=\"white-space: nowrap; max-width: 500px; overflow: hidden; text-overflow: ellipsis; \">[&quot;T&quot;,&quot;C&quot;]</td><td style=\"white-space: nowrap; max-width: 500px; overflow: hidden; text-overflow: ellipsis; \">&quot;p.Tyr620Tyr&quot;</td></tr>\n",
       "<tr><td style=\"white-space: nowrap; max-width: 500px; overflow: hidden; text-overflow: ellipsis; \">15:34064173</td><td style=\"white-space: nowrap; max-width: 500px; overflow: hidden; text-overflow: ellipsis; \">[&quot;T&quot;,&quot;C&quot;]</td><td style=\"white-space: nowrap; max-width: 500px; overflow: hidden; text-overflow: ellipsis; \">&quot;p.Phe2957Leu&quot;</td></tr>\n",
       "<tr><td style=\"white-space: nowrap; max-width: 500px; overflow: hidden; text-overflow: ellipsis; \">15:64449007</td><td style=\"white-space: nowrap; max-width: 500px; overflow: hidden; text-overflow: ellipsis; \">[&quot;C&quot;,&quot;T&quot;]</td><td style=\"white-space: nowrap; max-width: 500px; overflow: hidden; text-overflow: ellipsis; \">&quot;p.Gly149Ser&quot;</td></tr>\n",
       "<tr><td style=\"white-space: nowrap; max-width: 500px; overflow: hidden; text-overflow: ellipsis; \">20:58520019</td><td style=\"white-space: nowrap; max-width: 500px; overflow: hidden; text-overflow: ellipsis; \">[&quot;G&quot;,&quot;T&quot;]</td><td style=\"white-space: nowrap; max-width: 500px; overflow: hidden; text-overflow: ellipsis; \">&quot;p.Ala341Ser&quot;</td></tr>\n",
       "</tbody></table>"
      ],
      "text/plain": [
       "+---------------+------------+----------------+\n",
       "| locus         | alleles    | hgvs           |\n",
       "+---------------+------------+----------------+\n",
       "| locus<GRCh37> | array<str> | str            |\n",
       "+---------------+------------+----------------+\n",
       "| 7:83590862    | [\"T\",\"C\"]  | \"p.Asn714Ser\"  |\n",
       "| 11:5688930    | [\"G\",\"A\"]  | \"p.Gly252Gly\"  |\n",
       "| 13:28844905   | [\"T\",\"C\"]  | \"p.Tyr620Tyr\"  |\n",
       "| 15:34064173   | [\"T\",\"C\"]  | \"p.Phe2957Leu\" |\n",
       "| 15:64449007   | [\"C\",\"T\"]  | \"p.Gly149Ser\"  |\n",
       "| 20:58520019   | [\"G\",\"T\"]  | \"p.Ala341Ser\"  |\n",
       "+---------------+------------+----------------+"
      ]
     },
     "metadata": {},
     "output_type": "display_data"
    },
    {
     "name": "stdout",
     "output_type": "stream",
     "text": [
      "None\n"
     ]
    },
    {
     "data": {
      "text/html": [
       "<table><thead><tr><td style=\"white-space: nowrap; max-width: 500px; overflow: hidden; text-overflow: ellipsis; \" colspan=\"1\"><div style=\"text-align: left;\"></div></td><td style=\"white-space: nowrap; max-width: 500px; overflow: hidden; text-overflow: ellipsis; \" colspan=\"1\"><div style=\"text-align: left;\"></div></td><td style=\"white-space: nowrap; max-width: 500px; overflow: hidden; text-overflow: ellipsis; \" colspan=\"1\"><div style=\"text-align: left;\"></div></td></tr><tr><td style=\"white-space: nowrap; max-width: 500px; overflow: hidden; text-overflow: ellipsis; \" colspan=\"1\"><div style=\"text-align: left;border-bottom: solid 2px #000; padding-bottom: 5px\">locus</div></td><td style=\"white-space: nowrap; max-width: 500px; overflow: hidden; text-overflow: ellipsis; \" colspan=\"1\"><div style=\"text-align: left;border-bottom: solid 2px #000; padding-bottom: 5px\">alleles</div></td><td style=\"white-space: nowrap; max-width: 500px; overflow: hidden; text-overflow: ellipsis; \" colspan=\"1\"><div style=\"text-align: left;border-bottom: solid 2px #000; padding-bottom: 5px\">gene_symbol</div></td></tr><tr><td style=\"white-space: nowrap; max-width: 500px; overflow: hidden; text-overflow: ellipsis; text-align: left;\">locus&lt;GRCh37&gt;</td><td style=\"white-space: nowrap; max-width: 500px; overflow: hidden; text-overflow: ellipsis; text-align: left;\">array&lt;str&gt;</td><td style=\"white-space: nowrap; max-width: 500px; overflow: hidden; text-overflow: ellipsis; text-align: left;\">str</td></tr>\n",
       "</thead><tbody><tr><td style=\"white-space: nowrap; max-width: 500px; overflow: hidden; text-overflow: ellipsis; \">7:83590862</td><td style=\"white-space: nowrap; max-width: 500px; overflow: hidden; text-overflow: ellipsis; \">[&quot;T&quot;,&quot;C&quot;]</td><td style=\"white-space: nowrap; max-width: 500px; overflow: hidden; text-overflow: ellipsis; \">&quot;SEMA3A&quot;</td></tr>\n",
       "<tr><td style=\"white-space: nowrap; max-width: 500px; overflow: hidden; text-overflow: ellipsis; \">11:5688930</td><td style=\"white-space: nowrap; max-width: 500px; overflow: hidden; text-overflow: ellipsis; \">[&quot;G&quot;,&quot;A&quot;]</td><td style=\"white-space: nowrap; max-width: 500px; overflow: hidden; text-overflow: ellipsis; \">&quot;TRIM5&quot;</td></tr>\n",
       "<tr><td style=\"white-space: nowrap; max-width: 500px; overflow: hidden; text-overflow: ellipsis; \">13:28844905</td><td style=\"white-space: nowrap; max-width: 500px; overflow: hidden; text-overflow: ellipsis; \">[&quot;T&quot;,&quot;C&quot;]</td><td style=\"white-space: nowrap; max-width: 500px; overflow: hidden; text-overflow: ellipsis; \">&quot;PAN3&quot;</td></tr>\n",
       "<tr><td style=\"white-space: nowrap; max-width: 500px; overflow: hidden; text-overflow: ellipsis; \">15:34064173</td><td style=\"white-space: nowrap; max-width: 500px; overflow: hidden; text-overflow: ellipsis; \">[&quot;T&quot;,&quot;C&quot;]</td><td style=\"white-space: nowrap; max-width: 500px; overflow: hidden; text-overflow: ellipsis; \">&quot;RYR3&quot;</td></tr>\n",
       "<tr><td style=\"white-space: nowrap; max-width: 500px; overflow: hidden; text-overflow: ellipsis; \">15:64449007</td><td style=\"white-space: nowrap; max-width: 500px; overflow: hidden; text-overflow: ellipsis; \">[&quot;C&quot;,&quot;T&quot;]</td><td style=\"white-space: nowrap; max-width: 500px; overflow: hidden; text-overflow: ellipsis; \">&quot;PPIB&quot;</td></tr>\n",
       "<tr><td style=\"white-space: nowrap; max-width: 500px; overflow: hidden; text-overflow: ellipsis; \">20:58520019</td><td style=\"white-space: nowrap; max-width: 500px; overflow: hidden; text-overflow: ellipsis; \">[&quot;G&quot;,&quot;T&quot;]</td><td style=\"white-space: nowrap; max-width: 500px; overflow: hidden; text-overflow: ellipsis; \">&quot;FAM217B&quot;</td></tr>\n",
       "</tbody></table>"
      ],
      "text/plain": [
       "+---------------+------------+-------------+\n",
       "| locus         | alleles    | gene_symbol |\n",
       "+---------------+------------+-------------+\n",
       "| locus<GRCh37> | array<str> | str         |\n",
       "+---------------+------------+-------------+\n",
       "| 7:83590862    | [\"T\",\"C\"]  | \"SEMA3A\"    |\n",
       "| 11:5688930    | [\"G\",\"A\"]  | \"TRIM5\"     |\n",
       "| 13:28844905   | [\"T\",\"C\"]  | \"PAN3\"      |\n",
       "| 15:34064173   | [\"T\",\"C\"]  | \"RYR3\"      |\n",
       "| 15:64449007   | [\"C\",\"T\"]  | \"PPIB\"      |\n",
       "| 20:58520019   | [\"G\",\"T\"]  | \"FAM217B\"   |\n",
       "+---------------+------------+-------------+"
      ]
     },
     "metadata": {},
     "output_type": "display_data"
    },
    {
     "name": "stdout",
     "output_type": "stream",
     "text": [
      "None\n",
      "Reads in the following matrix table: \n",
      "/gpfs/gibbs/pi/brueckner/yale_phil/yale/vep_r1.mt\n"
     ]
    },
    {
     "data": {
      "text/html": [
       "<table><thead><tr><td style=\"white-space: nowrap; max-width: 500px; overflow: hidden; text-overflow: ellipsis; \" colspan=\"1\"><div style=\"text-align: left;\"></div></td><td style=\"white-space: nowrap; max-width: 500px; overflow: hidden; text-overflow: ellipsis; \" colspan=\"1\"><div style=\"text-align: left;\"></div></td><td style=\"white-space: nowrap; max-width: 500px; overflow: hidden; text-overflow: ellipsis; \" colspan=\"1\"><div style=\"text-align: left;\"></div></td></tr><tr><td style=\"white-space: nowrap; max-width: 500px; overflow: hidden; text-overflow: ellipsis; \" colspan=\"1\"><div style=\"text-align: left;border-bottom: solid 2px #000; padding-bottom: 5px\">locus</div></td><td style=\"white-space: nowrap; max-width: 500px; overflow: hidden; text-overflow: ellipsis; \" colspan=\"1\"><div style=\"text-align: left;border-bottom: solid 2px #000; padding-bottom: 5px\">alleles</div></td><td style=\"white-space: nowrap; max-width: 500px; overflow: hidden; text-overflow: ellipsis; \" colspan=\"1\"><div style=\"text-align: left;border-bottom: solid 2px #000; padding-bottom: 5px\">hgvs</div></td></tr><tr><td style=\"white-space: nowrap; max-width: 500px; overflow: hidden; text-overflow: ellipsis; text-align: left;\">locus&lt;GRCh38&gt;</td><td style=\"white-space: nowrap; max-width: 500px; overflow: hidden; text-overflow: ellipsis; text-align: left;\">array&lt;str&gt;</td><td style=\"white-space: nowrap; max-width: 500px; overflow: hidden; text-overflow: ellipsis; text-align: left;\">str</td></tr>\n",
       "</thead><tbody><tr><td style=\"white-space: nowrap; max-width: 500px; overflow: hidden; text-overflow: ellipsis; \">chr7:83961546</td><td style=\"white-space: nowrap; max-width: 500px; overflow: hidden; text-overflow: ellipsis; \">[&quot;T&quot;,&quot;C&quot;]</td><td style=\"white-space: nowrap; max-width: 500px; overflow: hidden; text-overflow: ellipsis; \">&quot;p.Asn714Ser&quot;</td></tr>\n",
       "<tr><td style=\"white-space: nowrap; max-width: 500px; overflow: hidden; text-overflow: ellipsis; \">chr11:5667700</td><td style=\"white-space: nowrap; max-width: 500px; overflow: hidden; text-overflow: ellipsis; \">[&quot;G&quot;,&quot;A&quot;]</td><td style=\"white-space: nowrap; max-width: 500px; overflow: hidden; text-overflow: ellipsis; \">&quot;p.Gly252Gly&quot;</td></tr>\n",
       "<tr><td style=\"white-space: nowrap; max-width: 500px; overflow: hidden; text-overflow: ellipsis; \">chr13:28270768</td><td style=\"white-space: nowrap; max-width: 500px; overflow: hidden; text-overflow: ellipsis; \">[&quot;T&quot;,&quot;C&quot;]</td><td style=\"white-space: nowrap; max-width: 500px; overflow: hidden; text-overflow: ellipsis; \">&quot;p.Tyr620Tyr&quot;</td></tr>\n",
       "<tr><td style=\"white-space: nowrap; max-width: 500px; overflow: hidden; text-overflow: ellipsis; \">chr15:33771972</td><td style=\"white-space: nowrap; max-width: 500px; overflow: hidden; text-overflow: ellipsis; \">[&quot;T&quot;,&quot;C&quot;]</td><td style=\"white-space: nowrap; max-width: 500px; overflow: hidden; text-overflow: ellipsis; \">&quot;p.Phe2957Leu&quot;</td></tr>\n",
       "<tr><td style=\"white-space: nowrap; max-width: 500px; overflow: hidden; text-overflow: ellipsis; \">chr15:64156808</td><td style=\"white-space: nowrap; max-width: 500px; overflow: hidden; text-overflow: ellipsis; \">[&quot;C&quot;,&quot;T&quot;]</td><td style=\"white-space: nowrap; max-width: 500px; overflow: hidden; text-overflow: ellipsis; \">&quot;p.Gly149Ser&quot;</td></tr>\n",
       "<tr><td style=\"white-space: nowrap; max-width: 500px; overflow: hidden; text-overflow: ellipsis; \">chr20:59944964</td><td style=\"white-space: nowrap; max-width: 500px; overflow: hidden; text-overflow: ellipsis; \">[&quot;G&quot;,&quot;T&quot;]</td><td style=\"white-space: nowrap; max-width: 500px; overflow: hidden; text-overflow: ellipsis; \">&quot;p.Ala341Ser&quot;</td></tr>\n",
       "</tbody></table>"
      ],
      "text/plain": [
       "+----------------+------------+----------------+\n",
       "| locus          | alleles    | hgvs           |\n",
       "+----------------+------------+----------------+\n",
       "| locus<GRCh38>  | array<str> | str            |\n",
       "+----------------+------------+----------------+\n",
       "| chr7:83961546  | [\"T\",\"C\"]  | \"p.Asn714Ser\"  |\n",
       "| chr11:5667700  | [\"G\",\"A\"]  | \"p.Gly252Gly\"  |\n",
       "| chr13:28270768 | [\"T\",\"C\"]  | \"p.Tyr620Tyr\"  |\n",
       "| chr15:33771972 | [\"T\",\"C\"]  | \"p.Phe2957Leu\" |\n",
       "| chr15:64156808 | [\"C\",\"T\"]  | \"p.Gly149Ser\"  |\n",
       "| chr20:59944964 | [\"G\",\"T\"]  | \"p.Ala341Ser\"  |\n",
       "+----------------+------------+----------------+"
      ]
     },
     "metadata": {},
     "output_type": "display_data"
    },
    {
     "name": "stdout",
     "output_type": "stream",
     "text": [
      "None\n"
     ]
    },
    {
     "data": {
      "text/html": [
       "<table><thead><tr><td style=\"white-space: nowrap; max-width: 500px; overflow: hidden; text-overflow: ellipsis; \" colspan=\"1\"><div style=\"text-align: left;\"></div></td><td style=\"white-space: nowrap; max-width: 500px; overflow: hidden; text-overflow: ellipsis; \" colspan=\"1\"><div style=\"text-align: left;\"></div></td><td style=\"white-space: nowrap; max-width: 500px; overflow: hidden; text-overflow: ellipsis; \" colspan=\"1\"><div style=\"text-align: left;\"></div></td></tr><tr><td style=\"white-space: nowrap; max-width: 500px; overflow: hidden; text-overflow: ellipsis; \" colspan=\"1\"><div style=\"text-align: left;border-bottom: solid 2px #000; padding-bottom: 5px\">locus</div></td><td style=\"white-space: nowrap; max-width: 500px; overflow: hidden; text-overflow: ellipsis; \" colspan=\"1\"><div style=\"text-align: left;border-bottom: solid 2px #000; padding-bottom: 5px\">alleles</div></td><td style=\"white-space: nowrap; max-width: 500px; overflow: hidden; text-overflow: ellipsis; \" colspan=\"1\"><div style=\"text-align: left;border-bottom: solid 2px #000; padding-bottom: 5px\">gene_symbol</div></td></tr><tr><td style=\"white-space: nowrap; max-width: 500px; overflow: hidden; text-overflow: ellipsis; text-align: left;\">locus&lt;GRCh38&gt;</td><td style=\"white-space: nowrap; max-width: 500px; overflow: hidden; text-overflow: ellipsis; text-align: left;\">array&lt;str&gt;</td><td style=\"white-space: nowrap; max-width: 500px; overflow: hidden; text-overflow: ellipsis; text-align: left;\">str</td></tr>\n",
       "</thead><tbody><tr><td style=\"white-space: nowrap; max-width: 500px; overflow: hidden; text-overflow: ellipsis; \">chr7:83961546</td><td style=\"white-space: nowrap; max-width: 500px; overflow: hidden; text-overflow: ellipsis; \">[&quot;T&quot;,&quot;C&quot;]</td><td style=\"white-space: nowrap; max-width: 500px; overflow: hidden; text-overflow: ellipsis; \">&quot;SEMA3A&quot;</td></tr>\n",
       "<tr><td style=\"white-space: nowrap; max-width: 500px; overflow: hidden; text-overflow: ellipsis; \">chr11:5667700</td><td style=\"white-space: nowrap; max-width: 500px; overflow: hidden; text-overflow: ellipsis; \">[&quot;G&quot;,&quot;A&quot;]</td><td style=\"white-space: nowrap; max-width: 500px; overflow: hidden; text-overflow: ellipsis; \">&quot;TRIM5&quot;</td></tr>\n",
       "<tr><td style=\"white-space: nowrap; max-width: 500px; overflow: hidden; text-overflow: ellipsis; \">chr13:28270768</td><td style=\"white-space: nowrap; max-width: 500px; overflow: hidden; text-overflow: ellipsis; \">[&quot;T&quot;,&quot;C&quot;]</td><td style=\"white-space: nowrap; max-width: 500px; overflow: hidden; text-overflow: ellipsis; \">&quot;PAN3&quot;</td></tr>\n",
       "<tr><td style=\"white-space: nowrap; max-width: 500px; overflow: hidden; text-overflow: ellipsis; \">chr15:33771972</td><td style=\"white-space: nowrap; max-width: 500px; overflow: hidden; text-overflow: ellipsis; \">[&quot;T&quot;,&quot;C&quot;]</td><td style=\"white-space: nowrap; max-width: 500px; overflow: hidden; text-overflow: ellipsis; \">&quot;RYR3&quot;</td></tr>\n",
       "<tr><td style=\"white-space: nowrap; max-width: 500px; overflow: hidden; text-overflow: ellipsis; \">chr15:64156808</td><td style=\"white-space: nowrap; max-width: 500px; overflow: hidden; text-overflow: ellipsis; \">[&quot;C&quot;,&quot;T&quot;]</td><td style=\"white-space: nowrap; max-width: 500px; overflow: hidden; text-overflow: ellipsis; \">&quot;PPIB&quot;</td></tr>\n",
       "<tr><td style=\"white-space: nowrap; max-width: 500px; overflow: hidden; text-overflow: ellipsis; \">chr20:59944964</td><td style=\"white-space: nowrap; max-width: 500px; overflow: hidden; text-overflow: ellipsis; \">[&quot;G&quot;,&quot;T&quot;]</td><td style=\"white-space: nowrap; max-width: 500px; overflow: hidden; text-overflow: ellipsis; \">&quot;FAM217B&quot;</td></tr>\n",
       "</tbody></table>"
      ],
      "text/plain": [
       "+----------------+------------+-------------+\n",
       "| locus          | alleles    | gene_symbol |\n",
       "+----------------+------------+-------------+\n",
       "| locus<GRCh38>  | array<str> | str         |\n",
       "+----------------+------------+-------------+\n",
       "| chr7:83961546  | [\"T\",\"C\"]  | \"SEMA3A\"    |\n",
       "| chr11:5667700  | [\"G\",\"A\"]  | \"TRIM5\"     |\n",
       "| chr13:28270768 | [\"T\",\"C\"]  | \"PAN3\"      |\n",
       "| chr15:33771972 | [\"T\",\"C\"]  | \"RYR3\"      |\n",
       "| chr15:64156808 | [\"C\",\"T\"]  | \"PPIB\"      |\n",
       "| chr20:59944964 | [\"G\",\"T\"]  | \"FAM217B\"   |\n",
       "+----------------+------------+-------------+"
      ]
     },
     "metadata": {},
     "output_type": "display_data"
    },
    {
     "name": "stdout",
     "output_type": "stream",
     "text": [
      "None\n"
     ]
    }
   ],
   "source": [
    "mt_input_1 = '/gpfs/gibbs/pi/brueckner/yale_phil/phil/vep_r1.mt'\n",
    "mt_1 = hl.read_matrix_table(mt_input_1)\n",
    "print('Reads in the following matrix table: \\n' + mt_input_1)\n",
    "#print('count of the input dataframe: ' + str(mt_1.count()) + '\\n')\n",
    "\n",
    "intervals_38 = [hl.parse_locus_interval(x, reference_genome='GRCh38') for x in [\n",
    "    'chr7:83961545-chr7:83961547', \n",
    "    'chr11:5667699-chr11:5667701', \n",
    "    'chr13:28270767-chr13:28270769', \n",
    "    'chr15:33771971-chr15:33771973', \n",
    "    'chr15:64156807-chr15:64156809', \n",
    "    'chr20:59944963-chr20:59944965',\n",
    "]]\n",
    "\n",
    "mt_1 = hl.filter_intervals(mt_1, intervals_38, keep=True)\n",
    "\n",
    "print(mt_1.row.hgvs.show())\n",
    "print(mt_1.row.gene_symbol.show())\n",
    "\n",
    "#################################################################################################\n",
    "\n",
    "mt_input_2 = '/gpfs/gibbs/pi/brueckner/yale_phil/yale/new_annotation_GRCh37/vep_r1.mt'\n",
    "mt_2 = hl.read_matrix_table(mt_input_2)\n",
    "print('Reads in the following matrix table: \\n' + mt_input_2)\n",
    "#print('count of the input dataframe: ' + str(mt_2.count()) + '\\n')\n",
    "\n",
    "intervals_37 = [hl.parse_locus_interval(x, reference_genome='GRCh37') for x in [\n",
    "    '7:83590861-7:83590863', \n",
    "    '11:5688929-11:5688931', \n",
    "    '13:28844904-13:28844906', \n",
    "    '15:34064172-15:34064174', \n",
    "    '15:64449006-15:64449008', \n",
    "    '20:58520018-20:58520020',\n",
    "]]\n",
    "\n",
    "mt_2 = hl.filter_intervals(mt_2, intervals_37, keep=True)\n",
    "\n",
    "print(mt_2.row.hgvs.show())\n",
    "print(mt_2.row.gene_symbol.show())\n",
    "\n",
    "######################################################################################################\n",
    "\n",
    "\n",
    "mt_input_3 = '/gpfs/gibbs/pi/brueckner/yale_phil/yale/vep_r1.mt'\n",
    "mt_3 = hl.read_matrix_table(mt_input_3)\n",
    "print('Reads in the following matrix table: \\n' + mt_input_3)\n",
    "#print('count of the input dataframe: ' + str(mt_3.count()) + '\\n')\n",
    "\n",
    "intervals_38 = [hl.parse_locus_interval(x, reference_genome='GRCh38') for x in [\n",
    "    'chr7:83961545-chr7:83961547', \n",
    "    'chr11:5667699-chr11:5667701', \n",
    "    'chr13:28270767-chr13:28270769', \n",
    "    'chr15:33771971-chr15:33771973', \n",
    "    'chr15:64156807-chr15:64156809', \n",
    "    'chr20:59944963-chr20:59944965',\n",
    "]]\n",
    "\n",
    "mt_3 = hl.filter_intervals(mt_3, intervals_38, keep=True)\n",
    "\n",
    "print(mt_3.row.hgvs.show())\n",
    "print(mt_3.row.gene_symbol.show())\n",
    "\n"
   ]
  },
  {
   "cell_type": "code",
   "execution_count": null,
   "id": "e23aa541",
   "metadata": {},
   "outputs": [],
   "source": [
    "mt = hl.read_matrix_table(mt_input)\n",
    "print('Reads in the following matrix table: \\n' + mt_input)\n",
    "#print('count of the input dataframe: ' + str(mt.count()) + '\\n')\n",
    "\n",
    "intervals = [hl.parse_locus_interval(x, reference_genome='GRCh38') for x in [\n",
    "    'chr7:83961545-chr7:83961547', \n",
    "    'chr11:5667699-chr11:5667701', \n",
    "    'chr13:28270767-chr13:28270769', \n",
    "    'chr15:33771971-chr15:33771973', \n",
    "    'chr15:64156807-chr15:64156809', \n",
    "    'chr20:59944963-chr20:59944965',\n",
    "]]\n",
    "\n",
    "intervals = [hl.parse_locus_interval(x, reference_genome='GRCh37') for x in [\n",
    "    '7:83590861-7:83590863', \n",
    "    '11:5688929-11:5688931', \n",
    "    '13:28844904-13:28844906', \n",
    "    '15:34064172-15:34064174', \n",
    "    '15:64449006-15:64449008', \n",
    "    '20:58520018-20:58520020',\n",
    "]]\n",
    "\n",
    "mt = hl.filter_intervals(mt, intervals, keep=True)"
   ]
  },
  {
   "cell_type": "code",
   "execution_count": 55,
   "id": "22b05c22",
   "metadata": {
    "scrolled": false
   },
   "outputs": [
    {
     "name": "stdout",
     "output_type": "stream",
     "text": [
      "Reads in the following matrix table: \n",
      "/gpfs/gibbs/pi/brueckner/yale_phil/phil_jc/vep_r1.mt\n",
      "Reads in the following pedigree: \n",
      "/gpfs/gibbs/pi/brueckner/yale_phil/yale-phil_1-00844.fam\n",
      "\n"
     ]
    },
    {
     "name": "stderr",
     "output_type": "stream",
     "text": [
      "2022-01-10 10:00:43 Hail: WARN: Found 5 samples with missing sex information (not 1 or 2).\n",
      " Missing samples: [{'1-07081', '1-07149', '1-05787', '1-06965', '1-06757'}]\n"
     ]
    }
   ],
   "source": [
    "#\n",
    "\n",
    "#mt_input = split_mt\n",
    "mt_input = vep_r1_mt\n",
    "\n",
    "mt = hl.read_matrix_table(mt_input)\n",
    "print('Reads in the following matrix table: \\n' + mt_input)\n",
    "#print('count of the input dataframe: ' + str(mt.count()) + '\\n')\n",
    "\n",
    "#intervals = [hl.parse_locus_interval(x) for x in ['1:50M-75M', '2:START-400000', '3-22']]\n",
    "#intervals = [hl.parse_locus_interval(x) for x in ['1:START-22:END']]\n",
    "#intervals = [hl.parse_locus_interval(x) for x in ['1:206199864-1:206199866']]\n",
    "\n",
    "'''\n",
    "mt = mt.filter_cols((mt.s == '1-02790') | \n",
    "                    (mt.s == '1-02790-01') | \n",
    "                    (mt.s == '1-02790-02'), keep=True)\n",
    "\n",
    "'''\n",
    "\n",
    "'''mt = mt.filter_cols((mt.s == '1-05698') | \n",
    "                    (mt.s == '1-05698-01') | \n",
    "                    (mt.s == '1-05698-02'), keep=True)\n",
    "\n",
    "'''\n",
    "'''mt = mt.filter_cols((mt.s == '1-04863') | \n",
    "                    (mt.s == '1-04863-01') | \n",
    "                    (mt.s == '1-04863-02'), keep=True)\n",
    "'''\n",
    "\n",
    "mt = mt.filter_cols((mt.s == '1-05787') | \n",
    "                    (mt.s == '1-05787-01') | \n",
    "                    (mt.s == '1-05787-02'), keep=True)\n",
    "\n",
    "#mt = mt.filter_cols((mt.s == '1-01230') | (mt.s == '1-01230-01') | (mt.s == '1-01230-02'), keep=True)\n",
    "#mt = hl.filter_intervals(mt, [hl.parse_locus_interval('7:35077494-35077496')])\n",
    "\n",
    "#mt = mt.filter_cols((mt.s == '1-04134') | (mt.s == '1-04134-01') | (mt.s == '1-04134-02'), keep=True)\n",
    "#mt = hl.filter_intervals(mt, [hl.parse_locus_interval('18:32409034-32409036')])\n",
    "\n",
    "#mt = mt.filter_cols((mt.s == '1-05348') | (mt.s == '1-05348-01') | (mt.s == '1-05348-02'), keep=True)\n",
    "#mt = hl.filter_intervals(mt, [hl.parse_locus_interval('X:153941553-153941555')])\n",
    "#mt = hl.filter_intervals(mt, [hl.parse_locus_interval('chrX:154713278-chrX:154713280', reference_genome='GRCh38')])\n",
    "\n",
    "intervals = [hl.parse_locus_interval(x, reference_genome='GRCh38') for x in [\n",
    "#    'chr1:206199864-chr1:206199866',   \n",
    "#    'chr7:7234471-chr7:7234473', \n",
    "#    'chr7:83961545-chr7:83961547', \n",
    "#    'chr11:5667699-chr11:5667701' \n",
    "#    'chr13:28270767-chr13:28270769', \n",
    "#    'chr15:33771971-chr15:33771973' \n",
    "#    'chr15:64156807-chr15:64156809', \n",
    "#    'chr20:59944963-chr20:59944965' \n",
    "#    'chrX:154713278-chrX:154713280'\n",
    "    'chr16:30069611-chr16:30069613'\n",
    "]]\n",
    "                    \n",
    "mt = hl.filter_intervals(mt, intervals, keep=True)\n",
    "\n",
    "\n",
    "#mt = mt.filter_entries(mt.GT == hl.call(0, 1), keep = False)\n",
    "\n",
    "                    \n",
    "# Create a trio matrix\n",
    "ped_input = ped \n",
    "pedigree = hl.Pedigree.read(ped_input) \n",
    "print('Reads in the following pedigree: \\n' + ped_input + '\\n')\n",
    "trio_dataset = hl.trio_matrix(mt, pedigree, complete_trios=True)\n",
    "                    \n",
    "#print(mt.count())\n",
    "#mt.variant_qc.show()\n",
    "#mt.describe()"
   ]
  },
  {
   "cell_type": "code",
   "execution_count": null,
   "id": "4b96be91",
   "metadata": {},
   "outputs": [],
   "source": [
    "#chr16:30069612"
   ]
  },
  {
   "cell_type": "code",
   "execution_count": 56,
   "id": "28bab42f",
   "metadata": {},
   "outputs": [
    {
     "name": "stdout",
     "output_type": "stream",
     "text": [
      "Proband GQ:\n"
     ]
    },
    {
     "data": {
      "text/html": [
       "<table><thead><tr><td style=\"white-space: nowrap; max-width: 500px; overflow: hidden; text-overflow: ellipsis; \" colspan=\"1\"><div style=\"text-align: left;\"></div></td><td style=\"white-space: nowrap; max-width: 500px; overflow: hidden; text-overflow: ellipsis; \" colspan=\"1\"><div style=\"text-align: left;\"></div></td><td style=\"white-space: nowrap; max-width: 500px; overflow: hidden; text-overflow: ellipsis; \" colspan=\"1\"><div style=\"text-align: left;\"></div></td></tr><tr><td style=\"white-space: nowrap; max-width: 500px; overflow: hidden; text-overflow: ellipsis; \" colspan=\"1\"><div style=\"text-align: left;\"></div></td><td style=\"white-space: nowrap; max-width: 500px; overflow: hidden; text-overflow: ellipsis; \" colspan=\"1\"><div style=\"text-align: left;\"></div></td><td style=\"white-space: nowrap; max-width: 500px; overflow: hidden; text-overflow: ellipsis; \" colspan=\"1\"><div style=\"text-align: left;border-bottom: solid 2px #000; padding-bottom: 5px\">'1-05787'</div></td></tr><tr><td style=\"white-space: nowrap; max-width: 500px; overflow: hidden; text-overflow: ellipsis; \" colspan=\"1\"><div style=\"text-align: left;border-bottom: solid 2px #000; padding-bottom: 5px\">locus</div></td><td style=\"white-space: nowrap; max-width: 500px; overflow: hidden; text-overflow: ellipsis; \" colspan=\"1\"><div style=\"text-align: left;border-bottom: solid 2px #000; padding-bottom: 5px\">alleles</div></td><td style=\"white-space: nowrap; max-width: 500px; overflow: hidden; text-overflow: ellipsis; \" colspan=\"1\"><div style=\"text-align: left;border-bottom: solid 2px #000; padding-bottom: 5px\"><expr></div></td></tr><tr><td style=\"white-space: nowrap; max-width: 500px; overflow: hidden; text-overflow: ellipsis; text-align: left;\">locus&lt;GRCh38&gt;</td><td style=\"white-space: nowrap; max-width: 500px; overflow: hidden; text-overflow: ellipsis; text-align: left;\">array&lt;str&gt;</td><td style=\"white-space: nowrap; max-width: 500px; overflow: hidden; text-overflow: ellipsis; text-align: left;\">int32</td></tr>\n",
       "</thead><tbody><tr><td style=\"white-space: nowrap; max-width: 500px; overflow: hidden; text-overflow: ellipsis; \">chr16:30069612</td><td style=\"white-space: nowrap; max-width: 500px; overflow: hidden; text-overflow: ellipsis; \">[&quot;TGAG&quot;,&quot;T&quot;]</td><td style=\"white-space: nowrap; max-width: 500px; overflow: hidden; text-overflow: ellipsis; \">99</td></tr>\n",
       "</tbody></table>"
      ],
      "text/plain": [
       "+----------------+--------------+------------------+\n",
       "| locus          | alleles      | '1-05787'.<expr> |\n",
       "+----------------+--------------+------------------+\n",
       "| locus<GRCh38>  | array<str>   |            int32 |\n",
       "+----------------+--------------+------------------+\n",
       "| chr16:30069612 | [\"TGAG\",\"T\"] |               99 |\n",
       "+----------------+--------------+------------------+"
      ]
     },
     "metadata": {},
     "output_type": "display_data"
    },
    {
     "name": "stdout",
     "output_type": "stream",
     "text": [
      "None\n",
      "\n",
      "\n",
      "Proband AD:\n"
     ]
    },
    {
     "data": {
      "text/html": [
       "<table><thead><tr><td style=\"white-space: nowrap; max-width: 500px; overflow: hidden; text-overflow: ellipsis; \" colspan=\"1\"><div style=\"text-align: left;\"></div></td><td style=\"white-space: nowrap; max-width: 500px; overflow: hidden; text-overflow: ellipsis; \" colspan=\"1\"><div style=\"text-align: left;\"></div></td><td style=\"white-space: nowrap; max-width: 500px; overflow: hidden; text-overflow: ellipsis; \" colspan=\"1\"><div style=\"text-align: left;\"></div></td></tr><tr><td style=\"white-space: nowrap; max-width: 500px; overflow: hidden; text-overflow: ellipsis; \" colspan=\"1\"><div style=\"text-align: left;\"></div></td><td style=\"white-space: nowrap; max-width: 500px; overflow: hidden; text-overflow: ellipsis; \" colspan=\"1\"><div style=\"text-align: left;\"></div></td><td style=\"white-space: nowrap; max-width: 500px; overflow: hidden; text-overflow: ellipsis; \" colspan=\"1\"><div style=\"text-align: left;border-bottom: solid 2px #000; padding-bottom: 5px\">'1-05787'</div></td></tr><tr><td style=\"white-space: nowrap; max-width: 500px; overflow: hidden; text-overflow: ellipsis; \" colspan=\"1\"><div style=\"text-align: left;border-bottom: solid 2px #000; padding-bottom: 5px\">locus</div></td><td style=\"white-space: nowrap; max-width: 500px; overflow: hidden; text-overflow: ellipsis; \" colspan=\"1\"><div style=\"text-align: left;border-bottom: solid 2px #000; padding-bottom: 5px\">alleles</div></td><td style=\"white-space: nowrap; max-width: 500px; overflow: hidden; text-overflow: ellipsis; \" colspan=\"1\"><div style=\"text-align: left;border-bottom: solid 2px #000; padding-bottom: 5px\"><expr></div></td></tr><tr><td style=\"white-space: nowrap; max-width: 500px; overflow: hidden; text-overflow: ellipsis; text-align: left;\">locus&lt;GRCh38&gt;</td><td style=\"white-space: nowrap; max-width: 500px; overflow: hidden; text-overflow: ellipsis; text-align: left;\">array&lt;str&gt;</td><td style=\"white-space: nowrap; max-width: 500px; overflow: hidden; text-overflow: ellipsis; text-align: left;\">array&lt;int32&gt;</td></tr>\n",
       "</thead><tbody><tr><td style=\"white-space: nowrap; max-width: 500px; overflow: hidden; text-overflow: ellipsis; \">chr16:30069612</td><td style=\"white-space: nowrap; max-width: 500px; overflow: hidden; text-overflow: ellipsis; \">[&quot;TGAG&quot;,&quot;T&quot;]</td><td style=\"white-space: nowrap; max-width: 500px; overflow: hidden; text-overflow: ellipsis; \">[75,27]</td></tr>\n",
       "</tbody></table>"
      ],
      "text/plain": [
       "+----------------+--------------+------------------+\n",
       "| locus          | alleles      | '1-05787'.<expr> |\n",
       "+----------------+--------------+------------------+\n",
       "| locus<GRCh38>  | array<str>   | array<int32>     |\n",
       "+----------------+--------------+------------------+\n",
       "| chr16:30069612 | [\"TGAG\",\"T\"] | [75,27]          |\n",
       "+----------------+--------------+------------------+"
      ]
     },
     "metadata": {},
     "output_type": "display_data"
    },
    {
     "name": "stdout",
     "output_type": "stream",
     "text": [
      "None\n",
      "\n",
      "\n",
      "Mother GQ:\n"
     ]
    },
    {
     "data": {
      "text/html": [
       "<table><thead><tr><td style=\"white-space: nowrap; max-width: 500px; overflow: hidden; text-overflow: ellipsis; \" colspan=\"1\"><div style=\"text-align: left;\"></div></td><td style=\"white-space: nowrap; max-width: 500px; overflow: hidden; text-overflow: ellipsis; \" colspan=\"1\"><div style=\"text-align: left;\"></div></td><td style=\"white-space: nowrap; max-width: 500px; overflow: hidden; text-overflow: ellipsis; \" colspan=\"1\"><div style=\"text-align: left;\"></div></td></tr><tr><td style=\"white-space: nowrap; max-width: 500px; overflow: hidden; text-overflow: ellipsis; \" colspan=\"1\"><div style=\"text-align: left;\"></div></td><td style=\"white-space: nowrap; max-width: 500px; overflow: hidden; text-overflow: ellipsis; \" colspan=\"1\"><div style=\"text-align: left;\"></div></td><td style=\"white-space: nowrap; max-width: 500px; overflow: hidden; text-overflow: ellipsis; \" colspan=\"1\"><div style=\"text-align: left;border-bottom: solid 2px #000; padding-bottom: 5px\">'1-05787'</div></td></tr><tr><td style=\"white-space: nowrap; max-width: 500px; overflow: hidden; text-overflow: ellipsis; \" colspan=\"1\"><div style=\"text-align: left;border-bottom: solid 2px #000; padding-bottom: 5px\">locus</div></td><td style=\"white-space: nowrap; max-width: 500px; overflow: hidden; text-overflow: ellipsis; \" colspan=\"1\"><div style=\"text-align: left;border-bottom: solid 2px #000; padding-bottom: 5px\">alleles</div></td><td style=\"white-space: nowrap; max-width: 500px; overflow: hidden; text-overflow: ellipsis; \" colspan=\"1\"><div style=\"text-align: left;border-bottom: solid 2px #000; padding-bottom: 5px\"><expr></div></td></tr><tr><td style=\"white-space: nowrap; max-width: 500px; overflow: hidden; text-overflow: ellipsis; text-align: left;\">locus&lt;GRCh38&gt;</td><td style=\"white-space: nowrap; max-width: 500px; overflow: hidden; text-overflow: ellipsis; text-align: left;\">array&lt;str&gt;</td><td style=\"white-space: nowrap; max-width: 500px; overflow: hidden; text-overflow: ellipsis; text-align: left;\">int32</td></tr>\n",
       "</thead><tbody><tr><td style=\"white-space: nowrap; max-width: 500px; overflow: hidden; text-overflow: ellipsis; \">chr16:30069612</td><td style=\"white-space: nowrap; max-width: 500px; overflow: hidden; text-overflow: ellipsis; \">[&quot;TGAG&quot;,&quot;T&quot;]</td><td style=\"white-space: nowrap; max-width: 500px; overflow: hidden; text-overflow: ellipsis; \">99</td></tr>\n",
       "</tbody></table>"
      ],
      "text/plain": [
       "+----------------+--------------+------------------+\n",
       "| locus          | alleles      | '1-05787'.<expr> |\n",
       "+----------------+--------------+------------------+\n",
       "| locus<GRCh38>  | array<str>   |            int32 |\n",
       "+----------------+--------------+------------------+\n",
       "| chr16:30069612 | [\"TGAG\",\"T\"] |               99 |\n",
       "+----------------+--------------+------------------+"
      ]
     },
     "metadata": {},
     "output_type": "display_data"
    },
    {
     "name": "stdout",
     "output_type": "stream",
     "text": [
      "None\n",
      "\n",
      "\n",
      "Mother AD:\n"
     ]
    },
    {
     "data": {
      "text/html": [
       "<table><thead><tr><td style=\"white-space: nowrap; max-width: 500px; overflow: hidden; text-overflow: ellipsis; \" colspan=\"1\"><div style=\"text-align: left;\"></div></td><td style=\"white-space: nowrap; max-width: 500px; overflow: hidden; text-overflow: ellipsis; \" colspan=\"1\"><div style=\"text-align: left;\"></div></td><td style=\"white-space: nowrap; max-width: 500px; overflow: hidden; text-overflow: ellipsis; \" colspan=\"1\"><div style=\"text-align: left;\"></div></td></tr><tr><td style=\"white-space: nowrap; max-width: 500px; overflow: hidden; text-overflow: ellipsis; \" colspan=\"1\"><div style=\"text-align: left;\"></div></td><td style=\"white-space: nowrap; max-width: 500px; overflow: hidden; text-overflow: ellipsis; \" colspan=\"1\"><div style=\"text-align: left;\"></div></td><td style=\"white-space: nowrap; max-width: 500px; overflow: hidden; text-overflow: ellipsis; \" colspan=\"1\"><div style=\"text-align: left;border-bottom: solid 2px #000; padding-bottom: 5px\">'1-05787'</div></td></tr><tr><td style=\"white-space: nowrap; max-width: 500px; overflow: hidden; text-overflow: ellipsis; \" colspan=\"1\"><div style=\"text-align: left;border-bottom: solid 2px #000; padding-bottom: 5px\">locus</div></td><td style=\"white-space: nowrap; max-width: 500px; overflow: hidden; text-overflow: ellipsis; \" colspan=\"1\"><div style=\"text-align: left;border-bottom: solid 2px #000; padding-bottom: 5px\">alleles</div></td><td style=\"white-space: nowrap; max-width: 500px; overflow: hidden; text-overflow: ellipsis; \" colspan=\"1\"><div style=\"text-align: left;border-bottom: solid 2px #000; padding-bottom: 5px\"><expr></div></td></tr><tr><td style=\"white-space: nowrap; max-width: 500px; overflow: hidden; text-overflow: ellipsis; text-align: left;\">locus&lt;GRCh38&gt;</td><td style=\"white-space: nowrap; max-width: 500px; overflow: hidden; text-overflow: ellipsis; text-align: left;\">array&lt;str&gt;</td><td style=\"white-space: nowrap; max-width: 500px; overflow: hidden; text-overflow: ellipsis; text-align: left;\">array&lt;int32&gt;</td></tr>\n",
       "</thead><tbody><tr><td style=\"white-space: nowrap; max-width: 500px; overflow: hidden; text-overflow: ellipsis; \">chr16:30069612</td><td style=\"white-space: nowrap; max-width: 500px; overflow: hidden; text-overflow: ellipsis; \">[&quot;TGAG&quot;,&quot;T&quot;]</td><td style=\"white-space: nowrap; max-width: 500px; overflow: hidden; text-overflow: ellipsis; \">[48,0]</td></tr>\n",
       "</tbody></table>"
      ],
      "text/plain": [
       "+----------------+--------------+------------------+\n",
       "| locus          | alleles      | '1-05787'.<expr> |\n",
       "+----------------+--------------+------------------+\n",
       "| locus<GRCh38>  | array<str>   | array<int32>     |\n",
       "+----------------+--------------+------------------+\n",
       "| chr16:30069612 | [\"TGAG\",\"T\"] | [48,0]           |\n",
       "+----------------+--------------+------------------+"
      ]
     },
     "metadata": {},
     "output_type": "display_data"
    },
    {
     "name": "stdout",
     "output_type": "stream",
     "text": [
      "None\n",
      "\n",
      "\n",
      "Father GQ:\n"
     ]
    },
    {
     "data": {
      "text/html": [
       "<table><thead><tr><td style=\"white-space: nowrap; max-width: 500px; overflow: hidden; text-overflow: ellipsis; \" colspan=\"1\"><div style=\"text-align: left;\"></div></td><td style=\"white-space: nowrap; max-width: 500px; overflow: hidden; text-overflow: ellipsis; \" colspan=\"1\"><div style=\"text-align: left;\"></div></td><td style=\"white-space: nowrap; max-width: 500px; overflow: hidden; text-overflow: ellipsis; \" colspan=\"1\"><div style=\"text-align: left;\"></div></td></tr><tr><td style=\"white-space: nowrap; max-width: 500px; overflow: hidden; text-overflow: ellipsis; \" colspan=\"1\"><div style=\"text-align: left;\"></div></td><td style=\"white-space: nowrap; max-width: 500px; overflow: hidden; text-overflow: ellipsis; \" colspan=\"1\"><div style=\"text-align: left;\"></div></td><td style=\"white-space: nowrap; max-width: 500px; overflow: hidden; text-overflow: ellipsis; \" colspan=\"1\"><div style=\"text-align: left;border-bottom: solid 2px #000; padding-bottom: 5px\">'1-05787'</div></td></tr><tr><td style=\"white-space: nowrap; max-width: 500px; overflow: hidden; text-overflow: ellipsis; \" colspan=\"1\"><div style=\"text-align: left;border-bottom: solid 2px #000; padding-bottom: 5px\">locus</div></td><td style=\"white-space: nowrap; max-width: 500px; overflow: hidden; text-overflow: ellipsis; \" colspan=\"1\"><div style=\"text-align: left;border-bottom: solid 2px #000; padding-bottom: 5px\">alleles</div></td><td style=\"white-space: nowrap; max-width: 500px; overflow: hidden; text-overflow: ellipsis; \" colspan=\"1\"><div style=\"text-align: left;border-bottom: solid 2px #000; padding-bottom: 5px\"><expr></div></td></tr><tr><td style=\"white-space: nowrap; max-width: 500px; overflow: hidden; text-overflow: ellipsis; text-align: left;\">locus&lt;GRCh38&gt;</td><td style=\"white-space: nowrap; max-width: 500px; overflow: hidden; text-overflow: ellipsis; text-align: left;\">array&lt;str&gt;</td><td style=\"white-space: nowrap; max-width: 500px; overflow: hidden; text-overflow: ellipsis; text-align: left;\">int32</td></tr>\n",
       "</thead><tbody><tr><td style=\"white-space: nowrap; max-width: 500px; overflow: hidden; text-overflow: ellipsis; \">chr16:30069612</td><td style=\"white-space: nowrap; max-width: 500px; overflow: hidden; text-overflow: ellipsis; \">[&quot;TGAG&quot;,&quot;T&quot;]</td><td style=\"white-space: nowrap; max-width: 500px; overflow: hidden; text-overflow: ellipsis; \">99</td></tr>\n",
       "</tbody></table>"
      ],
      "text/plain": [
       "+----------------+--------------+------------------+\n",
       "| locus          | alleles      | '1-05787'.<expr> |\n",
       "+----------------+--------------+------------------+\n",
       "| locus<GRCh38>  | array<str>   |            int32 |\n",
       "+----------------+--------------+------------------+\n",
       "| chr16:30069612 | [\"TGAG\",\"T\"] |               99 |\n",
       "+----------------+--------------+------------------+"
      ]
     },
     "metadata": {},
     "output_type": "display_data"
    },
    {
     "name": "stdout",
     "output_type": "stream",
     "text": [
      "None\n",
      "\n",
      "\n",
      "Father AD:\n"
     ]
    },
    {
     "data": {
      "text/html": [
       "<table><thead><tr><td style=\"white-space: nowrap; max-width: 500px; overflow: hidden; text-overflow: ellipsis; \" colspan=\"1\"><div style=\"text-align: left;\"></div></td><td style=\"white-space: nowrap; max-width: 500px; overflow: hidden; text-overflow: ellipsis; \" colspan=\"1\"><div style=\"text-align: left;\"></div></td><td style=\"white-space: nowrap; max-width: 500px; overflow: hidden; text-overflow: ellipsis; \" colspan=\"1\"><div style=\"text-align: left;\"></div></td></tr><tr><td style=\"white-space: nowrap; max-width: 500px; overflow: hidden; text-overflow: ellipsis; \" colspan=\"1\"><div style=\"text-align: left;\"></div></td><td style=\"white-space: nowrap; max-width: 500px; overflow: hidden; text-overflow: ellipsis; \" colspan=\"1\"><div style=\"text-align: left;\"></div></td><td style=\"white-space: nowrap; max-width: 500px; overflow: hidden; text-overflow: ellipsis; \" colspan=\"1\"><div style=\"text-align: left;border-bottom: solid 2px #000; padding-bottom: 5px\">'1-05787'</div></td></tr><tr><td style=\"white-space: nowrap; max-width: 500px; overflow: hidden; text-overflow: ellipsis; \" colspan=\"1\"><div style=\"text-align: left;border-bottom: solid 2px #000; padding-bottom: 5px\">locus</div></td><td style=\"white-space: nowrap; max-width: 500px; overflow: hidden; text-overflow: ellipsis; \" colspan=\"1\"><div style=\"text-align: left;border-bottom: solid 2px #000; padding-bottom: 5px\">alleles</div></td><td style=\"white-space: nowrap; max-width: 500px; overflow: hidden; text-overflow: ellipsis; \" colspan=\"1\"><div style=\"text-align: left;border-bottom: solid 2px #000; padding-bottom: 5px\"><expr></div></td></tr><tr><td style=\"white-space: nowrap; max-width: 500px; overflow: hidden; text-overflow: ellipsis; text-align: left;\">locus&lt;GRCh38&gt;</td><td style=\"white-space: nowrap; max-width: 500px; overflow: hidden; text-overflow: ellipsis; text-align: left;\">array&lt;str&gt;</td><td style=\"white-space: nowrap; max-width: 500px; overflow: hidden; text-overflow: ellipsis; text-align: left;\">array&lt;int32&gt;</td></tr>\n",
       "</thead><tbody><tr><td style=\"white-space: nowrap; max-width: 500px; overflow: hidden; text-overflow: ellipsis; \">chr16:30069612</td><td style=\"white-space: nowrap; max-width: 500px; overflow: hidden; text-overflow: ellipsis; \">[&quot;TGAG&quot;,&quot;T&quot;]</td><td style=\"white-space: nowrap; max-width: 500px; overflow: hidden; text-overflow: ellipsis; \">[43,0]</td></tr>\n",
       "</tbody></table>"
      ],
      "text/plain": [
       "+----------------+--------------+------------------+\n",
       "| locus          | alleles      | '1-05787'.<expr> |\n",
       "+----------------+--------------+------------------+\n",
       "| locus<GRCh38>  | array<str>   | array<int32>     |\n",
       "+----------------+--------------+------------------+\n",
       "| chr16:30069612 | [\"TGAG\",\"T\"] | [43,0]           |\n",
       "+----------------+--------------+------------------+"
      ]
     },
     "metadata": {},
     "output_type": "display_data"
    },
    {
     "name": "stdout",
     "output_type": "stream",
     "text": [
      "None\n",
      "\n",
      "\n"
     ]
    }
   ],
   "source": [
    "print('Proband GQ:')\n",
    "pprint.pprint(trio_dataset.proband_entry.GQ.show())\n",
    "print('\\n')\n",
    "\n",
    "print('Proband AD:')\n",
    "pprint.pprint(trio_dataset.proband_entry.AD.show())\n",
    "print('\\n')\n",
    "\n",
    "print('Mother GQ:')\n",
    "pprint.pprint(trio_dataset.mother_entry.GQ.show())\n",
    "print('\\n')\n",
    "\n",
    "print('Mother AD:')\n",
    "pprint.pprint(trio_dataset.mother_entry.AD.show())\n",
    "print('\\n')\n",
    "\n",
    "print('Father GQ:')\n",
    "pprint.pprint(trio_dataset.father_entry.GQ.show())\n",
    "print('\\n')\n",
    "\n",
    "print('Father AD:')\n",
    "pprint.pprint(trio_dataset.father_entry.AD.show())\n",
    "print('\\n')"
   ]
  },
  {
   "cell_type": "code",
   "execution_count": null,
   "id": "d36145c3",
   "metadata": {},
   "outputs": [],
   "source": [
    "# this code works to get a scatter plot "
   ]
  },
  {
   "cell_type": "code",
   "execution_count": 16,
   "id": "23c84f79",
   "metadata": {},
   "outputs": [
    {
     "name": "stdout",
     "output_type": "stream",
     "text": [
      "Reads in the following matrix table: \n",
      "/gpfs/gibbs/pi/brueckner/yale_phil/phil/v2/phil_intervals_DP.mt\n",
      "\n",
      "(409574, 592)\n"
     ]
    },
    {
     "ename": "UnsetValueError",
     "evalue": "ColorBar(id='1167', ...).color_mapper doesn't have a value set",
     "output_type": "error",
     "traceback": [
      "\u001b[0;31m---------------------------------------------------------------------------\u001b[0m",
      "\u001b[0;31mUnsetValueError\u001b[0m                           Traceback (most recent call last)",
      "\u001b[0;32m<ipython-input-16-8f9ae224724f>\u001b[0m in \u001b[0;36m<module>\u001b[0;34m\u001b[0m\n\u001b[1;32m     52\u001b[0m \u001b[0;31m#fig.legend.visible = False'''\u001b[0m\u001b[0;34m\u001b[0m\u001b[0;34m\u001b[0m\u001b[0;34m\u001b[0m\u001b[0m\n\u001b[1;32m     53\u001b[0m \u001b[0;34m\u001b[0m\u001b[0m\n\u001b[0;32m---> 54\u001b[0;31m \u001b[0mhl\u001b[0m\u001b[0;34m.\u001b[0m\u001b[0mplot\u001b[0m\u001b[0;34m.\u001b[0m\u001b[0mshow\u001b[0m\u001b[0;34m(\u001b[0m\u001b[0mfig\u001b[0m\u001b[0;34m)\u001b[0m\u001b[0;34m\u001b[0m\u001b[0;34m\u001b[0m\u001b[0m\n\u001b[0m",
      "\u001b[0;32m/gpfs/ycga/project/brueckner/nsd35/conda_envs/dec_2021/lib/python3.7/site-packages/hail/plot/plots.py\u001b[0m in \u001b[0;36mshow\u001b[0;34m(obj, interact)\u001b[0m\n\u001b[1;32m     51\u001b[0m     \"\"\"\n\u001b[1;32m     52\u001b[0m     \u001b[0;32mif\u001b[0m \u001b[0minteract\u001b[0m \u001b[0;32mis\u001b[0m \u001b[0;32mNone\u001b[0m\u001b[0;34m:\u001b[0m\u001b[0;34m\u001b[0m\u001b[0;34m\u001b[0m\u001b[0m\n\u001b[0;32m---> 53\u001b[0;31m         \u001b[0mbokeh\u001b[0m\u001b[0;34m.\u001b[0m\u001b[0mio\u001b[0m\u001b[0;34m.\u001b[0m\u001b[0mshow\u001b[0m\u001b[0;34m(\u001b[0m\u001b[0mobj\u001b[0m\u001b[0;34m)\u001b[0m\u001b[0;34m\u001b[0m\u001b[0;34m\u001b[0m\u001b[0m\n\u001b[0m\u001b[1;32m     54\u001b[0m     \u001b[0;32melse\u001b[0m\u001b[0;34m:\u001b[0m\u001b[0;34m\u001b[0m\u001b[0;34m\u001b[0m\u001b[0m\n\u001b[1;32m     55\u001b[0m         \u001b[0mhandle\u001b[0m \u001b[0;34m=\u001b[0m \u001b[0mbokeh\u001b[0m\u001b[0;34m.\u001b[0m\u001b[0mio\u001b[0m\u001b[0;34m.\u001b[0m\u001b[0mshow\u001b[0m\u001b[0;34m(\u001b[0m\u001b[0mobj\u001b[0m\u001b[0;34m,\u001b[0m \u001b[0mnotebook_handle\u001b[0m\u001b[0;34m=\u001b[0m\u001b[0;32mTrue\u001b[0m\u001b[0;34m)\u001b[0m\u001b[0;34m\u001b[0m\u001b[0;34m\u001b[0m\u001b[0m\n",
      "\u001b[0;32m/gpfs/ycga/project/brueckner/nsd35/conda_envs/dec_2021/lib/python3.7/site-packages/bokeh/io/showing.py\u001b[0m in \u001b[0;36mshow\u001b[0;34m(obj, browser, new, notebook_handle, notebook_url, **kwargs)\u001b[0m\n\u001b[1;32m    142\u001b[0m \u001b[0;34m\u001b[0m\u001b[0m\n\u001b[1;32m    143\u001b[0m     \u001b[0;32mif\u001b[0m \u001b[0misinstance\u001b[0m\u001b[0;34m(\u001b[0m\u001b[0mobj\u001b[0m\u001b[0;34m,\u001b[0m \u001b[0mLayoutDOM\u001b[0m\u001b[0;34m)\u001b[0m\u001b[0;34m:\u001b[0m\u001b[0;34m\u001b[0m\u001b[0;34m\u001b[0m\u001b[0m\n\u001b[0;32m--> 144\u001b[0;31m         \u001b[0;32mreturn\u001b[0m \u001b[0m_show_with_state\u001b[0m\u001b[0;34m(\u001b[0m\u001b[0mobj\u001b[0m\u001b[0;34m,\u001b[0m \u001b[0mstate\u001b[0m\u001b[0;34m,\u001b[0m \u001b[0mbrowser\u001b[0m\u001b[0;34m,\u001b[0m \u001b[0mnew\u001b[0m\u001b[0;34m,\u001b[0m \u001b[0mnotebook_handle\u001b[0m\u001b[0;34m=\u001b[0m\u001b[0mnotebook_handle\u001b[0m\u001b[0;34m)\u001b[0m\u001b[0;34m\u001b[0m\u001b[0;34m\u001b[0m\u001b[0m\n\u001b[0m\u001b[1;32m    145\u001b[0m \u001b[0;34m\u001b[0m\u001b[0m\n\u001b[1;32m    146\u001b[0m     \u001b[0;32mdef\u001b[0m \u001b[0mis_application\u001b[0m\u001b[0;34m(\u001b[0m\u001b[0mobj\u001b[0m\u001b[0;34m:\u001b[0m \u001b[0mAny\u001b[0m\u001b[0;34m)\u001b[0m \u001b[0;34m->\u001b[0m \u001b[0mTypeGuard\u001b[0m\u001b[0;34m[\u001b[0m\u001b[0mApplication\u001b[0m\u001b[0;34m]\u001b[0m\u001b[0;34m:\u001b[0m\u001b[0;34m\u001b[0m\u001b[0;34m\u001b[0m\u001b[0m\n",
      "\u001b[0;32m/gpfs/ycga/project/brueckner/nsd35/conda_envs/dec_2021/lib/python3.7/site-packages/bokeh/io/showing.py\u001b[0m in \u001b[0;36m_show_with_state\u001b[0;34m(obj, state, browser, new, notebook_handle)\u001b[0m\n\u001b[1;32m    189\u001b[0m     \u001b[0;32mif\u001b[0m \u001b[0mstate\u001b[0m\u001b[0;34m.\u001b[0m\u001b[0mnotebook\u001b[0m\u001b[0;34m:\u001b[0m\u001b[0;34m\u001b[0m\u001b[0;34m\u001b[0m\u001b[0m\n\u001b[1;32m    190\u001b[0m         \u001b[0;32massert\u001b[0m \u001b[0mstate\u001b[0m\u001b[0;34m.\u001b[0m\u001b[0mnotebook_type\u001b[0m \u001b[0;32mis\u001b[0m \u001b[0;32mnot\u001b[0m \u001b[0;32mNone\u001b[0m\u001b[0;34m\u001b[0m\u001b[0;34m\u001b[0m\u001b[0m\n\u001b[0;32m--> 191\u001b[0;31m         \u001b[0mcomms_handle\u001b[0m \u001b[0;34m=\u001b[0m \u001b[0mrun_notebook_hook\u001b[0m\u001b[0;34m(\u001b[0m\u001b[0mstate\u001b[0m\u001b[0;34m.\u001b[0m\u001b[0mnotebook_type\u001b[0m\u001b[0;34m,\u001b[0m \u001b[0;34m'doc'\u001b[0m\u001b[0;34m,\u001b[0m \u001b[0mobj\u001b[0m\u001b[0;34m,\u001b[0m \u001b[0mstate\u001b[0m\u001b[0;34m,\u001b[0m \u001b[0mnotebook_handle\u001b[0m\u001b[0;34m)\u001b[0m\u001b[0;34m\u001b[0m\u001b[0;34m\u001b[0m\u001b[0m\n\u001b[0m\u001b[1;32m    192\u001b[0m         \u001b[0mshown\u001b[0m \u001b[0;34m=\u001b[0m \u001b[0;32mTrue\u001b[0m\u001b[0;34m\u001b[0m\u001b[0;34m\u001b[0m\u001b[0m\n\u001b[1;32m    193\u001b[0m \u001b[0;34m\u001b[0m\u001b[0m\n",
      "\u001b[0;32m/gpfs/ycga/project/brueckner/nsd35/conda_envs/dec_2021/lib/python3.7/site-packages/bokeh/io/notebook.py\u001b[0m in \u001b[0;36mrun_notebook_hook\u001b[0;34m(notebook_type, action, *args, **kwargs)\u001b[0m\n\u001b[1;32m    355\u001b[0m     \u001b[0;32mif\u001b[0m \u001b[0m_HOOKS\u001b[0m\u001b[0;34m[\u001b[0m\u001b[0mnotebook_type\u001b[0m\u001b[0;34m]\u001b[0m\u001b[0;34m[\u001b[0m\u001b[0maction\u001b[0m\u001b[0;34m]\u001b[0m \u001b[0;32mis\u001b[0m \u001b[0;32mNone\u001b[0m\u001b[0;34m:\u001b[0m\u001b[0;34m\u001b[0m\u001b[0;34m\u001b[0m\u001b[0m\n\u001b[1;32m    356\u001b[0m         \u001b[0;32mraise\u001b[0m \u001b[0mRuntimeError\u001b[0m\u001b[0;34m(\u001b[0m\u001b[0;34mf\"notebook hook for {notebook_type!r} did not install {action!r} action\"\u001b[0m\u001b[0;34m)\u001b[0m\u001b[0;34m\u001b[0m\u001b[0;34m\u001b[0m\u001b[0m\n\u001b[0;32m--> 357\u001b[0;31m     \u001b[0;32mreturn\u001b[0m \u001b[0m_HOOKS\u001b[0m\u001b[0;34m[\u001b[0m\u001b[0mnotebook_type\u001b[0m\u001b[0;34m]\u001b[0m\u001b[0;34m[\u001b[0m\u001b[0maction\u001b[0m\u001b[0;34m]\u001b[0m\u001b[0;34m(\u001b[0m\u001b[0;34m*\u001b[0m\u001b[0margs\u001b[0m\u001b[0;34m,\u001b[0m \u001b[0;34m**\u001b[0m\u001b[0mkwargs\u001b[0m\u001b[0;34m)\u001b[0m\u001b[0;34m\u001b[0m\u001b[0;34m\u001b[0m\u001b[0m\n\u001b[0m\u001b[1;32m    358\u001b[0m \u001b[0;34m\u001b[0m\u001b[0m\n\u001b[1;32m    359\u001b[0m \u001b[0;31m#-----------------------------------------------------------------------------\u001b[0m\u001b[0;34m\u001b[0m\u001b[0;34m\u001b[0m\u001b[0;34m\u001b[0m\u001b[0m\n",
      "\u001b[0;32m/gpfs/ycga/project/brueckner/nsd35/conda_envs/dec_2021/lib/python3.7/site-packages/bokeh/io/notebook.py\u001b[0m in \u001b[0;36mshow_doc\u001b[0;34m(obj, state, notebook_handle)\u001b[0m\n\u001b[1;32m    568\u001b[0m     '''\n\u001b[1;32m    569\u001b[0m     \u001b[0;32mif\u001b[0m \u001b[0mobj\u001b[0m \u001b[0;32mnot\u001b[0m \u001b[0;32min\u001b[0m \u001b[0mstate\u001b[0m\u001b[0;34m.\u001b[0m\u001b[0mdocument\u001b[0m\u001b[0;34m.\u001b[0m\u001b[0mroots\u001b[0m\u001b[0;34m:\u001b[0m\u001b[0;34m\u001b[0m\u001b[0;34m\u001b[0m\u001b[0m\n\u001b[0;32m--> 570\u001b[0;31m         \u001b[0mstate\u001b[0m\u001b[0;34m.\u001b[0m\u001b[0mdocument\u001b[0m\u001b[0;34m.\u001b[0m\u001b[0madd_root\u001b[0m\u001b[0;34m(\u001b[0m\u001b[0mobj\u001b[0m\u001b[0;34m)\u001b[0m\u001b[0;34m\u001b[0m\u001b[0;34m\u001b[0m\u001b[0m\n\u001b[0m\u001b[1;32m    571\u001b[0m \u001b[0;34m\u001b[0m\u001b[0m\n\u001b[1;32m    572\u001b[0m     \u001b[0;32mfrom\u001b[0m \u001b[0;34m.\u001b[0m\u001b[0;34m.\u001b[0m\u001b[0membed\u001b[0m\u001b[0;34m.\u001b[0m\u001b[0mnotebook\u001b[0m \u001b[0;32mimport\u001b[0m \u001b[0mnotebook_content\u001b[0m\u001b[0;34m\u001b[0m\u001b[0;34m\u001b[0m\u001b[0m\n",
      "\u001b[0;32m/gpfs/ycga/project/brueckner/nsd35/conda_envs/dec_2021/lib/python3.7/site-packages/bokeh/document/document.py\u001b[0m in \u001b[0;36madd_root\u001b[0;34m(self, model, setter)\u001b[0m\n\u001b[1;32m    326\u001b[0m \u001b[0;34m\u001b[0m\u001b[0m\n\u001b[1;32m    327\u001b[0m         \u001b[0;32mwith\u001b[0m \u001b[0mself\u001b[0m\u001b[0;34m.\u001b[0m\u001b[0mmodels\u001b[0m\u001b[0;34m.\u001b[0m\u001b[0mfreeze\u001b[0m\u001b[0;34m(\u001b[0m\u001b[0;34m)\u001b[0m\u001b[0;34m:\u001b[0m\u001b[0;34m\u001b[0m\u001b[0;34m\u001b[0m\u001b[0m\n\u001b[0;32m--> 328\u001b[0;31m             \u001b[0mself\u001b[0m\u001b[0;34m.\u001b[0m\u001b[0m_roots\u001b[0m\u001b[0;34m.\u001b[0m\u001b[0mappend\u001b[0m\u001b[0;34m(\u001b[0m\u001b[0mmodel\u001b[0m\u001b[0;34m)\u001b[0m\u001b[0;34m\u001b[0m\u001b[0;34m\u001b[0m\u001b[0m\n\u001b[0m\u001b[1;32m    329\u001b[0m \u001b[0;34m\u001b[0m\u001b[0m\n\u001b[1;32m    330\u001b[0m         \u001b[0mself\u001b[0m\u001b[0;34m.\u001b[0m\u001b[0mcallbacks\u001b[0m\u001b[0;34m.\u001b[0m\u001b[0mtrigger_on_change\u001b[0m\u001b[0;34m(\u001b[0m\u001b[0mRootAddedEvent\u001b[0m\u001b[0;34m(\u001b[0m\u001b[0mself\u001b[0m\u001b[0;34m,\u001b[0m \u001b[0mmodel\u001b[0m\u001b[0;34m,\u001b[0m \u001b[0msetter\u001b[0m\u001b[0;34m)\u001b[0m\u001b[0;34m)\u001b[0m\u001b[0;34m\u001b[0m\u001b[0;34m\u001b[0m\u001b[0m\n",
      "\u001b[0;32m/gpfs/ycga/project/brueckner/nsd35/conda_envs/dec_2021/lib/python3.7/contextlib.py\u001b[0m in \u001b[0;36m__exit__\u001b[0;34m(self, type, value, traceback)\u001b[0m\n\u001b[1;32m    117\u001b[0m         \u001b[0;32mif\u001b[0m \u001b[0mtype\u001b[0m \u001b[0;32mis\u001b[0m \u001b[0;32mNone\u001b[0m\u001b[0;34m:\u001b[0m\u001b[0;34m\u001b[0m\u001b[0;34m\u001b[0m\u001b[0m\n\u001b[1;32m    118\u001b[0m             \u001b[0;32mtry\u001b[0m\u001b[0;34m:\u001b[0m\u001b[0;34m\u001b[0m\u001b[0;34m\u001b[0m\u001b[0m\n\u001b[0;32m--> 119\u001b[0;31m                 \u001b[0mnext\u001b[0m\u001b[0;34m(\u001b[0m\u001b[0mself\u001b[0m\u001b[0;34m.\u001b[0m\u001b[0mgen\u001b[0m\u001b[0;34m)\u001b[0m\u001b[0;34m\u001b[0m\u001b[0;34m\u001b[0m\u001b[0m\n\u001b[0m\u001b[1;32m    120\u001b[0m             \u001b[0;32mexcept\u001b[0m \u001b[0mStopIteration\u001b[0m\u001b[0;34m:\u001b[0m\u001b[0;34m\u001b[0m\u001b[0;34m\u001b[0m\u001b[0m\n\u001b[1;32m    121\u001b[0m                 \u001b[0;32mreturn\u001b[0m \u001b[0;32mFalse\u001b[0m\u001b[0;34m\u001b[0m\u001b[0;34m\u001b[0m\u001b[0m\n",
      "\u001b[0;32m/gpfs/ycga/project/brueckner/nsd35/conda_envs/dec_2021/lib/python3.7/site-packages/bokeh/document/models.py\u001b[0m in \u001b[0;36mfreeze\u001b[0;34m(self)\u001b[0m\n\u001b[1;32m    133\u001b[0m         \u001b[0mself\u001b[0m\u001b[0;34m.\u001b[0m\u001b[0m_push_freeze\u001b[0m\u001b[0;34m(\u001b[0m\u001b[0;34m)\u001b[0m\u001b[0;34m\u001b[0m\u001b[0;34m\u001b[0m\u001b[0m\n\u001b[1;32m    134\u001b[0m         \u001b[0;32myield\u001b[0m\u001b[0;34m\u001b[0m\u001b[0;34m\u001b[0m\u001b[0m\n\u001b[0;32m--> 135\u001b[0;31m         \u001b[0mself\u001b[0m\u001b[0;34m.\u001b[0m\u001b[0m_pop_freeze\u001b[0m\u001b[0;34m(\u001b[0m\u001b[0;34m)\u001b[0m\u001b[0;34m\u001b[0m\u001b[0;34m\u001b[0m\u001b[0m\n\u001b[0m\u001b[1;32m    136\u001b[0m \u001b[0;34m\u001b[0m\u001b[0m\n\u001b[1;32m    137\u001b[0m     \u001b[0;32mdef\u001b[0m \u001b[0mget_all_by_name\u001b[0m\u001b[0;34m(\u001b[0m\u001b[0mself\u001b[0m\u001b[0;34m,\u001b[0m \u001b[0mname\u001b[0m\u001b[0;34m:\u001b[0m \u001b[0mstr\u001b[0m\u001b[0;34m)\u001b[0m \u001b[0;34m->\u001b[0m \u001b[0mList\u001b[0m\u001b[0;34m[\u001b[0m\u001b[0mModel\u001b[0m\u001b[0;34m]\u001b[0m\u001b[0;34m:\u001b[0m\u001b[0;34m\u001b[0m\u001b[0;34m\u001b[0m\u001b[0m\n",
      "\u001b[0;32m/gpfs/ycga/project/brueckner/nsd35/conda_envs/dec_2021/lib/python3.7/site-packages/bokeh/document/models.py\u001b[0m in \u001b[0;36m_pop_freeze\u001b[0;34m(self)\u001b[0m\n\u001b[1;32m    274\u001b[0m         \u001b[0mself\u001b[0m\u001b[0;34m.\u001b[0m\u001b[0m_freeze_count\u001b[0m \u001b[0;34m-=\u001b[0m \u001b[0;36m1\u001b[0m\u001b[0;34m\u001b[0m\u001b[0;34m\u001b[0m\u001b[0m\n\u001b[1;32m    275\u001b[0m         \u001b[0;32mif\u001b[0m \u001b[0mself\u001b[0m\u001b[0;34m.\u001b[0m\u001b[0m_freeze_count\u001b[0m \u001b[0;34m==\u001b[0m \u001b[0;36m0\u001b[0m\u001b[0;34m:\u001b[0m\u001b[0;34m\u001b[0m\u001b[0;34m\u001b[0m\u001b[0m\n\u001b[0;32m--> 276\u001b[0;31m             \u001b[0mself\u001b[0m\u001b[0;34m.\u001b[0m\u001b[0mrecompute\u001b[0m\u001b[0;34m(\u001b[0m\u001b[0;34m)\u001b[0m\u001b[0;34m\u001b[0m\u001b[0;34m\u001b[0m\u001b[0m\n\u001b[0m\u001b[1;32m    277\u001b[0m \u001b[0;34m\u001b[0m\u001b[0m\n\u001b[1;32m    278\u001b[0m \u001b[0;31m#-----------------------------------------------------------------------------\u001b[0m\u001b[0;34m\u001b[0m\u001b[0;34m\u001b[0m\u001b[0;34m\u001b[0m\u001b[0m\n",
      "\u001b[0;32m/gpfs/ycga/project/brueckner/nsd35/conda_envs/dec_2021/lib/python3.7/site-packages/bokeh/document/models.py\u001b[0m in \u001b[0;36mrecompute\u001b[0;34m(self)\u001b[0m\n\u001b[1;32m    202\u001b[0m         \u001b[0mnew_models\u001b[0m\u001b[0;34m:\u001b[0m \u001b[0mSet\u001b[0m\u001b[0;34m[\u001b[0m\u001b[0mModel\u001b[0m\u001b[0;34m]\u001b[0m \u001b[0;34m=\u001b[0m \u001b[0mset\u001b[0m\u001b[0;34m(\u001b[0m\u001b[0;34m)\u001b[0m\u001b[0;34m\u001b[0m\u001b[0;34m\u001b[0m\u001b[0m\n\u001b[1;32m    203\u001b[0m         \u001b[0;32mfor\u001b[0m \u001b[0mmr\u001b[0m \u001b[0;32min\u001b[0m \u001b[0mdocument\u001b[0m\u001b[0;34m.\u001b[0m\u001b[0mroots\u001b[0m\u001b[0;34m:\u001b[0m\u001b[0;34m\u001b[0m\u001b[0;34m\u001b[0m\u001b[0m\n\u001b[0;32m--> 204\u001b[0;31m             \u001b[0mnew_models\u001b[0m \u001b[0;34m|=\u001b[0m \u001b[0mmr\u001b[0m\u001b[0;34m.\u001b[0m\u001b[0mreferences\u001b[0m\u001b[0;34m(\u001b[0m\u001b[0;34m)\u001b[0m\u001b[0;34m\u001b[0m\u001b[0;34m\u001b[0m\u001b[0m\n\u001b[0m\u001b[1;32m    205\u001b[0m \u001b[0;34m\u001b[0m\u001b[0m\n\u001b[1;32m    206\u001b[0m         \u001b[0mold_models\u001b[0m \u001b[0;34m=\u001b[0m \u001b[0mset\u001b[0m\u001b[0;34m(\u001b[0m\u001b[0mself\u001b[0m\u001b[0;34m.\u001b[0m\u001b[0m_models\u001b[0m\u001b[0;34m.\u001b[0m\u001b[0mvalues\u001b[0m\u001b[0;34m(\u001b[0m\u001b[0;34m)\u001b[0m\u001b[0;34m)\u001b[0m\u001b[0;34m\u001b[0m\u001b[0;34m\u001b[0m\u001b[0m\n",
      "\u001b[0;32m/gpfs/ycga/project/brueckner/nsd35/conda_envs/dec_2021/lib/python3.7/site-packages/bokeh/model/model.py\u001b[0m in \u001b[0;36mreferences\u001b[0;34m(self)\u001b[0m\n\u001b[1;32m    439\u001b[0m \u001b[0;34m\u001b[0m\u001b[0m\n\u001b[1;32m    440\u001b[0m         '''\n\u001b[0;32m--> 441\u001b[0;31m         \u001b[0;32mreturn\u001b[0m \u001b[0mset\u001b[0m\u001b[0;34m(\u001b[0m\u001b[0mcollect_models\u001b[0m\u001b[0;34m(\u001b[0m\u001b[0mself\u001b[0m\u001b[0;34m)\u001b[0m\u001b[0;34m)\u001b[0m\u001b[0;34m\u001b[0m\u001b[0;34m\u001b[0m\u001b[0m\n\u001b[0m\u001b[1;32m    442\u001b[0m \u001b[0;34m\u001b[0m\u001b[0m\n\u001b[1;32m    443\u001b[0m     \u001b[0;32mdef\u001b[0m \u001b[0mselect\u001b[0m\u001b[0;34m(\u001b[0m\u001b[0mself\u001b[0m\u001b[0;34m,\u001b[0m \u001b[0mselector\u001b[0m\u001b[0;34m:\u001b[0m \u001b[0mSelectorType\u001b[0m\u001b[0;34m)\u001b[0m \u001b[0;34m->\u001b[0m \u001b[0mIterable\u001b[0m\u001b[0;34m[\u001b[0m\u001b[0mModel\u001b[0m\u001b[0;34m]\u001b[0m\u001b[0;34m:\u001b[0m\u001b[0;34m\u001b[0m\u001b[0;34m\u001b[0m\u001b[0m\n",
      "\u001b[0;32m/gpfs/ycga/project/brueckner/nsd35/conda_envs/dec_2021/lib/python3.7/site-packages/bokeh/model/util.py\u001b[0m in \u001b[0;36mcollect_models\u001b[0;34m(*input_values)\u001b[0m\n\u001b[1;32m    157\u001b[0m \u001b[0;34m\u001b[0m\u001b[0m\n\u001b[1;32m    158\u001b[0m     '''\n\u001b[0;32m--> 159\u001b[0;31m     \u001b[0;32mreturn\u001b[0m \u001b[0mcollect_filtered_models\u001b[0m\u001b[0;34m(\u001b[0m\u001b[0;32mNone\u001b[0m\u001b[0;34m,\u001b[0m \u001b[0;34m*\u001b[0m\u001b[0minput_values\u001b[0m\u001b[0;34m)\u001b[0m\u001b[0;34m\u001b[0m\u001b[0;34m\u001b[0m\u001b[0m\n\u001b[0m\u001b[1;32m    160\u001b[0m \u001b[0;34m\u001b[0m\u001b[0m\n\u001b[1;32m    161\u001b[0m \u001b[0;32mdef\u001b[0m \u001b[0mget_class\u001b[0m\u001b[0;34m(\u001b[0m\u001b[0mview_model_name\u001b[0m\u001b[0;34m:\u001b[0m \u001b[0mstr\u001b[0m\u001b[0;34m)\u001b[0m \u001b[0;34m->\u001b[0m \u001b[0mType\u001b[0m\u001b[0;34m[\u001b[0m\u001b[0mModel\u001b[0m\u001b[0;34m]\u001b[0m\u001b[0;34m:\u001b[0m\u001b[0;34m\u001b[0m\u001b[0;34m\u001b[0m\u001b[0m\n",
      "\u001b[0;32m/gpfs/ycga/project/brueckner/nsd35/conda_envs/dec_2021/lib/python3.7/site-packages/bokeh/model/util.py\u001b[0m in \u001b[0;36mcollect_filtered_models\u001b[0;34m(discard, *input_values)\u001b[0m\n\u001b[1;32m    137\u001b[0m             \u001b[0mids\u001b[0m\u001b[0;34m.\u001b[0m\u001b[0madd\u001b[0m\u001b[0;34m(\u001b[0m\u001b[0mobj\u001b[0m\u001b[0;34m.\u001b[0m\u001b[0mid\u001b[0m\u001b[0;34m)\u001b[0m\u001b[0;34m\u001b[0m\u001b[0;34m\u001b[0m\u001b[0m\n\u001b[1;32m    138\u001b[0m             \u001b[0mcollected\u001b[0m\u001b[0;34m.\u001b[0m\u001b[0mappend\u001b[0m\u001b[0;34m(\u001b[0m\u001b[0mobj\u001b[0m\u001b[0;34m)\u001b[0m\u001b[0;34m\u001b[0m\u001b[0;34m\u001b[0m\u001b[0m\n\u001b[0;32m--> 139\u001b[0;31m             \u001b[0mvisit_immediate_value_references\u001b[0m\u001b[0;34m(\u001b[0m\u001b[0mobj\u001b[0m\u001b[0;34m,\u001b[0m \u001b[0mqueue_one\u001b[0m\u001b[0;34m)\u001b[0m\u001b[0;34m\u001b[0m\u001b[0;34m\u001b[0m\u001b[0m\n\u001b[0m\u001b[1;32m    140\u001b[0m \u001b[0;34m\u001b[0m\u001b[0m\n\u001b[1;32m    141\u001b[0m     \u001b[0;32mreturn\u001b[0m \u001b[0mcollected\u001b[0m\u001b[0;34m\u001b[0m\u001b[0;34m\u001b[0m\u001b[0m\n",
      "\u001b[0;32m/gpfs/ycga/project/brueckner/nsd35/conda_envs/dec_2021/lib/python3.7/site-packages/bokeh/model/util.py\u001b[0m in \u001b[0;36mvisit_immediate_value_references\u001b[0;34m(value, visitor)\u001b[0m\n\u001b[1;32m    203\u001b[0m     \u001b[0;32mif\u001b[0m \u001b[0misinstance\u001b[0m\u001b[0;34m(\u001b[0m\u001b[0mvalue\u001b[0m\u001b[0;34m,\u001b[0m \u001b[0mHasProps\u001b[0m\u001b[0;34m)\u001b[0m\u001b[0;34m:\u001b[0m\u001b[0;34m\u001b[0m\u001b[0;34m\u001b[0m\u001b[0m\n\u001b[1;32m    204\u001b[0m         \u001b[0;32mfor\u001b[0m \u001b[0mattr\u001b[0m \u001b[0;32min\u001b[0m \u001b[0mvalue\u001b[0m\u001b[0;34m.\u001b[0m\u001b[0mproperties_with_refs\u001b[0m\u001b[0;34m(\u001b[0m\u001b[0;34m)\u001b[0m\u001b[0;34m:\u001b[0m\u001b[0;34m\u001b[0m\u001b[0;34m\u001b[0m\u001b[0m\n\u001b[0;32m--> 205\u001b[0;31m             \u001b[0mchild\u001b[0m \u001b[0;34m=\u001b[0m \u001b[0mgetattr\u001b[0m\u001b[0;34m(\u001b[0m\u001b[0mvalue\u001b[0m\u001b[0;34m,\u001b[0m \u001b[0mattr\u001b[0m\u001b[0;34m)\u001b[0m\u001b[0;34m\u001b[0m\u001b[0;34m\u001b[0m\u001b[0m\n\u001b[0m\u001b[1;32m    206\u001b[0m             \u001b[0mvisit_value_and_its_immediate_references\u001b[0m\u001b[0;34m(\u001b[0m\u001b[0mchild\u001b[0m\u001b[0;34m,\u001b[0m \u001b[0mvisitor\u001b[0m\u001b[0;34m)\u001b[0m\u001b[0;34m\u001b[0m\u001b[0;34m\u001b[0m\u001b[0m\n\u001b[1;32m    207\u001b[0m     \u001b[0;32melse\u001b[0m\u001b[0;34m:\u001b[0m\u001b[0;34m\u001b[0m\u001b[0;34m\u001b[0m\u001b[0m\n",
      "\u001b[0;32m/gpfs/ycga/project/brueckner/nsd35/conda_envs/dec_2021/lib/python3.7/site-packages/bokeh/core/property/descriptors.py\u001b[0m in \u001b[0;36m__get__\u001b[0;34m(self, obj, owner)\u001b[0m\n\u001b[1;32m    232\u001b[0m             \u001b[0mvalue\u001b[0m \u001b[0;34m=\u001b[0m \u001b[0mself\u001b[0m\u001b[0;34m.\u001b[0m\u001b[0m_get\u001b[0m\u001b[0;34m(\u001b[0m\u001b[0mobj\u001b[0m\u001b[0;34m)\u001b[0m\u001b[0;34m\u001b[0m\u001b[0;34m\u001b[0m\u001b[0m\n\u001b[1;32m    233\u001b[0m             \u001b[0;32mif\u001b[0m \u001b[0mvalue\u001b[0m \u001b[0;32mis\u001b[0m \u001b[0mUndefined\u001b[0m\u001b[0;34m:\u001b[0m\u001b[0;34m\u001b[0m\u001b[0;34m\u001b[0m\u001b[0m\n\u001b[0;32m--> 234\u001b[0;31m                 \u001b[0;32mraise\u001b[0m \u001b[0mUnsetValueError\u001b[0m\u001b[0;34m(\u001b[0m\u001b[0;34mf\"{obj}.{self.name} doesn't have a value set\"\u001b[0m\u001b[0;34m)\u001b[0m\u001b[0;34m\u001b[0m\u001b[0;34m\u001b[0m\u001b[0m\n\u001b[0m\u001b[1;32m    235\u001b[0m             \u001b[0;32mreturn\u001b[0m \u001b[0mvalue\u001b[0m\u001b[0;34m\u001b[0m\u001b[0;34m\u001b[0m\u001b[0m\n\u001b[1;32m    236\u001b[0m \u001b[0;34m\u001b[0m\u001b[0m\n",
      "\u001b[0;31mUnsetValueError\u001b[0m: ColorBar(id='1167', ...).color_mapper doesn't have a value set"
     ]
    }
   ],
   "source": [
    "#mt_input = phil_b38_intervals_samples_annotated_mt\n",
    "#mt_input = yale_b38_intervals_samples_annotated_mt\n",
    "\n",
    "#mt_input = yale_b38_intervals_DP_mt\n",
    "mt_input = phil_b38_intervals_DP_mt\n",
    "\n",
    "\n",
    "\n",
    "mt = hl.read_matrix_table(mt_input)\n",
    "print('Reads in the following matrix table: \\n' + mt_input + '\\n')\n",
    "print(mt.count())\n",
    "\n",
    "#mt = mt.filter_cols(mt.sample_qc.r_ti_tv < 2.7, keep=True)\n",
    "var_plot = hl.plot.scatter(mt.sample_qc.n_snp, mt.sample_qc.r_ti_tv,\n",
    "                           title ='TiTv versus n_snps (Phil)')\n",
    "\n",
    "#bokeh.models.mappers.ColorMapper or Mapping[str, bokeh.models.mappers.ColorMapper]\n",
    "\n",
    "fig = var_plot\n",
    "fig.xaxis.axis_label = 'Number of SNPs'\n",
    "fig.yaxis.axis_label = 'TiTv ratio'\n",
    "\n",
    "fig.y_range.start = 2.1\n",
    "fig.y_range.end = 3.3\n",
    "fig.x_range.start = 14000\n",
    "fig.x_range.end = 38000\n",
    "\n",
    "fig.title.align = \"center\"\n",
    "fig.title.text_color = \"black\"\n",
    "fig.title.text_font_size = \"20px\"\n",
    "\n",
    "fig.background_fill_color = \"white\"\n",
    "\n",
    "fig.xgrid.grid_line_color = None\n",
    "fig.ygrid.grid_line_color = None\n",
    "\n",
    "fig.xaxis.axis_label_text_font_size = \"17px\"\n",
    "fig.xaxis.axis_label_text_color = \"black\"\n",
    "fig.xaxis.axis_label_text_font_style = \"normal\"\n",
    "\n",
    "fig.yaxis.axis_label_text_font_size = \"17px\"\n",
    "fig.yaxis.axis_label_text_color = \"black\"\n",
    "fig.yaxis.axis_label_text_font_style = \"normal\"\n",
    "\n",
    "fig.outline_line_width = 0\n",
    "fig.outline_line_color = \"white\"\n",
    "\n",
    "'''fig.legend.border_line_width = 0\n",
    "fig.legend.label_width= 0\n",
    "fig.legend.label_height= 0\n",
    "#fig.legend.location = \"top_left\"\n",
    "#fig.legend.visible = False'''\n",
    "\n",
    "hl.plot.show(fig)"
   ]
  },
  {
   "cell_type": "code",
   "execution_count": null,
   "id": "27f20e1e",
   "metadata": {},
   "outputs": [],
   "source": []
  }
 ],
 "metadata": {
  "kernelspec": {
   "display_name": "Python 3 (ipykernel)",
   "language": "python",
   "name": "python3"
  },
  "language_info": {
   "codemirror_mode": {
    "name": "ipython",
    "version": 3
   },
   "file_extension": ".py",
   "mimetype": "text/x-python",
   "name": "python",
   "nbconvert_exporter": "python",
   "pygments_lexer": "ipython3",
   "version": "3.7.12"
  }
 },
 "nbformat": 4,
 "nbformat_minor": 5
}
